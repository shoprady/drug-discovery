{
  "cells": [
    {
      "cell_type": "markdown",
      "source": [
        "[베이스라인 코드](https://dacon.io/competitions/official/236336/codeshare) 참고\n",
        "\n",
        "\n",
        "#### 질문사항\n",
        "\n",
        "- train.csv를 `Assay ChEMBL ID`, `Fingerprint`, `IC50_nM` 세 colmun만 남도록 정리했는데, test.csv에는 ChEMBL ID 관련 column이 따로 없고 `Smiles`와 `IC50_nM`만 있어서 모델을 test.csv에 적용하기 어려울 것 같습니다.\n",
        "\n",
        "- GMF를 돌려보려 하니 `ValueError: Failed to convert a NumPy array to a Tensor (Unsupported object type numpy.ndarray).`가 발생하여 15번 셀과 같이 수정했는데, 확인을 부탁드리고 싶습니다."
      ],
      "metadata": {
        "id": "_EVOWCtKXI0N"
      },
      "id": "_EVOWCtKXI0N"
    },
    {
      "cell_type": "markdown",
      "id": "810c62f0",
      "metadata": {
        "id": "810c62f0"
      },
      "source": [
        "# Import"
      ]
    },
    {
      "cell_type": "code",
      "execution_count": 9,
      "id": "538fc9fe",
      "metadata": {
        "id": "538fc9fe",
        "outputId": "19ca3914-1202-4a8c-9569-9972c07b0a8e",
        "colab": {
          "base_uri": "https://localhost:8080/"
        }
      },
      "outputs": [
        {
          "output_type": "stream",
          "name": "stdout",
          "text": [
            "Requirement already satisfied: rdkit in /usr/local/lib/python3.10/dist-packages (2024.3.4)\n",
            "Requirement already satisfied: numpy in /usr/local/lib/python3.10/dist-packages (from rdkit) (1.26.4)\n",
            "Requirement already satisfied: Pillow in /usr/local/lib/python3.10/dist-packages (from rdkit) (9.4.0)\n"
          ]
        }
      ],
      "source": [
        "!pip install rdkit"
      ]
    },
    {
      "cell_type": "code",
      "execution_count": 10,
      "id": "8069fb94-13db-4749-9c92-8f05112ada9b",
      "metadata": {
        "id": "8069fb94-13db-4749-9c92-8f05112ada9b"
      },
      "outputs": [],
      "source": [
        "import pandas as pd\n",
        "import numpy as np\n",
        "import os\n",
        "import random\n",
        "\n",
        "from rdkit import Chem\n",
        "from rdkit.Chem import AllChem\n",
        "from sklearn.model_selection import train_test_split"
      ]
    },
    {
      "cell_type": "code",
      "source": [
        "from rdkit.Chem import DataStructs"
      ],
      "metadata": {
        "id": "5EmLbE4Qv7Bb"
      },
      "id": "5EmLbE4Qv7Bb",
      "execution_count": 27,
      "outputs": []
    },
    {
      "cell_type": "code",
      "execution_count": 11,
      "id": "eac68b6e-10d6-494a-b1c3-6bd5769e5630",
      "metadata": {
        "id": "eac68b6e-10d6-494a-b1c3-6bd5769e5630"
      },
      "outputs": [],
      "source": [
        "CFG = {\n",
        "    'NBITS':2048,\n",
        "    'SEED':42,\n",
        "}"
      ]
    },
    {
      "cell_type": "code",
      "execution_count": 12,
      "id": "e19757ae-2968-4fb2-a0ec-32a14c096a59",
      "metadata": {
        "id": "e19757ae-2968-4fb2-a0ec-32a14c096a59"
      },
      "outputs": [],
      "source": [
        "def seed_everything(seed):\n",
        "    random.seed(seed)\n",
        "    os.environ['PYTHONHASHSEED'] = str(seed)\n",
        "    np.random.seed(seed)\n",
        "seed_everything(CFG['SEED']) # Seed 고정"
      ]
    },
    {
      "cell_type": "markdown",
      "id": "91c2d60d",
      "metadata": {
        "id": "91c2d60d"
      },
      "source": [
        "# Dataset: ChEMBL & Smiles"
      ]
    },
    {
      "cell_type": "markdown",
      "id": "11f7b6ef",
      "metadata": {
        "id": "11f7b6ef"
      },
      "source": [
        "### DataLoad"
      ]
    },
    {
      "cell_type": "code",
      "execution_count": 37,
      "id": "005466c2-5255-49f3-94c9-0193203c79e7",
      "metadata": {
        "id": "005466c2-5255-49f3-94c9-0193203c79e7"
      },
      "outputs": [],
      "source": [
        "# SMILES 데이터를 분자 지문으로 변환\n",
        "def smiles_to_fingerprint(smiles):\n",
        "    mol = Chem.MolFromSmiles(smiles)\n",
        "    if mol is not None:\n",
        "        generator = Chem.rdFingerprintGenerator.GetMorganGenerator(radius=2, fpSize=CFG['NBITS'])\n",
        "        fp = generator.GetFingerprint(mol)\n",
        "        return np.array(fp)\n",
        "    else:\n",
        "        return np.zeros((CFG['NBITS'],))"
      ]
    },
    {
      "cell_type": "code",
      "source": [
        "from google.colab import drive\n",
        "drive.mount('/content/drive')"
      ],
      "metadata": {
        "colab": {
          "base_uri": "https://localhost:8080/"
        },
        "id": "uz2POhdngo7n",
        "outputId": "cb615eaa-7d4f-4f20-cf75-02bee27c96c1"
      },
      "id": "uz2POhdngo7n",
      "execution_count": 14,
      "outputs": [
        {
          "output_type": "stream",
          "name": "stdout",
          "text": [
            "Drive already mounted at /content/drive; to attempt to forcibly remount, call drive.mount(\"/content/drive\", force_remount=True).\n"
          ]
        }
      ]
    },
    {
      "cell_type": "code",
      "execution_count": 72,
      "id": "f8b5d593-8c7e-490c-9887-e7eb5eb7473c",
      "metadata": {
        "scrolled": true,
        "id": "f8b5d593-8c7e-490c-9887-e7eb5eb7473c",
        "outputId": "27c1e911-11b0-4ae4-b2b5-c06b80d28c2d",
        "colab": {
          "base_uri": "https://localhost:8080/",
          "height": 504
        }
      },
      "outputs": [
        {
          "output_type": "execute_result",
          "data": {
            "text/plain": [
              "  Molecule ChEMBL ID Standard Type Standard Relation  Standard Value  \\\n",
              "0      CHEMBL4443947          IC50               '='           0.022   \n",
              "1      CHEMBL4556091          IC50               '='           0.026   \n",
              "2      CHEMBL4566431          IC50               '='           0.078   \n",
              "3      CHEMBL4545898          IC50               '='           0.081   \n",
              "4      CHEMBL4448950          IC50               '='           0.099   \n",
              "\n",
              "  Standard Units  pChEMBL Value Assay ChEMBL ID Target ChEMBL ID  \\\n",
              "0             nM          10.66   CHEMBL4361896       CHEMBL3778   \n",
              "1             nM          10.59   CHEMBL4345131       CHEMBL3778   \n",
              "2             nM          10.11   CHEMBL4345131       CHEMBL3778   \n",
              "3             nM          10.09   CHEMBL4345131       CHEMBL3778   \n",
              "4             nM          10.00   CHEMBL4361896       CHEMBL3778   \n",
              "\n",
              "                                  Target Name Target Organism     Target Type  \\\n",
              "0  Interleukin-1 receptor-associated kinase 4    Homo sapiens  SINGLE PROTEIN   \n",
              "1  Interleukin-1 receptor-associated kinase 4    Homo sapiens  SINGLE PROTEIN   \n",
              "2  Interleukin-1 receptor-associated kinase 4    Homo sapiens  SINGLE PROTEIN   \n",
              "3  Interleukin-1 receptor-associated kinase 4    Homo sapiens  SINGLE PROTEIN   \n",
              "4  Interleukin-1 receptor-associated kinase 4    Homo sapiens  SINGLE PROTEIN   \n",
              "\n",
              "  Document ChEMBL ID  IC50_nM  pIC50  \\\n",
              "0      CHEMBL4359855    0.022  10.66   \n",
              "1      CHEMBL4342485    0.026  10.59   \n",
              "2      CHEMBL4342485    0.078  10.11   \n",
              "3      CHEMBL4342485    0.081  10.09   \n",
              "4      CHEMBL4359855    0.099  10.00   \n",
              "\n",
              "                                              Smiles  \n",
              "0  CN[C@@H](C)C(=O)N[C@H](C(=O)N1C[C@@H](NC(=O)CC...  \n",
              "1  CC(C)(O)[C@H](F)CN1Cc2cc(NC(=O)c3cnn4cccnc34)c...  \n",
              "2  CC(C)(O)[C@H](F)CN1Cc2cc(NC(=O)c3cnn4cccnc34)c...  \n",
              "3  CC(C)(O)[C@H](F)CN1Cc2cc(NC(=O)c3cnn4cccnc34)c...  \n",
              "4  COc1cc2c(OC[C@@H]3CCC(=O)N3)ncc(C#CCCCCCCCCCCC...  "
            ],
            "text/html": [
              "\n",
              "  <div id=\"df-f6b2baad-a465-4ef9-b00b-b561a096e5e2\" class=\"colab-df-container\">\n",
              "    <div>\n",
              "<style scoped>\n",
              "    .dataframe tbody tr th:only-of-type {\n",
              "        vertical-align: middle;\n",
              "    }\n",
              "\n",
              "    .dataframe tbody tr th {\n",
              "        vertical-align: top;\n",
              "    }\n",
              "\n",
              "    .dataframe thead th {\n",
              "        text-align: right;\n",
              "    }\n",
              "</style>\n",
              "<table border=\"1\" class=\"dataframe\">\n",
              "  <thead>\n",
              "    <tr style=\"text-align: right;\">\n",
              "      <th></th>\n",
              "      <th>Molecule ChEMBL ID</th>\n",
              "      <th>Standard Type</th>\n",
              "      <th>Standard Relation</th>\n",
              "      <th>Standard Value</th>\n",
              "      <th>Standard Units</th>\n",
              "      <th>pChEMBL Value</th>\n",
              "      <th>Assay ChEMBL ID</th>\n",
              "      <th>Target ChEMBL ID</th>\n",
              "      <th>Target Name</th>\n",
              "      <th>Target Organism</th>\n",
              "      <th>Target Type</th>\n",
              "      <th>Document ChEMBL ID</th>\n",
              "      <th>IC50_nM</th>\n",
              "      <th>pIC50</th>\n",
              "      <th>Smiles</th>\n",
              "    </tr>\n",
              "  </thead>\n",
              "  <tbody>\n",
              "    <tr>\n",
              "      <th>0</th>\n",
              "      <td>CHEMBL4443947</td>\n",
              "      <td>IC50</td>\n",
              "      <td>'='</td>\n",
              "      <td>0.022</td>\n",
              "      <td>nM</td>\n",
              "      <td>10.66</td>\n",
              "      <td>CHEMBL4361896</td>\n",
              "      <td>CHEMBL3778</td>\n",
              "      <td>Interleukin-1 receptor-associated kinase 4</td>\n",
              "      <td>Homo sapiens</td>\n",
              "      <td>SINGLE PROTEIN</td>\n",
              "      <td>CHEMBL4359855</td>\n",
              "      <td>0.022</td>\n",
              "      <td>10.66</td>\n",
              "      <td>CN[C@@H](C)C(=O)N[C@H](C(=O)N1C[C@@H](NC(=O)CC...</td>\n",
              "    </tr>\n",
              "    <tr>\n",
              "      <th>1</th>\n",
              "      <td>CHEMBL4556091</td>\n",
              "      <td>IC50</td>\n",
              "      <td>'='</td>\n",
              "      <td>0.026</td>\n",
              "      <td>nM</td>\n",
              "      <td>10.59</td>\n",
              "      <td>CHEMBL4345131</td>\n",
              "      <td>CHEMBL3778</td>\n",
              "      <td>Interleukin-1 receptor-associated kinase 4</td>\n",
              "      <td>Homo sapiens</td>\n",
              "      <td>SINGLE PROTEIN</td>\n",
              "      <td>CHEMBL4342485</td>\n",
              "      <td>0.026</td>\n",
              "      <td>10.59</td>\n",
              "      <td>CC(C)(O)[C@H](F)CN1Cc2cc(NC(=O)c3cnn4cccnc34)c...</td>\n",
              "    </tr>\n",
              "    <tr>\n",
              "      <th>2</th>\n",
              "      <td>CHEMBL4566431</td>\n",
              "      <td>IC50</td>\n",
              "      <td>'='</td>\n",
              "      <td>0.078</td>\n",
              "      <td>nM</td>\n",
              "      <td>10.11</td>\n",
              "      <td>CHEMBL4345131</td>\n",
              "      <td>CHEMBL3778</td>\n",
              "      <td>Interleukin-1 receptor-associated kinase 4</td>\n",
              "      <td>Homo sapiens</td>\n",
              "      <td>SINGLE PROTEIN</td>\n",
              "      <td>CHEMBL4342485</td>\n",
              "      <td>0.078</td>\n",
              "      <td>10.11</td>\n",
              "      <td>CC(C)(O)[C@H](F)CN1Cc2cc(NC(=O)c3cnn4cccnc34)c...</td>\n",
              "    </tr>\n",
              "    <tr>\n",
              "      <th>3</th>\n",
              "      <td>CHEMBL4545898</td>\n",
              "      <td>IC50</td>\n",
              "      <td>'='</td>\n",
              "      <td>0.081</td>\n",
              "      <td>nM</td>\n",
              "      <td>10.09</td>\n",
              "      <td>CHEMBL4345131</td>\n",
              "      <td>CHEMBL3778</td>\n",
              "      <td>Interleukin-1 receptor-associated kinase 4</td>\n",
              "      <td>Homo sapiens</td>\n",
              "      <td>SINGLE PROTEIN</td>\n",
              "      <td>CHEMBL4342485</td>\n",
              "      <td>0.081</td>\n",
              "      <td>10.09</td>\n",
              "      <td>CC(C)(O)[C@H](F)CN1Cc2cc(NC(=O)c3cnn4cccnc34)c...</td>\n",
              "    </tr>\n",
              "    <tr>\n",
              "      <th>4</th>\n",
              "      <td>CHEMBL4448950</td>\n",
              "      <td>IC50</td>\n",
              "      <td>'='</td>\n",
              "      <td>0.099</td>\n",
              "      <td>nM</td>\n",
              "      <td>10.00</td>\n",
              "      <td>CHEMBL4361896</td>\n",
              "      <td>CHEMBL3778</td>\n",
              "      <td>Interleukin-1 receptor-associated kinase 4</td>\n",
              "      <td>Homo sapiens</td>\n",
              "      <td>SINGLE PROTEIN</td>\n",
              "      <td>CHEMBL4359855</td>\n",
              "      <td>0.099</td>\n",
              "      <td>10.00</td>\n",
              "      <td>COc1cc2c(OC[C@@H]3CCC(=O)N3)ncc(C#CCCCCCCCCCCC...</td>\n",
              "    </tr>\n",
              "  </tbody>\n",
              "</table>\n",
              "</div>\n",
              "    <div class=\"colab-df-buttons\">\n",
              "\n",
              "  <div class=\"colab-df-container\">\n",
              "    <button class=\"colab-df-convert\" onclick=\"convertToInteractive('df-f6b2baad-a465-4ef9-b00b-b561a096e5e2')\"\n",
              "            title=\"Convert this dataframe to an interactive table.\"\n",
              "            style=\"display:none;\">\n",
              "\n",
              "  <svg xmlns=\"http://www.w3.org/2000/svg\" height=\"24px\" viewBox=\"0 -960 960 960\">\n",
              "    <path d=\"M120-120v-720h720v720H120Zm60-500h600v-160H180v160Zm220 220h160v-160H400v160Zm0 220h160v-160H400v160ZM180-400h160v-160H180v160Zm440 0h160v-160H620v160ZM180-180h160v-160H180v160Zm440 0h160v-160H620v160Z\"/>\n",
              "  </svg>\n",
              "    </button>\n",
              "\n",
              "  <style>\n",
              "    .colab-df-container {\n",
              "      display:flex;\n",
              "      gap: 12px;\n",
              "    }\n",
              "\n",
              "    .colab-df-convert {\n",
              "      background-color: #E8F0FE;\n",
              "      border: none;\n",
              "      border-radius: 50%;\n",
              "      cursor: pointer;\n",
              "      display: none;\n",
              "      fill: #1967D2;\n",
              "      height: 32px;\n",
              "      padding: 0 0 0 0;\n",
              "      width: 32px;\n",
              "    }\n",
              "\n",
              "    .colab-df-convert:hover {\n",
              "      background-color: #E2EBFA;\n",
              "      box-shadow: 0px 1px 2px rgba(60, 64, 67, 0.3), 0px 1px 3px 1px rgba(60, 64, 67, 0.15);\n",
              "      fill: #174EA6;\n",
              "    }\n",
              "\n",
              "    .colab-df-buttons div {\n",
              "      margin-bottom: 4px;\n",
              "    }\n",
              "\n",
              "    [theme=dark] .colab-df-convert {\n",
              "      background-color: #3B4455;\n",
              "      fill: #D2E3FC;\n",
              "    }\n",
              "\n",
              "    [theme=dark] .colab-df-convert:hover {\n",
              "      background-color: #434B5C;\n",
              "      box-shadow: 0px 1px 3px 1px rgba(0, 0, 0, 0.15);\n",
              "      filter: drop-shadow(0px 1px 2px rgba(0, 0, 0, 0.3));\n",
              "      fill: #FFFFFF;\n",
              "    }\n",
              "  </style>\n",
              "\n",
              "    <script>\n",
              "      const buttonEl =\n",
              "        document.querySelector('#df-f6b2baad-a465-4ef9-b00b-b561a096e5e2 button.colab-df-convert');\n",
              "      buttonEl.style.display =\n",
              "        google.colab.kernel.accessAllowed ? 'block' : 'none';\n",
              "\n",
              "      async function convertToInteractive(key) {\n",
              "        const element = document.querySelector('#df-f6b2baad-a465-4ef9-b00b-b561a096e5e2');\n",
              "        const dataTable =\n",
              "          await google.colab.kernel.invokeFunction('convertToInteractive',\n",
              "                                                    [key], {});\n",
              "        if (!dataTable) return;\n",
              "\n",
              "        const docLinkHtml = 'Like what you see? Visit the ' +\n",
              "          '<a target=\"_blank\" href=https://colab.research.google.com/notebooks/data_table.ipynb>data table notebook</a>'\n",
              "          + ' to learn more about interactive tables.';\n",
              "        element.innerHTML = '';\n",
              "        dataTable['output_type'] = 'display_data';\n",
              "        await google.colab.output.renderOutput(dataTable, element);\n",
              "        const docLink = document.createElement('div');\n",
              "        docLink.innerHTML = docLinkHtml;\n",
              "        element.appendChild(docLink);\n",
              "      }\n",
              "    </script>\n",
              "  </div>\n",
              "\n",
              "\n",
              "<div id=\"df-91eab971-f012-497f-b894-d16af8bf9dd4\">\n",
              "  <button class=\"colab-df-quickchart\" onclick=\"quickchart('df-91eab971-f012-497f-b894-d16af8bf9dd4')\"\n",
              "            title=\"Suggest charts\"\n",
              "            style=\"display:none;\">\n",
              "\n",
              "<svg xmlns=\"http://www.w3.org/2000/svg\" height=\"24px\"viewBox=\"0 0 24 24\"\n",
              "     width=\"24px\">\n",
              "    <g>\n",
              "        <path d=\"M19 3H5c-1.1 0-2 .9-2 2v14c0 1.1.9 2 2 2h14c1.1 0 2-.9 2-2V5c0-1.1-.9-2-2-2zM9 17H7v-7h2v7zm4 0h-2V7h2v10zm4 0h-2v-4h2v4z\"/>\n",
              "    </g>\n",
              "</svg>\n",
              "  </button>\n",
              "\n",
              "<style>\n",
              "  .colab-df-quickchart {\n",
              "      --bg-color: #E8F0FE;\n",
              "      --fill-color: #1967D2;\n",
              "      --hover-bg-color: #E2EBFA;\n",
              "      --hover-fill-color: #174EA6;\n",
              "      --disabled-fill-color: #AAA;\n",
              "      --disabled-bg-color: #DDD;\n",
              "  }\n",
              "\n",
              "  [theme=dark] .colab-df-quickchart {\n",
              "      --bg-color: #3B4455;\n",
              "      --fill-color: #D2E3FC;\n",
              "      --hover-bg-color: #434B5C;\n",
              "      --hover-fill-color: #FFFFFF;\n",
              "      --disabled-bg-color: #3B4455;\n",
              "      --disabled-fill-color: #666;\n",
              "  }\n",
              "\n",
              "  .colab-df-quickchart {\n",
              "    background-color: var(--bg-color);\n",
              "    border: none;\n",
              "    border-radius: 50%;\n",
              "    cursor: pointer;\n",
              "    display: none;\n",
              "    fill: var(--fill-color);\n",
              "    height: 32px;\n",
              "    padding: 0;\n",
              "    width: 32px;\n",
              "  }\n",
              "\n",
              "  .colab-df-quickchart:hover {\n",
              "    background-color: var(--hover-bg-color);\n",
              "    box-shadow: 0 1px 2px rgba(60, 64, 67, 0.3), 0 1px 3px 1px rgba(60, 64, 67, 0.15);\n",
              "    fill: var(--button-hover-fill-color);\n",
              "  }\n",
              "\n",
              "  .colab-df-quickchart-complete:disabled,\n",
              "  .colab-df-quickchart-complete:disabled:hover {\n",
              "    background-color: var(--disabled-bg-color);\n",
              "    fill: var(--disabled-fill-color);\n",
              "    box-shadow: none;\n",
              "  }\n",
              "\n",
              "  .colab-df-spinner {\n",
              "    border: 2px solid var(--fill-color);\n",
              "    border-color: transparent;\n",
              "    border-bottom-color: var(--fill-color);\n",
              "    animation:\n",
              "      spin 1s steps(1) infinite;\n",
              "  }\n",
              "\n",
              "  @keyframes spin {\n",
              "    0% {\n",
              "      border-color: transparent;\n",
              "      border-bottom-color: var(--fill-color);\n",
              "      border-left-color: var(--fill-color);\n",
              "    }\n",
              "    20% {\n",
              "      border-color: transparent;\n",
              "      border-left-color: var(--fill-color);\n",
              "      border-top-color: var(--fill-color);\n",
              "    }\n",
              "    30% {\n",
              "      border-color: transparent;\n",
              "      border-left-color: var(--fill-color);\n",
              "      border-top-color: var(--fill-color);\n",
              "      border-right-color: var(--fill-color);\n",
              "    }\n",
              "    40% {\n",
              "      border-color: transparent;\n",
              "      border-right-color: var(--fill-color);\n",
              "      border-top-color: var(--fill-color);\n",
              "    }\n",
              "    60% {\n",
              "      border-color: transparent;\n",
              "      border-right-color: var(--fill-color);\n",
              "    }\n",
              "    80% {\n",
              "      border-color: transparent;\n",
              "      border-right-color: var(--fill-color);\n",
              "      border-bottom-color: var(--fill-color);\n",
              "    }\n",
              "    90% {\n",
              "      border-color: transparent;\n",
              "      border-bottom-color: var(--fill-color);\n",
              "    }\n",
              "  }\n",
              "</style>\n",
              "\n",
              "  <script>\n",
              "    async function quickchart(key) {\n",
              "      const quickchartButtonEl =\n",
              "        document.querySelector('#' + key + ' button');\n",
              "      quickchartButtonEl.disabled = true;  // To prevent multiple clicks.\n",
              "      quickchartButtonEl.classList.add('colab-df-spinner');\n",
              "      try {\n",
              "        const charts = await google.colab.kernel.invokeFunction(\n",
              "            'suggestCharts', [key], {});\n",
              "      } catch (error) {\n",
              "        console.error('Error during call to suggestCharts:', error);\n",
              "      }\n",
              "      quickchartButtonEl.classList.remove('colab-df-spinner');\n",
              "      quickchartButtonEl.classList.add('colab-df-quickchart-complete');\n",
              "    }\n",
              "    (() => {\n",
              "      let quickchartButtonEl =\n",
              "        document.querySelector('#df-91eab971-f012-497f-b894-d16af8bf9dd4 button');\n",
              "      quickchartButtonEl.style.display =\n",
              "        google.colab.kernel.accessAllowed ? 'block' : 'none';\n",
              "    })();\n",
              "  </script>\n",
              "</div>\n",
              "\n",
              "    </div>\n",
              "  </div>\n"
            ],
            "application/vnd.google.colaboratory.intrinsic+json": {
              "type": "dataframe",
              "variable_name": "chembl_data",
              "summary": "{\n  \"name\": \"chembl_data\",\n  \"rows\": 1952,\n  \"fields\": [\n    {\n      \"column\": \"Molecule ChEMBL ID\",\n      \"properties\": {\n        \"dtype\": \"string\",\n        \"num_unique_values\": 1952,\n        \"samples\": [\n          \"CHEMBL3902218\",\n          \"CHEMBL3960645\",\n          \"CHEMBL3969406\"\n        ],\n        \"semantic_type\": \"\",\n        \"description\": \"\"\n      }\n    },\n    {\n      \"column\": \"Standard Type\",\n      \"properties\": {\n        \"dtype\": \"category\",\n        \"num_unique_values\": 1,\n        \"samples\": [\n          \"IC50\"\n        ],\n        \"semantic_type\": \"\",\n        \"description\": \"\"\n      }\n    },\n    {\n      \"column\": \"Standard Relation\",\n      \"properties\": {\n        \"dtype\": \"category\",\n        \"num_unique_values\": 1,\n        \"samples\": [\n          \"'='\"\n        ],\n        \"semantic_type\": \"\",\n        \"description\": \"\"\n      }\n    },\n    {\n      \"column\": \"Standard Value\",\n      \"properties\": {\n        \"dtype\": \"number\",\n        \"std\": 2639.9467336362263,\n        \"min\": 0.022,\n        \"max\": 55000.0,\n        \"num_unique_values\": 713,\n        \"samples\": [\n          10.4\n        ],\n        \"semantic_type\": \"\",\n        \"description\": \"\"\n      }\n    },\n    {\n      \"column\": \"Standard Units\",\n      \"properties\": {\n        \"dtype\": \"category\",\n        \"num_unique_values\": 1,\n        \"samples\": [\n          \"nM\"\n        ],\n        \"semantic_type\": \"\",\n        \"description\": \"\"\n      }\n    },\n    {\n      \"column\": \"pChEMBL Value\",\n      \"properties\": {\n        \"dtype\": \"number\",\n        \"std\": 1.1079593447209959,\n        \"min\": 4.26,\n        \"max\": 10.66,\n        \"num_unique_values\": 377,\n        \"samples\": [\n          5.98\n        ],\n        \"semantic_type\": \"\",\n        \"description\": \"\"\n      }\n    },\n    {\n      \"column\": \"Assay ChEMBL ID\",\n      \"properties\": {\n        \"dtype\": \"category\",\n        \"num_unique_values\": 72,\n        \"samples\": [\n          \"CHEMBL3637446\"\n        ],\n        \"semantic_type\": \"\",\n        \"description\": \"\"\n      }\n    },\n    {\n      \"column\": \"Target ChEMBL ID\",\n      \"properties\": {\n        \"dtype\": \"category\",\n        \"num_unique_values\": 1,\n        \"samples\": [\n          \"CHEMBL3778\"\n        ],\n        \"semantic_type\": \"\",\n        \"description\": \"\"\n      }\n    },\n    {\n      \"column\": \"Target Name\",\n      \"properties\": {\n        \"dtype\": \"category\",\n        \"num_unique_values\": 1,\n        \"samples\": [\n          \"Interleukin-1 receptor-associated kinase 4\"\n        ],\n        \"semantic_type\": \"\",\n        \"description\": \"\"\n      }\n    },\n    {\n      \"column\": \"Target Organism\",\n      \"properties\": {\n        \"dtype\": \"category\",\n        \"num_unique_values\": 1,\n        \"samples\": [\n          \"Homo sapiens\"\n        ],\n        \"semantic_type\": \"\",\n        \"description\": \"\"\n      }\n    },\n    {\n      \"column\": \"Target Type\",\n      \"properties\": {\n        \"dtype\": \"category\",\n        \"num_unique_values\": 1,\n        \"samples\": [\n          \"SINGLE PROTEIN\"\n        ],\n        \"semantic_type\": \"\",\n        \"description\": \"\"\n      }\n    },\n    {\n      \"column\": \"Document ChEMBL ID\",\n      \"properties\": {\n        \"dtype\": \"category\",\n        \"num_unique_values\": 66,\n        \"samples\": [\n          \"CHEMBL3745656\"\n        ],\n        \"semantic_type\": \"\",\n        \"description\": \"\"\n      }\n    },\n    {\n      \"column\": \"IC50_nM\",\n      \"properties\": {\n        \"dtype\": \"number\",\n        \"std\": 2639.9467336362263,\n        \"min\": 0.022,\n        \"max\": 55000.0,\n        \"num_unique_values\": 713,\n        \"samples\": [\n          10.4\n        ],\n        \"semantic_type\": \"\",\n        \"description\": \"\"\n      }\n    },\n    {\n      \"column\": \"pIC50\",\n      \"properties\": {\n        \"dtype\": \"number\",\n        \"std\": 1.1079593447209959,\n        \"min\": 4.26,\n        \"max\": 10.66,\n        \"num_unique_values\": 377,\n        \"samples\": [\n          5.98\n        ],\n        \"semantic_type\": \"\",\n        \"description\": \"\"\n      }\n    },\n    {\n      \"column\": \"Smiles\",\n      \"properties\": {\n        \"dtype\": \"string\",\n        \"num_unique_values\": 1952,\n        \"samples\": [\n          \"C[C@H]1CC[C@@H](Nc2nc(N3CCOCC3)[nH]c(=O)c2-c2ccc3ccccc3n2)CN1\"\n        ],\n        \"semantic_type\": \"\",\n        \"description\": \"\"\n      }\n    }\n  ]\n}"
            }
          },
          "metadata": {},
          "execution_count": 72
        }
      ],
      "source": [
        "# 학습 ChEMBL 데이터 로드\n",
        "chembl_data = pd.read_csv('/content/drive/MyDrive/DACON/제2회 신약개발 AI 경진대회/open/train.csv')\n",
        "chembl_data.head()"
      ]
    },
    {
      "cell_type": "code",
      "execution_count": 73,
      "id": "a964f9a4",
      "metadata": {
        "id": "a964f9a4",
        "outputId": "9c2cacf0-a86f-45e7-c43f-013c686ad811",
        "colab": {
          "base_uri": "https://localhost:8080/"
        }
      },
      "outputs": [
        {
          "output_type": "stream",
          "name": "stdout",
          "text": [
            "Number of Assay ChEMBL IDs 72\n",
            "Number of Smiles 1952\n"
          ]
        }
      ],
      "source": [
        "num_chembl = len(chembl_data['Assay ChEMBL ID'].unique())\n",
        "num_smiles = len(chembl_data['Smiles'].unique())\n",
        "\n",
        "print('Number of Assay ChEMBL IDs', num_chembl)\n",
        "print('Number of Smiles', num_smiles)"
      ]
    },
    {
      "cell_type": "markdown",
      "id": "5f9d9861",
      "metadata": {
        "id": "5f9d9861"
      },
      "source": [
        "### Data Pre-processing"
      ]
    },
    {
      "cell_type": "code",
      "execution_count": 74,
      "id": "b3389151",
      "metadata": {
        "id": "b3389151",
        "outputId": "03d3c2a8-e8a7-4c6e-dd35-280ded8b1cf7",
        "colab": {
          "base_uri": "https://localhost:8080/",
          "height": 206
        }
      },
      "outputs": [
        {
          "output_type": "execute_result",
          "data": {
            "text/plain": [
              "   chembl_id                                                 fp  IC50_nM\n",
              "0    4361896  [1, 1, 1, 0, 0, 0, 0, 0, 0, 0, 0, 0, 0, 1, 0, ...    0.022\n",
              "1    4345131  [0, 1, 0, 0, 0, 0, 0, 0, 0, 1, 0, 0, 0, 0, 0, ...    0.026\n",
              "2    4345131  [0, 1, 0, 0, 0, 0, 0, 0, 0, 1, 0, 0, 0, 0, 0, ...    0.078\n",
              "3    4345131  [0, 1, 0, 0, 0, 0, 0, 0, 0, 1, 0, 0, 0, 0, 0, ...    0.081\n",
              "4    4361896  [1, 1, 0, 0, 0, 0, 0, 0, 0, 0, 0, 0, 0, 0, 0, ...    0.099"
            ],
            "text/html": [
              "\n",
              "  <div id=\"df-4753d079-5b56-4bbe-bf9c-1a72914b5112\" class=\"colab-df-container\">\n",
              "    <div>\n",
              "<style scoped>\n",
              "    .dataframe tbody tr th:only-of-type {\n",
              "        vertical-align: middle;\n",
              "    }\n",
              "\n",
              "    .dataframe tbody tr th {\n",
              "        vertical-align: top;\n",
              "    }\n",
              "\n",
              "    .dataframe thead th {\n",
              "        text-align: right;\n",
              "    }\n",
              "</style>\n",
              "<table border=\"1\" class=\"dataframe\">\n",
              "  <thead>\n",
              "    <tr style=\"text-align: right;\">\n",
              "      <th></th>\n",
              "      <th>chembl_id</th>\n",
              "      <th>fp</th>\n",
              "      <th>IC50_nM</th>\n",
              "    </tr>\n",
              "  </thead>\n",
              "  <tbody>\n",
              "    <tr>\n",
              "      <th>0</th>\n",
              "      <td>4361896</td>\n",
              "      <td>[1, 1, 1, 0, 0, 0, 0, 0, 0, 0, 0, 0, 0, 1, 0, ...</td>\n",
              "      <td>0.022</td>\n",
              "    </tr>\n",
              "    <tr>\n",
              "      <th>1</th>\n",
              "      <td>4345131</td>\n",
              "      <td>[0, 1, 0, 0, 0, 0, 0, 0, 0, 1, 0, 0, 0, 0, 0, ...</td>\n",
              "      <td>0.026</td>\n",
              "    </tr>\n",
              "    <tr>\n",
              "      <th>2</th>\n",
              "      <td>4345131</td>\n",
              "      <td>[0, 1, 0, 0, 0, 0, 0, 0, 0, 1, 0, 0, 0, 0, 0, ...</td>\n",
              "      <td>0.078</td>\n",
              "    </tr>\n",
              "    <tr>\n",
              "      <th>3</th>\n",
              "      <td>4345131</td>\n",
              "      <td>[0, 1, 0, 0, 0, 0, 0, 0, 0, 1, 0, 0, 0, 0, 0, ...</td>\n",
              "      <td>0.081</td>\n",
              "    </tr>\n",
              "    <tr>\n",
              "      <th>4</th>\n",
              "      <td>4361896</td>\n",
              "      <td>[1, 1, 0, 0, 0, 0, 0, 0, 0, 0, 0, 0, 0, 0, 0, ...</td>\n",
              "      <td>0.099</td>\n",
              "    </tr>\n",
              "  </tbody>\n",
              "</table>\n",
              "</div>\n",
              "    <div class=\"colab-df-buttons\">\n",
              "\n",
              "  <div class=\"colab-df-container\">\n",
              "    <button class=\"colab-df-convert\" onclick=\"convertToInteractive('df-4753d079-5b56-4bbe-bf9c-1a72914b5112')\"\n",
              "            title=\"Convert this dataframe to an interactive table.\"\n",
              "            style=\"display:none;\">\n",
              "\n",
              "  <svg xmlns=\"http://www.w3.org/2000/svg\" height=\"24px\" viewBox=\"0 -960 960 960\">\n",
              "    <path d=\"M120-120v-720h720v720H120Zm60-500h600v-160H180v160Zm220 220h160v-160H400v160Zm0 220h160v-160H400v160ZM180-400h160v-160H180v160Zm440 0h160v-160H620v160ZM180-180h160v-160H180v160Zm440 0h160v-160H620v160Z\"/>\n",
              "  </svg>\n",
              "    </button>\n",
              "\n",
              "  <style>\n",
              "    .colab-df-container {\n",
              "      display:flex;\n",
              "      gap: 12px;\n",
              "    }\n",
              "\n",
              "    .colab-df-convert {\n",
              "      background-color: #E8F0FE;\n",
              "      border: none;\n",
              "      border-radius: 50%;\n",
              "      cursor: pointer;\n",
              "      display: none;\n",
              "      fill: #1967D2;\n",
              "      height: 32px;\n",
              "      padding: 0 0 0 0;\n",
              "      width: 32px;\n",
              "    }\n",
              "\n",
              "    .colab-df-convert:hover {\n",
              "      background-color: #E2EBFA;\n",
              "      box-shadow: 0px 1px 2px rgba(60, 64, 67, 0.3), 0px 1px 3px 1px rgba(60, 64, 67, 0.15);\n",
              "      fill: #174EA6;\n",
              "    }\n",
              "\n",
              "    .colab-df-buttons div {\n",
              "      margin-bottom: 4px;\n",
              "    }\n",
              "\n",
              "    [theme=dark] .colab-df-convert {\n",
              "      background-color: #3B4455;\n",
              "      fill: #D2E3FC;\n",
              "    }\n",
              "\n",
              "    [theme=dark] .colab-df-convert:hover {\n",
              "      background-color: #434B5C;\n",
              "      box-shadow: 0px 1px 3px 1px rgba(0, 0, 0, 0.15);\n",
              "      filter: drop-shadow(0px 1px 2px rgba(0, 0, 0, 0.3));\n",
              "      fill: #FFFFFF;\n",
              "    }\n",
              "  </style>\n",
              "\n",
              "    <script>\n",
              "      const buttonEl =\n",
              "        document.querySelector('#df-4753d079-5b56-4bbe-bf9c-1a72914b5112 button.colab-df-convert');\n",
              "      buttonEl.style.display =\n",
              "        google.colab.kernel.accessAllowed ? 'block' : 'none';\n",
              "\n",
              "      async function convertToInteractive(key) {\n",
              "        const element = document.querySelector('#df-4753d079-5b56-4bbe-bf9c-1a72914b5112');\n",
              "        const dataTable =\n",
              "          await google.colab.kernel.invokeFunction('convertToInteractive',\n",
              "                                                    [key], {});\n",
              "        if (!dataTable) return;\n",
              "\n",
              "        const docLinkHtml = 'Like what you see? Visit the ' +\n",
              "          '<a target=\"_blank\" href=https://colab.research.google.com/notebooks/data_table.ipynb>data table notebook</a>'\n",
              "          + ' to learn more about interactive tables.';\n",
              "        element.innerHTML = '';\n",
              "        dataTable['output_type'] = 'display_data';\n",
              "        await google.colab.output.renderOutput(dataTable, element);\n",
              "        const docLink = document.createElement('div');\n",
              "        docLink.innerHTML = docLinkHtml;\n",
              "        element.appendChild(docLink);\n",
              "      }\n",
              "    </script>\n",
              "  </div>\n",
              "\n",
              "\n",
              "<div id=\"df-196c2874-d14d-4361-aa5c-fa2742f8d66f\">\n",
              "  <button class=\"colab-df-quickchart\" onclick=\"quickchart('df-196c2874-d14d-4361-aa5c-fa2742f8d66f')\"\n",
              "            title=\"Suggest charts\"\n",
              "            style=\"display:none;\">\n",
              "\n",
              "<svg xmlns=\"http://www.w3.org/2000/svg\" height=\"24px\"viewBox=\"0 0 24 24\"\n",
              "     width=\"24px\">\n",
              "    <g>\n",
              "        <path d=\"M19 3H5c-1.1 0-2 .9-2 2v14c0 1.1.9 2 2 2h14c1.1 0 2-.9 2-2V5c0-1.1-.9-2-2-2zM9 17H7v-7h2v7zm4 0h-2V7h2v10zm4 0h-2v-4h2v4z\"/>\n",
              "    </g>\n",
              "</svg>\n",
              "  </button>\n",
              "\n",
              "<style>\n",
              "  .colab-df-quickchart {\n",
              "      --bg-color: #E8F0FE;\n",
              "      --fill-color: #1967D2;\n",
              "      --hover-bg-color: #E2EBFA;\n",
              "      --hover-fill-color: #174EA6;\n",
              "      --disabled-fill-color: #AAA;\n",
              "      --disabled-bg-color: #DDD;\n",
              "  }\n",
              "\n",
              "  [theme=dark] .colab-df-quickchart {\n",
              "      --bg-color: #3B4455;\n",
              "      --fill-color: #D2E3FC;\n",
              "      --hover-bg-color: #434B5C;\n",
              "      --hover-fill-color: #FFFFFF;\n",
              "      --disabled-bg-color: #3B4455;\n",
              "      --disabled-fill-color: #666;\n",
              "  }\n",
              "\n",
              "  .colab-df-quickchart {\n",
              "    background-color: var(--bg-color);\n",
              "    border: none;\n",
              "    border-radius: 50%;\n",
              "    cursor: pointer;\n",
              "    display: none;\n",
              "    fill: var(--fill-color);\n",
              "    height: 32px;\n",
              "    padding: 0;\n",
              "    width: 32px;\n",
              "  }\n",
              "\n",
              "  .colab-df-quickchart:hover {\n",
              "    background-color: var(--hover-bg-color);\n",
              "    box-shadow: 0 1px 2px rgba(60, 64, 67, 0.3), 0 1px 3px 1px rgba(60, 64, 67, 0.15);\n",
              "    fill: var(--button-hover-fill-color);\n",
              "  }\n",
              "\n",
              "  .colab-df-quickchart-complete:disabled,\n",
              "  .colab-df-quickchart-complete:disabled:hover {\n",
              "    background-color: var(--disabled-bg-color);\n",
              "    fill: var(--disabled-fill-color);\n",
              "    box-shadow: none;\n",
              "  }\n",
              "\n",
              "  .colab-df-spinner {\n",
              "    border: 2px solid var(--fill-color);\n",
              "    border-color: transparent;\n",
              "    border-bottom-color: var(--fill-color);\n",
              "    animation:\n",
              "      spin 1s steps(1) infinite;\n",
              "  }\n",
              "\n",
              "  @keyframes spin {\n",
              "    0% {\n",
              "      border-color: transparent;\n",
              "      border-bottom-color: var(--fill-color);\n",
              "      border-left-color: var(--fill-color);\n",
              "    }\n",
              "    20% {\n",
              "      border-color: transparent;\n",
              "      border-left-color: var(--fill-color);\n",
              "      border-top-color: var(--fill-color);\n",
              "    }\n",
              "    30% {\n",
              "      border-color: transparent;\n",
              "      border-left-color: var(--fill-color);\n",
              "      border-top-color: var(--fill-color);\n",
              "      border-right-color: var(--fill-color);\n",
              "    }\n",
              "    40% {\n",
              "      border-color: transparent;\n",
              "      border-right-color: var(--fill-color);\n",
              "      border-top-color: var(--fill-color);\n",
              "    }\n",
              "    60% {\n",
              "      border-color: transparent;\n",
              "      border-right-color: var(--fill-color);\n",
              "    }\n",
              "    80% {\n",
              "      border-color: transparent;\n",
              "      border-right-color: var(--fill-color);\n",
              "      border-bottom-color: var(--fill-color);\n",
              "    }\n",
              "    90% {\n",
              "      border-color: transparent;\n",
              "      border-bottom-color: var(--fill-color);\n",
              "    }\n",
              "  }\n",
              "</style>\n",
              "\n",
              "  <script>\n",
              "    async function quickchart(key) {\n",
              "      const quickchartButtonEl =\n",
              "        document.querySelector('#' + key + ' button');\n",
              "      quickchartButtonEl.disabled = true;  // To prevent multiple clicks.\n",
              "      quickchartButtonEl.classList.add('colab-df-spinner');\n",
              "      try {\n",
              "        const charts = await google.colab.kernel.invokeFunction(\n",
              "            'suggestCharts', [key], {});\n",
              "      } catch (error) {\n",
              "        console.error('Error during call to suggestCharts:', error);\n",
              "      }\n",
              "      quickchartButtonEl.classList.remove('colab-df-spinner');\n",
              "      quickchartButtonEl.classList.add('colab-df-quickchart-complete');\n",
              "    }\n",
              "    (() => {\n",
              "      let quickchartButtonEl =\n",
              "        document.querySelector('#df-196c2874-d14d-4361-aa5c-fa2742f8d66f button');\n",
              "      quickchartButtonEl.style.display =\n",
              "        google.colab.kernel.accessAllowed ? 'block' : 'none';\n",
              "    })();\n",
              "  </script>\n",
              "</div>\n",
              "\n",
              "    </div>\n",
              "  </div>\n"
            ],
            "application/vnd.google.colaboratory.intrinsic+json": {
              "type": "dataframe",
              "variable_name": "dataset",
              "summary": "{\n  \"name\": \"dataset\",\n  \"rows\": 1952,\n  \"fields\": [\n    {\n      \"column\": \"chembl_id\",\n      \"properties\": {\n        \"dtype\": \"number\",\n        \"std\": 846525,\n        \"min\": 870864,\n        \"max\": 5262917,\n        \"num_unique_values\": 72,\n        \"samples\": [\n          3637446,\n          2064934,\n          4323523\n        ],\n        \"semantic_type\": \"\",\n        \"description\": \"\"\n      }\n    },\n    {\n      \"column\": \"fp\",\n      \"properties\": {\n        \"dtype\": \"object\",\n        \"semantic_type\": \"\",\n        \"description\": \"\"\n      }\n    },\n    {\n      \"column\": \"IC50_nM\",\n      \"properties\": {\n        \"dtype\": \"number\",\n        \"std\": 2639.9467336362263,\n        \"min\": 0.022,\n        \"max\": 55000.0,\n        \"num_unique_values\": 713,\n        \"samples\": [\n          10.4,\n          156.0,\n          2.4\n        ],\n        \"semantic_type\": \"\",\n        \"description\": \"\"\n      }\n    }\n  ]\n}"
            }
          },
          "metadata": {},
          "execution_count": 74
        }
      ],
      "source": [
        "# smiles to fingerprint\n",
        "dataset = chembl_data[['Assay ChEMBL ID', 'IC50_nM', 'Smiles']].copy()\n",
        "dataset.loc[:, 'Fingerprint'] = dataset['Smiles'].apply(smiles_to_fingerprint)\n",
        "\n",
        "# smiles 열 drop\n",
        "dataset.drop('Smiles', axis=1, inplace=True)\n",
        "\n",
        "# assay chembl id 정수 변환\n",
        "dataset['Assay ChEMBL ID'] = dataset['Assay ChEMBL ID'].str.extract('(\\d+)', expand=False).astype(int)\n",
        "\n",
        "# 열 이름 변경 후 정렬\n",
        "dataset.rename(columns={'Assay ChEMBL ID': 'chembl_id', 'Fingerprint': 'fp'}, inplace=True)\n",
        "dataset = dataset[['chembl_id', 'fp', 'IC50_nM']]\n",
        "dataset.head()"
      ]
    },
    {
      "cell_type": "code",
      "execution_count": 75,
      "id": "2576a189",
      "metadata": {
        "id": "2576a189"
      },
      "outputs": [],
      "source": [
        "train, test = train_test_split(dataset, test_size=0.2)"
      ]
    },
    {
      "cell_type": "code",
      "execution_count": 33,
      "id": "b1ba95b8",
      "metadata": {
        "id": "b1ba95b8",
        "outputId": "9536bdf2-0dce-4cf6-b1b9-f64cfce209ba",
        "colab": {
          "base_uri": "https://localhost:8080/",
          "height": 206
        }
      },
      "outputs": [
        {
          "output_type": "execute_result",
          "data": {
            "text/plain": [
              "      chembl_id                                                 fp  IC50_nM\n",
              "1474     921622  [0, 0, 0, 1, 0, 0, 0, 0, 0, 0, 0, 0, 0, 0, 0, ...    225.0\n",
              "110     3887118  [0, 1, 0, 0, 0, 0, 0, 0, 0, 1, 0, 0, 0, 0, 0, ...      1.4\n",
              "622     3887118  [0, 0, 0, 0, 0, 0, 0, 0, 1, 0, 0, 0, 0, 0, 0, ...      5.7\n",
              "279     3887118  [0, 1, 0, 0, 0, 0, 0, 0, 0, 0, 0, 0, 0, 0, 0, ...      2.5\n",
              "1545    3887963  [0, 0, 0, 0, 0, 0, 0, 0, 0, 0, 0, 0, 0, 0, 0, ...    361.0"
            ],
            "text/html": [
              "\n",
              "  <div id=\"df-ba38d034-a12b-4209-8865-a7bbfecf7bb7\" class=\"colab-df-container\">\n",
              "    <div>\n",
              "<style scoped>\n",
              "    .dataframe tbody tr th:only-of-type {\n",
              "        vertical-align: middle;\n",
              "    }\n",
              "\n",
              "    .dataframe tbody tr th {\n",
              "        vertical-align: top;\n",
              "    }\n",
              "\n",
              "    .dataframe thead th {\n",
              "        text-align: right;\n",
              "    }\n",
              "</style>\n",
              "<table border=\"1\" class=\"dataframe\">\n",
              "  <thead>\n",
              "    <tr style=\"text-align: right;\">\n",
              "      <th></th>\n",
              "      <th>chembl_id</th>\n",
              "      <th>fp</th>\n",
              "      <th>IC50_nM</th>\n",
              "    </tr>\n",
              "  </thead>\n",
              "  <tbody>\n",
              "    <tr>\n",
              "      <th>1474</th>\n",
              "      <td>921622</td>\n",
              "      <td>[0, 0, 0, 1, 0, 0, 0, 0, 0, 0, 0, 0, 0, 0, 0, ...</td>\n",
              "      <td>225.0</td>\n",
              "    </tr>\n",
              "    <tr>\n",
              "      <th>110</th>\n",
              "      <td>3887118</td>\n",
              "      <td>[0, 1, 0, 0, 0, 0, 0, 0, 0, 1, 0, 0, 0, 0, 0, ...</td>\n",
              "      <td>1.4</td>\n",
              "    </tr>\n",
              "    <tr>\n",
              "      <th>622</th>\n",
              "      <td>3887118</td>\n",
              "      <td>[0, 0, 0, 0, 0, 0, 0, 0, 1, 0, 0, 0, 0, 0, 0, ...</td>\n",
              "      <td>5.7</td>\n",
              "    </tr>\n",
              "    <tr>\n",
              "      <th>279</th>\n",
              "      <td>3887118</td>\n",
              "      <td>[0, 1, 0, 0, 0, 0, 0, 0, 0, 0, 0, 0, 0, 0, 0, ...</td>\n",
              "      <td>2.5</td>\n",
              "    </tr>\n",
              "    <tr>\n",
              "      <th>1545</th>\n",
              "      <td>3887963</td>\n",
              "      <td>[0, 0, 0, 0, 0, 0, 0, 0, 0, 0, 0, 0, 0, 0, 0, ...</td>\n",
              "      <td>361.0</td>\n",
              "    </tr>\n",
              "  </tbody>\n",
              "</table>\n",
              "</div>\n",
              "    <div class=\"colab-df-buttons\">\n",
              "\n",
              "  <div class=\"colab-df-container\">\n",
              "    <button class=\"colab-df-convert\" onclick=\"convertToInteractive('df-ba38d034-a12b-4209-8865-a7bbfecf7bb7')\"\n",
              "            title=\"Convert this dataframe to an interactive table.\"\n",
              "            style=\"display:none;\">\n",
              "\n",
              "  <svg xmlns=\"http://www.w3.org/2000/svg\" height=\"24px\" viewBox=\"0 -960 960 960\">\n",
              "    <path d=\"M120-120v-720h720v720H120Zm60-500h600v-160H180v160Zm220 220h160v-160H400v160Zm0 220h160v-160H400v160ZM180-400h160v-160H180v160Zm440 0h160v-160H620v160ZM180-180h160v-160H180v160Zm440 0h160v-160H620v160Z\"/>\n",
              "  </svg>\n",
              "    </button>\n",
              "\n",
              "  <style>\n",
              "    .colab-df-container {\n",
              "      display:flex;\n",
              "      gap: 12px;\n",
              "    }\n",
              "\n",
              "    .colab-df-convert {\n",
              "      background-color: #E8F0FE;\n",
              "      border: none;\n",
              "      border-radius: 50%;\n",
              "      cursor: pointer;\n",
              "      display: none;\n",
              "      fill: #1967D2;\n",
              "      height: 32px;\n",
              "      padding: 0 0 0 0;\n",
              "      width: 32px;\n",
              "    }\n",
              "\n",
              "    .colab-df-convert:hover {\n",
              "      background-color: #E2EBFA;\n",
              "      box-shadow: 0px 1px 2px rgba(60, 64, 67, 0.3), 0px 1px 3px 1px rgba(60, 64, 67, 0.15);\n",
              "      fill: #174EA6;\n",
              "    }\n",
              "\n",
              "    .colab-df-buttons div {\n",
              "      margin-bottom: 4px;\n",
              "    }\n",
              "\n",
              "    [theme=dark] .colab-df-convert {\n",
              "      background-color: #3B4455;\n",
              "      fill: #D2E3FC;\n",
              "    }\n",
              "\n",
              "    [theme=dark] .colab-df-convert:hover {\n",
              "      background-color: #434B5C;\n",
              "      box-shadow: 0px 1px 3px 1px rgba(0, 0, 0, 0.15);\n",
              "      filter: drop-shadow(0px 1px 2px rgba(0, 0, 0, 0.3));\n",
              "      fill: #FFFFFF;\n",
              "    }\n",
              "  </style>\n",
              "\n",
              "    <script>\n",
              "      const buttonEl =\n",
              "        document.querySelector('#df-ba38d034-a12b-4209-8865-a7bbfecf7bb7 button.colab-df-convert');\n",
              "      buttonEl.style.display =\n",
              "        google.colab.kernel.accessAllowed ? 'block' : 'none';\n",
              "\n",
              "      async function convertToInteractive(key) {\n",
              "        const element = document.querySelector('#df-ba38d034-a12b-4209-8865-a7bbfecf7bb7');\n",
              "        const dataTable =\n",
              "          await google.colab.kernel.invokeFunction('convertToInteractive',\n",
              "                                                    [key], {});\n",
              "        if (!dataTable) return;\n",
              "\n",
              "        const docLinkHtml = 'Like what you see? Visit the ' +\n",
              "          '<a target=\"_blank\" href=https://colab.research.google.com/notebooks/data_table.ipynb>data table notebook</a>'\n",
              "          + ' to learn more about interactive tables.';\n",
              "        element.innerHTML = '';\n",
              "        dataTable['output_type'] = 'display_data';\n",
              "        await google.colab.output.renderOutput(dataTable, element);\n",
              "        const docLink = document.createElement('div');\n",
              "        docLink.innerHTML = docLinkHtml;\n",
              "        element.appendChild(docLink);\n",
              "      }\n",
              "    </script>\n",
              "  </div>\n",
              "\n",
              "\n",
              "<div id=\"df-088c406f-2201-4f08-a6af-e3ec4974fe7c\">\n",
              "  <button class=\"colab-df-quickchart\" onclick=\"quickchart('df-088c406f-2201-4f08-a6af-e3ec4974fe7c')\"\n",
              "            title=\"Suggest charts\"\n",
              "            style=\"display:none;\">\n",
              "\n",
              "<svg xmlns=\"http://www.w3.org/2000/svg\" height=\"24px\"viewBox=\"0 0 24 24\"\n",
              "     width=\"24px\">\n",
              "    <g>\n",
              "        <path d=\"M19 3H5c-1.1 0-2 .9-2 2v14c0 1.1.9 2 2 2h14c1.1 0 2-.9 2-2V5c0-1.1-.9-2-2-2zM9 17H7v-7h2v7zm4 0h-2V7h2v10zm4 0h-2v-4h2v4z\"/>\n",
              "    </g>\n",
              "</svg>\n",
              "  </button>\n",
              "\n",
              "<style>\n",
              "  .colab-df-quickchart {\n",
              "      --bg-color: #E8F0FE;\n",
              "      --fill-color: #1967D2;\n",
              "      --hover-bg-color: #E2EBFA;\n",
              "      --hover-fill-color: #174EA6;\n",
              "      --disabled-fill-color: #AAA;\n",
              "      --disabled-bg-color: #DDD;\n",
              "  }\n",
              "\n",
              "  [theme=dark] .colab-df-quickchart {\n",
              "      --bg-color: #3B4455;\n",
              "      --fill-color: #D2E3FC;\n",
              "      --hover-bg-color: #434B5C;\n",
              "      --hover-fill-color: #FFFFFF;\n",
              "      --disabled-bg-color: #3B4455;\n",
              "      --disabled-fill-color: #666;\n",
              "  }\n",
              "\n",
              "  .colab-df-quickchart {\n",
              "    background-color: var(--bg-color);\n",
              "    border: none;\n",
              "    border-radius: 50%;\n",
              "    cursor: pointer;\n",
              "    display: none;\n",
              "    fill: var(--fill-color);\n",
              "    height: 32px;\n",
              "    padding: 0;\n",
              "    width: 32px;\n",
              "  }\n",
              "\n",
              "  .colab-df-quickchart:hover {\n",
              "    background-color: var(--hover-bg-color);\n",
              "    box-shadow: 0 1px 2px rgba(60, 64, 67, 0.3), 0 1px 3px 1px rgba(60, 64, 67, 0.15);\n",
              "    fill: var(--button-hover-fill-color);\n",
              "  }\n",
              "\n",
              "  .colab-df-quickchart-complete:disabled,\n",
              "  .colab-df-quickchart-complete:disabled:hover {\n",
              "    background-color: var(--disabled-bg-color);\n",
              "    fill: var(--disabled-fill-color);\n",
              "    box-shadow: none;\n",
              "  }\n",
              "\n",
              "  .colab-df-spinner {\n",
              "    border: 2px solid var(--fill-color);\n",
              "    border-color: transparent;\n",
              "    border-bottom-color: var(--fill-color);\n",
              "    animation:\n",
              "      spin 1s steps(1) infinite;\n",
              "  }\n",
              "\n",
              "  @keyframes spin {\n",
              "    0% {\n",
              "      border-color: transparent;\n",
              "      border-bottom-color: var(--fill-color);\n",
              "      border-left-color: var(--fill-color);\n",
              "    }\n",
              "    20% {\n",
              "      border-color: transparent;\n",
              "      border-left-color: var(--fill-color);\n",
              "      border-top-color: var(--fill-color);\n",
              "    }\n",
              "    30% {\n",
              "      border-color: transparent;\n",
              "      border-left-color: var(--fill-color);\n",
              "      border-top-color: var(--fill-color);\n",
              "      border-right-color: var(--fill-color);\n",
              "    }\n",
              "    40% {\n",
              "      border-color: transparent;\n",
              "      border-right-color: var(--fill-color);\n",
              "      border-top-color: var(--fill-color);\n",
              "    }\n",
              "    60% {\n",
              "      border-color: transparent;\n",
              "      border-right-color: var(--fill-color);\n",
              "    }\n",
              "    80% {\n",
              "      border-color: transparent;\n",
              "      border-right-color: var(--fill-color);\n",
              "      border-bottom-color: var(--fill-color);\n",
              "    }\n",
              "    90% {\n",
              "      border-color: transparent;\n",
              "      border-bottom-color: var(--fill-color);\n",
              "    }\n",
              "  }\n",
              "</style>\n",
              "\n",
              "  <script>\n",
              "    async function quickchart(key) {\n",
              "      const quickchartButtonEl =\n",
              "        document.querySelector('#' + key + ' button');\n",
              "      quickchartButtonEl.disabled = true;  // To prevent multiple clicks.\n",
              "      quickchartButtonEl.classList.add('colab-df-spinner');\n",
              "      try {\n",
              "        const charts = await google.colab.kernel.invokeFunction(\n",
              "            'suggestCharts', [key], {});\n",
              "      } catch (error) {\n",
              "        console.error('Error during call to suggestCharts:', error);\n",
              "      }\n",
              "      quickchartButtonEl.classList.remove('colab-df-spinner');\n",
              "      quickchartButtonEl.classList.add('colab-df-quickchart-complete');\n",
              "    }\n",
              "    (() => {\n",
              "      let quickchartButtonEl =\n",
              "        document.querySelector('#df-088c406f-2201-4f08-a6af-e3ec4974fe7c button');\n",
              "      quickchartButtonEl.style.display =\n",
              "        google.colab.kernel.accessAllowed ? 'block' : 'none';\n",
              "    })();\n",
              "  </script>\n",
              "</div>\n",
              "\n",
              "    </div>\n",
              "  </div>\n"
            ],
            "application/vnd.google.colaboratory.intrinsic+json": {
              "type": "dataframe",
              "variable_name": "train",
              "summary": "{\n  \"name\": \"train\",\n  \"rows\": 1561,\n  \"fields\": [\n    {\n      \"column\": \"chembl_id\",\n      \"properties\": {\n        \"dtype\": \"number\",\n        \"std\": 851362,\n        \"min\": 870864,\n        \"max\": 5262917,\n        \"num_unique_values\": 69,\n        \"samples\": [\n          4678083,\n          921622,\n          2383894\n        ],\n        \"semantic_type\": \"\",\n        \"description\": \"\"\n      }\n    },\n    {\n      \"column\": \"fp\",\n      \"properties\": {\n        \"dtype\": \"object\",\n        \"semantic_type\": \"\",\n        \"description\": \"\"\n      }\n    },\n    {\n      \"column\": \"IC50_nM\",\n      \"properties\": {\n        \"dtype\": \"number\",\n        \"std\": 2379.6191791765445,\n        \"min\": 0.022,\n        \"max\": 55000.0,\n        \"num_unique_values\": 621,\n        \"samples\": [\n          1.5,\n          2419.0,\n          176.0\n        ],\n        \"semantic_type\": \"\",\n        \"description\": \"\"\n      }\n    }\n  ]\n}"
            }
          },
          "metadata": {},
          "execution_count": 33
        }
      ],
      "source": [
        "train.head()"
      ]
    },
    {
      "cell_type": "code",
      "execution_count": 34,
      "id": "f9aea63f",
      "metadata": {
        "id": "f9aea63f",
        "outputId": "b4885f6f-c090-461b-d5b2-9492fab33b82",
        "colab": {
          "base_uri": "https://localhost:8080/",
          "height": 206
        }
      },
      "outputs": [
        {
          "output_type": "execute_result",
          "data": {
            "text/plain": [
              "      chembl_id                                                 fp  IC50_nM\n",
              "839     3887118  [0, 1, 0, 0, 0, 0, 0, 0, 0, 1, 0, 0, 0, 0, 0, ...     10.0\n",
              "1717     870864  [0, 0, 0, 0, 0, 0, 0, 0, 0, 0, 0, 0, 0, 0, 0, ...   1000.0\n",
              "321     3887118  [0, 1, 0, 0, 0, 0, 0, 0, 0, 0, 0, 0, 0, 1, 0, ...      2.8\n",
              "165     3887118  [0, 1, 0, 0, 0, 0, 0, 0, 0, 0, 0, 0, 0, 0, 0, ...      1.8\n",
              "1380    4359943  [0, 0, 0, 0, 0, 0, 0, 0, 0, 0, 0, 0, 0, 0, 0, ...    130.0"
            ],
            "text/html": [
              "\n",
              "  <div id=\"df-97946990-a0da-4514-bd34-c118e0c51bff\" class=\"colab-df-container\">\n",
              "    <div>\n",
              "<style scoped>\n",
              "    .dataframe tbody tr th:only-of-type {\n",
              "        vertical-align: middle;\n",
              "    }\n",
              "\n",
              "    .dataframe tbody tr th {\n",
              "        vertical-align: top;\n",
              "    }\n",
              "\n",
              "    .dataframe thead th {\n",
              "        text-align: right;\n",
              "    }\n",
              "</style>\n",
              "<table border=\"1\" class=\"dataframe\">\n",
              "  <thead>\n",
              "    <tr style=\"text-align: right;\">\n",
              "      <th></th>\n",
              "      <th>chembl_id</th>\n",
              "      <th>fp</th>\n",
              "      <th>IC50_nM</th>\n",
              "    </tr>\n",
              "  </thead>\n",
              "  <tbody>\n",
              "    <tr>\n",
              "      <th>839</th>\n",
              "      <td>3887118</td>\n",
              "      <td>[0, 1, 0, 0, 0, 0, 0, 0, 0, 1, 0, 0, 0, 0, 0, ...</td>\n",
              "      <td>10.0</td>\n",
              "    </tr>\n",
              "    <tr>\n",
              "      <th>1717</th>\n",
              "      <td>870864</td>\n",
              "      <td>[0, 0, 0, 0, 0, 0, 0, 0, 0, 0, 0, 0, 0, 0, 0, ...</td>\n",
              "      <td>1000.0</td>\n",
              "    </tr>\n",
              "    <tr>\n",
              "      <th>321</th>\n",
              "      <td>3887118</td>\n",
              "      <td>[0, 1, 0, 0, 0, 0, 0, 0, 0, 0, 0, 0, 0, 1, 0, ...</td>\n",
              "      <td>2.8</td>\n",
              "    </tr>\n",
              "    <tr>\n",
              "      <th>165</th>\n",
              "      <td>3887118</td>\n",
              "      <td>[0, 1, 0, 0, 0, 0, 0, 0, 0, 0, 0, 0, 0, 0, 0, ...</td>\n",
              "      <td>1.8</td>\n",
              "    </tr>\n",
              "    <tr>\n",
              "      <th>1380</th>\n",
              "      <td>4359943</td>\n",
              "      <td>[0, 0, 0, 0, 0, 0, 0, 0, 0, 0, 0, 0, 0, 0, 0, ...</td>\n",
              "      <td>130.0</td>\n",
              "    </tr>\n",
              "  </tbody>\n",
              "</table>\n",
              "</div>\n",
              "    <div class=\"colab-df-buttons\">\n",
              "\n",
              "  <div class=\"colab-df-container\">\n",
              "    <button class=\"colab-df-convert\" onclick=\"convertToInteractive('df-97946990-a0da-4514-bd34-c118e0c51bff')\"\n",
              "            title=\"Convert this dataframe to an interactive table.\"\n",
              "            style=\"display:none;\">\n",
              "\n",
              "  <svg xmlns=\"http://www.w3.org/2000/svg\" height=\"24px\" viewBox=\"0 -960 960 960\">\n",
              "    <path d=\"M120-120v-720h720v720H120Zm60-500h600v-160H180v160Zm220 220h160v-160H400v160Zm0 220h160v-160H400v160ZM180-400h160v-160H180v160Zm440 0h160v-160H620v160ZM180-180h160v-160H180v160Zm440 0h160v-160H620v160Z\"/>\n",
              "  </svg>\n",
              "    </button>\n",
              "\n",
              "  <style>\n",
              "    .colab-df-container {\n",
              "      display:flex;\n",
              "      gap: 12px;\n",
              "    }\n",
              "\n",
              "    .colab-df-convert {\n",
              "      background-color: #E8F0FE;\n",
              "      border: none;\n",
              "      border-radius: 50%;\n",
              "      cursor: pointer;\n",
              "      display: none;\n",
              "      fill: #1967D2;\n",
              "      height: 32px;\n",
              "      padding: 0 0 0 0;\n",
              "      width: 32px;\n",
              "    }\n",
              "\n",
              "    .colab-df-convert:hover {\n",
              "      background-color: #E2EBFA;\n",
              "      box-shadow: 0px 1px 2px rgba(60, 64, 67, 0.3), 0px 1px 3px 1px rgba(60, 64, 67, 0.15);\n",
              "      fill: #174EA6;\n",
              "    }\n",
              "\n",
              "    .colab-df-buttons div {\n",
              "      margin-bottom: 4px;\n",
              "    }\n",
              "\n",
              "    [theme=dark] .colab-df-convert {\n",
              "      background-color: #3B4455;\n",
              "      fill: #D2E3FC;\n",
              "    }\n",
              "\n",
              "    [theme=dark] .colab-df-convert:hover {\n",
              "      background-color: #434B5C;\n",
              "      box-shadow: 0px 1px 3px 1px rgba(0, 0, 0, 0.15);\n",
              "      filter: drop-shadow(0px 1px 2px rgba(0, 0, 0, 0.3));\n",
              "      fill: #FFFFFF;\n",
              "    }\n",
              "  </style>\n",
              "\n",
              "    <script>\n",
              "      const buttonEl =\n",
              "        document.querySelector('#df-97946990-a0da-4514-bd34-c118e0c51bff button.colab-df-convert');\n",
              "      buttonEl.style.display =\n",
              "        google.colab.kernel.accessAllowed ? 'block' : 'none';\n",
              "\n",
              "      async function convertToInteractive(key) {\n",
              "        const element = document.querySelector('#df-97946990-a0da-4514-bd34-c118e0c51bff');\n",
              "        const dataTable =\n",
              "          await google.colab.kernel.invokeFunction('convertToInteractive',\n",
              "                                                    [key], {});\n",
              "        if (!dataTable) return;\n",
              "\n",
              "        const docLinkHtml = 'Like what you see? Visit the ' +\n",
              "          '<a target=\"_blank\" href=https://colab.research.google.com/notebooks/data_table.ipynb>data table notebook</a>'\n",
              "          + ' to learn more about interactive tables.';\n",
              "        element.innerHTML = '';\n",
              "        dataTable['output_type'] = 'display_data';\n",
              "        await google.colab.output.renderOutput(dataTable, element);\n",
              "        const docLink = document.createElement('div');\n",
              "        docLink.innerHTML = docLinkHtml;\n",
              "        element.appendChild(docLink);\n",
              "      }\n",
              "    </script>\n",
              "  </div>\n",
              "\n",
              "\n",
              "<div id=\"df-dcc74c33-7f4a-472a-8ef2-8beaff045578\">\n",
              "  <button class=\"colab-df-quickchart\" onclick=\"quickchart('df-dcc74c33-7f4a-472a-8ef2-8beaff045578')\"\n",
              "            title=\"Suggest charts\"\n",
              "            style=\"display:none;\">\n",
              "\n",
              "<svg xmlns=\"http://www.w3.org/2000/svg\" height=\"24px\"viewBox=\"0 0 24 24\"\n",
              "     width=\"24px\">\n",
              "    <g>\n",
              "        <path d=\"M19 3H5c-1.1 0-2 .9-2 2v14c0 1.1.9 2 2 2h14c1.1 0 2-.9 2-2V5c0-1.1-.9-2-2-2zM9 17H7v-7h2v7zm4 0h-2V7h2v10zm4 0h-2v-4h2v4z\"/>\n",
              "    </g>\n",
              "</svg>\n",
              "  </button>\n",
              "\n",
              "<style>\n",
              "  .colab-df-quickchart {\n",
              "      --bg-color: #E8F0FE;\n",
              "      --fill-color: #1967D2;\n",
              "      --hover-bg-color: #E2EBFA;\n",
              "      --hover-fill-color: #174EA6;\n",
              "      --disabled-fill-color: #AAA;\n",
              "      --disabled-bg-color: #DDD;\n",
              "  }\n",
              "\n",
              "  [theme=dark] .colab-df-quickchart {\n",
              "      --bg-color: #3B4455;\n",
              "      --fill-color: #D2E3FC;\n",
              "      --hover-bg-color: #434B5C;\n",
              "      --hover-fill-color: #FFFFFF;\n",
              "      --disabled-bg-color: #3B4455;\n",
              "      --disabled-fill-color: #666;\n",
              "  }\n",
              "\n",
              "  .colab-df-quickchart {\n",
              "    background-color: var(--bg-color);\n",
              "    border: none;\n",
              "    border-radius: 50%;\n",
              "    cursor: pointer;\n",
              "    display: none;\n",
              "    fill: var(--fill-color);\n",
              "    height: 32px;\n",
              "    padding: 0;\n",
              "    width: 32px;\n",
              "  }\n",
              "\n",
              "  .colab-df-quickchart:hover {\n",
              "    background-color: var(--hover-bg-color);\n",
              "    box-shadow: 0 1px 2px rgba(60, 64, 67, 0.3), 0 1px 3px 1px rgba(60, 64, 67, 0.15);\n",
              "    fill: var(--button-hover-fill-color);\n",
              "  }\n",
              "\n",
              "  .colab-df-quickchart-complete:disabled,\n",
              "  .colab-df-quickchart-complete:disabled:hover {\n",
              "    background-color: var(--disabled-bg-color);\n",
              "    fill: var(--disabled-fill-color);\n",
              "    box-shadow: none;\n",
              "  }\n",
              "\n",
              "  .colab-df-spinner {\n",
              "    border: 2px solid var(--fill-color);\n",
              "    border-color: transparent;\n",
              "    border-bottom-color: var(--fill-color);\n",
              "    animation:\n",
              "      spin 1s steps(1) infinite;\n",
              "  }\n",
              "\n",
              "  @keyframes spin {\n",
              "    0% {\n",
              "      border-color: transparent;\n",
              "      border-bottom-color: var(--fill-color);\n",
              "      border-left-color: var(--fill-color);\n",
              "    }\n",
              "    20% {\n",
              "      border-color: transparent;\n",
              "      border-left-color: var(--fill-color);\n",
              "      border-top-color: var(--fill-color);\n",
              "    }\n",
              "    30% {\n",
              "      border-color: transparent;\n",
              "      border-left-color: var(--fill-color);\n",
              "      border-top-color: var(--fill-color);\n",
              "      border-right-color: var(--fill-color);\n",
              "    }\n",
              "    40% {\n",
              "      border-color: transparent;\n",
              "      border-right-color: var(--fill-color);\n",
              "      border-top-color: var(--fill-color);\n",
              "    }\n",
              "    60% {\n",
              "      border-color: transparent;\n",
              "      border-right-color: var(--fill-color);\n",
              "    }\n",
              "    80% {\n",
              "      border-color: transparent;\n",
              "      border-right-color: var(--fill-color);\n",
              "      border-bottom-color: var(--fill-color);\n",
              "    }\n",
              "    90% {\n",
              "      border-color: transparent;\n",
              "      border-bottom-color: var(--fill-color);\n",
              "    }\n",
              "  }\n",
              "</style>\n",
              "\n",
              "  <script>\n",
              "    async function quickchart(key) {\n",
              "      const quickchartButtonEl =\n",
              "        document.querySelector('#' + key + ' button');\n",
              "      quickchartButtonEl.disabled = true;  // To prevent multiple clicks.\n",
              "      quickchartButtonEl.classList.add('colab-df-spinner');\n",
              "      try {\n",
              "        const charts = await google.colab.kernel.invokeFunction(\n",
              "            'suggestCharts', [key], {});\n",
              "      } catch (error) {\n",
              "        console.error('Error during call to suggestCharts:', error);\n",
              "      }\n",
              "      quickchartButtonEl.classList.remove('colab-df-spinner');\n",
              "      quickchartButtonEl.classList.add('colab-df-quickchart-complete');\n",
              "    }\n",
              "    (() => {\n",
              "      let quickchartButtonEl =\n",
              "        document.querySelector('#df-dcc74c33-7f4a-472a-8ef2-8beaff045578 button');\n",
              "      quickchartButtonEl.style.display =\n",
              "        google.colab.kernel.accessAllowed ? 'block' : 'none';\n",
              "    })();\n",
              "  </script>\n",
              "</div>\n",
              "\n",
              "    </div>\n",
              "  </div>\n"
            ],
            "application/vnd.google.colaboratory.intrinsic+json": {
              "type": "dataframe",
              "variable_name": "test",
              "summary": "{\n  \"name\": \"test\",\n  \"rows\": 391,\n  \"fields\": [\n    {\n      \"column\": \"chembl_id\",\n      \"properties\": {\n        \"dtype\": \"number\",\n        \"std\": 826980,\n        \"min\": 870864,\n        \"max\": 5262917,\n        \"num_unique_values\": 49,\n        \"samples\": [\n          4729447,\n          3887430,\n          3380801\n        ],\n        \"semantic_type\": \"\",\n        \"description\": \"\"\n      }\n    },\n    {\n      \"column\": \"fp\",\n      \"properties\": {\n        \"dtype\": \"object\",\n        \"semantic_type\": \"\",\n        \"description\": \"\"\n      }\n    },\n    {\n      \"column\": \"IC50_nM\",\n      \"properties\": {\n        \"dtype\": \"number\",\n        \"std\": 3487.7834044858887,\n        \"min\": 0.078,\n        \"max\": 42000.0,\n        \"num_unique_values\": 253,\n        \"samples\": [\n          210.0,\n          7.0,\n          4.3\n        ],\n        \"semantic_type\": \"\",\n        \"description\": \"\"\n      }\n    }\n  ]\n}"
            }
          },
          "metadata": {},
          "execution_count": 34
        }
      ],
      "source": [
        "test.head()"
      ]
    },
    {
      "cell_type": "markdown",
      "id": "c3a5355f",
      "metadata": {
        "id": "c3a5355f"
      },
      "source": [
        "# Generalized Matrix Factorization (GMF)"
      ]
    },
    {
      "cell_type": "code",
      "execution_count": 22,
      "id": "1ac01720",
      "metadata": {
        "id": "1ac01720",
        "outputId": "4fa2fb21-d2bd-4fa8-fe74-d501cfc48b58",
        "colab": {
          "base_uri": "https://localhost:8080/",
          "height": 606
        }
      },
      "outputs": [
        {
          "output_type": "display_data",
          "data": {
            "text/plain": [
              "<IPython.core.display.SVG object>"
            ],
            "image/svg+xml": "<svg xmlns=\"http://www.w3.org/2000/svg\" xmlns:xlink=\"http://www.w3.org/1999/xlink\" width=\"737pt\" height=\"439pt\" viewBox=\"0.00 0.00 758.00 452.00\">\n<g id=\"graph0\" class=\"graph\" transform=\"scale(0.97 0.97) rotate(0) translate(4 448)\">\n<title>G</title>\n<polygon fill=\"white\" stroke=\"transparent\" points=\"-4,4 -4,-448 754,-448 754,4 -4,4\"/>\n<!-- 136424122111008 -->\n<g id=\"node1\" class=\"node\">\n<title>136424122111008</title>\n<polygon fill=\"none\" stroke=\"black\" points=\"93,-360.5 93,-443.5 273,-443.5 273,-360.5 93,-360.5\"/>\n<polygon fill=\"black\" stroke=\"transparent\" points=\"93,-360.5 93,-443.5 273,-443.5 273,-360.5 93,-360.5\"/>\n<polygon fill=\"black\" stroke=\"transparent\" points=\"95,-401 95,-441 271,-441 271,-401 95,-401\"/>\n<polygon fill=\"none\" stroke=\"black\" points=\"95,-401 95,-441 271,-441 271,-401 95,-401\"/>\n<text text-anchor=\"start\" x=\"107\" y=\"-418.2\" font-family=\"Helvetica,sans-Serif\" font-weight=\"bold\" font-size=\"16.00\" fill=\"white\">fp-input</text>\n<text text-anchor=\"start\" x=\"167\" y=\"-418.2\" font-family=\"Helvetica,sans-Serif\" font-size=\"16.00\" fill=\"white\"> (InputLayer)</text>\n<polygon fill=\"white\" stroke=\"transparent\" points=\"95,-362 95,-399 267,-399 267,-362 95,-362\"/>\n<polygon fill=\"none\" stroke=\"black\" points=\"95,-362 95,-399 267,-399 267,-362 95,-362\"/>\n<text text-anchor=\"start\" x=\"107\" y=\"-377.8\" font-family=\"Helvetica,sans-Serif\" font-size=\"14.00\">Output shape: </text>\n<text text-anchor=\"start\" x=\"197\" y=\"-377.8\" font-family=\"Helvetica,sans-Serif\" font-weight=\"bold\" font-size=\"14.00\">(None, 1)</text>\n</g>\n<!-- 136422643387552 -->\n<g id=\"node3\" class=\"node\">\n<title>136422643387552</title>\n<polygon fill=\"none\" stroke=\"black\" points=\"4,-240.5 4,-323.5 362,-323.5 362,-240.5 4,-240.5\"/>\n<polygon fill=\"black\" stroke=\"transparent\" points=\"4,-240.5 4,-323.5 362,-323.5 362,-240.5 4,-240.5\"/>\n<polygon fill=\"black\" stroke=\"transparent\" points=\"6,-281 6,-321 360,-321 360,-281 6,-281\"/>\n<polygon fill=\"none\" stroke=\"black\" points=\"6,-281 6,-321 360,-321 360,-281 6,-281\"/>\n<text text-anchor=\"start\" x=\"81.5\" y=\"-298.2\" font-family=\"Helvetica,sans-Serif\" font-weight=\"bold\" font-size=\"16.00\" fill=\"white\">fp-embedding</text>\n<text text-anchor=\"start\" x=\"187.5\" y=\"-298.2\" font-family=\"Helvetica,sans-Serif\" font-size=\"16.00\" fill=\"white\"> (Embedding)</text>\n<polygon fill=\"white\" stroke=\"transparent\" points=\"6,-242 6,-279 165,-279 165,-242 6,-242\"/>\n<polygon fill=\"none\" stroke=\"black\" points=\"6,-242 6,-279 165,-279 165,-242 6,-242\"/>\n<text text-anchor=\"start\" x=\"17\" y=\"-257.8\" font-family=\"Helvetica,sans-Serif\" font-size=\"14.00\">Input shape: </text>\n<text text-anchor=\"start\" x=\"96\" y=\"-257.8\" font-family=\"Helvetica,sans-Serif\" font-weight=\"bold\" font-size=\"14.00\">(None, 1)</text>\n<polygon fill=\"white\" stroke=\"transparent\" points=\"167,-242 167,-279 360,-279 360,-242 167,-242\"/>\n<polygon fill=\"none\" stroke=\"black\" points=\"167,-242 167,-279 360,-279 360,-242 167,-242\"/>\n<text text-anchor=\"start\" x=\"178\" y=\"-257.8\" font-family=\"Helvetica,sans-Serif\" font-size=\"14.00\">Output shape: </text>\n<text text-anchor=\"start\" x=\"268\" y=\"-257.8\" font-family=\"Helvetica,sans-Serif\" font-weight=\"bold\" font-size=\"14.00\">(None, 1, 10)</text>\n</g>\n<!-- 136424122111008&#45;&gt;136422643387552 -->\n<g id=\"edge1\" class=\"edge\">\n<title>136424122111008-&gt;136422643387552</title>\n<path fill=\"none\" stroke=\"black\" stroke-width=\"2\" d=\"M183,-360.37C183,-360.37 183,-333.56 183,-333.56\"/>\n<polygon fill=\"black\" stroke=\"black\" stroke-width=\"2\" points=\"186.5,-333.56 183,-323.56 179.5,-333.56 186.5,-333.56\"/>\n</g>\n<!-- 136422643393600 -->\n<g id=\"node2\" class=\"node\">\n<title>136422643393600</title>\n<polygon fill=\"none\" stroke=\"black\" points=\"462,-360.5 462,-443.5 672,-443.5 672,-360.5 462,-360.5\"/>\n<polygon fill=\"black\" stroke=\"transparent\" points=\"462,-360.5 462,-443.5 672,-443.5 672,-360.5 462,-360.5\"/>\n<polygon fill=\"black\" stroke=\"transparent\" points=\"464,-401 464,-441 670,-441 670,-401 464,-401\"/>\n<polygon fill=\"none\" stroke=\"black\" points=\"464,-401 464,-441 670,-441 670,-401 464,-401\"/>\n<text text-anchor=\"start\" x=\"476\" y=\"-418.2\" font-family=\"Helvetica,sans-Serif\" font-weight=\"bold\" font-size=\"16.00\" fill=\"white\">assay-input</text>\n<text text-anchor=\"start\" x=\"566\" y=\"-418.2\" font-family=\"Helvetica,sans-Serif\" font-size=\"16.00\" fill=\"white\"> (InputLayer)</text>\n<polygon fill=\"white\" stroke=\"transparent\" points=\"464,-362 464,-399 651,-399 651,-362 464,-362\"/>\n<polygon fill=\"none\" stroke=\"black\" points=\"464,-362 464,-399 651,-399 651,-362 464,-362\"/>\n<text text-anchor=\"start\" x=\"483.5\" y=\"-377.8\" font-family=\"Helvetica,sans-Serif\" font-size=\"14.00\">Output shape: </text>\n<text text-anchor=\"start\" x=\"573.5\" y=\"-377.8\" font-family=\"Helvetica,sans-Serif\" font-weight=\"bold\" font-size=\"14.00\">(None, 1)</text>\n</g>\n<!-- 136422643392352 -->\n<g id=\"node4\" class=\"node\">\n<title>136422643392352</title>\n<polygon fill=\"none\" stroke=\"black\" points=\"388,-240.5 388,-323.5 746,-323.5 746,-240.5 388,-240.5\"/>\n<polygon fill=\"black\" stroke=\"transparent\" points=\"388,-240.5 388,-323.5 746,-323.5 746,-240.5 388,-240.5\"/>\n<polygon fill=\"black\" stroke=\"transparent\" points=\"390,-281 390,-321 744,-321 744,-281 390,-281\"/>\n<polygon fill=\"none\" stroke=\"black\" points=\"390,-281 390,-321 744,-321 744,-281 390,-281\"/>\n<text text-anchor=\"start\" x=\"450.5\" y=\"-298.2\" font-family=\"Helvetica,sans-Serif\" font-weight=\"bold\" font-size=\"16.00\" fill=\"white\">assay-embedding</text>\n<text text-anchor=\"start\" x=\"586.5\" y=\"-298.2\" font-family=\"Helvetica,sans-Serif\" font-size=\"16.00\" fill=\"white\"> (Embedding)</text>\n<polygon fill=\"white\" stroke=\"transparent\" points=\"390,-242 390,-279 549,-279 549,-242 390,-242\"/>\n<polygon fill=\"none\" stroke=\"black\" points=\"390,-242 390,-279 549,-279 549,-242 390,-242\"/>\n<text text-anchor=\"start\" x=\"401\" y=\"-257.8\" font-family=\"Helvetica,sans-Serif\" font-size=\"14.00\">Input shape: </text>\n<text text-anchor=\"start\" x=\"480\" y=\"-257.8\" font-family=\"Helvetica,sans-Serif\" font-weight=\"bold\" font-size=\"14.00\">(None, 1)</text>\n<polygon fill=\"white\" stroke=\"transparent\" points=\"551,-242 551,-279 744,-279 744,-242 551,-242\"/>\n<polygon fill=\"none\" stroke=\"black\" points=\"551,-242 551,-279 744,-279 744,-242 551,-242\"/>\n<text text-anchor=\"start\" x=\"562\" y=\"-257.8\" font-family=\"Helvetica,sans-Serif\" font-size=\"14.00\">Output shape: </text>\n<text text-anchor=\"start\" x=\"652\" y=\"-257.8\" font-family=\"Helvetica,sans-Serif\" font-weight=\"bold\" font-size=\"14.00\">(None, 1, 10)</text>\n</g>\n<!-- 136422643393600&#45;&gt;136422643392352 -->\n<g id=\"edge2\" class=\"edge\">\n<title>136422643393600-&gt;136422643392352</title>\n<path fill=\"none\" stroke=\"black\" stroke-width=\"2\" d=\"M567,-360.37C567,-360.37 567,-333.56 567,-333.56\"/>\n<polygon fill=\"black\" stroke=\"black\" stroke-width=\"2\" points=\"570.5,-333.56 567,-323.56 563.5,-333.56 570.5,-333.56\"/>\n</g>\n<!-- 136422643387024 -->\n<g id=\"node5\" class=\"node\">\n<title>136422643387024</title>\n<polygon fill=\"none\" stroke=\"black\" points=\"0,-120.5 0,-203.5 366,-203.5 366,-120.5 0,-120.5\"/>\n<polygon fill=\"black\" stroke=\"transparent\" points=\"0,-120.5 0,-203.5 366,-203.5 366,-120.5 0,-120.5\"/>\n<polygon fill=\"black\" stroke=\"transparent\" points=\"2,-161 2,-201 364,-201 364,-161 2,-161\"/>\n<polygon fill=\"none\" stroke=\"black\" points=\"2,-161 2,-201 364,-201 364,-161 2,-161\"/>\n<text text-anchor=\"start\" x=\"116\" y=\"-178.2\" font-family=\"Helvetica,sans-Serif\" font-weight=\"bold\" font-size=\"16.00\" fill=\"white\">fp-flatten</text>\n<text text-anchor=\"start\" x=\"185\" y=\"-178.2\" font-family=\"Helvetica,sans-Serif\" font-size=\"16.00\" fill=\"white\"> (Flatten)</text>\n<polygon fill=\"white\" stroke=\"transparent\" points=\"2,-122 2,-159 184,-159 184,-122 2,-122\"/>\n<polygon fill=\"none\" stroke=\"black\" points=\"2,-122 2,-159 184,-159 184,-122 2,-122\"/>\n<text text-anchor=\"start\" x=\"13\" y=\"-137.8\" font-family=\"Helvetica,sans-Serif\" font-size=\"14.00\">Input shape: </text>\n<text text-anchor=\"start\" x=\"92\" y=\"-137.8\" font-family=\"Helvetica,sans-Serif\" font-weight=\"bold\" font-size=\"14.00\">(None, 1, 10)</text>\n<polygon fill=\"white\" stroke=\"transparent\" points=\"186,-122 186,-159 364,-159 364,-122 186,-122\"/>\n<polygon fill=\"none\" stroke=\"black\" points=\"186,-122 186,-159 364,-159 364,-122 186,-122\"/>\n<text text-anchor=\"start\" x=\"197\" y=\"-137.8\" font-family=\"Helvetica,sans-Serif\" font-size=\"14.00\">Output shape: </text>\n<text text-anchor=\"start\" x=\"287\" y=\"-137.8\" font-family=\"Helvetica,sans-Serif\" font-weight=\"bold\" font-size=\"14.00\">(None, 10)</text>\n</g>\n<!-- 136422643387552&#45;&gt;136422643387024 -->\n<g id=\"edge3\" class=\"edge\">\n<title>136422643387552-&gt;136422643387024</title>\n<path fill=\"none\" stroke=\"black\" stroke-width=\"2\" d=\"M183,-240.37C183,-240.37 183,-213.56 183,-213.56\"/>\n<polygon fill=\"black\" stroke=\"black\" stroke-width=\"2\" points=\"186.5,-213.56 183,-203.56 179.5,-213.56 186.5,-213.56\"/>\n</g>\n<!-- 136422643391728 -->\n<g id=\"node6\" class=\"node\">\n<title>136422643391728</title>\n<polygon fill=\"none\" stroke=\"black\" points=\"384,-120.5 384,-203.5 750,-203.5 750,-120.5 384,-120.5\"/>\n<polygon fill=\"black\" stroke=\"transparent\" points=\"384,-120.5 384,-203.5 750,-203.5 750,-120.5 384,-120.5\"/>\n<polygon fill=\"black\" stroke=\"transparent\" points=\"386,-161 386,-201 748,-201 748,-161 386,-161\"/>\n<polygon fill=\"none\" stroke=\"black\" points=\"386,-161 386,-201 748,-201 748,-161 386,-161\"/>\n<text text-anchor=\"start\" x=\"485\" y=\"-178.2\" font-family=\"Helvetica,sans-Serif\" font-weight=\"bold\" font-size=\"16.00\" fill=\"white\">assay-flatten</text>\n<text text-anchor=\"start\" x=\"584\" y=\"-178.2\" font-family=\"Helvetica,sans-Serif\" font-size=\"16.00\" fill=\"white\"> (Flatten)</text>\n<polygon fill=\"white\" stroke=\"transparent\" points=\"386,-122 386,-159 568,-159 568,-122 386,-122\"/>\n<polygon fill=\"none\" stroke=\"black\" points=\"386,-122 386,-159 568,-159 568,-122 386,-122\"/>\n<text text-anchor=\"start\" x=\"397\" y=\"-137.8\" font-family=\"Helvetica,sans-Serif\" font-size=\"14.00\">Input shape: </text>\n<text text-anchor=\"start\" x=\"476\" y=\"-137.8\" font-family=\"Helvetica,sans-Serif\" font-weight=\"bold\" font-size=\"14.00\">(None, 1, 10)</text>\n<polygon fill=\"white\" stroke=\"transparent\" points=\"570,-122 570,-159 748,-159 748,-122 570,-122\"/>\n<polygon fill=\"none\" stroke=\"black\" points=\"570,-122 570,-159 748,-159 748,-122 570,-122\"/>\n<text text-anchor=\"start\" x=\"581\" y=\"-137.8\" font-family=\"Helvetica,sans-Serif\" font-size=\"14.00\">Output shape: </text>\n<text text-anchor=\"start\" x=\"671\" y=\"-137.8\" font-family=\"Helvetica,sans-Serif\" font-weight=\"bold\" font-size=\"14.00\">(None, 10)</text>\n</g>\n<!-- 136422643392352&#45;&gt;136422643391728 -->\n<g id=\"edge4\" class=\"edge\">\n<title>136422643392352-&gt;136422643391728</title>\n<path fill=\"none\" stroke=\"black\" stroke-width=\"2\" d=\"M567,-240.37C567,-240.37 567,-213.56 567,-213.56\"/>\n<polygon fill=\"black\" stroke=\"black\" stroke-width=\"2\" points=\"570.5,-213.56 567,-203.56 563.5,-213.56 570.5,-213.56\"/>\n</g>\n<!-- 136422643389808 -->\n<g id=\"node7\" class=\"node\">\n<title>136422643389808</title>\n<polygon fill=\"none\" stroke=\"black\" points=\"162.5,-0.5 162.5,-83.5 587.5,-83.5 587.5,-0.5 162.5,-0.5\"/>\n<polygon fill=\"black\" stroke=\"transparent\" points=\"162.5,-0.5 162.5,-83.5 587.5,-83.5 587.5,-0.5 162.5,-0.5\"/>\n<polygon fill=\"black\" stroke=\"transparent\" points=\"165,-41 165,-81 586,-81 586,-41 165,-41\"/>\n<polygon fill=\"none\" stroke=\"black\" points=\"165,-41 165,-81 586,-81 586,-41 165,-41\"/>\n<text text-anchor=\"start\" x=\"310.5\" y=\"-58.2\" font-family=\"Helvetica,sans-Serif\" font-weight=\"bold\" font-size=\"16.00\" fill=\"white\">dot-product</text>\n<text text-anchor=\"start\" x=\"400.5\" y=\"-58.2\" font-family=\"Helvetica,sans-Serif\" font-size=\"16.00\" fill=\"white\"> (Dot)</text>\n<polygon fill=\"white\" stroke=\"transparent\" points=\"165,-2 165,-39 414,-39 414,-2 165,-2\"/>\n<polygon fill=\"none\" stroke=\"black\" points=\"165,-2 165,-39 414,-39 414,-2 165,-2\"/>\n<text text-anchor=\"start\" x=\"176\" y=\"-17.8\" font-family=\"Helvetica,sans-Serif\" font-size=\"14.00\">Input shape: </text>\n<text text-anchor=\"start\" x=\"255\" y=\"-17.8\" font-family=\"Helvetica,sans-Serif\" font-weight=\"bold\" font-size=\"14.00\">[(None, 10), (None, 10)]</text>\n<polygon fill=\"white\" stroke=\"transparent\" points=\"416,-2 416,-39 586,-39 586,-2 416,-2\"/>\n<polygon fill=\"none\" stroke=\"black\" points=\"416,-2 416,-39 586,-39 586,-2 416,-2\"/>\n<text text-anchor=\"start\" x=\"427\" y=\"-17.8\" font-family=\"Helvetica,sans-Serif\" font-size=\"14.00\">Output shape: </text>\n<text text-anchor=\"start\" x=\"517\" y=\"-17.8\" font-family=\"Helvetica,sans-Serif\" font-weight=\"bold\" font-size=\"14.00\">(None, 1)</text>\n</g>\n<!-- 136422643387024&#45;&gt;136422643389808 -->\n<g id=\"edge5\" class=\"edge\">\n<title>136422643387024-&gt;136422643389808</title>\n<path fill=\"none\" stroke=\"black\" stroke-width=\"2\" d=\"M264.25,-120.37C264.25,-120.37 264.25,-93.56 264.25,-93.56\"/>\n<polygon fill=\"black\" stroke=\"black\" stroke-width=\"2\" points=\"267.75,-93.56 264.25,-83.56 260.75,-93.56 267.75,-93.56\"/>\n</g>\n<!-- 136422643391728&#45;&gt;136422643389808 -->\n<g id=\"edge6\" class=\"edge\">\n<title>136422643391728-&gt;136422643389808</title>\n<path fill=\"none\" stroke=\"black\" stroke-width=\"2\" d=\"M485.75,-120.37C485.75,-120.37 485.75,-93.56 485.75,-93.56\"/>\n<polygon fill=\"black\" stroke=\"black\" stroke-width=\"2\" points=\"489.25,-93.56 485.75,-83.56 482.25,-93.56 489.25,-93.56\"/>\n</g>\n</g>\n</svg>"
          },
          "metadata": {}
        }
      ],
      "source": [
        "from keras.models import Model, Sequential\n",
        "from keras.layers import Embedding, Flatten, Input, Dot\n",
        "from keras.utils import model_to_dot\n",
        "from IPython.display import SVG\n",
        "\n",
        "# Let's use a higher latent dimension.\n",
        "latent_dim = 10\n",
        "\n",
        "fp_input = Input(shape=[1], name='fp-input')\n",
        "fp_embedding = Embedding(num_smiles + 1, latent_dim, name='fp-embedding')(fp_input)\n",
        "fp_vec = Flatten(name='fp-flatten')(fp_embedding)\n",
        "\n",
        "assay_input = Input(shape=[1],name='assay-input')\n",
        "assay_embedding = Embedding(num_chembl + 1, latent_dim, name='assay-embedding')(assay_input)\n",
        "assay_vec = Flatten(name='assay-flatten')(assay_embedding)\n",
        "\n",
        "prod = Dot(axes=1, name='dot-product')([fp_vec, assay_vec])\n",
        "\n",
        "model = Model([assay_input, fp_input], prod)\n",
        "model.compile('adam', 'mean_squared_error')\n",
        "\n",
        "# Adjust DPI to reduce SVG size\n",
        "dot = model_to_dot(model, show_shapes=True, dpi=70)\n",
        "\n",
        "# Create SVG with adjusted size\n",
        "svg = SVG(dot.create(prog='dot', format='svg'))\n",
        "\n",
        "display(svg)"
      ]
    },
    {
      "cell_type": "code",
      "execution_count": 23,
      "id": "b8778ccd",
      "metadata": {
        "id": "b8778ccd",
        "outputId": "2173782f-adaf-49a4-a32b-2792d026e8df",
        "colab": {
          "base_uri": "https://localhost:8080/",
          "height": 385
        }
      },
      "outputs": [
        {
          "output_type": "display_data",
          "data": {
            "text/plain": [
              "\u001b[1mModel: \"functional\"\u001b[0m\n"
            ],
            "text/html": [
              "<pre style=\"white-space:pre;overflow-x:auto;line-height:normal;font-family:Menlo,'DejaVu Sans Mono',consolas,'Courier New',monospace\"><span style=\"font-weight: bold\">Model: \"functional\"</span>\n",
              "</pre>\n"
            ]
          },
          "metadata": {}
        },
        {
          "output_type": "display_data",
          "data": {
            "text/plain": [
              "┏━━━━━━━━━━━━━━━━━━━━━━━━━━━┳━━━━━━━━━━━━━━━━━━━━━━━━┳━━━━━━━━━━━━━━━━┳━━━━━━━━━━━━━━━━━━━━━━━━┓\n",
              "┃\u001b[1m \u001b[0m\u001b[1mLayer (type)             \u001b[0m\u001b[1m \u001b[0m┃\u001b[1m \u001b[0m\u001b[1mOutput Shape          \u001b[0m\u001b[1m \u001b[0m┃\u001b[1m \u001b[0m\u001b[1m       Param #\u001b[0m\u001b[1m \u001b[0m┃\u001b[1m \u001b[0m\u001b[1mConnected to          \u001b[0m\u001b[1m \u001b[0m┃\n",
              "┡━━━━━━━━━━━━━━━━━━━━━━━━━━━╇━━━━━━━━━━━━━━━━━━━━━━━━╇━━━━━━━━━━━━━━━━╇━━━━━━━━━━━━━━━━━━━━━━━━┩\n",
              "│ fp-input (\u001b[38;5;33mInputLayer\u001b[0m)     │ (\u001b[38;5;45mNone\u001b[0m, \u001b[38;5;34m1\u001b[0m)              │              \u001b[38;5;34m0\u001b[0m │ -                      │\n",
              "├───────────────────────────┼────────────────────────┼────────────────┼────────────────────────┤\n",
              "│ assay-input (\u001b[38;5;33mInputLayer\u001b[0m)  │ (\u001b[38;5;45mNone\u001b[0m, \u001b[38;5;34m1\u001b[0m)              │              \u001b[38;5;34m0\u001b[0m │ -                      │\n",
              "├───────────────────────────┼────────────────────────┼────────────────┼────────────────────────┤\n",
              "│ fp-embedding (\u001b[38;5;33mEmbedding\u001b[0m)  │ (\u001b[38;5;45mNone\u001b[0m, \u001b[38;5;34m1\u001b[0m, \u001b[38;5;34m10\u001b[0m)          │         \u001b[38;5;34m19,530\u001b[0m │ fp-input[\u001b[38;5;34m0\u001b[0m][\u001b[38;5;34m0\u001b[0m]         │\n",
              "├───────────────────────────┼────────────────────────┼────────────────┼────────────────────────┤\n",
              "│ assay-embedding           │ (\u001b[38;5;45mNone\u001b[0m, \u001b[38;5;34m1\u001b[0m, \u001b[38;5;34m10\u001b[0m)          │            \u001b[38;5;34m730\u001b[0m │ assay-input[\u001b[38;5;34m0\u001b[0m][\u001b[38;5;34m0\u001b[0m]      │\n",
              "│ (\u001b[38;5;33mEmbedding\u001b[0m)               │                        │                │                        │\n",
              "├───────────────────────────┼────────────────────────┼────────────────┼────────────────────────┤\n",
              "│ fp-flatten (\u001b[38;5;33mFlatten\u001b[0m)      │ (\u001b[38;5;45mNone\u001b[0m, \u001b[38;5;34m10\u001b[0m)             │              \u001b[38;5;34m0\u001b[0m │ fp-embedding[\u001b[38;5;34m0\u001b[0m][\u001b[38;5;34m0\u001b[0m]     │\n",
              "├───────────────────────────┼────────────────────────┼────────────────┼────────────────────────┤\n",
              "│ assay-flatten (\u001b[38;5;33mFlatten\u001b[0m)   │ (\u001b[38;5;45mNone\u001b[0m, \u001b[38;5;34m10\u001b[0m)             │              \u001b[38;5;34m0\u001b[0m │ assay-embedding[\u001b[38;5;34m0\u001b[0m][\u001b[38;5;34m0\u001b[0m]  │\n",
              "├───────────────────────────┼────────────────────────┼────────────────┼────────────────────────┤\n",
              "│ dot-product (\u001b[38;5;33mDot\u001b[0m)         │ (\u001b[38;5;45mNone\u001b[0m, \u001b[38;5;34m1\u001b[0m)              │              \u001b[38;5;34m0\u001b[0m │ fp-flatten[\u001b[38;5;34m0\u001b[0m][\u001b[38;5;34m0\u001b[0m],      │\n",
              "│                           │                        │                │ assay-flatten[\u001b[38;5;34m0\u001b[0m][\u001b[38;5;34m0\u001b[0m]    │\n",
              "└───────────────────────────┴────────────────────────┴────────────────┴────────────────────────┘\n"
            ],
            "text/html": [
              "<pre style=\"white-space:pre;overflow-x:auto;line-height:normal;font-family:Menlo,'DejaVu Sans Mono',consolas,'Courier New',monospace\">┏━━━━━━━━━━━━━━━━━━━━━━━━━━━┳━━━━━━━━━━━━━━━━━━━━━━━━┳━━━━━━━━━━━━━━━━┳━━━━━━━━━━━━━━━━━━━━━━━━┓\n",
              "┃<span style=\"font-weight: bold\"> Layer (type)              </span>┃<span style=\"font-weight: bold\"> Output Shape           </span>┃<span style=\"font-weight: bold\">        Param # </span>┃<span style=\"font-weight: bold\"> Connected to           </span>┃\n",
              "┡━━━━━━━━━━━━━━━━━━━━━━━━━━━╇━━━━━━━━━━━━━━━━━━━━━━━━╇━━━━━━━━━━━━━━━━╇━━━━━━━━━━━━━━━━━━━━━━━━┩\n",
              "│ fp-input (<span style=\"color: #0087ff; text-decoration-color: #0087ff\">InputLayer</span>)     │ (<span style=\"color: #00d7ff; text-decoration-color: #00d7ff\">None</span>, <span style=\"color: #00af00; text-decoration-color: #00af00\">1</span>)              │              <span style=\"color: #00af00; text-decoration-color: #00af00\">0</span> │ -                      │\n",
              "├───────────────────────────┼────────────────────────┼────────────────┼────────────────────────┤\n",
              "│ assay-input (<span style=\"color: #0087ff; text-decoration-color: #0087ff\">InputLayer</span>)  │ (<span style=\"color: #00d7ff; text-decoration-color: #00d7ff\">None</span>, <span style=\"color: #00af00; text-decoration-color: #00af00\">1</span>)              │              <span style=\"color: #00af00; text-decoration-color: #00af00\">0</span> │ -                      │\n",
              "├───────────────────────────┼────────────────────────┼────────────────┼────────────────────────┤\n",
              "│ fp-embedding (<span style=\"color: #0087ff; text-decoration-color: #0087ff\">Embedding</span>)  │ (<span style=\"color: #00d7ff; text-decoration-color: #00d7ff\">None</span>, <span style=\"color: #00af00; text-decoration-color: #00af00\">1</span>, <span style=\"color: #00af00; text-decoration-color: #00af00\">10</span>)          │         <span style=\"color: #00af00; text-decoration-color: #00af00\">19,530</span> │ fp-input[<span style=\"color: #00af00; text-decoration-color: #00af00\">0</span>][<span style=\"color: #00af00; text-decoration-color: #00af00\">0</span>]         │\n",
              "├───────────────────────────┼────────────────────────┼────────────────┼────────────────────────┤\n",
              "│ assay-embedding           │ (<span style=\"color: #00d7ff; text-decoration-color: #00d7ff\">None</span>, <span style=\"color: #00af00; text-decoration-color: #00af00\">1</span>, <span style=\"color: #00af00; text-decoration-color: #00af00\">10</span>)          │            <span style=\"color: #00af00; text-decoration-color: #00af00\">730</span> │ assay-input[<span style=\"color: #00af00; text-decoration-color: #00af00\">0</span>][<span style=\"color: #00af00; text-decoration-color: #00af00\">0</span>]      │\n",
              "│ (<span style=\"color: #0087ff; text-decoration-color: #0087ff\">Embedding</span>)               │                        │                │                        │\n",
              "├───────────────────────────┼────────────────────────┼────────────────┼────────────────────────┤\n",
              "│ fp-flatten (<span style=\"color: #0087ff; text-decoration-color: #0087ff\">Flatten</span>)      │ (<span style=\"color: #00d7ff; text-decoration-color: #00d7ff\">None</span>, <span style=\"color: #00af00; text-decoration-color: #00af00\">10</span>)             │              <span style=\"color: #00af00; text-decoration-color: #00af00\">0</span> │ fp-embedding[<span style=\"color: #00af00; text-decoration-color: #00af00\">0</span>][<span style=\"color: #00af00; text-decoration-color: #00af00\">0</span>]     │\n",
              "├───────────────────────────┼────────────────────────┼────────────────┼────────────────────────┤\n",
              "│ assay-flatten (<span style=\"color: #0087ff; text-decoration-color: #0087ff\">Flatten</span>)   │ (<span style=\"color: #00d7ff; text-decoration-color: #00d7ff\">None</span>, <span style=\"color: #00af00; text-decoration-color: #00af00\">10</span>)             │              <span style=\"color: #00af00; text-decoration-color: #00af00\">0</span> │ assay-embedding[<span style=\"color: #00af00; text-decoration-color: #00af00\">0</span>][<span style=\"color: #00af00; text-decoration-color: #00af00\">0</span>]  │\n",
              "├───────────────────────────┼────────────────────────┼────────────────┼────────────────────────┤\n",
              "│ dot-product (<span style=\"color: #0087ff; text-decoration-color: #0087ff\">Dot</span>)         │ (<span style=\"color: #00d7ff; text-decoration-color: #00d7ff\">None</span>, <span style=\"color: #00af00; text-decoration-color: #00af00\">1</span>)              │              <span style=\"color: #00af00; text-decoration-color: #00af00\">0</span> │ fp-flatten[<span style=\"color: #00af00; text-decoration-color: #00af00\">0</span>][<span style=\"color: #00af00; text-decoration-color: #00af00\">0</span>],      │\n",
              "│                           │                        │                │ assay-flatten[<span style=\"color: #00af00; text-decoration-color: #00af00\">0</span>][<span style=\"color: #00af00; text-decoration-color: #00af00\">0</span>]    │\n",
              "└───────────────────────────┴────────────────────────┴────────────────┴────────────────────────┘\n",
              "</pre>\n"
            ]
          },
          "metadata": {}
        },
        {
          "output_type": "display_data",
          "data": {
            "text/plain": [
              "\u001b[1m Total params: \u001b[0m\u001b[38;5;34m20,260\u001b[0m (79.14 KB)\n"
            ],
            "text/html": [
              "<pre style=\"white-space:pre;overflow-x:auto;line-height:normal;font-family:Menlo,'DejaVu Sans Mono',consolas,'Courier New',monospace\"><span style=\"font-weight: bold\"> Total params: </span><span style=\"color: #00af00; text-decoration-color: #00af00\">20,260</span> (79.14 KB)\n",
              "</pre>\n"
            ]
          },
          "metadata": {}
        },
        {
          "output_type": "display_data",
          "data": {
            "text/plain": [
              "\u001b[1m Trainable params: \u001b[0m\u001b[38;5;34m20,260\u001b[0m (79.14 KB)\n"
            ],
            "text/html": [
              "<pre style=\"white-space:pre;overflow-x:auto;line-height:normal;font-family:Menlo,'DejaVu Sans Mono',consolas,'Courier New',monospace\"><span style=\"font-weight: bold\"> Trainable params: </span><span style=\"color: #00af00; text-decoration-color: #00af00\">20,260</span> (79.14 KB)\n",
              "</pre>\n"
            ]
          },
          "metadata": {}
        },
        {
          "output_type": "display_data",
          "data": {
            "text/plain": [
              "\u001b[1m Non-trainable params: \u001b[0m\u001b[38;5;34m0\u001b[0m (0.00 B)\n"
            ],
            "text/html": [
              "<pre style=\"white-space:pre;overflow-x:auto;line-height:normal;font-family:Menlo,'DejaVu Sans Mono',consolas,'Courier New',monospace\"><span style=\"font-weight: bold\"> Non-trainable params: </span><span style=\"color: #00af00; text-decoration-color: #00af00\">0</span> (0.00 B)\n",
              "</pre>\n"
            ]
          },
          "metadata": {}
        }
      ],
      "source": [
        "model.summary()"
      ]
    },
    {
      "cell_type": "code",
      "source": [
        "chembl_id_to_num = {id: i for i, id in enumerate(dataset['chembl_id'])}\n",
        "dataset['chembl_id'] = dataset['chembl_id'].map(chembl_id_to_num).astype(np.int32)"
      ],
      "metadata": {
        "id": "LKHaFFWYTYFL"
      },
      "id": "LKHaFFWYTYFL",
      "execution_count": 81,
      "outputs": []
    },
    {
      "cell_type": "code",
      "source": [
        "X_train_fp = np.stack(train['fp'].values).astype(np.float32)\n",
        "X_test_fp = np.stack(test['fp'].values).astype(np.float32)\n",
        "X_train_chembl_id = train['chembl_id'].values.reshape(-1, 1).astype(np.int32)\n",
        "X_test_chembl_id = test['chembl_id'].values.reshape(-1, 1).astype(np.int32)\n",
        "y_train = train['IC50_nM'].values.astype(np.float32)\n",
        "y_test = test['IC50_nM'].values.astype(np.float32)"
      ],
      "metadata": {
        "id": "hMirE77y3Pvo"
      },
      "id": "hMirE77y3Pvo",
      "execution_count": 82,
      "outputs": []
    },
    {
      "cell_type": "code",
      "source": [
        "from keras.layers import Dense, Concatenate\n",
        "from tensorflow.keras.utils import plot_model"
      ],
      "metadata": {
        "id": "6FYEam1D5RwZ"
      },
      "id": "6FYEam1D5RwZ",
      "execution_count": 78,
      "outputs": []
    },
    {
      "cell_type": "code",
      "source": [
        "# 크기 확인\n",
        "print(\"train.chembl_id 크기:\", X_train_chembl_id.shape)\n",
        "print(\"train.fp 크기:\", X_train_fp.shape)\n",
        "print(\"test.chembl_id 크기:\", X_test_chembl_id.shape)\n",
        "print(\"test.fp 크기:\", X_test_fp.shape)\n",
        "print(\"train.IC50_nM 크기:\", y_train.shape)\n",
        "print(\"test.IC50_nM 크기:\", y_test.shape)\n",
        "\n",
        "# chembl_id 값의 범위 확인\n",
        "print(\"chembl_id 최대 값:\", X_train_chembl_id.max())\n",
        "print(\"chembl_id 최소 값:\", X_train_chembl_id.min())\n",
        "\n",
        "# 임베딩 인덱스 범위 확인\n",
        "max_index = len(chembl_id_to_num)\n",
        "print(f\"임베딩 인덱스 범위: 0 ~ {max_index}\")"
      ],
      "metadata": {
        "colab": {
          "base_uri": "https://localhost:8080/"
        },
        "id": "DcRt6fJeUb4f",
        "outputId": "b2b6ab90-b3bf-4e52-9e23-9409f85247a0"
      },
      "id": "DcRt6fJeUb4f",
      "execution_count": 87,
      "outputs": [
        {
          "output_type": "stream",
          "name": "stdout",
          "text": [
            "train.chembl_id 크기: (1561, 1)\n",
            "train.fp 크기: (1561, 2048)\n",
            "test.chembl_id 크기: (391, 1)\n",
            "test.fp 크기: (391, 2048)\n",
            "train.IC50_nM 크기: (1561,)\n",
            "test.IC50_nM 크기: (391,)\n",
            "chembl_id 최대 값: 5262917\n",
            "chembl_id 최소 값: 870864\n",
            "임베딩 인덱스 범위: 0 ~ 72\n"
          ]
        }
      ]
    },
    {
      "cell_type": "code",
      "source": [
        "latent_dim = 10  # 임베딩 차원\n",
        "\n",
        "# 입력 정의\n",
        "input_fp = Input(shape=(CFG['NBITS'],), name='fingerprint')\n",
        "input_chembl_id = Input(shape=(1,), name='chembl_id')\n",
        "\n",
        "# chembl_id 임베딩\n",
        "chembl_id_embedding = Embedding(input_dim=len(chembl_id_to_num), output_dim=latent_dim, name='chembl_id_embedding')(input_chembl_id)\n",
        "chembl_id_vec = Flatten(name='chembl_id_flatten')(chembl_id_embedding)\n",
        "\n",
        "# fp 처리 (이미 고차원 벡터이므로 추가 처리는 필요 없음)\n",
        "fp_dense = Dense(latent_dim, activation='relu')(input_fp)  # latent_dim 크기로 변환\n",
        "\n",
        "# 두 입력의 내적 계산\n",
        "dot_product = Dot(axes=1, name='dot-product')([fp_dense, chembl_id_vec])\n",
        "\n",
        "# 모델 정의\n",
        "model = Model(inputs=[input_fp, input_chembl_id], outputs=dot_product)\n",
        "\n",
        "# 모델 컴파일\n",
        "model.compile(optimizer='adam', loss='mean_squared_error')\n",
        "\n",
        "# 모델 요약\n",
        "model.summary()\n",
        "\n",
        "# 모델 시각화\n",
        "plot_model(model, to_file='model.png', show_shapes=True, show_layer_names=True)\n",
        "SVG(model_to_dot(model, show_shapes=True, dpi=60).create(prog='dot', format='svg'))"
      ],
      "metadata": {
        "colab": {
          "base_uri": "https://localhost:8080/",
          "height": 875
        },
        "id": "BR8Ir4_jOrHA",
        "outputId": "8b24d716-16ed-4e83-b091-0b1929bfbe86"
      },
      "id": "BR8Ir4_jOrHA",
      "execution_count": 89,
      "outputs": [
        {
          "output_type": "display_data",
          "data": {
            "text/plain": [
              "\u001b[1mModel: \"functional_8\"\u001b[0m\n"
            ],
            "text/html": [
              "<pre style=\"white-space:pre;overflow-x:auto;line-height:normal;font-family:Menlo,'DejaVu Sans Mono',consolas,'Courier New',monospace\"><span style=\"font-weight: bold\">Model: \"functional_8\"</span>\n",
              "</pre>\n"
            ]
          },
          "metadata": {}
        },
        {
          "output_type": "display_data",
          "data": {
            "text/plain": [
              "┏━━━━━━━━━━━━━━━━━━━━━━━━━━━┳━━━━━━━━━━━━━━━━━━━━━━━━┳━━━━━━━━━━━━━━━━┳━━━━━━━━━━━━━━━━━━━━━━━━┓\n",
              "┃\u001b[1m \u001b[0m\u001b[1mLayer (type)             \u001b[0m\u001b[1m \u001b[0m┃\u001b[1m \u001b[0m\u001b[1mOutput Shape          \u001b[0m\u001b[1m \u001b[0m┃\u001b[1m \u001b[0m\u001b[1m       Param #\u001b[0m\u001b[1m \u001b[0m┃\u001b[1m \u001b[0m\u001b[1mConnected to          \u001b[0m\u001b[1m \u001b[0m┃\n",
              "┡━━━━━━━━━━━━━━━━━━━━━━━━━━━╇━━━━━━━━━━━━━━━━━━━━━━━━╇━━━━━━━━━━━━━━━━╇━━━━━━━━━━━━━━━━━━━━━━━━┩\n",
              "│ chembl_id (\u001b[38;5;33mInputLayer\u001b[0m)    │ (\u001b[38;5;45mNone\u001b[0m, \u001b[38;5;34m1\u001b[0m)              │              \u001b[38;5;34m0\u001b[0m │ -                      │\n",
              "├───────────────────────────┼────────────────────────┼────────────────┼────────────────────────┤\n",
              "│ fingerprint (\u001b[38;5;33mInputLayer\u001b[0m)  │ (\u001b[38;5;45mNone\u001b[0m, \u001b[38;5;34m2048\u001b[0m)           │              \u001b[38;5;34m0\u001b[0m │ -                      │\n",
              "├───────────────────────────┼────────────────────────┼────────────────┼────────────────────────┤\n",
              "│ chembl_id_embedding       │ (\u001b[38;5;45mNone\u001b[0m, \u001b[38;5;34m1\u001b[0m, \u001b[38;5;34m10\u001b[0m)          │            \u001b[38;5;34m720\u001b[0m │ chembl_id[\u001b[38;5;34m0\u001b[0m][\u001b[38;5;34m0\u001b[0m]        │\n",
              "│ (\u001b[38;5;33mEmbedding\u001b[0m)               │                        │                │                        │\n",
              "├───────────────────────────┼────────────────────────┼────────────────┼────────────────────────┤\n",
              "│ dense_9 (\u001b[38;5;33mDense\u001b[0m)           │ (\u001b[38;5;45mNone\u001b[0m, \u001b[38;5;34m10\u001b[0m)             │         \u001b[38;5;34m20,490\u001b[0m │ fingerprint[\u001b[38;5;34m0\u001b[0m][\u001b[38;5;34m0\u001b[0m]      │\n",
              "├───────────────────────────┼────────────────────────┼────────────────┼────────────────────────┤\n",
              "│ chembl_id_flatten         │ (\u001b[38;5;45mNone\u001b[0m, \u001b[38;5;34m10\u001b[0m)             │              \u001b[38;5;34m0\u001b[0m │ chembl_id_embedding[\u001b[38;5;34m0\u001b[0m… │\n",
              "│ (\u001b[38;5;33mFlatten\u001b[0m)                 │                        │                │                        │\n",
              "├───────────────────────────┼────────────────────────┼────────────────┼────────────────────────┤\n",
              "│ dot-product (\u001b[38;5;33mDot\u001b[0m)         │ (\u001b[38;5;45mNone\u001b[0m, \u001b[38;5;34m1\u001b[0m)              │              \u001b[38;5;34m0\u001b[0m │ dense_9[\u001b[38;5;34m0\u001b[0m][\u001b[38;5;34m0\u001b[0m],         │\n",
              "│                           │                        │                │ chembl_id_flatten[\u001b[38;5;34m0\u001b[0m][\u001b[38;5;34m…\u001b[0m │\n",
              "└───────────────────────────┴────────────────────────┴────────────────┴────────────────────────┘\n"
            ],
            "text/html": [
              "<pre style=\"white-space:pre;overflow-x:auto;line-height:normal;font-family:Menlo,'DejaVu Sans Mono',consolas,'Courier New',monospace\">┏━━━━━━━━━━━━━━━━━━━━━━━━━━━┳━━━━━━━━━━━━━━━━━━━━━━━━┳━━━━━━━━━━━━━━━━┳━━━━━━━━━━━━━━━━━━━━━━━━┓\n",
              "┃<span style=\"font-weight: bold\"> Layer (type)              </span>┃<span style=\"font-weight: bold\"> Output Shape           </span>┃<span style=\"font-weight: bold\">        Param # </span>┃<span style=\"font-weight: bold\"> Connected to           </span>┃\n",
              "┡━━━━━━━━━━━━━━━━━━━━━━━━━━━╇━━━━━━━━━━━━━━━━━━━━━━━━╇━━━━━━━━━━━━━━━━╇━━━━━━━━━━━━━━━━━━━━━━━━┩\n",
              "│ chembl_id (<span style=\"color: #0087ff; text-decoration-color: #0087ff\">InputLayer</span>)    │ (<span style=\"color: #00d7ff; text-decoration-color: #00d7ff\">None</span>, <span style=\"color: #00af00; text-decoration-color: #00af00\">1</span>)              │              <span style=\"color: #00af00; text-decoration-color: #00af00\">0</span> │ -                      │\n",
              "├───────────────────────────┼────────────────────────┼────────────────┼────────────────────────┤\n",
              "│ fingerprint (<span style=\"color: #0087ff; text-decoration-color: #0087ff\">InputLayer</span>)  │ (<span style=\"color: #00d7ff; text-decoration-color: #00d7ff\">None</span>, <span style=\"color: #00af00; text-decoration-color: #00af00\">2048</span>)           │              <span style=\"color: #00af00; text-decoration-color: #00af00\">0</span> │ -                      │\n",
              "├───────────────────────────┼────────────────────────┼────────────────┼────────────────────────┤\n",
              "│ chembl_id_embedding       │ (<span style=\"color: #00d7ff; text-decoration-color: #00d7ff\">None</span>, <span style=\"color: #00af00; text-decoration-color: #00af00\">1</span>, <span style=\"color: #00af00; text-decoration-color: #00af00\">10</span>)          │            <span style=\"color: #00af00; text-decoration-color: #00af00\">720</span> │ chembl_id[<span style=\"color: #00af00; text-decoration-color: #00af00\">0</span>][<span style=\"color: #00af00; text-decoration-color: #00af00\">0</span>]        │\n",
              "│ (<span style=\"color: #0087ff; text-decoration-color: #0087ff\">Embedding</span>)               │                        │                │                        │\n",
              "├───────────────────────────┼────────────────────────┼────────────────┼────────────────────────┤\n",
              "│ dense_9 (<span style=\"color: #0087ff; text-decoration-color: #0087ff\">Dense</span>)           │ (<span style=\"color: #00d7ff; text-decoration-color: #00d7ff\">None</span>, <span style=\"color: #00af00; text-decoration-color: #00af00\">10</span>)             │         <span style=\"color: #00af00; text-decoration-color: #00af00\">20,490</span> │ fingerprint[<span style=\"color: #00af00; text-decoration-color: #00af00\">0</span>][<span style=\"color: #00af00; text-decoration-color: #00af00\">0</span>]      │\n",
              "├───────────────────────────┼────────────────────────┼────────────────┼────────────────────────┤\n",
              "│ chembl_id_flatten         │ (<span style=\"color: #00d7ff; text-decoration-color: #00d7ff\">None</span>, <span style=\"color: #00af00; text-decoration-color: #00af00\">10</span>)             │              <span style=\"color: #00af00; text-decoration-color: #00af00\">0</span> │ chembl_id_embedding[<span style=\"color: #00af00; text-decoration-color: #00af00\">0</span>… │\n",
              "│ (<span style=\"color: #0087ff; text-decoration-color: #0087ff\">Flatten</span>)                 │                        │                │                        │\n",
              "├───────────────────────────┼────────────────────────┼────────────────┼────────────────────────┤\n",
              "│ dot-product (<span style=\"color: #0087ff; text-decoration-color: #0087ff\">Dot</span>)         │ (<span style=\"color: #00d7ff; text-decoration-color: #00d7ff\">None</span>, <span style=\"color: #00af00; text-decoration-color: #00af00\">1</span>)              │              <span style=\"color: #00af00; text-decoration-color: #00af00\">0</span> │ dense_9[<span style=\"color: #00af00; text-decoration-color: #00af00\">0</span>][<span style=\"color: #00af00; text-decoration-color: #00af00\">0</span>],         │\n",
              "│                           │                        │                │ chembl_id_flatten[<span style=\"color: #00af00; text-decoration-color: #00af00\">0</span>][<span style=\"color: #00af00; text-decoration-color: #00af00\">…</span> │\n",
              "└───────────────────────────┴────────────────────────┴────────────────┴────────────────────────┘\n",
              "</pre>\n"
            ]
          },
          "metadata": {}
        },
        {
          "output_type": "display_data",
          "data": {
            "text/plain": [
              "\u001b[1m Total params: \u001b[0m\u001b[38;5;34m21,210\u001b[0m (82.85 KB)\n"
            ],
            "text/html": [
              "<pre style=\"white-space:pre;overflow-x:auto;line-height:normal;font-family:Menlo,'DejaVu Sans Mono',consolas,'Courier New',monospace\"><span style=\"font-weight: bold\"> Total params: </span><span style=\"color: #00af00; text-decoration-color: #00af00\">21,210</span> (82.85 KB)\n",
              "</pre>\n"
            ]
          },
          "metadata": {}
        },
        {
          "output_type": "display_data",
          "data": {
            "text/plain": [
              "\u001b[1m Trainable params: \u001b[0m\u001b[38;5;34m21,210\u001b[0m (82.85 KB)\n"
            ],
            "text/html": [
              "<pre style=\"white-space:pre;overflow-x:auto;line-height:normal;font-family:Menlo,'DejaVu Sans Mono',consolas,'Courier New',monospace\"><span style=\"font-weight: bold\"> Trainable params: </span><span style=\"color: #00af00; text-decoration-color: #00af00\">21,210</span> (82.85 KB)\n",
              "</pre>\n"
            ]
          },
          "metadata": {}
        },
        {
          "output_type": "display_data",
          "data": {
            "text/plain": [
              "\u001b[1m Non-trainable params: \u001b[0m\u001b[38;5;34m0\u001b[0m (0.00 B)\n"
            ],
            "text/html": [
              "<pre style=\"white-space:pre;overflow-x:auto;line-height:normal;font-family:Menlo,'DejaVu Sans Mono',consolas,'Courier New',monospace\"><span style=\"font-weight: bold\"> Non-trainable params: </span><span style=\"color: #00af00; text-decoration-color: #00af00\">0</span> (0.00 B)\n",
              "</pre>\n"
            ]
          },
          "metadata": {}
        },
        {
          "output_type": "execute_result",
          "data": {
            "text/plain": [
              "<IPython.core.display.SVG object>"
            ],
            "image/svg+xml": "<svg xmlns=\"http://www.w3.org/2000/svg\" xmlns:xlink=\"http://www.w3.org/1999/xlink\" width=\"632pt\" height=\"377pt\" viewBox=\"0.00 0.00 758.00 452.00\">\n<g id=\"graph0\" class=\"graph\" transform=\"scale(0.83 0.83) rotate(0) translate(4 448)\">\n<title>G</title>\n<polygon fill=\"white\" stroke=\"transparent\" points=\"-4,4 -4,-448 754,-448 754,4 -4,4\"/>\n<!-- 136422301017056 -->\n<g id=\"node1\" class=\"node\">\n<title>136422301017056</title>\n<polygon fill=\"none\" stroke=\"black\" points=\"83,-360.5 83,-443.5 283,-443.5 283,-360.5 83,-360.5\"/>\n<polygon fill=\"black\" stroke=\"transparent\" points=\"83,-360.5 83,-443.5 283,-443.5 283,-360.5 83,-360.5\"/>\n<polygon fill=\"black\" stroke=\"transparent\" points=\"85,-401 85,-441 281,-441 281,-401 85,-401\"/>\n<polygon fill=\"none\" stroke=\"black\" points=\"85,-401 85,-441 281,-441 281,-401 85,-401\"/>\n<text text-anchor=\"start\" x=\"97\" y=\"-418.2\" font-family=\"Helvetica,sans-Serif\" font-weight=\"bold\" font-size=\"16.00\" fill=\"white\">chembl_id</text>\n<text text-anchor=\"start\" x=\"177\" y=\"-418.2\" font-family=\"Helvetica,sans-Serif\" font-size=\"16.00\" fill=\"white\"> (InputLayer)</text>\n<polygon fill=\"white\" stroke=\"transparent\" points=\"85,-362 85,-399 267,-399 267,-362 85,-362\"/>\n<polygon fill=\"none\" stroke=\"black\" points=\"85,-362 85,-399 267,-399 267,-362 85,-362\"/>\n<text text-anchor=\"start\" x=\"102\" y=\"-377.8\" font-family=\"Helvetica,sans-Serif\" font-size=\"14.00\">Output shape: </text>\n<text text-anchor=\"start\" x=\"192\" y=\"-377.8\" font-family=\"Helvetica,sans-Serif\" font-weight=\"bold\" font-size=\"14.00\">(None, 1)</text>\n</g>\n<!-- 136422301008800 -->\n<g id=\"node3\" class=\"node\">\n<title>136422301008800</title>\n<polygon fill=\"none\" stroke=\"black\" points=\"4,-240.5 4,-323.5 362,-323.5 362,-240.5 4,-240.5\"/>\n<polygon fill=\"black\" stroke=\"transparent\" points=\"4,-240.5 4,-323.5 362,-323.5 362,-240.5 4,-240.5\"/>\n<polygon fill=\"black\" stroke=\"transparent\" points=\"6,-281 6,-321 360,-321 360,-281 6,-281\"/>\n<polygon fill=\"none\" stroke=\"black\" points=\"6,-281 6,-321 360,-321 360,-281 6,-281\"/>\n<text text-anchor=\"start\" x=\"47\" y=\"-298.2\" font-family=\"Helvetica,sans-Serif\" font-weight=\"bold\" font-size=\"16.00\" fill=\"white\">chembl_id_embedding</text>\n<text text-anchor=\"start\" x=\"222\" y=\"-298.2\" font-family=\"Helvetica,sans-Serif\" font-size=\"16.00\" fill=\"white\"> (Embedding)</text>\n<polygon fill=\"white\" stroke=\"transparent\" points=\"6,-242 6,-279 165,-279 165,-242 6,-242\"/>\n<polygon fill=\"none\" stroke=\"black\" points=\"6,-242 6,-279 165,-279 165,-242 6,-242\"/>\n<text text-anchor=\"start\" x=\"17\" y=\"-257.8\" font-family=\"Helvetica,sans-Serif\" font-size=\"14.00\">Input shape: </text>\n<text text-anchor=\"start\" x=\"96\" y=\"-257.8\" font-family=\"Helvetica,sans-Serif\" font-weight=\"bold\" font-size=\"14.00\">(None, 1)</text>\n<polygon fill=\"white\" stroke=\"transparent\" points=\"167,-242 167,-279 360,-279 360,-242 167,-242\"/>\n<polygon fill=\"none\" stroke=\"black\" points=\"167,-242 167,-279 360,-279 360,-242 167,-242\"/>\n<text text-anchor=\"start\" x=\"178\" y=\"-257.8\" font-family=\"Helvetica,sans-Serif\" font-size=\"14.00\">Output shape: </text>\n<text text-anchor=\"start\" x=\"268\" y=\"-257.8\" font-family=\"Helvetica,sans-Serif\" font-weight=\"bold\" font-size=\"14.00\">(None, 1, 10)</text>\n</g>\n<!-- 136422301017056&#45;&gt;136422301008800 -->\n<g id=\"edge1\" class=\"edge\">\n<title>136422301017056-&gt;136422301008800</title>\n<path fill=\"none\" stroke=\"black\" stroke-width=\"2\" d=\"M183,-360.37C183,-360.37 183,-333.56 183,-333.56\"/>\n<polygon fill=\"black\" stroke=\"black\" stroke-width=\"2\" points=\"186.5,-333.56 183,-323.56 179.5,-333.56 186.5,-333.56\"/>\n</g>\n<!-- 136422315312320 -->\n<g id=\"node2\" class=\"node\">\n<title>136422315312320</title>\n<polygon fill=\"none\" stroke=\"black\" points=\"467,-240.5 467,-323.5 667,-323.5 667,-240.5 467,-240.5\"/>\n<polygon fill=\"black\" stroke=\"transparent\" points=\"467,-240.5 467,-323.5 667,-323.5 667,-240.5 467,-240.5\"/>\n<polygon fill=\"black\" stroke=\"transparent\" points=\"469,-281 469,-321 665,-321 665,-281 469,-281\"/>\n<polygon fill=\"none\" stroke=\"black\" points=\"469,-281 469,-321 665,-321 665,-281 469,-281\"/>\n<text text-anchor=\"start\" x=\"481\" y=\"-298.2\" font-family=\"Helvetica,sans-Serif\" font-weight=\"bold\" font-size=\"16.00\" fill=\"white\">fingerprint</text>\n<text text-anchor=\"start\" x=\"561\" y=\"-298.2\" font-family=\"Helvetica,sans-Serif\" font-size=\"16.00\" fill=\"white\"> (InputLayer)</text>\n<polygon fill=\"white\" stroke=\"transparent\" points=\"469,-242 469,-279 662,-279 662,-242 469,-242\"/>\n<polygon fill=\"none\" stroke=\"black\" points=\"469,-242 469,-279 662,-279 662,-242 469,-242\"/>\n<text text-anchor=\"start\" x=\"480\" y=\"-257.8\" font-family=\"Helvetica,sans-Serif\" font-size=\"14.00\">Output shape: </text>\n<text text-anchor=\"start\" x=\"570\" y=\"-257.8\" font-family=\"Helvetica,sans-Serif\" font-weight=\"bold\" font-size=\"14.00\">(None, 2048)</text>\n</g>\n<!-- 136422301012112 -->\n<g id=\"node4\" class=\"node\">\n<title>136422301012112</title>\n<polygon fill=\"none\" stroke=\"black\" points=\"384,-120.5 384,-203.5 750,-203.5 750,-120.5 384,-120.5\"/>\n<polygon fill=\"black\" stroke=\"transparent\" points=\"384,-120.5 384,-203.5 750,-203.5 750,-120.5 384,-120.5\"/>\n<polygon fill=\"black\" stroke=\"transparent\" points=\"386,-161 386,-201 748,-201 748,-161 386,-161\"/>\n<polygon fill=\"none\" stroke=\"black\" points=\"386,-161 386,-201 748,-201 748,-161 386,-161\"/>\n<text text-anchor=\"start\" x=\"503.5\" y=\"-178.2\" font-family=\"Helvetica,sans-Serif\" font-weight=\"bold\" font-size=\"16.00\" fill=\"white\">dense_9</text>\n<text text-anchor=\"start\" x=\"568.5\" y=\"-178.2\" font-family=\"Helvetica,sans-Serif\" font-size=\"16.00\" fill=\"white\"> (Dense)</text>\n<polygon fill=\"white\" stroke=\"transparent\" points=\"386,-122 386,-159 568,-159 568,-122 386,-122\"/>\n<polygon fill=\"none\" stroke=\"black\" points=\"386,-122 386,-159 568,-159 568,-122 386,-122\"/>\n<text text-anchor=\"start\" x=\"397\" y=\"-137.8\" font-family=\"Helvetica,sans-Serif\" font-size=\"14.00\">Input shape: </text>\n<text text-anchor=\"start\" x=\"476\" y=\"-137.8\" font-family=\"Helvetica,sans-Serif\" font-weight=\"bold\" font-size=\"14.00\">(None, 2048)</text>\n<polygon fill=\"white\" stroke=\"transparent\" points=\"570,-122 570,-159 748,-159 748,-122 570,-122\"/>\n<polygon fill=\"none\" stroke=\"black\" points=\"570,-122 570,-159 748,-159 748,-122 570,-122\"/>\n<text text-anchor=\"start\" x=\"581\" y=\"-137.8\" font-family=\"Helvetica,sans-Serif\" font-size=\"14.00\">Output shape: </text>\n<text text-anchor=\"start\" x=\"671\" y=\"-137.8\" font-family=\"Helvetica,sans-Serif\" font-weight=\"bold\" font-size=\"14.00\">(None, 10)</text>\n</g>\n<!-- 136422315312320&#45;&gt;136422301012112 -->\n<g id=\"edge2\" class=\"edge\">\n<title>136422315312320-&gt;136422301012112</title>\n<path fill=\"none\" stroke=\"black\" stroke-width=\"2\" d=\"M567,-240.37C567,-240.37 567,-213.56 567,-213.56\"/>\n<polygon fill=\"black\" stroke=\"black\" stroke-width=\"2\" points=\"570.5,-213.56 567,-203.56 563.5,-213.56 570.5,-213.56\"/>\n</g>\n<!-- 136422301008176 -->\n<g id=\"node5\" class=\"node\">\n<title>136422301008176</title>\n<polygon fill=\"none\" stroke=\"black\" points=\"0,-120.5 0,-203.5 366,-203.5 366,-120.5 0,-120.5\"/>\n<polygon fill=\"black\" stroke=\"transparent\" points=\"0,-120.5 0,-203.5 366,-203.5 366,-120.5 0,-120.5\"/>\n<polygon fill=\"black\" stroke=\"transparent\" points=\"2,-161 2,-201 364,-201 364,-161 2,-161\"/>\n<polygon fill=\"none\" stroke=\"black\" points=\"2,-161 2,-201 364,-201 364,-161 2,-161\"/>\n<text text-anchor=\"start\" x=\"82\" y=\"-178.2\" font-family=\"Helvetica,sans-Serif\" font-weight=\"bold\" font-size=\"16.00\" fill=\"white\">chembl_id_flatten</text>\n<text text-anchor=\"start\" x=\"219\" y=\"-178.2\" font-family=\"Helvetica,sans-Serif\" font-size=\"16.00\" fill=\"white\"> (Flatten)</text>\n<polygon fill=\"white\" stroke=\"transparent\" points=\"2,-122 2,-159 184,-159 184,-122 2,-122\"/>\n<polygon fill=\"none\" stroke=\"black\" points=\"2,-122 2,-159 184,-159 184,-122 2,-122\"/>\n<text text-anchor=\"start\" x=\"13\" y=\"-137.8\" font-family=\"Helvetica,sans-Serif\" font-size=\"14.00\">Input shape: </text>\n<text text-anchor=\"start\" x=\"92\" y=\"-137.8\" font-family=\"Helvetica,sans-Serif\" font-weight=\"bold\" font-size=\"14.00\">(None, 1, 10)</text>\n<polygon fill=\"white\" stroke=\"transparent\" points=\"186,-122 186,-159 364,-159 364,-122 186,-122\"/>\n<polygon fill=\"none\" stroke=\"black\" points=\"186,-122 186,-159 364,-159 364,-122 186,-122\"/>\n<text text-anchor=\"start\" x=\"197\" y=\"-137.8\" font-family=\"Helvetica,sans-Serif\" font-size=\"14.00\">Output shape: </text>\n<text text-anchor=\"start\" x=\"287\" y=\"-137.8\" font-family=\"Helvetica,sans-Serif\" font-weight=\"bold\" font-size=\"14.00\">(None, 10)</text>\n</g>\n<!-- 136422301008800&#45;&gt;136422301008176 -->\n<g id=\"edge3\" class=\"edge\">\n<title>136422301008800-&gt;136422301008176</title>\n<path fill=\"none\" stroke=\"black\" stroke-width=\"2\" d=\"M183,-240.37C183,-240.37 183,-213.56 183,-213.56\"/>\n<polygon fill=\"black\" stroke=\"black\" stroke-width=\"2\" points=\"186.5,-213.56 183,-203.56 179.5,-213.56 186.5,-213.56\"/>\n</g>\n<!-- 136422301011872 -->\n<g id=\"node6\" class=\"node\">\n<title>136422301011872</title>\n<polygon fill=\"none\" stroke=\"black\" points=\"162.5,-0.5 162.5,-83.5 587.5,-83.5 587.5,-0.5 162.5,-0.5\"/>\n<polygon fill=\"black\" stroke=\"transparent\" points=\"162.5,-0.5 162.5,-83.5 587.5,-83.5 587.5,-0.5 162.5,-0.5\"/>\n<polygon fill=\"black\" stroke=\"transparent\" points=\"165,-41 165,-81 586,-81 586,-41 165,-41\"/>\n<polygon fill=\"none\" stroke=\"black\" points=\"165,-41 165,-81 586,-81 586,-41 165,-41\"/>\n<text text-anchor=\"start\" x=\"310.5\" y=\"-58.2\" font-family=\"Helvetica,sans-Serif\" font-weight=\"bold\" font-size=\"16.00\" fill=\"white\">dot-product</text>\n<text text-anchor=\"start\" x=\"400.5\" y=\"-58.2\" font-family=\"Helvetica,sans-Serif\" font-size=\"16.00\" fill=\"white\"> (Dot)</text>\n<polygon fill=\"white\" stroke=\"transparent\" points=\"165,-2 165,-39 414,-39 414,-2 165,-2\"/>\n<polygon fill=\"none\" stroke=\"black\" points=\"165,-2 165,-39 414,-39 414,-2 165,-2\"/>\n<text text-anchor=\"start\" x=\"176\" y=\"-17.8\" font-family=\"Helvetica,sans-Serif\" font-size=\"14.00\">Input shape: </text>\n<text text-anchor=\"start\" x=\"255\" y=\"-17.8\" font-family=\"Helvetica,sans-Serif\" font-weight=\"bold\" font-size=\"14.00\">[(None, 10), (None, 10)]</text>\n<polygon fill=\"white\" stroke=\"transparent\" points=\"416,-2 416,-39 586,-39 586,-2 416,-2\"/>\n<polygon fill=\"none\" stroke=\"black\" points=\"416,-2 416,-39 586,-39 586,-2 416,-2\"/>\n<text text-anchor=\"start\" x=\"427\" y=\"-17.8\" font-family=\"Helvetica,sans-Serif\" font-size=\"14.00\">Output shape: </text>\n<text text-anchor=\"start\" x=\"517\" y=\"-17.8\" font-family=\"Helvetica,sans-Serif\" font-weight=\"bold\" font-size=\"14.00\">(None, 1)</text>\n</g>\n<!-- 136422301012112&#45;&gt;136422301011872 -->\n<g id=\"edge4\" class=\"edge\">\n<title>136422301012112-&gt;136422301011872</title>\n<path fill=\"none\" stroke=\"black\" stroke-width=\"2\" d=\"M485.75,-120.37C485.75,-120.37 485.75,-93.56 485.75,-93.56\"/>\n<polygon fill=\"black\" stroke=\"black\" stroke-width=\"2\" points=\"489.25,-93.56 485.75,-83.56 482.25,-93.56 489.25,-93.56\"/>\n</g>\n<!-- 136422301008176&#45;&gt;136422301011872 -->\n<g id=\"edge5\" class=\"edge\">\n<title>136422301008176-&gt;136422301011872</title>\n<path fill=\"none\" stroke=\"black\" stroke-width=\"2\" d=\"M264.25,-120.37C264.25,-120.37 264.25,-93.56 264.25,-93.56\"/>\n<polygon fill=\"black\" stroke=\"black\" stroke-width=\"2\" points=\"267.75,-93.56 264.25,-83.56 260.75,-93.56 267.75,-93.56\"/>\n</g>\n</g>\n</svg>"
          },
          "metadata": {},
          "execution_count": 89
        }
      ]
    },
    {
      "cell_type": "code",
      "source": [
        "# 모델 훈련\n",
        "history = model.fit(\n",
        "    [X_train_fp, X_train_chembl_id], y_train,\n",
        "    epochs=10, validation_data=([X_test_fp, X_test_chembl_id], y_test)\n",
        ")\n",
        "\n",
        "# 학습 결과 시각화\n",
        "pd.Series(history.history['loss']).plot(logy=True)\n",
        "plt.xlabel(\"Epoch\")\n",
        "plt.ylabel(\"Train Error\")\n",
        "plt.show()\n",
        "\n",
        "# 예측 및 평가\n",
        "y_hat = np.round(model.predict([X_test_fp, X_test_chembl_id]), decimals=2)\n",
        "y_true = y_test\n",
        "mae = mean_absolute_error(y_true, y_hat)\n",
        "print(f'Mean Absolute Error: {mae}')"
      ],
      "metadata": {
        "colab": {
          "base_uri": "https://localhost:8080/",
          "height": 1000
        },
        "id": "yHYMhbxeTs8f",
        "outputId": "ea9a16a2-f6ee-4689-bef6-18438cd2e968"
      },
      "id": "yHYMhbxeTs8f",
      "execution_count": 90,
      "outputs": [
        {
          "output_type": "stream",
          "name": "stdout",
          "text": [
            "Epoch 1/10\n"
          ]
        },
        {
          "output_type": "error",
          "ename": "InvalidArgumentError",
          "evalue": "Graph execution error:\n\nDetected at node functional_8_1/chembl_id_embedding_1/GatherV2 defined at (most recent call last):\n  File \"/usr/lib/python3.10/runpy.py\", line 196, in _run_module_as_main\n\n  File \"/usr/lib/python3.10/runpy.py\", line 86, in _run_code\n\n  File \"/usr/local/lib/python3.10/dist-packages/colab_kernel_launcher.py\", line 37, in <module>\n\n  File \"/usr/local/lib/python3.10/dist-packages/traitlets/config/application.py\", line 992, in launch_instance\n\n  File \"/usr/local/lib/python3.10/dist-packages/ipykernel/kernelapp.py\", line 619, in start\n\n  File \"/usr/local/lib/python3.10/dist-packages/tornado/platform/asyncio.py\", line 195, in start\n\n  File \"/usr/lib/python3.10/asyncio/base_events.py\", line 603, in run_forever\n\n  File \"/usr/lib/python3.10/asyncio/base_events.py\", line 1909, in _run_once\n\n  File \"/usr/lib/python3.10/asyncio/events.py\", line 80, in _run\n\n  File \"/usr/local/lib/python3.10/dist-packages/tornado/ioloop.py\", line 685, in <lambda>\n\n  File \"/usr/local/lib/python3.10/dist-packages/tornado/ioloop.py\", line 738, in _run_callback\n\n  File \"/usr/local/lib/python3.10/dist-packages/tornado/gen.py\", line 825, in inner\n\n  File \"/usr/local/lib/python3.10/dist-packages/tornado/gen.py\", line 786, in run\n\n  File \"/usr/local/lib/python3.10/dist-packages/ipykernel/kernelbase.py\", line 377, in dispatch_queue\n\n  File \"/usr/local/lib/python3.10/dist-packages/tornado/gen.py\", line 250, in wrapper\n\n  File \"/usr/local/lib/python3.10/dist-packages/tornado/gen.py\", line 748, in __init__\n\n  File \"/usr/local/lib/python3.10/dist-packages/tornado/gen.py\", line 786, in run\n\n  File \"/usr/local/lib/python3.10/dist-packages/ipykernel/kernelbase.py\", line 361, in process_one\n\n  File \"/usr/local/lib/python3.10/dist-packages/tornado/gen.py\", line 234, in wrapper\n\n  File \"/usr/local/lib/python3.10/dist-packages/ipykernel/kernelbase.py\", line 261, in dispatch_shell\n\n  File \"/usr/local/lib/python3.10/dist-packages/tornado/gen.py\", line 234, in wrapper\n\n  File \"/usr/local/lib/python3.10/dist-packages/ipykernel/kernelbase.py\", line 539, in execute_request\n\n  File \"/usr/local/lib/python3.10/dist-packages/tornado/gen.py\", line 234, in wrapper\n\n  File \"/usr/local/lib/python3.10/dist-packages/ipykernel/ipkernel.py\", line 302, in do_execute\n\n  File \"/usr/local/lib/python3.10/dist-packages/ipykernel/zmqshell.py\", line 539, in run_cell\n\n  File \"/usr/local/lib/python3.10/dist-packages/IPython/core/interactiveshell.py\", line 2975, in run_cell\n\n  File \"/usr/local/lib/python3.10/dist-packages/IPython/core/interactiveshell.py\", line 3030, in _run_cell\n\n  File \"/usr/local/lib/python3.10/dist-packages/IPython/core/async_helpers.py\", line 78, in _pseudo_sync_runner\n\n  File \"/usr/local/lib/python3.10/dist-packages/IPython/core/interactiveshell.py\", line 3257, in run_cell_async\n\n  File \"/usr/local/lib/python3.10/dist-packages/IPython/core/interactiveshell.py\", line 3473, in run_ast_nodes\n\n  File \"/usr/local/lib/python3.10/dist-packages/IPython/core/interactiveshell.py\", line 3553, in run_code\n\n  File \"<ipython-input-90-15727780cf3f>\", line 2, in <cell line: 2>\n\n  File \"/usr/local/lib/python3.10/dist-packages/keras/src/utils/traceback_utils.py\", line 117, in error_handler\n\n  File \"/usr/local/lib/python3.10/dist-packages/keras/src/backend/tensorflow/trainer.py\", line 318, in fit\n\n  File \"/usr/local/lib/python3.10/dist-packages/keras/src/backend/tensorflow/trainer.py\", line 121, in one_step_on_iterator\n\n  File \"/usr/local/lib/python3.10/dist-packages/keras/src/backend/tensorflow/trainer.py\", line 108, in one_step_on_data\n\n  File \"/usr/local/lib/python3.10/dist-packages/keras/src/backend/tensorflow/trainer.py\", line 51, in train_step\n\n  File \"/usr/local/lib/python3.10/dist-packages/keras/src/utils/traceback_utils.py\", line 117, in error_handler\n\n  File \"/usr/local/lib/python3.10/dist-packages/keras/src/layers/layer.py\", line 882, in __call__\n\n  File \"/usr/local/lib/python3.10/dist-packages/keras/src/utils/traceback_utils.py\", line 117, in error_handler\n\n  File \"/usr/local/lib/python3.10/dist-packages/keras/src/ops/operation.py\", line 46, in __call__\n\n  File \"/usr/local/lib/python3.10/dist-packages/keras/src/utils/traceback_utils.py\", line 156, in error_handler\n\n  File \"/usr/local/lib/python3.10/dist-packages/keras/src/models/functional.py\", line 175, in call\n\n  File \"/usr/local/lib/python3.10/dist-packages/keras/src/ops/function.py\", line 171, in _run_through_graph\n\n  File \"/usr/local/lib/python3.10/dist-packages/keras/src/models/functional.py\", line 556, in call\n\n  File \"/usr/local/lib/python3.10/dist-packages/keras/src/utils/traceback_utils.py\", line 117, in error_handler\n\n  File \"/usr/local/lib/python3.10/dist-packages/keras/src/layers/layer.py\", line 882, in __call__\n\n  File \"/usr/local/lib/python3.10/dist-packages/keras/src/utils/traceback_utils.py\", line 117, in error_handler\n\n  File \"/usr/local/lib/python3.10/dist-packages/keras/src/ops/operation.py\", line 46, in __call__\n\n  File \"/usr/local/lib/python3.10/dist-packages/keras/src/utils/traceback_utils.py\", line 156, in error_handler\n\n  File \"/usr/local/lib/python3.10/dist-packages/keras/src/layers/core/embedding.py\", line 140, in call\n\n  File \"/usr/local/lib/python3.10/dist-packages/keras/src/ops/numpy.py\", line 4875, in take\n\n  File \"/usr/local/lib/python3.10/dist-packages/keras/src/backend/tensorflow/numpy.py\", line 1951, in take\n\nindices[0,0] = 921622 is not in [0, 72)\n\t [[{{node functional_8_1/chembl_id_embedding_1/GatherV2}}]] [Op:__inference_one_step_on_iterator_10128]",
          "traceback": [
            "\u001b[0;31m---------------------------------------------------------------------------\u001b[0m",
            "\u001b[0;31mInvalidArgumentError\u001b[0m                      Traceback (most recent call last)",
            "\u001b[0;32m<ipython-input-90-15727780cf3f>\u001b[0m in \u001b[0;36m<cell line: 2>\u001b[0;34m()\u001b[0m\n\u001b[1;32m      1\u001b[0m \u001b[0;31m# 모델 훈련\u001b[0m\u001b[0;34m\u001b[0m\u001b[0;34m\u001b[0m\u001b[0m\n\u001b[0;32m----> 2\u001b[0;31m history = model.fit(\n\u001b[0m\u001b[1;32m      3\u001b[0m     \u001b[0;34m[\u001b[0m\u001b[0mX_train_fp\u001b[0m\u001b[0;34m,\u001b[0m \u001b[0mX_train_chembl_id\u001b[0m\u001b[0;34m]\u001b[0m\u001b[0;34m,\u001b[0m \u001b[0my_train\u001b[0m\u001b[0;34m,\u001b[0m\u001b[0;34m\u001b[0m\u001b[0;34m\u001b[0m\u001b[0m\n\u001b[1;32m      4\u001b[0m     \u001b[0mepochs\u001b[0m\u001b[0;34m=\u001b[0m\u001b[0;36m10\u001b[0m\u001b[0;34m,\u001b[0m \u001b[0mvalidation_data\u001b[0m\u001b[0;34m=\u001b[0m\u001b[0;34m(\u001b[0m\u001b[0;34m[\u001b[0m\u001b[0mX_test_fp\u001b[0m\u001b[0;34m,\u001b[0m \u001b[0mX_test_chembl_id\u001b[0m\u001b[0;34m]\u001b[0m\u001b[0;34m,\u001b[0m \u001b[0my_test\u001b[0m\u001b[0;34m)\u001b[0m\u001b[0;34m\u001b[0m\u001b[0;34m\u001b[0m\u001b[0m\n\u001b[1;32m      5\u001b[0m )\n",
            "\u001b[0;32m/usr/local/lib/python3.10/dist-packages/keras/src/utils/traceback_utils.py\u001b[0m in \u001b[0;36merror_handler\u001b[0;34m(*args, **kwargs)\u001b[0m\n\u001b[1;32m    120\u001b[0m             \u001b[0;31m# To get the full stack trace, call:\u001b[0m\u001b[0;34m\u001b[0m\u001b[0;34m\u001b[0m\u001b[0m\n\u001b[1;32m    121\u001b[0m             \u001b[0;31m# `keras.config.disable_traceback_filtering()`\u001b[0m\u001b[0;34m\u001b[0m\u001b[0;34m\u001b[0m\u001b[0m\n\u001b[0;32m--> 122\u001b[0;31m             \u001b[0;32mraise\u001b[0m \u001b[0me\u001b[0m\u001b[0;34m.\u001b[0m\u001b[0mwith_traceback\u001b[0m\u001b[0;34m(\u001b[0m\u001b[0mfiltered_tb\u001b[0m\u001b[0;34m)\u001b[0m \u001b[0;32mfrom\u001b[0m \u001b[0;32mNone\u001b[0m\u001b[0;34m\u001b[0m\u001b[0;34m\u001b[0m\u001b[0m\n\u001b[0m\u001b[1;32m    123\u001b[0m         \u001b[0;32mfinally\u001b[0m\u001b[0;34m:\u001b[0m\u001b[0;34m\u001b[0m\u001b[0;34m\u001b[0m\u001b[0m\n\u001b[1;32m    124\u001b[0m             \u001b[0;32mdel\u001b[0m \u001b[0mfiltered_tb\u001b[0m\u001b[0;34m\u001b[0m\u001b[0;34m\u001b[0m\u001b[0m\n",
            "\u001b[0;32m/usr/local/lib/python3.10/dist-packages/tensorflow/python/eager/execute.py\u001b[0m in \u001b[0;36mquick_execute\u001b[0;34m(op_name, num_outputs, inputs, attrs, ctx, name)\u001b[0m\n\u001b[1;32m     51\u001b[0m   \u001b[0;32mtry\u001b[0m\u001b[0;34m:\u001b[0m\u001b[0;34m\u001b[0m\u001b[0;34m\u001b[0m\u001b[0m\n\u001b[1;32m     52\u001b[0m     \u001b[0mctx\u001b[0m\u001b[0;34m.\u001b[0m\u001b[0mensure_initialized\u001b[0m\u001b[0;34m(\u001b[0m\u001b[0;34m)\u001b[0m\u001b[0;34m\u001b[0m\u001b[0;34m\u001b[0m\u001b[0m\n\u001b[0;32m---> 53\u001b[0;31m     tensors = pywrap_tfe.TFE_Py_Execute(ctx._handle, device_name, op_name,\n\u001b[0m\u001b[1;32m     54\u001b[0m                                         inputs, attrs, num_outputs)\n\u001b[1;32m     55\u001b[0m   \u001b[0;32mexcept\u001b[0m \u001b[0mcore\u001b[0m\u001b[0;34m.\u001b[0m\u001b[0m_NotOkStatusException\u001b[0m \u001b[0;32mas\u001b[0m \u001b[0me\u001b[0m\u001b[0;34m:\u001b[0m\u001b[0;34m\u001b[0m\u001b[0;34m\u001b[0m\u001b[0m\n",
            "\u001b[0;31mInvalidArgumentError\u001b[0m: Graph execution error:\n\nDetected at node functional_8_1/chembl_id_embedding_1/GatherV2 defined at (most recent call last):\n  File \"/usr/lib/python3.10/runpy.py\", line 196, in _run_module_as_main\n\n  File \"/usr/lib/python3.10/runpy.py\", line 86, in _run_code\n\n  File \"/usr/local/lib/python3.10/dist-packages/colab_kernel_launcher.py\", line 37, in <module>\n\n  File \"/usr/local/lib/python3.10/dist-packages/traitlets/config/application.py\", line 992, in launch_instance\n\n  File \"/usr/local/lib/python3.10/dist-packages/ipykernel/kernelapp.py\", line 619, in start\n\n  File \"/usr/local/lib/python3.10/dist-packages/tornado/platform/asyncio.py\", line 195, in start\n\n  File \"/usr/lib/python3.10/asyncio/base_events.py\", line 603, in run_forever\n\n  File \"/usr/lib/python3.10/asyncio/base_events.py\", line 1909, in _run_once\n\n  File \"/usr/lib/python3.10/asyncio/events.py\", line 80, in _run\n\n  File \"/usr/local/lib/python3.10/dist-packages/tornado/ioloop.py\", line 685, in <lambda>\n\n  File \"/usr/local/lib/python3.10/dist-packages/tornado/ioloop.py\", line 738, in _run_callback\n\n  File \"/usr/local/lib/python3.10/dist-packages/tornado/gen.py\", line 825, in inner\n\n  File \"/usr/local/lib/python3.10/dist-packages/tornado/gen.py\", line 786, in run\n\n  File \"/usr/local/lib/python3.10/dist-packages/ipykernel/kernelbase.py\", line 377, in dispatch_queue\n\n  File \"/usr/local/lib/python3.10/dist-packages/tornado/gen.py\", line 250, in wrapper\n\n  File \"/usr/local/lib/python3.10/dist-packages/tornado/gen.py\", line 748, in __init__\n\n  File \"/usr/local/lib/python3.10/dist-packages/tornado/gen.py\", line 786, in run\n\n  File \"/usr/local/lib/python3.10/dist-packages/ipykernel/kernelbase.py\", line 361, in process_one\n\n  File \"/usr/local/lib/python3.10/dist-packages/tornado/gen.py\", line 234, in wrapper\n\n  File \"/usr/local/lib/python3.10/dist-packages/ipykernel/kernelbase.py\", line 261, in dispatch_shell\n\n  File \"/usr/local/lib/python3.10/dist-packages/tornado/gen.py\", line 234, in wrapper\n\n  File \"/usr/local/lib/python3.10/dist-packages/ipykernel/kernelbase.py\", line 539, in execute_request\n\n  File \"/usr/local/lib/python3.10/dist-packages/tornado/gen.py\", line 234, in wrapper\n\n  File \"/usr/local/lib/python3.10/dist-packages/ipykernel/ipkernel.py\", line 302, in do_execute\n\n  File \"/usr/local/lib/python3.10/dist-packages/ipykernel/zmqshell.py\", line 539, in run_cell\n\n  File \"/usr/local/lib/python3.10/dist-packages/IPython/core/interactiveshell.py\", line 2975, in run_cell\n\n  File \"/usr/local/lib/python3.10/dist-packages/IPython/core/interactiveshell.py\", line 3030, in _run_cell\n\n  File \"/usr/local/lib/python3.10/dist-packages/IPython/core/async_helpers.py\", line 78, in _pseudo_sync_runner\n\n  File \"/usr/local/lib/python3.10/dist-packages/IPython/core/interactiveshell.py\", line 3257, in run_cell_async\n\n  File \"/usr/local/lib/python3.10/dist-packages/IPython/core/interactiveshell.py\", line 3473, in run_ast_nodes\n\n  File \"/usr/local/lib/python3.10/dist-packages/IPython/core/interactiveshell.py\", line 3553, in run_code\n\n  File \"<ipython-input-90-15727780cf3f>\", line 2, in <cell line: 2>\n\n  File \"/usr/local/lib/python3.10/dist-packages/keras/src/utils/traceback_utils.py\", line 117, in error_handler\n\n  File \"/usr/local/lib/python3.10/dist-packages/keras/src/backend/tensorflow/trainer.py\", line 318, in fit\n\n  File \"/usr/local/lib/python3.10/dist-packages/keras/src/backend/tensorflow/trainer.py\", line 121, in one_step_on_iterator\n\n  File \"/usr/local/lib/python3.10/dist-packages/keras/src/backend/tensorflow/trainer.py\", line 108, in one_step_on_data\n\n  File \"/usr/local/lib/python3.10/dist-packages/keras/src/backend/tensorflow/trainer.py\", line 51, in train_step\n\n  File \"/usr/local/lib/python3.10/dist-packages/keras/src/utils/traceback_utils.py\", line 117, in error_handler\n\n  File \"/usr/local/lib/python3.10/dist-packages/keras/src/layers/layer.py\", line 882, in __call__\n\n  File \"/usr/local/lib/python3.10/dist-packages/keras/src/utils/traceback_utils.py\", line 117, in error_handler\n\n  File \"/usr/local/lib/python3.10/dist-packages/keras/src/ops/operation.py\", line 46, in __call__\n\n  File \"/usr/local/lib/python3.10/dist-packages/keras/src/utils/traceback_utils.py\", line 156, in error_handler\n\n  File \"/usr/local/lib/python3.10/dist-packages/keras/src/models/functional.py\", line 175, in call\n\n  File \"/usr/local/lib/python3.10/dist-packages/keras/src/ops/function.py\", line 171, in _run_through_graph\n\n  File \"/usr/local/lib/python3.10/dist-packages/keras/src/models/functional.py\", line 556, in call\n\n  File \"/usr/local/lib/python3.10/dist-packages/keras/src/utils/traceback_utils.py\", line 117, in error_handler\n\n  File \"/usr/local/lib/python3.10/dist-packages/keras/src/layers/layer.py\", line 882, in __call__\n\n  File \"/usr/local/lib/python3.10/dist-packages/keras/src/utils/traceback_utils.py\", line 117, in error_handler\n\n  File \"/usr/local/lib/python3.10/dist-packages/keras/src/ops/operation.py\", line 46, in __call__\n\n  File \"/usr/local/lib/python3.10/dist-packages/keras/src/utils/traceback_utils.py\", line 156, in error_handler\n\n  File \"/usr/local/lib/python3.10/dist-packages/keras/src/layers/core/embedding.py\", line 140, in call\n\n  File \"/usr/local/lib/python3.10/dist-packages/keras/src/ops/numpy.py\", line 4875, in take\n\n  File \"/usr/local/lib/python3.10/dist-packages/keras/src/backend/tensorflow/numpy.py\", line 1951, in take\n\nindices[0,0] = 921622 is not in [0, 72)\n\t [[{{node functional_8_1/chembl_id_embedding_1/GatherV2}}]] [Op:__inference_one_step_on_iterator_10128]"
          ]
        }
      ]
    },
    {
      "cell_type": "code",
      "source": [
        "# 입력 정의\n",
        "input_fp = Input(shape=(CFG['NBITS'],), name='fingerprint')\n",
        "input_chembl_id = Input(shape=(1,), name='chembl_id')\n",
        "\n",
        "# Fingerprint 처리\n",
        "fp_layer = Dense(64, activation='relu')(input_fp)\n",
        "\n",
        "# chembl_id 처리\n",
        "chembl_id_layer = Dense(4, activation='relu')(input_chembl_id)\n",
        "\n",
        "# 두 입력을 결합\n",
        "merged = Concatenate()([fp_layer, chembl_id_layer])\n",
        "output = Dense(1)(merged)\n",
        "\n",
        "# 모델 정의\n",
        "model = Model(inputs=[input_fp, input_chembl_id], outputs=output)\n",
        "\n",
        "# 모델 컴파일\n",
        "model.compile(optimizer='adam', loss='mean_squared_error')\n",
        "\n",
        "# 모델 훈련\n",
        "history = model.fit(\n",
        "    [X_train_fp, X_train_chembl_id], y_train,\n",
        "    epochs=10, validation_data=([X_test_fp, X_test_chembl_id], y_test)\n",
        ")\n",
        "\n",
        "# 학습 결과 시각화\n",
        "pd.Series(history.history['loss']).plot(logy=True)\n",
        "plt.xlabel(\"Epoch\")\n",
        "plt.ylabel(\"Train Error\")\n",
        "plt.show()\n",
        "\n",
        "# 예측 및 평가\n",
        "y_hat = np.round(model.predict([X_test_fp, X_test_chembl_id]), decimals=2)\n",
        "y_true = y_test\n",
        "mae = mean_absolute_error(y_true, y_hat)\n",
        "print(f'Mean Absolute Error: {mae}')"
      ],
      "metadata": {
        "colab": {
          "base_uri": "https://localhost:8080/",
          "height": 831
        },
        "id": "8p62j2AG4Ntr",
        "outputId": "c67022fb-bbd0-427d-a4e1-e12eccef8923"
      },
      "id": "8p62j2AG4Ntr",
      "execution_count": 91,
      "outputs": [
        {
          "output_type": "stream",
          "name": "stdout",
          "text": [
            "Epoch 1/10\n",
            "\u001b[1m49/49\u001b[0m \u001b[32m━━━━━━━━━━━━━━━━━━━━\u001b[0m\u001b[37m\u001b[0m \u001b[1m1s\u001b[0m 7ms/step - loss: 160942686208.0000 - val_loss: 88470536192.0000\n",
            "Epoch 2/10\n",
            "\u001b[1m49/49\u001b[0m \u001b[32m━━━━━━━━━━━━━━━━━━━━\u001b[0m\u001b[37m\u001b[0m \u001b[1m0s\u001b[0m 5ms/step - loss: 70215376896.0000 - val_loss: 31032903680.0000\n",
            "Epoch 3/10\n",
            "\u001b[1m49/49\u001b[0m \u001b[32m━━━━━━━━━━━━━━━━━━━━\u001b[0m\u001b[37m\u001b[0m \u001b[1m0s\u001b[0m 4ms/step - loss: 22296903680.0000 - val_loss: 5979363840.0000\n",
            "Epoch 4/10\n",
            "\u001b[1m49/49\u001b[0m \u001b[32m━━━━━━━━━━━━━━━━━━━━\u001b[0m\u001b[37m\u001b[0m \u001b[1m0s\u001b[0m 5ms/step - loss: 3703857408.0000 - val_loss: 436415104.0000\n",
            "Epoch 5/10\n",
            "\u001b[1m49/49\u001b[0m \u001b[32m━━━━━━━━━━━━━━━━━━━━\u001b[0m\u001b[37m\u001b[0m \u001b[1m0s\u001b[0m 6ms/step - loss: 219296096.0000 - val_loss: 23938980.0000\n",
            "Epoch 6/10\n",
            "\u001b[1m49/49\u001b[0m \u001b[32m━━━━━━━━━━━━━━━━━━━━\u001b[0m\u001b[37m\u001b[0m \u001b[1m0s\u001b[0m 4ms/step - loss: 6625359.5000 - val_loss: 16864630.0000\n",
            "Epoch 7/10\n",
            "\u001b[1m49/49\u001b[0m \u001b[32m━━━━━━━━━━━━━━━━━━━━\u001b[0m\u001b[37m\u001b[0m \u001b[1m0s\u001b[0m 4ms/step - loss: 4613015.0000 - val_loss: 16874568.0000\n",
            "Epoch 8/10\n",
            "\u001b[1m49/49\u001b[0m \u001b[32m━━━━━━━━━━━━━━━━━━━━\u001b[0m\u001b[37m\u001b[0m \u001b[1m0s\u001b[0m 5ms/step - loss: 3952515.0000 - val_loss: 16873652.0000\n",
            "Epoch 9/10\n",
            "\u001b[1m49/49\u001b[0m \u001b[32m━━━━━━━━━━━━━━━━━━━━\u001b[0m\u001b[37m\u001b[0m \u001b[1m0s\u001b[0m 5ms/step - loss: 3861381.0000 - val_loss: 16867352.0000\n",
            "Epoch 10/10\n",
            "\u001b[1m49/49\u001b[0m \u001b[32m━━━━━━━━━━━━━━━━━━━━\u001b[0m\u001b[37m\u001b[0m \u001b[1m0s\u001b[0m 7ms/step - loss: 3592230.2500 - val_loss: 16869018.0000\n"
          ]
        },
        {
          "output_type": "display_data",
          "data": {
            "text/plain": [
              "<Figure size 640x480 with 1 Axes>"
            ],
            "image/png": "[encoded data removed]"
          },
          "metadata": {}
        },
        {
          "output_type": "stream",
          "name": "stdout",
          "text": [
            "\u001b[1m13/13\u001b[0m \u001b[32m━━━━━━━━━━━━━━━━━━━━\u001b[0m\u001b[37m\u001b[0m \u001b[1m0s\u001b[0m 8ms/step\n",
            "Mean Absolute Error: 1073.0531005859375\n"
          ]
        }
      ]
    },
    {
      "cell_type": "markdown",
      "id": "738c58ec",
      "metadata": {
        "id": "738c58ec"
      },
      "source": [
        "# Evaluation & Submission"
      ]
    },
    {
      "cell_type": "code",
      "execution_count": 65,
      "id": "48792a76-ad4a-4ee3-bc28-57b139717411",
      "metadata": {
        "id": "48792a76-ad4a-4ee3-bc28-57b139717411",
        "colab": {
          "base_uri": "https://localhost:8080/",
          "height": 52
        },
        "outputId": "f2b98b88-4254-4e37-faab-8418cee8175d"
      },
      "outputs": [
        {
          "output_type": "execute_result",
          "data": {
            "text/plain": [
              "\"def pIC50_to_IC50(pic50_values):\\n    return 10 ** (9 - pic50_values)\\n\\n# Validation 데이터로부터의 학습 모델 평가\\nval_y_pred = model.predict(val_x)\\nmse = mean_squared_error(pIC50_to_IC50(val_y), pIC50_to_IC50(val_y_pred))\\nrmse = np.sqrt(mse)\\n\\nprint(f'RMSE: {rmse}')\""
            ],
            "application/vnd.google.colaboratory.intrinsic+json": {
              "type": "string"
            }
          },
          "metadata": {},
          "execution_count": 65
        }
      ],
      "source": [
        "\"\"\"def pIC50_to_IC50(pic50_values):\n",
        "    return 10 ** (9 - pic50_values)\n",
        "\n",
        "# Validation 데이터로부터의 학습 모델 평가\n",
        "val_y_pred = model.predict(val_x)\n",
        "mse = mean_squared_error(pIC50_to_IC50(val_y), pIC50_to_IC50(val_y_pred))\n",
        "rmse = np.sqrt(mse)\n",
        "\n",
        "print(f'RMSE: {rmse}')\"\"\""
      ]
    },
    {
      "cell_type": "markdown",
      "id": "b8116c25",
      "metadata": {
        "id": "b8116c25"
      },
      "source": [
        "### Inference"
      ]
    },
    {
      "cell_type": "code",
      "execution_count": null,
      "id": "7e961100-9447-46f8-9faa-d911b1b361c0",
      "metadata": {
        "id": "7e961100-9447-46f8-9faa-d911b1b361c0"
      },
      "outputs": [],
      "source": [
        "\"\"\"test = pd.read_csv('./test.csv')\n",
        "test['Fingerprint'] = test['Smiles'].apply(smiles_to_fingerprint)\n",
        "\n",
        "test_x = np.stack(test['Fingerprint'].values)\n",
        "\n",
        "test_y_pred = model.predict(test_x)\"\"\""
      ]
    },
    {
      "cell_type": "markdown",
      "id": "a0c2c6d5",
      "metadata": {
        "id": "a0c2c6d5"
      },
      "source": [
        "### Submission"
      ]
    },
    {
      "cell_type": "code",
      "execution_count": null,
      "id": "e698dac0-8a88-4218-a467-4caf0727ccfc",
      "metadata": {
        "id": "e698dac0-8a88-4218-a467-4caf0727ccfc"
      },
      "outputs": [],
      "source": [
        "\"\"\"submit = pd.read_csv('./sample_submission.csv')\n",
        "submit['IC50_nM'] = pIC50_to_IC50(test_y_pred)\n",
        "submit.head()\"\"\""
      ]
    },
    {
      "cell_type": "code",
      "execution_count": null,
      "id": "4042b2d0-c42e-4002-9392-14a745b53143",
      "metadata": {
        "id": "4042b2d0-c42e-4002-9392-14a745b53143"
      },
      "outputs": [],
      "source": [
        "\"\"\"submit.to_csv('./baseline_submit.csv', index=False)\"\"\""
      ]
    }
  ],
  "metadata": {
    "kernelspec": {
      "display_name": "Python 3 (ipykernel)",
      "language": "python",
      "name": "python3"
    },
    "language_info": {
      "codemirror_mode": {
        "name": "ipython",
        "version": 3
      },
      "file_extension": ".py",
      "mimetype": "text/x-python",
      "name": "python",
      "nbconvert_exporter": "python",
      "pygments_lexer": "ipython3",
      "version": "3.9.12"
    },
    "colab": {
      "provenance": []
    }
  },
  "nbformat": 4,
  "nbformat_minor": 5
}