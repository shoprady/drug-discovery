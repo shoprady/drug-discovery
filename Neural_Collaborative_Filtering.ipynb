{
  "nbformat": 4,
  "nbformat_minor": 0,
  "metadata": {
    "colab": {
      "provenance": [],
      "machine_shape": "hm",
      "gpuType": "L4"
    },
    "kernelspec": {
      "name": "python3",
      "display_name": "Python 3"
    },
    "language_info": {
      "name": "python"
    },
    "accelerator": "GPU"
  },
  "cells": [
    {
      "cell_type": "markdown",
      "source": [
        "# Neural Collaborative Filtering"
      ],
      "metadata": {
        "id": "zrdnOO4fwHdU"
      }
    },
    {
      "cell_type": "markdown",
      "source": [
        "## Embeddings"
      ],
      "metadata": {
        "id": "AlvF1BVKwJl8"
      }
    },
    {
      "cell_type": "code",
      "execution_count": 1,
      "metadata": {
        "colab": {
          "base_uri": "https://localhost:8080/"
        },
        "id": "JEKODJsywGUZ",
        "outputId": "693b08b8-a0e9-4752-d4e5-19a39724e1c6"
      },
      "outputs": [
        {
          "output_type": "execute_result",
          "data": {
            "text/plain": [
              "array([[1., 0., 0., 0., 0., 0., 0., 0., 0., 0.],\n",
              "       [0., 1., 0., 0., 0., 0., 0., 0., 0., 0.],\n",
              "       [0., 0., 1., 0., 0., 0., 0., 0., 0., 0.],\n",
              "       [0., 0., 0., 1., 0., 0., 0., 0., 0., 0.],\n",
              "       [0., 0., 0., 0., 1., 0., 0., 0., 0., 0.],\n",
              "       [0., 0., 0., 0., 0., 1., 0., 0., 0., 0.],\n",
              "       [0., 0., 0., 0., 0., 0., 1., 0., 0., 0.],\n",
              "       [0., 0., 0., 0., 0., 0., 0., 1., 0., 0.],\n",
              "       [0., 0., 0., 0., 0., 0., 0., 0., 1., 0.],\n",
              "       [0., 0., 0., 0., 0., 0., 0., 0., 0., 1.]], dtype=float32)"
            ]
          },
          "metadata": {},
          "execution_count": 1
        }
      ],
      "source": [
        "from keras.utils import to_categorical\n",
        "\n",
        "# We have 10 users, each is uniquely identified by an ID.\n",
        "users = [i for i in range(10)]\n",
        "to_categorical(users)"
      ]
    },
    {
      "cell_type": "code",
      "source": [
        "import numpy as np\n",
        "\n",
        "latent_dim = 5\n",
        "inputs = to_categorical(users)\n",
        "embed_mat = np.random.randn(len(users), latent_dim)\n",
        "\n",
        "inputs.dot(embed_mat)"
      ],
      "metadata": {
        "colab": {
          "base_uri": "https://localhost:8080/"
        },
        "id": "HZzQqMd5wO4-",
        "outputId": "3401bb14-1999-48e9-fb6e-c33734fc7764"
      },
      "execution_count": 2,
      "outputs": [
        {
          "output_type": "execute_result",
          "data": {
            "text/plain": [
              "array([[-1.52292192, -0.53030729,  0.29064512,  1.48477769, -0.02031419],\n",
              "       [ 0.76118133, -1.21959741, -0.37928995,  1.25090921, -0.29352551],\n",
              "       [-0.02378185, -0.23927471,  0.38609565,  1.43855419, -0.13537575],\n",
              "       [-1.26191835, -0.1241199 ,  0.37062949, -0.31307267,  0.05331093],\n",
              "       [-0.4659539 , -1.46400578, -0.43722786, -0.34585945, -0.80404059],\n",
              "       [ 1.06417285, -1.87118564,  1.18562518, -0.21883608, -1.70979248],\n",
              "       [ 0.45006732, -0.54335743, -0.23108638, -0.87186883,  1.01523278],\n",
              "       [ 0.50181564, -1.77505258, -1.14754266, -0.49108037,  1.6490444 ],\n",
              "       [-0.23113315,  0.1929694 , -0.60129687, -0.64336128, -1.04314181],\n",
              "       [ 0.46925855,  0.83130801, -1.0708037 , -0.85944802, -1.12725194]])"
            ]
          },
          "metadata": {},
          "execution_count": 2
        }
      ]
    },
    {
      "cell_type": "markdown",
      "source": [
        "## Dataset: Movie Ratings"
      ],
      "metadata": {
        "id": "3xuPI7U6wUGH"
      }
    },
    {
      "cell_type": "code",
      "source": [
        "import pandas as pd\n",
        "import numpy as np\n",
        "from sklearn.model_selection import train_test_split\n",
        "\n",
        "dataset = pd.read_csv('/content/drive/MyDrive/AInstein/ml-latest-small/ratings.csv', header=0, names=['user_id', 'movie_id', 'rating', 'timestamp'])\n",
        "\n",
        "# Need to map movie ID to [1, num_movies]\n",
        "movie_id_to_new_id = dict()\n",
        "id = 1\n",
        "for index, row in dataset.iterrows():\n",
        "    if movie_id_to_new_id.get(row['movie_id']) is None:\n",
        "        movie_id_to_new_id[row['movie_id']] = id\n",
        "        dataset.at[index, 'movie_id'] = id\n",
        "        id += 1\n",
        "    else:\n",
        "        dataset.at[index, 'movie_id'] = movie_id_to_new_id.get(row['movie_id'])\n",
        "\n",
        "num_users = len(dataset.user_id.unique())\n",
        "num_movies = len(dataset.movie_id.unique())\n",
        "train, test = train_test_split(dataset, test_size=0.2)\n",
        "\n",
        "print ('Number of movies', num_movies)\n",
        "print ('Number of users', num_users)"
      ],
      "metadata": {
        "colab": {
          "base_uri": "https://localhost:8080/"
        },
        "id": "Yovwzp-kwU2W",
        "outputId": "7851de66-33af-418b-9cc3-4b66cf4864d1"
      },
      "execution_count": 5,
      "outputs": [
        {
          "output_type": "stream",
          "name": "stdout",
          "text": [
            "Number of movies 9724\n",
            "Number of users 610\n"
          ]
        }
      ]
    },
    {
      "cell_type": "code",
      "source": [
        "train.head()"
      ],
      "metadata": {
        "colab": {
          "base_uri": "https://localhost:8080/",
          "height": 206
        },
        "id": "W_lnKjyJwXE5",
        "outputId": "810eed37-58cd-4b53-9330-7e7215e8857d"
      },
      "execution_count": 6,
      "outputs": [
        {
          "output_type": "execute_result",
          "data": {
            "text/plain": [
              "       user_id  movie_id  rating   timestamp\n",
              "26184      182       654     4.5  1054783081\n",
              "29027      200       836     4.0  1229877812\n",
              "61467      405       199     3.0  1295924067\n",
              "97871      606      2601     3.5  1171762880\n",
              "10033       66        43     3.5  1104643954"
            ],
            "text/html": [
              "\n",
              "  <div id=\"df-a82f9b1a-98fa-4566-ba90-52d0fce5555c\" class=\"colab-df-container\">\n",
              "    <div>\n",
              "<style scoped>\n",
              "    .dataframe tbody tr th:only-of-type {\n",
              "        vertical-align: middle;\n",
              "    }\n",
              "\n",
              "    .dataframe tbody tr th {\n",
              "        vertical-align: top;\n",
              "    }\n",
              "\n",
              "    .dataframe thead th {\n",
              "        text-align: right;\n",
              "    }\n",
              "</style>\n",
              "<table border=\"1\" class=\"dataframe\">\n",
              "  <thead>\n",
              "    <tr style=\"text-align: right;\">\n",
              "      <th></th>\n",
              "      <th>user_id</th>\n",
              "      <th>movie_id</th>\n",
              "      <th>rating</th>\n",
              "      <th>timestamp</th>\n",
              "    </tr>\n",
              "  </thead>\n",
              "  <tbody>\n",
              "    <tr>\n",
              "      <th>26184</th>\n",
              "      <td>182</td>\n",
              "      <td>654</td>\n",
              "      <td>4.5</td>\n",
              "      <td>1054783081</td>\n",
              "    </tr>\n",
              "    <tr>\n",
              "      <th>29027</th>\n",
              "      <td>200</td>\n",
              "      <td>836</td>\n",
              "      <td>4.0</td>\n",
              "      <td>1229877812</td>\n",
              "    </tr>\n",
              "    <tr>\n",
              "      <th>61467</th>\n",
              "      <td>405</td>\n",
              "      <td>199</td>\n",
              "      <td>3.0</td>\n",
              "      <td>1295924067</td>\n",
              "    </tr>\n",
              "    <tr>\n",
              "      <th>97871</th>\n",
              "      <td>606</td>\n",
              "      <td>2601</td>\n",
              "      <td>3.5</td>\n",
              "      <td>1171762880</td>\n",
              "    </tr>\n",
              "    <tr>\n",
              "      <th>10033</th>\n",
              "      <td>66</td>\n",
              "      <td>43</td>\n",
              "      <td>3.5</td>\n",
              "      <td>1104643954</td>\n",
              "    </tr>\n",
              "  </tbody>\n",
              "</table>\n",
              "</div>\n",
              "    <div class=\"colab-df-buttons\">\n",
              "\n",
              "  <div class=\"colab-df-container\">\n",
              "    <button class=\"colab-df-convert\" onclick=\"convertToInteractive('df-a82f9b1a-98fa-4566-ba90-52d0fce5555c')\"\n",
              "            title=\"Convert this dataframe to an interactive table.\"\n",
              "            style=\"display:none;\">\n",
              "\n",
              "  <svg xmlns=\"http://www.w3.org/2000/svg\" height=\"24px\" viewBox=\"0 -960 960 960\">\n",
              "    <path d=\"M120-120v-720h720v720H120Zm60-500h600v-160H180v160Zm220 220h160v-160H400v160Zm0 220h160v-160H400v160ZM180-400h160v-160H180v160Zm440 0h160v-160H620v160ZM180-180h160v-160H180v160Zm440 0h160v-160H620v160Z\"/>\n",
              "  </svg>\n",
              "    </button>\n",
              "\n",
              "  <style>\n",
              "    .colab-df-container {\n",
              "      display:flex;\n",
              "      gap: 12px;\n",
              "    }\n",
              "\n",
              "    .colab-df-convert {\n",
              "      background-color: #E8F0FE;\n",
              "      border: none;\n",
              "      border-radius: 50%;\n",
              "      cursor: pointer;\n",
              "      display: none;\n",
              "      fill: #1967D2;\n",
              "      height: 32px;\n",
              "      padding: 0 0 0 0;\n",
              "      width: 32px;\n",
              "    }\n",
              "\n",
              "    .colab-df-convert:hover {\n",
              "      background-color: #E2EBFA;\n",
              "      box-shadow: 0px 1px 2px rgba(60, 64, 67, 0.3), 0px 1px 3px 1px rgba(60, 64, 67, 0.15);\n",
              "      fill: #174EA6;\n",
              "    }\n",
              "\n",
              "    .colab-df-buttons div {\n",
              "      margin-bottom: 4px;\n",
              "    }\n",
              "\n",
              "    [theme=dark] .colab-df-convert {\n",
              "      background-color: #3B4455;\n",
              "      fill: #D2E3FC;\n",
              "    }\n",
              "\n",
              "    [theme=dark] .colab-df-convert:hover {\n",
              "      background-color: #434B5C;\n",
              "      box-shadow: 0px 1px 3px 1px rgba(0, 0, 0, 0.15);\n",
              "      filter: drop-shadow(0px 1px 2px rgba(0, 0, 0, 0.3));\n",
              "      fill: #FFFFFF;\n",
              "    }\n",
              "  </style>\n",
              "\n",
              "    <script>\n",
              "      const buttonEl =\n",
              "        document.querySelector('#df-a82f9b1a-98fa-4566-ba90-52d0fce5555c button.colab-df-convert');\n",
              "      buttonEl.style.display =\n",
              "        google.colab.kernel.accessAllowed ? 'block' : 'none';\n",
              "\n",
              "      async function convertToInteractive(key) {\n",
              "        const element = document.querySelector('#df-a82f9b1a-98fa-4566-ba90-52d0fce5555c');\n",
              "        const dataTable =\n",
              "          await google.colab.kernel.invokeFunction('convertToInteractive',\n",
              "                                                    [key], {});\n",
              "        if (!dataTable) return;\n",
              "\n",
              "        const docLinkHtml = 'Like what you see? Visit the ' +\n",
              "          '<a target=\"_blank\" href=https://colab.research.google.com/notebooks/data_table.ipynb>data table notebook</a>'\n",
              "          + ' to learn more about interactive tables.';\n",
              "        element.innerHTML = '';\n",
              "        dataTable['output_type'] = 'display_data';\n",
              "        await google.colab.output.renderOutput(dataTable, element);\n",
              "        const docLink = document.createElement('div');\n",
              "        docLink.innerHTML = docLinkHtml;\n",
              "        element.appendChild(docLink);\n",
              "      }\n",
              "    </script>\n",
              "  </div>\n",
              "\n",
              "\n",
              "<div id=\"df-0fe22ac7-e2bc-48e1-8746-290585ab7815\">\n",
              "  <button class=\"colab-df-quickchart\" onclick=\"quickchart('df-0fe22ac7-e2bc-48e1-8746-290585ab7815')\"\n",
              "            title=\"Suggest charts\"\n",
              "            style=\"display:none;\">\n",
              "\n",
              "<svg xmlns=\"http://www.w3.org/2000/svg\" height=\"24px\"viewBox=\"0 0 24 24\"\n",
              "     width=\"24px\">\n",
              "    <g>\n",
              "        <path d=\"M19 3H5c-1.1 0-2 .9-2 2v14c0 1.1.9 2 2 2h14c1.1 0 2-.9 2-2V5c0-1.1-.9-2-2-2zM9 17H7v-7h2v7zm4 0h-2V7h2v10zm4 0h-2v-4h2v4z\"/>\n",
              "    </g>\n",
              "</svg>\n",
              "  </button>\n",
              "\n",
              "<style>\n",
              "  .colab-df-quickchart {\n",
              "      --bg-color: #E8F0FE;\n",
              "      --fill-color: #1967D2;\n",
              "      --hover-bg-color: #E2EBFA;\n",
              "      --hover-fill-color: #174EA6;\n",
              "      --disabled-fill-color: #AAA;\n",
              "      --disabled-bg-color: #DDD;\n",
              "  }\n",
              "\n",
              "  [theme=dark] .colab-df-quickchart {\n",
              "      --bg-color: #3B4455;\n",
              "      --fill-color: #D2E3FC;\n",
              "      --hover-bg-color: #434B5C;\n",
              "      --hover-fill-color: #FFFFFF;\n",
              "      --disabled-bg-color: #3B4455;\n",
              "      --disabled-fill-color: #666;\n",
              "  }\n",
              "\n",
              "  .colab-df-quickchart {\n",
              "    background-color: var(--bg-color);\n",
              "    border: none;\n",
              "    border-radius: 50%;\n",
              "    cursor: pointer;\n",
              "    display: none;\n",
              "    fill: var(--fill-color);\n",
              "    height: 32px;\n",
              "    padding: 0;\n",
              "    width: 32px;\n",
              "  }\n",
              "\n",
              "  .colab-df-quickchart:hover {\n",
              "    background-color: var(--hover-bg-color);\n",
              "    box-shadow: 0 1px 2px rgba(60, 64, 67, 0.3), 0 1px 3px 1px rgba(60, 64, 67, 0.15);\n",
              "    fill: var(--button-hover-fill-color);\n",
              "  }\n",
              "\n",
              "  .colab-df-quickchart-complete:disabled,\n",
              "  .colab-df-quickchart-complete:disabled:hover {\n",
              "    background-color: var(--disabled-bg-color);\n",
              "    fill: var(--disabled-fill-color);\n",
              "    box-shadow: none;\n",
              "  }\n",
              "\n",
              "  .colab-df-spinner {\n",
              "    border: 2px solid var(--fill-color);\n",
              "    border-color: transparent;\n",
              "    border-bottom-color: var(--fill-color);\n",
              "    animation:\n",
              "      spin 1s steps(1) infinite;\n",
              "  }\n",
              "\n",
              "  @keyframes spin {\n",
              "    0% {\n",
              "      border-color: transparent;\n",
              "      border-bottom-color: var(--fill-color);\n",
              "      border-left-color: var(--fill-color);\n",
              "    }\n",
              "    20% {\n",
              "      border-color: transparent;\n",
              "      border-left-color: var(--fill-color);\n",
              "      border-top-color: var(--fill-color);\n",
              "    }\n",
              "    30% {\n",
              "      border-color: transparent;\n",
              "      border-left-color: var(--fill-color);\n",
              "      border-top-color: var(--fill-color);\n",
              "      border-right-color: var(--fill-color);\n",
              "    }\n",
              "    40% {\n",
              "      border-color: transparent;\n",
              "      border-right-color: var(--fill-color);\n",
              "      border-top-color: var(--fill-color);\n",
              "    }\n",
              "    60% {\n",
              "      border-color: transparent;\n",
              "      border-right-color: var(--fill-color);\n",
              "    }\n",
              "    80% {\n",
              "      border-color: transparent;\n",
              "      border-right-color: var(--fill-color);\n",
              "      border-bottom-color: var(--fill-color);\n",
              "    }\n",
              "    90% {\n",
              "      border-color: transparent;\n",
              "      border-bottom-color: var(--fill-color);\n",
              "    }\n",
              "  }\n",
              "</style>\n",
              "\n",
              "  <script>\n",
              "    async function quickchart(key) {\n",
              "      const quickchartButtonEl =\n",
              "        document.querySelector('#' + key + ' button');\n",
              "      quickchartButtonEl.disabled = true;  // To prevent multiple clicks.\n",
              "      quickchartButtonEl.classList.add('colab-df-spinner');\n",
              "      try {\n",
              "        const charts = await google.colab.kernel.invokeFunction(\n",
              "            'suggestCharts', [key], {});\n",
              "      } catch (error) {\n",
              "        console.error('Error during call to suggestCharts:', error);\n",
              "      }\n",
              "      quickchartButtonEl.classList.remove('colab-df-spinner');\n",
              "      quickchartButtonEl.classList.add('colab-df-quickchart-complete');\n",
              "    }\n",
              "    (() => {\n",
              "      let quickchartButtonEl =\n",
              "        document.querySelector('#df-0fe22ac7-e2bc-48e1-8746-290585ab7815 button');\n",
              "      quickchartButtonEl.style.display =\n",
              "        google.colab.kernel.accessAllowed ? 'block' : 'none';\n",
              "    })();\n",
              "  </script>\n",
              "</div>\n",
              "\n",
              "    </div>\n",
              "  </div>\n"
            ],
            "application/vnd.google.colaboratory.intrinsic+json": {
              "type": "dataframe",
              "variable_name": "train",
              "summary": "{\n  \"name\": \"train\",\n  \"rows\": 80668,\n  \"fields\": [\n    {\n      \"column\": \"user_id\",\n      \"properties\": {\n        \"dtype\": \"number\",\n        \"std\": 182,\n        \"min\": 1,\n        \"max\": 610,\n        \"num_unique_values\": 610,\n        \"samples\": [\n          564,\n          592,\n          163\n        ],\n        \"semantic_type\": \"\",\n        \"description\": \"\"\n      }\n    },\n    {\n      \"column\": \"movie_id\",\n      \"properties\": {\n        \"dtype\": \"number\",\n        \"std\": 2001,\n        \"min\": 1,\n        \"max\": 9724,\n        \"num_unique_values\": 9000,\n        \"samples\": [\n          5283,\n          3274,\n          3522\n        ],\n        \"semantic_type\": \"\",\n        \"description\": \"\"\n      }\n    },\n    {\n      \"column\": \"rating\",\n      \"properties\": {\n        \"dtype\": \"number\",\n        \"std\": 1.042189566266341,\n        \"min\": 0.5,\n        \"max\": 5.0,\n        \"num_unique_values\": 10,\n        \"samples\": [\n          2.5,\n          4.0,\n          2.0\n        ],\n        \"semantic_type\": \"\",\n        \"description\": \"\"\n      }\n    },\n    {\n      \"column\": \"timestamp\",\n      \"properties\": {\n        \"dtype\": \"number\",\n        \"std\": 216458377,\n        \"min\": 828124615,\n        \"max\": 1537799250,\n        \"num_unique_values\": 69286,\n        \"samples\": [\n          1353800560,\n          1173054405,\n          1518380748\n        ],\n        \"semantic_type\": \"\",\n        \"description\": \"\"\n      }\n    }\n  ]\n}"
            }
          },
          "metadata": {},
          "execution_count": 6
        }
      ]
    },
    {
      "cell_type": "code",
      "source": [
        "test.head()"
      ],
      "metadata": {
        "colab": {
          "base_uri": "https://localhost:8080/",
          "height": 206
        },
        "id": "PREKoZhfwYPF",
        "outputId": "afa5cad2-16de-43f6-f76a-177c10684070"
      },
      "execution_count": 7,
      "outputs": [
        {
          "output_type": "execute_result",
          "data": {
            "text/plain": [
              "       user_id  movie_id  rating   timestamp\n",
              "99610      610       351     4.5  1479543333\n",
              "24644      171       462     4.0   866904192\n",
              "85936      558      4666     2.0  1035415459\n",
              "99476      608      7620     4.0  1147210848\n",
              "58582      382       621     3.5  1515174691"
            ],
            "text/html": [
              "\n",
              "  <div id=\"df-099469f3-3d87-4b19-ba7d-c31f77728ebc\" class=\"colab-df-container\">\n",
              "    <div>\n",
              "<style scoped>\n",
              "    .dataframe tbody tr th:only-of-type {\n",
              "        vertical-align: middle;\n",
              "    }\n",
              "\n",
              "    .dataframe tbody tr th {\n",
              "        vertical-align: top;\n",
              "    }\n",
              "\n",
              "    .dataframe thead th {\n",
              "        text-align: right;\n",
              "    }\n",
              "</style>\n",
              "<table border=\"1\" class=\"dataframe\">\n",
              "  <thead>\n",
              "    <tr style=\"text-align: right;\">\n",
              "      <th></th>\n",
              "      <th>user_id</th>\n",
              "      <th>movie_id</th>\n",
              "      <th>rating</th>\n",
              "      <th>timestamp</th>\n",
              "    </tr>\n",
              "  </thead>\n",
              "  <tbody>\n",
              "    <tr>\n",
              "      <th>99610</th>\n",
              "      <td>610</td>\n",
              "      <td>351</td>\n",
              "      <td>4.5</td>\n",
              "      <td>1479543333</td>\n",
              "    </tr>\n",
              "    <tr>\n",
              "      <th>24644</th>\n",
              "      <td>171</td>\n",
              "      <td>462</td>\n",
              "      <td>4.0</td>\n",
              "      <td>866904192</td>\n",
              "    </tr>\n",
              "    <tr>\n",
              "      <th>85936</th>\n",
              "      <td>558</td>\n",
              "      <td>4666</td>\n",
              "      <td>2.0</td>\n",
              "      <td>1035415459</td>\n",
              "    </tr>\n",
              "    <tr>\n",
              "      <th>99476</th>\n",
              "      <td>608</td>\n",
              "      <td>7620</td>\n",
              "      <td>4.0</td>\n",
              "      <td>1147210848</td>\n",
              "    </tr>\n",
              "    <tr>\n",
              "      <th>58582</th>\n",
              "      <td>382</td>\n",
              "      <td>621</td>\n",
              "      <td>3.5</td>\n",
              "      <td>1515174691</td>\n",
              "    </tr>\n",
              "  </tbody>\n",
              "</table>\n",
              "</div>\n",
              "    <div class=\"colab-df-buttons\">\n",
              "\n",
              "  <div class=\"colab-df-container\">\n",
              "    <button class=\"colab-df-convert\" onclick=\"convertToInteractive('df-099469f3-3d87-4b19-ba7d-c31f77728ebc')\"\n",
              "            title=\"Convert this dataframe to an interactive table.\"\n",
              "            style=\"display:none;\">\n",
              "\n",
              "  <svg xmlns=\"http://www.w3.org/2000/svg\" height=\"24px\" viewBox=\"0 -960 960 960\">\n",
              "    <path d=\"M120-120v-720h720v720H120Zm60-500h600v-160H180v160Zm220 220h160v-160H400v160Zm0 220h160v-160H400v160ZM180-400h160v-160H180v160Zm440 0h160v-160H620v160ZM180-180h160v-160H180v160Zm440 0h160v-160H620v160Z\"/>\n",
              "  </svg>\n",
              "    </button>\n",
              "\n",
              "  <style>\n",
              "    .colab-df-container {\n",
              "      display:flex;\n",
              "      gap: 12px;\n",
              "    }\n",
              "\n",
              "    .colab-df-convert {\n",
              "      background-color: #E8F0FE;\n",
              "      border: none;\n",
              "      border-radius: 50%;\n",
              "      cursor: pointer;\n",
              "      display: none;\n",
              "      fill: #1967D2;\n",
              "      height: 32px;\n",
              "      padding: 0 0 0 0;\n",
              "      width: 32px;\n",
              "    }\n",
              "\n",
              "    .colab-df-convert:hover {\n",
              "      background-color: #E2EBFA;\n",
              "      box-shadow: 0px 1px 2px rgba(60, 64, 67, 0.3), 0px 1px 3px 1px rgba(60, 64, 67, 0.15);\n",
              "      fill: #174EA6;\n",
              "    }\n",
              "\n",
              "    .colab-df-buttons div {\n",
              "      margin-bottom: 4px;\n",
              "    }\n",
              "\n",
              "    [theme=dark] .colab-df-convert {\n",
              "      background-color: #3B4455;\n",
              "      fill: #D2E3FC;\n",
              "    }\n",
              "\n",
              "    [theme=dark] .colab-df-convert:hover {\n",
              "      background-color: #434B5C;\n",
              "      box-shadow: 0px 1px 3px 1px rgba(0, 0, 0, 0.15);\n",
              "      filter: drop-shadow(0px 1px 2px rgba(0, 0, 0, 0.3));\n",
              "      fill: #FFFFFF;\n",
              "    }\n",
              "  </style>\n",
              "\n",
              "    <script>\n",
              "      const buttonEl =\n",
              "        document.querySelector('#df-099469f3-3d87-4b19-ba7d-c31f77728ebc button.colab-df-convert');\n",
              "      buttonEl.style.display =\n",
              "        google.colab.kernel.accessAllowed ? 'block' : 'none';\n",
              "\n",
              "      async function convertToInteractive(key) {\n",
              "        const element = document.querySelector('#df-099469f3-3d87-4b19-ba7d-c31f77728ebc');\n",
              "        const dataTable =\n",
              "          await google.colab.kernel.invokeFunction('convertToInteractive',\n",
              "                                                    [key], {});\n",
              "        if (!dataTable) return;\n",
              "\n",
              "        const docLinkHtml = 'Like what you see? Visit the ' +\n",
              "          '<a target=\"_blank\" href=https://colab.research.google.com/notebooks/data_table.ipynb>data table notebook</a>'\n",
              "          + ' to learn more about interactive tables.';\n",
              "        element.innerHTML = '';\n",
              "        dataTable['output_type'] = 'display_data';\n",
              "        await google.colab.output.renderOutput(dataTable, element);\n",
              "        const docLink = document.createElement('div');\n",
              "        docLink.innerHTML = docLinkHtml;\n",
              "        element.appendChild(docLink);\n",
              "      }\n",
              "    </script>\n",
              "  </div>\n",
              "\n",
              "\n",
              "<div id=\"df-1f9ea677-ccb6-4498-a0a4-67fb097df4ed\">\n",
              "  <button class=\"colab-df-quickchart\" onclick=\"quickchart('df-1f9ea677-ccb6-4498-a0a4-67fb097df4ed')\"\n",
              "            title=\"Suggest charts\"\n",
              "            style=\"display:none;\">\n",
              "\n",
              "<svg xmlns=\"http://www.w3.org/2000/svg\" height=\"24px\"viewBox=\"0 0 24 24\"\n",
              "     width=\"24px\">\n",
              "    <g>\n",
              "        <path d=\"M19 3H5c-1.1 0-2 .9-2 2v14c0 1.1.9 2 2 2h14c1.1 0 2-.9 2-2V5c0-1.1-.9-2-2-2zM9 17H7v-7h2v7zm4 0h-2V7h2v10zm4 0h-2v-4h2v4z\"/>\n",
              "    </g>\n",
              "</svg>\n",
              "  </button>\n",
              "\n",
              "<style>\n",
              "  .colab-df-quickchart {\n",
              "      --bg-color: #E8F0FE;\n",
              "      --fill-color: #1967D2;\n",
              "      --hover-bg-color: #E2EBFA;\n",
              "      --hover-fill-color: #174EA6;\n",
              "      --disabled-fill-color: #AAA;\n",
              "      --disabled-bg-color: #DDD;\n",
              "  }\n",
              "\n",
              "  [theme=dark] .colab-df-quickchart {\n",
              "      --bg-color: #3B4455;\n",
              "      --fill-color: #D2E3FC;\n",
              "      --hover-bg-color: #434B5C;\n",
              "      --hover-fill-color: #FFFFFF;\n",
              "      --disabled-bg-color: #3B4455;\n",
              "      --disabled-fill-color: #666;\n",
              "  }\n",
              "\n",
              "  .colab-df-quickchart {\n",
              "    background-color: var(--bg-color);\n",
              "    border: none;\n",
              "    border-radius: 50%;\n",
              "    cursor: pointer;\n",
              "    display: none;\n",
              "    fill: var(--fill-color);\n",
              "    height: 32px;\n",
              "    padding: 0;\n",
              "    width: 32px;\n",
              "  }\n",
              "\n",
              "  .colab-df-quickchart:hover {\n",
              "    background-color: var(--hover-bg-color);\n",
              "    box-shadow: 0 1px 2px rgba(60, 64, 67, 0.3), 0 1px 3px 1px rgba(60, 64, 67, 0.15);\n",
              "    fill: var(--button-hover-fill-color);\n",
              "  }\n",
              "\n",
              "  .colab-df-quickchart-complete:disabled,\n",
              "  .colab-df-quickchart-complete:disabled:hover {\n",
              "    background-color: var(--disabled-bg-color);\n",
              "    fill: var(--disabled-fill-color);\n",
              "    box-shadow: none;\n",
              "  }\n",
              "\n",
              "  .colab-df-spinner {\n",
              "    border: 2px solid var(--fill-color);\n",
              "    border-color: transparent;\n",
              "    border-bottom-color: var(--fill-color);\n",
              "    animation:\n",
              "      spin 1s steps(1) infinite;\n",
              "  }\n",
              "\n",
              "  @keyframes spin {\n",
              "    0% {\n",
              "      border-color: transparent;\n",
              "      border-bottom-color: var(--fill-color);\n",
              "      border-left-color: var(--fill-color);\n",
              "    }\n",
              "    20% {\n",
              "      border-color: transparent;\n",
              "      border-left-color: var(--fill-color);\n",
              "      border-top-color: var(--fill-color);\n",
              "    }\n",
              "    30% {\n",
              "      border-color: transparent;\n",
              "      border-left-color: var(--fill-color);\n",
              "      border-top-color: var(--fill-color);\n",
              "      border-right-color: var(--fill-color);\n",
              "    }\n",
              "    40% {\n",
              "      border-color: transparent;\n",
              "      border-right-color: var(--fill-color);\n",
              "      border-top-color: var(--fill-color);\n",
              "    }\n",
              "    60% {\n",
              "      border-color: transparent;\n",
              "      border-right-color: var(--fill-color);\n",
              "    }\n",
              "    80% {\n",
              "      border-color: transparent;\n",
              "      border-right-color: var(--fill-color);\n",
              "      border-bottom-color: var(--fill-color);\n",
              "    }\n",
              "    90% {\n",
              "      border-color: transparent;\n",
              "      border-bottom-color: var(--fill-color);\n",
              "    }\n",
              "  }\n",
              "</style>\n",
              "\n",
              "  <script>\n",
              "    async function quickchart(key) {\n",
              "      const quickchartButtonEl =\n",
              "        document.querySelector('#' + key + ' button');\n",
              "      quickchartButtonEl.disabled = true;  // To prevent multiple clicks.\n",
              "      quickchartButtonEl.classList.add('colab-df-spinner');\n",
              "      try {\n",
              "        const charts = await google.colab.kernel.invokeFunction(\n",
              "            'suggestCharts', [key], {});\n",
              "      } catch (error) {\n",
              "        console.error('Error during call to suggestCharts:', error);\n",
              "      }\n",
              "      quickchartButtonEl.classList.remove('colab-df-spinner');\n",
              "      quickchartButtonEl.classList.add('colab-df-quickchart-complete');\n",
              "    }\n",
              "    (() => {\n",
              "      let quickchartButtonEl =\n",
              "        document.querySelector('#df-1f9ea677-ccb6-4498-a0a4-67fb097df4ed button');\n",
              "      quickchartButtonEl.style.display =\n",
              "        google.colab.kernel.accessAllowed ? 'block' : 'none';\n",
              "    })();\n",
              "  </script>\n",
              "</div>\n",
              "\n",
              "    </div>\n",
              "  </div>\n"
            ],
            "application/vnd.google.colaboratory.intrinsic+json": {
              "type": "dataframe",
              "variable_name": "test",
              "summary": "{\n  \"name\": \"test\",\n  \"rows\": 20168,\n  \"fields\": [\n    {\n      \"column\": \"user_id\",\n      \"properties\": {\n        \"dtype\": \"number\",\n        \"std\": 183,\n        \"min\": 1,\n        \"max\": 610,\n        \"num_unique_values\": 610,\n        \"samples\": [\n          153,\n          173,\n          157\n        ],\n        \"semantic_type\": \"\",\n        \"description\": \"\"\n      }\n    },\n    {\n      \"column\": \"movie_id\",\n      \"properties\": {\n        \"dtype\": \"number\",\n        \"std\": 1996,\n        \"min\": 1,\n        \"max\": 9723,\n        \"num_unique_values\": 5061,\n        \"samples\": [\n          1894,\n          2284,\n          4997\n        ],\n        \"semantic_type\": \"\",\n        \"description\": \"\"\n      }\n    },\n    {\n      \"column\": \"rating\",\n      \"properties\": {\n        \"dtype\": \"number\",\n        \"std\": 1.0439017594365148,\n        \"min\": 0.5,\n        \"max\": 5.0,\n        \"num_unique_values\": 10,\n        \"samples\": [\n          1.0,\n          4.0,\n          5.0\n        ],\n        \"semantic_type\": \"\",\n        \"description\": \"\"\n      }\n    },\n    {\n      \"column\": \"timestamp\",\n      \"properties\": {\n        \"dtype\": \"number\",\n        \"std\": 215458883,\n        \"min\": 828124615,\n        \"max\": 1537475893,\n        \"num_unique_values\": 19058,\n        \"samples\": [\n          1171754880,\n          978819462,\n          1171360350\n        ],\n        \"semantic_type\": \"\",\n        \"description\": \"\"\n      }\n    }\n  ]\n}"
            }
          },
          "metadata": {},
          "execution_count": 7
        }
      ]
    },
    {
      "cell_type": "markdown",
      "source": [
        "## Generalized Matrix Factorization (GMF)"
      ],
      "metadata": {
        "id": "6GPTivKCwa1u"
      }
    },
    {
      "cell_type": "markdown",
      "source": [
        "### Matrix Factorization"
      ],
      "metadata": {
        "id": "tYkP4XUzwcj0"
      }
    },
    {
      "cell_type": "code",
      "source": [
        "from keras.models import Model, Sequential\n",
        "from keras.layers import Embedding, Flatten, Input, Dot\n",
        "from keras.utils import model_to_dot\n",
        "from IPython.display import SVG\n",
        "\n",
        "# Let's use a higher latent dimension.\n",
        "latent_dim = 10\n",
        "\n",
        "movie_input = Input(shape=[1],name='movie-input')\n",
        "movie_embedding = Embedding(num_movies + 1, latent_dim, name='movie-embedding')(movie_input)\n",
        "movie_vec = Flatten(name='movie-flatten')(movie_embedding)\n",
        "\n",
        "user_input = Input(shape=[1],name='user-input')\n",
        "user_embedding = Embedding(num_users + 1, latent_dim, name='user-embedding')(user_input)\n",
        "user_vec = Flatten(name='user-flatten')(user_embedding)\n",
        "\n",
        "prod = Dot(axes=1, name='dot-product')([movie_vec, user_vec])\n",
        "\n",
        "model = Model([user_input, movie_input], prod)\n",
        "model.compile('adam', 'mean_squared_error')\n",
        "\n",
        "dot = model_to_dot(model, show_shapes=True, dpi=60)\n",
        "\n",
        "SVG(dot.create(prog='dot', format='svg'))"
      ],
      "metadata": {
        "colab": {
          "base_uri": "https://localhost:8080/",
          "height": 358
        },
        "id": "0bxDoHNAwboK",
        "outputId": "b56f947e-9ce5-469a-ab88-143ad6d5c21d"
      },
      "execution_count": 8,
      "outputs": [
        {
          "output_type": "execute_result",
          "data": {
            "text/plain": [
              "<IPython.core.display.SVG object>"
            ],
            "image/svg+xml": "<svg xmlns=\"http://www.w3.org/2000/svg\" xmlns:xlink=\"http://www.w3.org/1999/xlink\" width=\"447pt\" height=\"253pt\" viewBox=\"0.00 0.00 536.00 304.00\">\n<g id=\"graph0\" class=\"graph\" transform=\"scale(0.83 0.83) rotate(0) translate(4 300)\">\n<title>G</title>\n<polygon fill=\"white\" stroke=\"transparent\" points=\"-4,4 -4,-300 532,-300 532,4 -4,4\"/>\n<!-- 134057996287280 -->\n<g id=\"node1\" class=\"node\">\n<title>134057996287280</title>\n<polygon fill=\"none\" stroke=\"black\" points=\"22.5,-249.5 22.5,-295.5 238.5,-295.5 238.5,-249.5 22.5,-249.5\"/>\n<text text-anchor=\"middle\" x=\"64\" y=\"-280.3\" font-family=\"Times,serif\" font-size=\"14.00\">movie-input</text>\n<polyline fill=\"none\" stroke=\"black\" points=\"22.5,-272.5 105.5,-272.5 \"/>\n<text text-anchor=\"middle\" x=\"64\" y=\"-257.3\" font-family=\"Times,serif\" font-size=\"14.00\">InputLayer</text>\n<polyline fill=\"none\" stroke=\"black\" points=\"105.5,-249.5 105.5,-295.5 \"/>\n<text text-anchor=\"middle\" x=\"133\" y=\"-280.3\" font-family=\"Times,serif\" font-size=\"14.00\">input:</text>\n<polyline fill=\"none\" stroke=\"black\" points=\"105.5,-272.5 160.5,-272.5 \"/>\n<text text-anchor=\"middle\" x=\"133\" y=\"-257.3\" font-family=\"Times,serif\" font-size=\"14.00\">output:</text>\n<polyline fill=\"none\" stroke=\"black\" points=\"160.5,-249.5 160.5,-295.5 \"/>\n<text text-anchor=\"middle\" x=\"199.5\" y=\"-280.3\" font-family=\"Times,serif\" font-size=\"14.00\">[(None, 1)]</text>\n<polyline fill=\"none\" stroke=\"black\" points=\"160.5,-272.5 238.5,-272.5 \"/>\n<text text-anchor=\"middle\" x=\"199.5\" y=\"-257.3\" font-family=\"Times,serif\" font-size=\"14.00\">[(None, 1)]</text>\n</g>\n<!-- 134057996284544 -->\n<g id=\"node3\" class=\"node\">\n<title>134057996284544</title>\n<polygon fill=\"none\" stroke=\"black\" points=\"0,-166.5 0,-212.5 261,-212.5 261,-166.5 0,-166.5\"/>\n<text text-anchor=\"middle\" x=\"58\" y=\"-197.3\" font-family=\"Times,serif\" font-size=\"14.00\">movie-embedding</text>\n<polyline fill=\"none\" stroke=\"black\" points=\"0,-189.5 116,-189.5 \"/>\n<text text-anchor=\"middle\" x=\"58\" y=\"-174.3\" font-family=\"Times,serif\" font-size=\"14.00\">Embedding</text>\n<polyline fill=\"none\" stroke=\"black\" points=\"116,-166.5 116,-212.5 \"/>\n<text text-anchor=\"middle\" x=\"143.5\" y=\"-197.3\" font-family=\"Times,serif\" font-size=\"14.00\">input:</text>\n<polyline fill=\"none\" stroke=\"black\" points=\"116,-189.5 171,-189.5 \"/>\n<text text-anchor=\"middle\" x=\"143.5\" y=\"-174.3\" font-family=\"Times,serif\" font-size=\"14.00\">output:</text>\n<polyline fill=\"none\" stroke=\"black\" points=\"171,-166.5 171,-212.5 \"/>\n<text text-anchor=\"middle\" x=\"216\" y=\"-197.3\" font-family=\"Times,serif\" font-size=\"14.00\">(None, 1)</text>\n<polyline fill=\"none\" stroke=\"black\" points=\"171,-189.5 261,-189.5 \"/>\n<text text-anchor=\"middle\" x=\"216\" y=\"-174.3\" font-family=\"Times,serif\" font-size=\"14.00\">(None, 1, 10)</text>\n</g>\n<!-- 134057996287280&#45;&gt;134057996284544 -->\n<g id=\"edge1\" class=\"edge\">\n<title>134057996287280-&gt;134057996284544</title>\n<path fill=\"none\" stroke=\"black\" d=\"M130.5,-249.37C130.5,-241.15 130.5,-231.66 130.5,-222.73\"/>\n<polygon fill=\"black\" stroke=\"black\" points=\"134,-222.61 130.5,-212.61 127,-222.61 134,-222.61\"/>\n</g>\n<!-- 134060881093408 -->\n<g id=\"node2\" class=\"node\">\n<title>134060881093408</title>\n<polygon fill=\"none\" stroke=\"black\" points=\"298.5,-249.5 298.5,-295.5 508.5,-295.5 508.5,-249.5 298.5,-249.5\"/>\n<text text-anchor=\"middle\" x=\"337\" y=\"-280.3\" font-family=\"Times,serif\" font-size=\"14.00\">user-input</text>\n<polyline fill=\"none\" stroke=\"black\" points=\"298.5,-272.5 375.5,-272.5 \"/>\n<text text-anchor=\"middle\" x=\"337\" y=\"-257.3\" font-family=\"Times,serif\" font-size=\"14.00\">InputLayer</text>\n<polyline fill=\"none\" stroke=\"black\" points=\"375.5,-249.5 375.5,-295.5 \"/>\n<text text-anchor=\"middle\" x=\"403\" y=\"-280.3\" font-family=\"Times,serif\" font-size=\"14.00\">input:</text>\n<polyline fill=\"none\" stroke=\"black\" points=\"375.5,-272.5 430.5,-272.5 \"/>\n<text text-anchor=\"middle\" x=\"403\" y=\"-257.3\" font-family=\"Times,serif\" font-size=\"14.00\">output:</text>\n<polyline fill=\"none\" stroke=\"black\" points=\"430.5,-249.5 430.5,-295.5 \"/>\n<text text-anchor=\"middle\" x=\"469.5\" y=\"-280.3\" font-family=\"Times,serif\" font-size=\"14.00\">[(None, 1)]</text>\n<polyline fill=\"none\" stroke=\"black\" points=\"430.5,-272.5 508.5,-272.5 \"/>\n<text text-anchor=\"middle\" x=\"469.5\" y=\"-257.3\" font-family=\"Times,serif\" font-size=\"14.00\">[(None, 1)]</text>\n</g>\n<!-- 134057993877392 -->\n<g id=\"node4\" class=\"node\">\n<title>134057993877392</title>\n<polygon fill=\"none\" stroke=\"black\" points=\"279,-166.5 279,-212.5 528,-212.5 528,-166.5 279,-166.5\"/>\n<text text-anchor=\"middle\" x=\"331\" y=\"-197.3\" font-family=\"Times,serif\" font-size=\"14.00\">user-embedding</text>\n<polyline fill=\"none\" stroke=\"black\" points=\"279,-189.5 383,-189.5 \"/>\n<text text-anchor=\"middle\" x=\"331\" y=\"-174.3\" font-family=\"Times,serif\" font-size=\"14.00\">Embedding</text>\n<polyline fill=\"none\" stroke=\"black\" points=\"383,-166.5 383,-212.5 \"/>\n<text text-anchor=\"middle\" x=\"410.5\" y=\"-197.3\" font-family=\"Times,serif\" font-size=\"14.00\">input:</text>\n<polyline fill=\"none\" stroke=\"black\" points=\"383,-189.5 438,-189.5 \"/>\n<text text-anchor=\"middle\" x=\"410.5\" y=\"-174.3\" font-family=\"Times,serif\" font-size=\"14.00\">output:</text>\n<polyline fill=\"none\" stroke=\"black\" points=\"438,-166.5 438,-212.5 \"/>\n<text text-anchor=\"middle\" x=\"483\" y=\"-197.3\" font-family=\"Times,serif\" font-size=\"14.00\">(None, 1)</text>\n<polyline fill=\"none\" stroke=\"black\" points=\"438,-189.5 528,-189.5 \"/>\n<text text-anchor=\"middle\" x=\"483\" y=\"-174.3\" font-family=\"Times,serif\" font-size=\"14.00\">(None, 1, 10)</text>\n</g>\n<!-- 134060881093408&#45;&gt;134057993877392 -->\n<g id=\"edge2\" class=\"edge\">\n<title>134060881093408-&gt;134057993877392</title>\n<path fill=\"none\" stroke=\"black\" d=\"M403.5,-249.37C403.5,-241.15 403.5,-231.66 403.5,-222.73\"/>\n<polygon fill=\"black\" stroke=\"black\" points=\"407,-222.61 403.5,-212.61 400,-222.61 407,-222.61\"/>\n</g>\n<!-- 134057993874080 -->\n<g id=\"node5\" class=\"node\">\n<title>134057993874080</title>\n<polygon fill=\"none\" stroke=\"black\" points=\"26,-83.5 26,-129.5 261,-129.5 261,-83.5 26,-83.5\"/>\n<text text-anchor=\"middle\" x=\"71\" y=\"-114.3\" font-family=\"Times,serif\" font-size=\"14.00\">movie-flatten</text>\n<polyline fill=\"none\" stroke=\"black\" points=\"26,-106.5 116,-106.5 \"/>\n<text text-anchor=\"middle\" x=\"71\" y=\"-91.3\" font-family=\"Times,serif\" font-size=\"14.00\">Flatten</text>\n<polyline fill=\"none\" stroke=\"black\" points=\"116,-83.5 116,-129.5 \"/>\n<text text-anchor=\"middle\" x=\"143.5\" y=\"-114.3\" font-family=\"Times,serif\" font-size=\"14.00\">input:</text>\n<polyline fill=\"none\" stroke=\"black\" points=\"116,-106.5 171,-106.5 \"/>\n<text text-anchor=\"middle\" x=\"143.5\" y=\"-91.3\" font-family=\"Times,serif\" font-size=\"14.00\">output:</text>\n<polyline fill=\"none\" stroke=\"black\" points=\"171,-83.5 171,-129.5 \"/>\n<text text-anchor=\"middle\" x=\"216\" y=\"-114.3\" font-family=\"Times,serif\" font-size=\"14.00\">(None, 1, 10)</text>\n<polyline fill=\"none\" stroke=\"black\" points=\"171,-106.5 261,-106.5 \"/>\n<text text-anchor=\"middle\" x=\"216\" y=\"-91.3\" font-family=\"Times,serif\" font-size=\"14.00\">(None, 10)</text>\n</g>\n<!-- 134057996284544&#45;&gt;134057993874080 -->\n<g id=\"edge3\" class=\"edge\">\n<title>134057996284544-&gt;134057993874080</title>\n<path fill=\"none\" stroke=\"black\" d=\"M134.05,-166.37C135.37,-158.15 136.89,-148.66 138.33,-139.73\"/>\n<polygon fill=\"black\" stroke=\"black\" points=\"141.82,-140.04 139.95,-129.61 134.91,-138.93 141.82,-140.04\"/>\n</g>\n<!-- 134057993878208 -->\n<g id=\"node6\" class=\"node\">\n<title>134057993878208</title>\n<polygon fill=\"none\" stroke=\"black\" points=\"285,-83.5 285,-129.5 508,-129.5 508,-83.5 285,-83.5\"/>\n<text text-anchor=\"middle\" x=\"324\" y=\"-114.3\" font-family=\"Times,serif\" font-size=\"14.00\">user-flatten</text>\n<polyline fill=\"none\" stroke=\"black\" points=\"285,-106.5 363,-106.5 \"/>\n<text text-anchor=\"middle\" x=\"324\" y=\"-91.3\" font-family=\"Times,serif\" font-size=\"14.00\">Flatten</text>\n<polyline fill=\"none\" stroke=\"black\" points=\"363,-83.5 363,-129.5 \"/>\n<text text-anchor=\"middle\" x=\"390.5\" y=\"-114.3\" font-family=\"Times,serif\" font-size=\"14.00\">input:</text>\n<polyline fill=\"none\" stroke=\"black\" points=\"363,-106.5 418,-106.5 \"/>\n<text text-anchor=\"middle\" x=\"390.5\" y=\"-91.3\" font-family=\"Times,serif\" font-size=\"14.00\">output:</text>\n<polyline fill=\"none\" stroke=\"black\" points=\"418,-83.5 418,-129.5 \"/>\n<text text-anchor=\"middle\" x=\"463\" y=\"-114.3\" font-family=\"Times,serif\" font-size=\"14.00\">(None, 1, 10)</text>\n<polyline fill=\"none\" stroke=\"black\" points=\"418,-106.5 508,-106.5 \"/>\n<text text-anchor=\"middle\" x=\"463\" y=\"-91.3\" font-family=\"Times,serif\" font-size=\"14.00\">(None, 10)</text>\n</g>\n<!-- 134057993877392&#45;&gt;134057993878208 -->\n<g id=\"edge4\" class=\"edge\">\n<title>134057993877392-&gt;134057993878208</title>\n<path fill=\"none\" stroke=\"black\" d=\"M401.59,-166.37C400.88,-158.15 400.06,-148.66 399.28,-139.73\"/>\n<polygon fill=\"black\" stroke=\"black\" points=\"402.76,-139.27 398.41,-129.61 395.78,-139.87 402.76,-139.27\"/>\n</g>\n<!-- 134057993874944 -->\n<g id=\"node7\" class=\"node\">\n<title>134057993874944</title>\n<polygon fill=\"none\" stroke=\"black\" points=\"123,-0.5 123,-46.5 410,-46.5 410,-0.5 123,-0.5\"/>\n<text text-anchor=\"middle\" x=\"163\" y=\"-31.3\" font-family=\"Times,serif\" font-size=\"14.00\">dot-product</text>\n<polyline fill=\"none\" stroke=\"black\" points=\"123,-23.5 203,-23.5 \"/>\n<text text-anchor=\"middle\" x=\"163\" y=\"-8.3\" font-family=\"Times,serif\" font-size=\"14.00\">Dot</text>\n<polyline fill=\"none\" stroke=\"black\" points=\"203,-0.5 203,-46.5 \"/>\n<text text-anchor=\"middle\" x=\"230.5\" y=\"-31.3\" font-family=\"Times,serif\" font-size=\"14.00\">input:</text>\n<polyline fill=\"none\" stroke=\"black\" points=\"203,-23.5 258,-23.5 \"/>\n<text text-anchor=\"middle\" x=\"230.5\" y=\"-8.3\" font-family=\"Times,serif\" font-size=\"14.00\">output:</text>\n<polyline fill=\"none\" stroke=\"black\" points=\"258,-0.5 258,-46.5 \"/>\n<text text-anchor=\"middle\" x=\"334\" y=\"-31.3\" font-family=\"Times,serif\" font-size=\"14.00\">[(None, 10), (None, 10)]</text>\n<polyline fill=\"none\" stroke=\"black\" points=\"258,-23.5 410,-23.5 \"/>\n<text text-anchor=\"middle\" x=\"334\" y=\"-8.3\" font-family=\"Times,serif\" font-size=\"14.00\">(None, 1)</text>\n</g>\n<!-- 134057993874080&#45;&gt;134057993874944 -->\n<g id=\"edge5\" class=\"edge\">\n<title>134057993874080-&gt;134057993874944</title>\n<path fill=\"none\" stroke=\"black\" d=\"M177.11,-83.37C191.75,-73.72 209.07,-62.32 224.55,-52.13\"/>\n<polygon fill=\"black\" stroke=\"black\" points=\"226.5,-55.03 232.93,-46.61 222.65,-49.18 226.5,-55.03\"/>\n</g>\n<!-- 134057993878208&#45;&gt;134057993874944 -->\n<g id=\"edge6\" class=\"edge\">\n<title>134057993878208-&gt;134057993874944</title>\n<path fill=\"none\" stroke=\"black\" d=\"M360.98,-83.37C345.5,-73.72 327.19,-62.32 310.84,-52.13\"/>\n<polygon fill=\"black\" stroke=\"black\" points=\"312.32,-48.92 301.98,-46.61 308.62,-54.87 312.32,-48.92\"/>\n</g>\n</g>\n</svg>"
          },
          "metadata": {},
          "execution_count": 8
        }
      ]
    },
    {
      "cell_type": "code",
      "source": [
        "model.summary()"
      ],
      "metadata": {
        "colab": {
          "base_uri": "https://localhost:8080/"
        },
        "id": "pon4MOwWwfwn",
        "outputId": "14d344d8-c403-4de0-e143-a0786ee86243"
      },
      "execution_count": 9,
      "outputs": [
        {
          "output_type": "stream",
          "name": "stdout",
          "text": [
            "Model: \"model\"\n",
            "__________________________________________________________________________________________________\n",
            " Layer (type)                Output Shape                 Param #   Connected to                  \n",
            "==================================================================================================\n",
            " movie-input (InputLayer)    [(None, 1)]                  0         []                            \n",
            "                                                                                                  \n",
            " user-input (InputLayer)     [(None, 1)]                  0         []                            \n",
            "                                                                                                  \n",
            " movie-embedding (Embedding  (None, 1, 10)                97250     ['movie-input[0][0]']         \n",
            " )                                                                                                \n",
            "                                                                                                  \n",
            " user-embedding (Embedding)  (None, 1, 10)                6110      ['user-input[0][0]']          \n",
            "                                                                                                  \n",
            " movie-flatten (Flatten)     (None, 10)                   0         ['movie-embedding[0][0]']     \n",
            "                                                                                                  \n",
            " user-flatten (Flatten)      (None, 10)                   0         ['user-embedding[0][0]']      \n",
            "                                                                                                  \n",
            " dot-product (Dot)           (None, 1)                    0         ['movie-flatten[0][0]',       \n",
            "                                                                     'user-flatten[0][0]']        \n",
            "                                                                                                  \n",
            "==================================================================================================\n",
            "Total params: 103360 (403.75 KB)\n",
            "Trainable params: 103360 (403.75 KB)\n",
            "Non-trainable params: 0 (0.00 Byte)\n",
            "__________________________________________________________________________________________________\n"
          ]
        }
      ]
    },
    {
      "cell_type": "code",
      "source": [
        "import matplotlib.pyplot as plt\n",
        "from sklearn.metrics import mean_absolute_error\n",
        "history = model.fit([train.user_id, train.movie_id], train.rating, epochs =10)\n",
        "pd.Series(history.history['loss']).plot(logy=True)\n",
        "plt.xlabel(\"Epoch\")\n",
        "plt.ylabel(\"Train Error\")\n",
        "plt.show()\n",
        "\n",
        "y_hat = np.round(model.predict([test.user_id, test.movie_id]), decimals=2)\n",
        "y_true = test.rating\n",
        "mean_absolute_error(y_true, y_hat)"
      ],
      "metadata": {
        "colab": {
          "base_uri": "https://localhost:8080/",
          "height": 831
        },
        "id": "omOEv-ZWwgqc",
        "outputId": "80f08542-5abe-4d81-8f2f-b9ae735b1067"
      },
      "execution_count": 10,
      "outputs": [
        {
          "output_type": "stream",
          "name": "stdout",
          "text": [
            "Epoch 1/10\n",
            "2521/2521 [==============================] - 10s 3ms/step - loss: 11.0572\n",
            "Epoch 2/10\n",
            "2521/2521 [==============================] - 6s 2ms/step - loss: 3.5869\n",
            "Epoch 3/10\n",
            "2521/2521 [==============================] - 6s 2ms/step - loss: 1.8957\n",
            "Epoch 4/10\n",
            "2521/2521 [==============================] - 6s 2ms/step - loss: 1.3377\n",
            "Epoch 5/10\n",
            "2521/2521 [==============================] - 6s 2ms/step - loss: 1.0786\n",
            "Epoch 6/10\n",
            "2521/2521 [==============================] - 6s 2ms/step - loss: 0.9377\n",
            "Epoch 7/10\n",
            "2521/2521 [==============================] - 6s 2ms/step - loss: 0.8519\n",
            "Epoch 8/10\n",
            "2521/2521 [==============================] - 6s 2ms/step - loss: 0.7955\n",
            "Epoch 9/10\n",
            "2521/2521 [==============================] - 6s 2ms/step - loss: 0.7543\n",
            "Epoch 10/10\n",
            "2521/2521 [==============================] - 6s 2ms/step - loss: 0.7235\n"
          ]
        },
        {
          "output_type": "display_data",
          "data": {
            "text/plain": [
              "<Figure size 640x480 with 1 Axes>"
            ],
            "image/png": "[encoded data removed]"
          },
          "metadata": {}
        },
        {
          "output_type": "stream",
          "name": "stdout",
          "text": [
            "631/631 [==============================] - 1s 1ms/step\n"
          ]
        },
        {
          "output_type": "execute_result",
          "data": {
            "text/plain": [
              "0.7801071000210638"
            ]
          },
          "metadata": {},
          "execution_count": 10
        }
      ]
    },
    {
      "cell_type": "code",
      "source": [
        "from keras.constraints import non_neg\n",
        "\n",
        "latent_dim = 5\n",
        "\n",
        "movie_input = Input(shape=[1],name='movie-input')\n",
        "movie_embedding = Embedding(num_movies + 1, latent_dim, name='movie-embedding',\n",
        "                                                        embeddings_constraint=non_neg())(movie_input)\n",
        "movie_vec = Flatten(name='movie-flatten')(movie_embedding)\n",
        "\n",
        "user_input = Input(shape=[1],name='user-input')\n",
        "user_embedding = Embedding(num_users + 1, latent_dim, name='user-embedding',\n",
        "                                                      embeddings_constraint=non_neg())(user_input)\n",
        "user_vec = Flatten(name='user-flatten')(user_embedding)\n",
        "\n",
        "prod = Dot(axes=1, name='dot-product')([movie_vec, user_vec])\n",
        "\n",
        "model = Model([user_input, movie_input], prod)\n",
        "model.compile('adam', 'mean_squared_error')"
      ],
      "metadata": {
        "id": "aoa9Z6QUwiCU"
      },
      "execution_count": 11,
      "outputs": []
    },
    {
      "cell_type": "markdown",
      "source": [
        "### Neural Network with MF"
      ],
      "metadata": {
        "id": "bZaKDU6dwimm"
      }
    },
    {
      "cell_type": "code",
      "source": [
        "from keras.models import Model, Sequential\n",
        "from keras.layers import Embedding, Flatten, Input, Dot, Dropout, Dense\n",
        "from keras.optimizers import Adam\n",
        "from keras.utils import model_to_dot\n",
        "from IPython.display import SVG\n",
        "\n",
        "latent_dim = 10\n",
        "\n",
        "movie_input = Input(shape=[1],name='movie-input')\n",
        "movie_embedding = Embedding(num_movies + 1, latent_dim, name='movie-embedding')(movie_input)\n",
        "movie_vec = Flatten(name='movie-flatten')(movie_embedding)\n",
        "\n",
        "user_input = Input(shape=[1],name='user-input')\n",
        "user_embedding = Embedding(num_users + 1, latent_dim, name='user-embedding')(user_input)\n",
        "user_vec = Flatten(name='user-flatten')(user_embedding)\n",
        "\n",
        "concat = Dot(axes=1, name='movie-user-concat')([movie_vec, user_vec])\n",
        "concat_dropout = Dropout(0.2)(concat)\n",
        "fc_1 = Dense(100, name='fc-1', activation='relu')(concat)\n",
        "fc_1_dropout = Dropout(0.2, name='fc-1-dropout')(fc_1)\n",
        "fc_2 = Dense(50, name='fc-2', activation='relu')(fc_1_dropout)\n",
        "fc_2_dropout = Dropout(0.2, name='fc-2-dropout')(fc_2)\n",
        "fc_3 = Dense(1, name='fc-3', activation='relu')(fc_2_dropout)\n",
        "\n",
        "\n",
        "model = Model([user_input, movie_input], fc_3)\n",
        "model.compile(optimizer=Adam(learning_rate=0.1), loss='mean_squared_error')\n",
        "\n",
        "dot = model_to_dot(model, show_shapes=True, dpi=60)\n",
        "\n",
        "SVG(dot.create(prog='dot', format='svg'))\n"
      ],
      "metadata": {
        "colab": {
          "base_uri": "https://localhost:8080/",
          "height": 819
        },
        "id": "g-h_wWJ3wmTP",
        "outputId": "877359d0-5d47-460a-b241-a33c028c9149"
      },
      "execution_count": 12,
      "outputs": [
        {
          "output_type": "execute_result",
          "data": {
            "text/plain": [
              "<IPython.core.display.SVG object>"
            ],
            "image/svg+xml": "<svg xmlns=\"http://www.w3.org/2000/svg\" xmlns:xlink=\"http://www.w3.org/1999/xlink\" width=\"447pt\" height=\"599pt\" viewBox=\"0.00 0.00 536.00 719.00\">\n<g id=\"graph0\" class=\"graph\" transform=\"scale(0.83 0.83) rotate(0) translate(4 715)\">\n<title>G</title>\n<polygon fill=\"white\" stroke=\"transparent\" points=\"-4,4 -4,-715 532,-715 532,4 -4,4\"/>\n<!-- 134057406995552 -->\n<g id=\"node1\" class=\"node\">\n<title>134057406995552</title>\n<polygon fill=\"none\" stroke=\"black\" points=\"22.5,-664.5 22.5,-710.5 238.5,-710.5 238.5,-664.5 22.5,-664.5\"/>\n<text text-anchor=\"middle\" x=\"64\" y=\"-695.3\" font-family=\"Times,serif\" font-size=\"14.00\">movie-input</text>\n<polyline fill=\"none\" stroke=\"black\" points=\"22.5,-687.5 105.5,-687.5 \"/>\n<text text-anchor=\"middle\" x=\"64\" y=\"-672.3\" font-family=\"Times,serif\" font-size=\"14.00\">InputLayer</text>\n<polyline fill=\"none\" stroke=\"black\" points=\"105.5,-664.5 105.5,-710.5 \"/>\n<text text-anchor=\"middle\" x=\"133\" y=\"-695.3\" font-family=\"Times,serif\" font-size=\"14.00\">input:</text>\n<polyline fill=\"none\" stroke=\"black\" points=\"105.5,-687.5 160.5,-687.5 \"/>\n<text text-anchor=\"middle\" x=\"133\" y=\"-672.3\" font-family=\"Times,serif\" font-size=\"14.00\">output:</text>\n<polyline fill=\"none\" stroke=\"black\" points=\"160.5,-664.5 160.5,-710.5 \"/>\n<text text-anchor=\"middle\" x=\"199.5\" y=\"-695.3\" font-family=\"Times,serif\" font-size=\"14.00\">[(None, 1)]</text>\n<polyline fill=\"none\" stroke=\"black\" points=\"160.5,-687.5 238.5,-687.5 \"/>\n<text text-anchor=\"middle\" x=\"199.5\" y=\"-672.3\" font-family=\"Times,serif\" font-size=\"14.00\">[(None, 1)]</text>\n</g>\n<!-- 134057948935024 -->\n<g id=\"node3\" class=\"node\">\n<title>134057948935024</title>\n<polygon fill=\"none\" stroke=\"black\" points=\"0,-581.5 0,-627.5 261,-627.5 261,-581.5 0,-581.5\"/>\n<text text-anchor=\"middle\" x=\"58\" y=\"-612.3\" font-family=\"Times,serif\" font-size=\"14.00\">movie-embedding</text>\n<polyline fill=\"none\" stroke=\"black\" points=\"0,-604.5 116,-604.5 \"/>\n<text text-anchor=\"middle\" x=\"58\" y=\"-589.3\" font-family=\"Times,serif\" font-size=\"14.00\">Embedding</text>\n<polyline fill=\"none\" stroke=\"black\" points=\"116,-581.5 116,-627.5 \"/>\n<text text-anchor=\"middle\" x=\"143.5\" y=\"-612.3\" font-family=\"Times,serif\" font-size=\"14.00\">input:</text>\n<polyline fill=\"none\" stroke=\"black\" points=\"116,-604.5 171,-604.5 \"/>\n<text text-anchor=\"middle\" x=\"143.5\" y=\"-589.3\" font-family=\"Times,serif\" font-size=\"14.00\">output:</text>\n<polyline fill=\"none\" stroke=\"black\" points=\"171,-581.5 171,-627.5 \"/>\n<text text-anchor=\"middle\" x=\"216\" y=\"-612.3\" font-family=\"Times,serif\" font-size=\"14.00\">(None, 1)</text>\n<polyline fill=\"none\" stroke=\"black\" points=\"171,-604.5 261,-604.5 \"/>\n<text text-anchor=\"middle\" x=\"216\" y=\"-589.3\" font-family=\"Times,serif\" font-size=\"14.00\">(None, 1, 10)</text>\n</g>\n<!-- 134057406995552&#45;&gt;134057948935024 -->\n<g id=\"edge1\" class=\"edge\">\n<title>134057406995552-&gt;134057948935024</title>\n<path fill=\"none\" stroke=\"black\" d=\"M130.5,-664.37C130.5,-656.15 130.5,-646.66 130.5,-637.73\"/>\n<polygon fill=\"black\" stroke=\"black\" points=\"134,-637.61 130.5,-627.61 127,-637.61 134,-637.61\"/>\n</g>\n<!-- 134057406995744 -->\n<g id=\"node2\" class=\"node\">\n<title>134057406995744</title>\n<polygon fill=\"none\" stroke=\"black\" points=\"298.5,-664.5 298.5,-710.5 508.5,-710.5 508.5,-664.5 298.5,-664.5\"/>\n<text text-anchor=\"middle\" x=\"337\" y=\"-695.3\" font-family=\"Times,serif\" font-size=\"14.00\">user-input</text>\n<polyline fill=\"none\" stroke=\"black\" points=\"298.5,-687.5 375.5,-687.5 \"/>\n<text text-anchor=\"middle\" x=\"337\" y=\"-672.3\" font-family=\"Times,serif\" font-size=\"14.00\">InputLayer</text>\n<polyline fill=\"none\" stroke=\"black\" points=\"375.5,-664.5 375.5,-710.5 \"/>\n<text text-anchor=\"middle\" x=\"403\" y=\"-695.3\" font-family=\"Times,serif\" font-size=\"14.00\">input:</text>\n<polyline fill=\"none\" stroke=\"black\" points=\"375.5,-687.5 430.5,-687.5 \"/>\n<text text-anchor=\"middle\" x=\"403\" y=\"-672.3\" font-family=\"Times,serif\" font-size=\"14.00\">output:</text>\n<polyline fill=\"none\" stroke=\"black\" points=\"430.5,-664.5 430.5,-710.5 \"/>\n<text text-anchor=\"middle\" x=\"469.5\" y=\"-695.3\" font-family=\"Times,serif\" font-size=\"14.00\">[(None, 1)]</text>\n<polyline fill=\"none\" stroke=\"black\" points=\"430.5,-687.5 508.5,-687.5 \"/>\n<text text-anchor=\"middle\" x=\"469.5\" y=\"-672.3\" font-family=\"Times,serif\" font-size=\"14.00\">[(None, 1)]</text>\n</g>\n<!-- 134057406991232 -->\n<g id=\"node4\" class=\"node\">\n<title>134057406991232</title>\n<polygon fill=\"none\" stroke=\"black\" points=\"279,-581.5 279,-627.5 528,-627.5 528,-581.5 279,-581.5\"/>\n<text text-anchor=\"middle\" x=\"331\" y=\"-612.3\" font-family=\"Times,serif\" font-size=\"14.00\">user-embedding</text>\n<polyline fill=\"none\" stroke=\"black\" points=\"279,-604.5 383,-604.5 \"/>\n<text text-anchor=\"middle\" x=\"331\" y=\"-589.3\" font-family=\"Times,serif\" font-size=\"14.00\">Embedding</text>\n<polyline fill=\"none\" stroke=\"black\" points=\"383,-581.5 383,-627.5 \"/>\n<text text-anchor=\"middle\" x=\"410.5\" y=\"-612.3\" font-family=\"Times,serif\" font-size=\"14.00\">input:</text>\n<polyline fill=\"none\" stroke=\"black\" points=\"383,-604.5 438,-604.5 \"/>\n<text text-anchor=\"middle\" x=\"410.5\" y=\"-589.3\" font-family=\"Times,serif\" font-size=\"14.00\">output:</text>\n<polyline fill=\"none\" stroke=\"black\" points=\"438,-581.5 438,-627.5 \"/>\n<text text-anchor=\"middle\" x=\"483\" y=\"-612.3\" font-family=\"Times,serif\" font-size=\"14.00\">(None, 1)</text>\n<polyline fill=\"none\" stroke=\"black\" points=\"438,-604.5 528,-604.5 \"/>\n<text text-anchor=\"middle\" x=\"483\" y=\"-589.3\" font-family=\"Times,serif\" font-size=\"14.00\">(None, 1, 10)</text>\n</g>\n<!-- 134057406995744&#45;&gt;134057406991232 -->\n<g id=\"edge2\" class=\"edge\">\n<title>134057406995744-&gt;134057406991232</title>\n<path fill=\"none\" stroke=\"black\" d=\"M403.5,-664.37C403.5,-656.15 403.5,-646.66 403.5,-637.73\"/>\n<polygon fill=\"black\" stroke=\"black\" points=\"407,-637.61 403.5,-627.61 400,-637.61 407,-637.61\"/>\n</g>\n<!-- 134057406993008 -->\n<g id=\"node5\" class=\"node\">\n<title>134057406993008</title>\n<polygon fill=\"none\" stroke=\"black\" points=\"26,-498.5 26,-544.5 261,-544.5 261,-498.5 26,-498.5\"/>\n<text text-anchor=\"middle\" x=\"71\" y=\"-529.3\" font-family=\"Times,serif\" font-size=\"14.00\">movie-flatten</text>\n<polyline fill=\"none\" stroke=\"black\" points=\"26,-521.5 116,-521.5 \"/>\n<text text-anchor=\"middle\" x=\"71\" y=\"-506.3\" font-family=\"Times,serif\" font-size=\"14.00\">Flatten</text>\n<polyline fill=\"none\" stroke=\"black\" points=\"116,-498.5 116,-544.5 \"/>\n<text text-anchor=\"middle\" x=\"143.5\" y=\"-529.3\" font-family=\"Times,serif\" font-size=\"14.00\">input:</text>\n<polyline fill=\"none\" stroke=\"black\" points=\"116,-521.5 171,-521.5 \"/>\n<text text-anchor=\"middle\" x=\"143.5\" y=\"-506.3\" font-family=\"Times,serif\" font-size=\"14.00\">output:</text>\n<polyline fill=\"none\" stroke=\"black\" points=\"171,-498.5 171,-544.5 \"/>\n<text text-anchor=\"middle\" x=\"216\" y=\"-529.3\" font-family=\"Times,serif\" font-size=\"14.00\">(None, 1, 10)</text>\n<polyline fill=\"none\" stroke=\"black\" points=\"171,-521.5 261,-521.5 \"/>\n<text text-anchor=\"middle\" x=\"216\" y=\"-506.3\" font-family=\"Times,serif\" font-size=\"14.00\">(None, 10)</text>\n</g>\n<!-- 134057948935024&#45;&gt;134057406993008 -->\n<g id=\"edge3\" class=\"edge\">\n<title>134057948935024-&gt;134057406993008</title>\n<path fill=\"none\" stroke=\"black\" d=\"M134.05,-581.37C135.37,-573.15 136.89,-563.66 138.33,-554.73\"/>\n<polygon fill=\"black\" stroke=\"black\" points=\"141.82,-555.04 139.95,-544.61 134.91,-553.93 141.82,-555.04\"/>\n</g>\n<!-- 134057406996848 -->\n<g id=\"node6\" class=\"node\">\n<title>134057406996848</title>\n<polygon fill=\"none\" stroke=\"black\" points=\"285,-498.5 285,-544.5 508,-544.5 508,-498.5 285,-498.5\"/>\n<text text-anchor=\"middle\" x=\"324\" y=\"-529.3\" font-family=\"Times,serif\" font-size=\"14.00\">user-flatten</text>\n<polyline fill=\"none\" stroke=\"black\" points=\"285,-521.5 363,-521.5 \"/>\n<text text-anchor=\"middle\" x=\"324\" y=\"-506.3\" font-family=\"Times,serif\" font-size=\"14.00\">Flatten</text>\n<polyline fill=\"none\" stroke=\"black\" points=\"363,-498.5 363,-544.5 \"/>\n<text text-anchor=\"middle\" x=\"390.5\" y=\"-529.3\" font-family=\"Times,serif\" font-size=\"14.00\">input:</text>\n<polyline fill=\"none\" stroke=\"black\" points=\"363,-521.5 418,-521.5 \"/>\n<text text-anchor=\"middle\" x=\"390.5\" y=\"-506.3\" font-family=\"Times,serif\" font-size=\"14.00\">output:</text>\n<polyline fill=\"none\" stroke=\"black\" points=\"418,-498.5 418,-544.5 \"/>\n<text text-anchor=\"middle\" x=\"463\" y=\"-529.3\" font-family=\"Times,serif\" font-size=\"14.00\">(None, 1, 10)</text>\n<polyline fill=\"none\" stroke=\"black\" points=\"418,-521.5 508,-521.5 \"/>\n<text text-anchor=\"middle\" x=\"463\" y=\"-506.3\" font-family=\"Times,serif\" font-size=\"14.00\">(None, 10)</text>\n</g>\n<!-- 134057406991232&#45;&gt;134057406996848 -->\n<g id=\"edge4\" class=\"edge\">\n<title>134057406991232-&gt;134057406996848</title>\n<path fill=\"none\" stroke=\"black\" d=\"M401.59,-581.37C400.88,-573.15 400.06,-563.66 399.28,-554.73\"/>\n<polygon fill=\"black\" stroke=\"black\" points=\"402.76,-554.27 398.41,-544.61 395.78,-554.87 402.76,-554.27\"/>\n</g>\n<!-- 134057406997088 -->\n<g id=\"node7\" class=\"node\">\n<title>134057406997088</title>\n<polygon fill=\"none\" stroke=\"black\" points=\"104,-415.5 104,-461.5 429,-461.5 429,-415.5 104,-415.5\"/>\n<text text-anchor=\"middle\" x=\"163\" y=\"-446.3\" font-family=\"Times,serif\" font-size=\"14.00\">movie-user-concat</text>\n<polyline fill=\"none\" stroke=\"black\" points=\"104,-438.5 222,-438.5 \"/>\n<text text-anchor=\"middle\" x=\"163\" y=\"-423.3\" font-family=\"Times,serif\" font-size=\"14.00\">Dot</text>\n<polyline fill=\"none\" stroke=\"black\" points=\"222,-415.5 222,-461.5 \"/>\n<text text-anchor=\"middle\" x=\"249.5\" y=\"-446.3\" font-family=\"Times,serif\" font-size=\"14.00\">input:</text>\n<polyline fill=\"none\" stroke=\"black\" points=\"222,-438.5 277,-438.5 \"/>\n<text text-anchor=\"middle\" x=\"249.5\" y=\"-423.3\" font-family=\"Times,serif\" font-size=\"14.00\">output:</text>\n<polyline fill=\"none\" stroke=\"black\" points=\"277,-415.5 277,-461.5 \"/>\n<text text-anchor=\"middle\" x=\"353\" y=\"-446.3\" font-family=\"Times,serif\" font-size=\"14.00\">[(None, 10), (None, 10)]</text>\n<polyline fill=\"none\" stroke=\"black\" points=\"277,-438.5 429,-438.5 \"/>\n<text text-anchor=\"middle\" x=\"353\" y=\"-423.3\" font-family=\"Times,serif\" font-size=\"14.00\">(None, 1)</text>\n</g>\n<!-- 134057406993008&#45;&gt;134057406997088 -->\n<g id=\"edge5\" class=\"edge\">\n<title>134057406993008-&gt;134057406997088</title>\n<path fill=\"none\" stroke=\"black\" d=\"M177.11,-498.37C191.75,-488.72 209.07,-477.32 224.55,-467.13\"/>\n<polygon fill=\"black\" stroke=\"black\" points=\"226.5,-470.03 232.93,-461.61 222.65,-464.18 226.5,-470.03\"/>\n</g>\n<!-- 134057406996848&#45;&gt;134057406997088 -->\n<g id=\"edge6\" class=\"edge\">\n<title>134057406996848-&gt;134057406997088</title>\n<path fill=\"none\" stroke=\"black\" d=\"M360.98,-498.37C345.5,-488.72 327.19,-477.32 310.84,-467.13\"/>\n<polygon fill=\"black\" stroke=\"black\" points=\"312.32,-463.92 301.98,-461.61 308.62,-469.87 312.32,-463.92\"/>\n</g>\n<!-- 134056458147280 -->\n<g id=\"node8\" class=\"node\">\n<title>134056458147280</title>\n<polygon fill=\"none\" stroke=\"black\" points=\"172.5,-332.5 172.5,-378.5 360.5,-378.5 360.5,-332.5 172.5,-332.5\"/>\n<text text-anchor=\"middle\" x=\"197.5\" y=\"-363.3\" font-family=\"Times,serif\" font-size=\"14.00\">fc-1</text>\n<polyline fill=\"none\" stroke=\"black\" points=\"172.5,-355.5 222.5,-355.5 \"/>\n<text text-anchor=\"middle\" x=\"197.5\" y=\"-340.3\" font-family=\"Times,serif\" font-size=\"14.00\">Dense</text>\n<polyline fill=\"none\" stroke=\"black\" points=\"222.5,-332.5 222.5,-378.5 \"/>\n<text text-anchor=\"middle\" x=\"250\" y=\"-363.3\" font-family=\"Times,serif\" font-size=\"14.00\">input:</text>\n<polyline fill=\"none\" stroke=\"black\" points=\"222.5,-355.5 277.5,-355.5 \"/>\n<text text-anchor=\"middle\" x=\"250\" y=\"-340.3\" font-family=\"Times,serif\" font-size=\"14.00\">output:</text>\n<polyline fill=\"none\" stroke=\"black\" points=\"277.5,-332.5 277.5,-378.5 \"/>\n<text text-anchor=\"middle\" x=\"319\" y=\"-363.3\" font-family=\"Times,serif\" font-size=\"14.00\">(None, 1)</text>\n<polyline fill=\"none\" stroke=\"black\" points=\"277.5,-355.5 360.5,-355.5 \"/>\n<text text-anchor=\"middle\" x=\"319\" y=\"-340.3\" font-family=\"Times,serif\" font-size=\"14.00\">(None, 100)</text>\n</g>\n<!-- 134057406997088&#45;&gt;134056458147280 -->\n<g id=\"edge7\" class=\"edge\">\n<title>134057406997088-&gt;134056458147280</title>\n<path fill=\"none\" stroke=\"black\" d=\"M266.5,-415.37C266.5,-407.15 266.5,-397.66 266.5,-388.73\"/>\n<polygon fill=\"black\" stroke=\"black\" points=\"270,-388.61 266.5,-378.61 263,-388.61 270,-388.61\"/>\n</g>\n<!-- 134057406024864 -->\n<g id=\"node9\" class=\"node\">\n<title>134057406024864</title>\n<polygon fill=\"none\" stroke=\"black\" points=\"155,-249.5 155,-295.5 378,-295.5 378,-249.5 155,-249.5\"/>\n<text text-anchor=\"middle\" x=\"197.5\" y=\"-280.3\" font-family=\"Times,serif\" font-size=\"14.00\">fc-1-dropout</text>\n<polyline fill=\"none\" stroke=\"black\" points=\"155,-272.5 240,-272.5 \"/>\n<text text-anchor=\"middle\" x=\"197.5\" y=\"-257.3\" font-family=\"Times,serif\" font-size=\"14.00\">Dropout</text>\n<polyline fill=\"none\" stroke=\"black\" points=\"240,-249.5 240,-295.5 \"/>\n<text text-anchor=\"middle\" x=\"267.5\" y=\"-280.3\" font-family=\"Times,serif\" font-size=\"14.00\">input:</text>\n<polyline fill=\"none\" stroke=\"black\" points=\"240,-272.5 295,-272.5 \"/>\n<text text-anchor=\"middle\" x=\"267.5\" y=\"-257.3\" font-family=\"Times,serif\" font-size=\"14.00\">output:</text>\n<polyline fill=\"none\" stroke=\"black\" points=\"295,-249.5 295,-295.5 \"/>\n<text text-anchor=\"middle\" x=\"336.5\" y=\"-280.3\" font-family=\"Times,serif\" font-size=\"14.00\">(None, 100)</text>\n<polyline fill=\"none\" stroke=\"black\" points=\"295,-272.5 378,-272.5 \"/>\n<text text-anchor=\"middle\" x=\"336.5\" y=\"-257.3\" font-family=\"Times,serif\" font-size=\"14.00\">(None, 100)</text>\n</g>\n<!-- 134056458147280&#45;&gt;134057406024864 -->\n<g id=\"edge8\" class=\"edge\">\n<title>134056458147280-&gt;134057406024864</title>\n<path fill=\"none\" stroke=\"black\" d=\"M266.5,-332.37C266.5,-324.15 266.5,-314.66 266.5,-305.73\"/>\n<polygon fill=\"black\" stroke=\"black\" points=\"270,-305.61 266.5,-295.61 263,-305.61 270,-305.61\"/>\n</g>\n<!-- 134057406031296 -->\n<g id=\"node10\" class=\"node\">\n<title>134057406031296</title>\n<polygon fill=\"none\" stroke=\"black\" points=\"172.5,-166.5 172.5,-212.5 360.5,-212.5 360.5,-166.5 172.5,-166.5\"/>\n<text text-anchor=\"middle\" x=\"197.5\" y=\"-197.3\" font-family=\"Times,serif\" font-size=\"14.00\">fc-2</text>\n<polyline fill=\"none\" stroke=\"black\" points=\"172.5,-189.5 222.5,-189.5 \"/>\n<text text-anchor=\"middle\" x=\"197.5\" y=\"-174.3\" font-family=\"Times,serif\" font-size=\"14.00\">Dense</text>\n<polyline fill=\"none\" stroke=\"black\" points=\"222.5,-166.5 222.5,-212.5 \"/>\n<text text-anchor=\"middle\" x=\"250\" y=\"-197.3\" font-family=\"Times,serif\" font-size=\"14.00\">input:</text>\n<polyline fill=\"none\" stroke=\"black\" points=\"222.5,-189.5 277.5,-189.5 \"/>\n<text text-anchor=\"middle\" x=\"250\" y=\"-174.3\" font-family=\"Times,serif\" font-size=\"14.00\">output:</text>\n<polyline fill=\"none\" stroke=\"black\" points=\"277.5,-166.5 277.5,-212.5 \"/>\n<text text-anchor=\"middle\" x=\"319\" y=\"-197.3\" font-family=\"Times,serif\" font-size=\"14.00\">(None, 100)</text>\n<polyline fill=\"none\" stroke=\"black\" points=\"277.5,-189.5 360.5,-189.5 \"/>\n<text text-anchor=\"middle\" x=\"319\" y=\"-174.3\" font-family=\"Times,serif\" font-size=\"14.00\">(None, 50)</text>\n</g>\n<!-- 134057406024864&#45;&gt;134057406031296 -->\n<g id=\"edge9\" class=\"edge\">\n<title>134057406024864-&gt;134057406031296</title>\n<path fill=\"none\" stroke=\"black\" d=\"M266.5,-249.37C266.5,-241.15 266.5,-231.66 266.5,-222.73\"/>\n<polygon fill=\"black\" stroke=\"black\" points=\"270,-222.61 266.5,-212.61 263,-222.61 270,-222.61\"/>\n</g>\n<!-- 134057406036048 -->\n<g id=\"node11\" class=\"node\">\n<title>134057406036048</title>\n<polygon fill=\"none\" stroke=\"black\" points=\"158.5,-83.5 158.5,-129.5 374.5,-129.5 374.5,-83.5 158.5,-83.5\"/>\n<text text-anchor=\"middle\" x=\"201\" y=\"-114.3\" font-family=\"Times,serif\" font-size=\"14.00\">fc-2-dropout</text>\n<polyline fill=\"none\" stroke=\"black\" points=\"158.5,-106.5 243.5,-106.5 \"/>\n<text text-anchor=\"middle\" x=\"201\" y=\"-91.3\" font-family=\"Times,serif\" font-size=\"14.00\">Dropout</text>\n<polyline fill=\"none\" stroke=\"black\" points=\"243.5,-83.5 243.5,-129.5 \"/>\n<text text-anchor=\"middle\" x=\"271\" y=\"-114.3\" font-family=\"Times,serif\" font-size=\"14.00\">input:</text>\n<polyline fill=\"none\" stroke=\"black\" points=\"243.5,-106.5 298.5,-106.5 \"/>\n<text text-anchor=\"middle\" x=\"271\" y=\"-91.3\" font-family=\"Times,serif\" font-size=\"14.00\">output:</text>\n<polyline fill=\"none\" stroke=\"black\" points=\"298.5,-83.5 298.5,-129.5 \"/>\n<text text-anchor=\"middle\" x=\"336.5\" y=\"-114.3\" font-family=\"Times,serif\" font-size=\"14.00\">(None, 50)</text>\n<polyline fill=\"none\" stroke=\"black\" points=\"298.5,-106.5 374.5,-106.5 \"/>\n<text text-anchor=\"middle\" x=\"336.5\" y=\"-91.3\" font-family=\"Times,serif\" font-size=\"14.00\">(None, 50)</text>\n</g>\n<!-- 134057406031296&#45;&gt;134057406036048 -->\n<g id=\"edge10\" class=\"edge\">\n<title>134057406031296-&gt;134057406036048</title>\n<path fill=\"none\" stroke=\"black\" d=\"M266.5,-166.37C266.5,-158.15 266.5,-148.66 266.5,-139.73\"/>\n<polygon fill=\"black\" stroke=\"black\" points=\"270,-139.61 266.5,-129.61 263,-139.61 270,-139.61\"/>\n</g>\n<!-- 134057406034368 -->\n<g id=\"node12\" class=\"node\">\n<title>134057406034368</title>\n<polygon fill=\"none\" stroke=\"black\" points=\"176,-0.5 176,-46.5 357,-46.5 357,-0.5 176,-0.5\"/>\n<text text-anchor=\"middle\" x=\"201\" y=\"-31.3\" font-family=\"Times,serif\" font-size=\"14.00\">fc-3</text>\n<polyline fill=\"none\" stroke=\"black\" points=\"176,-23.5 226,-23.5 \"/>\n<text text-anchor=\"middle\" x=\"201\" y=\"-8.3\" font-family=\"Times,serif\" font-size=\"14.00\">Dense</text>\n<polyline fill=\"none\" stroke=\"black\" points=\"226,-0.5 226,-46.5 \"/>\n<text text-anchor=\"middle\" x=\"253.5\" y=\"-31.3\" font-family=\"Times,serif\" font-size=\"14.00\">input:</text>\n<polyline fill=\"none\" stroke=\"black\" points=\"226,-23.5 281,-23.5 \"/>\n<text text-anchor=\"middle\" x=\"253.5\" y=\"-8.3\" font-family=\"Times,serif\" font-size=\"14.00\">output:</text>\n<polyline fill=\"none\" stroke=\"black\" points=\"281,-0.5 281,-46.5 \"/>\n<text text-anchor=\"middle\" x=\"319\" y=\"-31.3\" font-family=\"Times,serif\" font-size=\"14.00\">(None, 50)</text>\n<polyline fill=\"none\" stroke=\"black\" points=\"281,-23.5 357,-23.5 \"/>\n<text text-anchor=\"middle\" x=\"319\" y=\"-8.3\" font-family=\"Times,serif\" font-size=\"14.00\">(None, 1)</text>\n</g>\n<!-- 134057406036048&#45;&gt;134057406034368 -->\n<g id=\"edge11\" class=\"edge\">\n<title>134057406036048-&gt;134057406034368</title>\n<path fill=\"none\" stroke=\"black\" d=\"M266.5,-83.37C266.5,-75.15 266.5,-65.66 266.5,-56.73\"/>\n<polygon fill=\"black\" stroke=\"black\" points=\"270,-56.61 266.5,-46.61 263,-56.61 270,-56.61\"/>\n</g>\n</g>\n</svg>"
          },
          "metadata": {},
          "execution_count": 12
        }
      ]
    },
    {
      "cell_type": "code",
      "source": [
        "model.summary()"
      ],
      "metadata": {
        "colab": {
          "base_uri": "https://localhost:8080/"
        },
        "id": "_swJioP9wqul",
        "outputId": "32c33555-9ed3-42d8-ff07-7276bb55bbfa"
      },
      "execution_count": 13,
      "outputs": [
        {
          "output_type": "stream",
          "name": "stdout",
          "text": [
            "Model: \"model_2\"\n",
            "__________________________________________________________________________________________________\n",
            " Layer (type)                Output Shape                 Param #   Connected to                  \n",
            "==================================================================================================\n",
            " movie-input (InputLayer)    [(None, 1)]                  0         []                            \n",
            "                                                                                                  \n",
            " user-input (InputLayer)     [(None, 1)]                  0         []                            \n",
            "                                                                                                  \n",
            " movie-embedding (Embedding  (None, 1, 10)                97250     ['movie-input[0][0]']         \n",
            " )                                                                                                \n",
            "                                                                                                  \n",
            " user-embedding (Embedding)  (None, 1, 10)                6110      ['user-input[0][0]']          \n",
            "                                                                                                  \n",
            " movie-flatten (Flatten)     (None, 10)                   0         ['movie-embedding[0][0]']     \n",
            "                                                                                                  \n",
            " user-flatten (Flatten)      (None, 10)                   0         ['user-embedding[0][0]']      \n",
            "                                                                                                  \n",
            " movie-user-concat (Dot)     (None, 1)                    0         ['movie-flatten[0][0]',       \n",
            "                                                                     'user-flatten[0][0]']        \n",
            "                                                                                                  \n",
            " fc-1 (Dense)                (None, 100)                  200       ['movie-user-concat[0][0]']   \n",
            "                                                                                                  \n",
            " fc-1-dropout (Dropout)      (None, 100)                  0         ['fc-1[0][0]']                \n",
            "                                                                                                  \n",
            " fc-2 (Dense)                (None, 50)                   5050      ['fc-1-dropout[0][0]']        \n",
            "                                                                                                  \n",
            " fc-2-dropout (Dropout)      (None, 50)                   0         ['fc-2[0][0]']                \n",
            "                                                                                                  \n",
            " fc-3 (Dense)                (None, 1)                    51        ['fc-2-dropout[0][0]']        \n",
            "                                                                                                  \n",
            "==================================================================================================\n",
            "Total params: 108661 (424.46 KB)\n",
            "Trainable params: 108661 (424.46 KB)\n",
            "Non-trainable params: 0 (0.00 Byte)\n",
            "__________________________________________________________________________________________________\n"
          ]
        }
      ]
    },
    {
      "cell_type": "code",
      "source": [
        "import matplotlib.pyplot as plt\n",
        "from sklearn.metrics import mean_absolute_error\n",
        "history = model.fit([train.user_id, train.movie_id], train.rating, epochs=10)\n",
        "pd.Series(history.history['loss']).plot(logy=True)\n",
        "plt.xlabel(\"Epoch\")\n",
        "plt.ylabel(\"Train Error\")\n",
        "plt.show()\n",
        "\n",
        "y_hat = np.round(model.predict([test.user_id, test.movie_id]), decimals=2)\n",
        "y_true = test.rating\n",
        "mean_absolute_error(y_true, y_hat)"
      ],
      "metadata": {
        "colab": {
          "base_uri": "https://localhost:8080/",
          "height": 831
        },
        "id": "EXpI8t2Bwrwq",
        "outputId": "6a11ed07-1e86-4d21-f160-dc9733da2d31"
      },
      "execution_count": 14,
      "outputs": [
        {
          "output_type": "stream",
          "name": "stdout",
          "text": [
            "Epoch 1/10\n",
            "2521/2521 [==============================] - 12s 4ms/step - loss: 1.3034\n",
            "Epoch 2/10\n",
            "2521/2521 [==============================] - 9s 3ms/step - loss: 1.0936\n",
            "Epoch 3/10\n",
            "2521/2521 [==============================] - 9s 3ms/step - loss: 1.2470\n",
            "Epoch 4/10\n",
            "2521/2521 [==============================] - 9s 3ms/step - loss: 1.0987\n",
            "Epoch 5/10\n",
            "2521/2521 [==============================] - 9s 3ms/step - loss: 1.1088\n",
            "Epoch 6/10\n",
            "2521/2521 [==============================] - 9s 3ms/step - loss: 1.0944\n",
            "Epoch 7/10\n",
            "2521/2521 [==============================] - 9s 3ms/step - loss: 1.0941\n",
            "Epoch 8/10\n",
            "2521/2521 [==============================] - 9s 3ms/step - loss: 1.0943\n",
            "Epoch 9/10\n",
            "2521/2521 [==============================] - 9s 3ms/step - loss: 1.0951\n",
            "Epoch 10/10\n",
            "2521/2521 [==============================] - 9s 3ms/step - loss: 1.0951\n"
          ]
        },
        {
          "output_type": "display_data",
          "data": {
            "text/plain": [
              "<Figure size 640x480 with 1 Axes>"
            ],
            "image/png": "[encoded data removed]"
          },
          "metadata": {}
        },
        {
          "output_type": "stream",
          "name": "stdout",
          "text": [
            "631/631 [==============================] - 1s 1ms/step\n"
          ]
        },
        {
          "output_type": "execute_result",
          "data": {
            "text/plain": [
              "0.8589538110243522"
            ]
          },
          "metadata": {},
          "execution_count": 14
        }
      ]
    },
    {
      "cell_type": "markdown",
      "source": [
        "## Multi-Layer Perceptron"
      ],
      "metadata": {
        "id": "9qpIMiY7wtq5"
      }
    },
    {
      "cell_type": "code",
      "source": [
        "from keras.models import Model, Sequential\n",
        "from keras.layers import Embedding, Flatten, Input, Concatenate, Dot, Dropout, Dense, BatchNormalization\n",
        "from keras.optimizers import Adam\n",
        "from keras.utils import model_to_dot\n",
        "from IPython.display import SVG\n",
        "\n",
        "latent_dim = 10\n",
        "\n",
        "# Define inputs\n",
        "movie_input = Input(shape=[1],name='movie-input')\n",
        "user_input = Input(shape=[1], name='user-input')\n",
        "\n",
        "# MLP Embeddings\n",
        "movie_embedding_mlp = Embedding(num_movies + 1, latent_dim, name='movie-embedding-mlp')(movie_input)\n",
        "movie_vec_mlp = Flatten(name='flatten-movie-mlp')(movie_embedding_mlp)\n",
        "\n",
        "user_embedding_mlp = Embedding(num_users + 1, latent_dim, name='user-embedding-mlp')(user_input)\n",
        "user_vec_mlp = Flatten(name='flatten-user-mlp')(user_embedding_mlp)\n",
        "\n",
        "# MF Embeddings\n",
        "movie_embedding_mf = Embedding(num_movies + 1, latent_dim, name='movie-embedding-mf')(movie_input)\n",
        "movie_vec_mf = Flatten(name='flatten-movie-mf')(movie_embedding_mf)\n",
        "\n",
        "user_embedding_mf = Embedding(num_users + 1, latent_dim, name='user-embedding-mf')(user_input)\n",
        "user_vec_mf = Flatten(name='flatten-user-mf')(user_embedding_mf)\n",
        "\n",
        "# MLP layers\n",
        "concat = Concatenate(name='concat')([movie_vec_mlp, user_vec_mlp])\n",
        "concat_dropout = Dropout(0.2)(concat)\n",
        "fc_1 = Dense(100, name='fc-1', activation='relu')(concat_dropout)\n",
        "fc_1_bn = BatchNormalization(name='batch-norm-1')(fc_1)\n",
        "fc_1_dropout = Dropout(0.2)(fc_1_bn)\n",
        "fc_2 = Dense(50, name='fc-2', activation='relu')(fc_1_dropout)\n",
        "fc_2_bn = BatchNormalization(name='batch-norm-2')(fc_2)\n",
        "fc_2_dropout = Dropout(0.2)(fc_2_bn)\n",
        "\n",
        "# Prediction from both layers\n",
        "pred_mlp = Dense(10, name='pred-mlp', activation='relu')(fc_2_dropout)\n",
        "pred_mf = Dot(axes=1, name='pred-mf')([movie_vec_mf, user_vec_mf])\n",
        "combine_mlp_mf = Concatenate(name='combine-mlp-mf')([pred_mf, pred_mlp])\n",
        "\n",
        "# Final prediction\n",
        "result = Dense(1, name='result', activation='relu')(combine_mlp_mf)\n",
        "\n",
        "model = Model([user_input, movie_input], result)\n",
        "model.compile(optimizer=Adam(learning_rate=0.01), loss='mean_absolute_error')\n",
        "\n",
        "dot = model_to_dot(model, show_shapes=True, dpi=55)\n",
        "\n",
        "SVG(dot.create(prog='dot', format='svg'))"
      ],
      "metadata": {
        "colab": {
          "base_uri": "https://localhost:8080/",
          "height": 1000
        },
        "id": "ZVl4lOgYwufE",
        "outputId": "12c989c0-9437-4dd9-ae2c-6531bbf538ef"
      },
      "execution_count": 15,
      "outputs": [
        {
          "output_type": "execute_result",
          "data": {
            "text/plain": [
              "<IPython.core.display.SVG object>"
            ],
            "image/svg+xml": "<svg xmlns=\"http://www.w3.org/2000/svg\" xmlns:xlink=\"http://www.w3.org/1999/xlink\" width=\"900pt\" height=\"866pt\" viewBox=\"0.00 0.00 1178.00 1134.00\">\n<g id=\"graph0\" class=\"graph\" transform=\"scale(0.76 0.76) rotate(0) translate(4 1130)\">\n<title>G</title>\n<polygon fill=\"white\" stroke=\"transparent\" points=\"-4,4 -4,-1130 1174,-1130 1174,4 -4,4\"/>\n<!-- 134056064812464 -->\n<g id=\"node1\" class=\"node\">\n<title>134056064812464</title>\n<polygon fill=\"none\" stroke=\"black\" points=\"185,-1079.5 185,-1125.5 401,-1125.5 401,-1079.5 185,-1079.5\"/>\n<text text-anchor=\"middle\" x=\"226.5\" y=\"-1110.3\" font-family=\"Times,serif\" font-size=\"14.00\">movie-input</text>\n<polyline fill=\"none\" stroke=\"black\" points=\"185,-1102.5 268,-1102.5 \"/>\n<text text-anchor=\"middle\" x=\"226.5\" y=\"-1087.3\" font-family=\"Times,serif\" font-size=\"14.00\">InputLayer</text>\n<polyline fill=\"none\" stroke=\"black\" points=\"268,-1079.5 268,-1125.5 \"/>\n<text text-anchor=\"middle\" x=\"295.5\" y=\"-1110.3\" font-family=\"Times,serif\" font-size=\"14.00\">input:</text>\n<polyline fill=\"none\" stroke=\"black\" points=\"268,-1102.5 323,-1102.5 \"/>\n<text text-anchor=\"middle\" x=\"295.5\" y=\"-1087.3\" font-family=\"Times,serif\" font-size=\"14.00\">output:</text>\n<polyline fill=\"none\" stroke=\"black\" points=\"323,-1079.5 323,-1125.5 \"/>\n<text text-anchor=\"middle\" x=\"362\" y=\"-1110.3\" font-family=\"Times,serif\" font-size=\"14.00\">[(None, 1)]</text>\n<polyline fill=\"none\" stroke=\"black\" points=\"323,-1102.5 401,-1102.5 \"/>\n<text text-anchor=\"middle\" x=\"362\" y=\"-1087.3\" font-family=\"Times,serif\" font-size=\"14.00\">[(None, 1)]</text>\n</g>\n<!-- 134056064813904 -->\n<g id=\"node3\" class=\"node\">\n<title>134056064813904</title>\n<polygon fill=\"none\" stroke=\"black\" points=\"300,-996.5 300,-1042.5 588,-1042.5 588,-996.5 300,-996.5\"/>\n<text text-anchor=\"middle\" x=\"371.5\" y=\"-1027.3\" font-family=\"Times,serif\" font-size=\"14.00\">movie-embedding-mlp</text>\n<polyline fill=\"none\" stroke=\"black\" points=\"300,-1019.5 443,-1019.5 \"/>\n<text text-anchor=\"middle\" x=\"371.5\" y=\"-1004.3\" font-family=\"Times,serif\" font-size=\"14.00\">Embedding</text>\n<polyline fill=\"none\" stroke=\"black\" points=\"443,-996.5 443,-1042.5 \"/>\n<text text-anchor=\"middle\" x=\"470.5\" y=\"-1027.3\" font-family=\"Times,serif\" font-size=\"14.00\">input:</text>\n<polyline fill=\"none\" stroke=\"black\" points=\"443,-1019.5 498,-1019.5 \"/>\n<text text-anchor=\"middle\" x=\"470.5\" y=\"-1004.3\" font-family=\"Times,serif\" font-size=\"14.00\">output:</text>\n<polyline fill=\"none\" stroke=\"black\" points=\"498,-996.5 498,-1042.5 \"/>\n<text text-anchor=\"middle\" x=\"543\" y=\"-1027.3\" font-family=\"Times,serif\" font-size=\"14.00\">(None, 1)</text>\n<polyline fill=\"none\" stroke=\"black\" points=\"498,-1019.5 588,-1019.5 \"/>\n<text text-anchor=\"middle\" x=\"543\" y=\"-1004.3\" font-family=\"Times,serif\" font-size=\"14.00\">(None, 1, 10)</text>\n</g>\n<!-- 134056064812464&#45;&gt;134056064813904 -->\n<g id=\"edge1\" class=\"edge\">\n<title>134056064812464-&gt;134056064813904</title>\n<path fill=\"none\" stroke=\"black\" d=\"M334.26,-1079.37C352.65,-1069.5 374.49,-1057.79 393.82,-1047.42\"/>\n<polygon fill=\"black\" stroke=\"black\" points=\"395.63,-1050.42 402.79,-1042.61 392.32,-1044.25 395.63,-1050.42\"/>\n</g>\n<!-- 134056064122544 -->\n<g id=\"node13\" class=\"node\">\n<title>134056064122544</title>\n<polygon fill=\"none\" stroke=\"black\" points=\"0,-996.5 0,-1042.5 282,-1042.5 282,-996.5 0,-996.5\"/>\n<text text-anchor=\"middle\" x=\"68.5\" y=\"-1027.3\" font-family=\"Times,serif\" font-size=\"14.00\">movie-embedding-mf</text>\n<polyline fill=\"none\" stroke=\"black\" points=\"0,-1019.5 137,-1019.5 \"/>\n<text text-anchor=\"middle\" x=\"68.5\" y=\"-1004.3\" font-family=\"Times,serif\" font-size=\"14.00\">Embedding</text>\n<polyline fill=\"none\" stroke=\"black\" points=\"137,-996.5 137,-1042.5 \"/>\n<text text-anchor=\"middle\" x=\"164.5\" y=\"-1027.3\" font-family=\"Times,serif\" font-size=\"14.00\">input:</text>\n<polyline fill=\"none\" stroke=\"black\" points=\"137,-1019.5 192,-1019.5 \"/>\n<text text-anchor=\"middle\" x=\"164.5\" y=\"-1004.3\" font-family=\"Times,serif\" font-size=\"14.00\">output:</text>\n<polyline fill=\"none\" stroke=\"black\" points=\"192,-996.5 192,-1042.5 \"/>\n<text text-anchor=\"middle\" x=\"237\" y=\"-1027.3\" font-family=\"Times,serif\" font-size=\"14.00\">(None, 1)</text>\n<polyline fill=\"none\" stroke=\"black\" points=\"192,-1019.5 282,-1019.5 \"/>\n<text text-anchor=\"middle\" x=\"237\" y=\"-1004.3\" font-family=\"Times,serif\" font-size=\"14.00\">(None, 1, 10)</text>\n</g>\n<!-- 134056064812464&#45;&gt;134056064122544 -->\n<g id=\"edge12\" class=\"edge\">\n<title>134056064812464-&gt;134056064122544</title>\n<path fill=\"none\" stroke=\"black\" d=\"M251.47,-1079.37C232.95,-1069.5 210.97,-1057.79 191.52,-1047.42\"/>\n<polygon fill=\"black\" stroke=\"black\" points=\"192.96,-1044.22 182.48,-1042.61 189.66,-1050.4 192.96,-1044.22\"/>\n</g>\n<!-- 134056064812416 -->\n<g id=\"node2\" class=\"node\">\n<title>134056064812416</title>\n<polygon fill=\"none\" stroke=\"black\" points=\"781,-1079.5 781,-1125.5 991,-1125.5 991,-1079.5 781,-1079.5\"/>\n<text text-anchor=\"middle\" x=\"819.5\" y=\"-1110.3\" font-family=\"Times,serif\" font-size=\"14.00\">user-input</text>\n<polyline fill=\"none\" stroke=\"black\" points=\"781,-1102.5 858,-1102.5 \"/>\n<text text-anchor=\"middle\" x=\"819.5\" y=\"-1087.3\" font-family=\"Times,serif\" font-size=\"14.00\">InputLayer</text>\n<polyline fill=\"none\" stroke=\"black\" points=\"858,-1079.5 858,-1125.5 \"/>\n<text text-anchor=\"middle\" x=\"885.5\" y=\"-1110.3\" font-family=\"Times,serif\" font-size=\"14.00\">input:</text>\n<polyline fill=\"none\" stroke=\"black\" points=\"858,-1102.5 913,-1102.5 \"/>\n<text text-anchor=\"middle\" x=\"885.5\" y=\"-1087.3\" font-family=\"Times,serif\" font-size=\"14.00\">output:</text>\n<polyline fill=\"none\" stroke=\"black\" points=\"913,-1079.5 913,-1125.5 \"/>\n<text text-anchor=\"middle\" x=\"952\" y=\"-1110.3\" font-family=\"Times,serif\" font-size=\"14.00\">[(None, 1)]</text>\n<polyline fill=\"none\" stroke=\"black\" points=\"913,-1102.5 991,-1102.5 \"/>\n<text text-anchor=\"middle\" x=\"952\" y=\"-1087.3\" font-family=\"Times,serif\" font-size=\"14.00\">[(None, 1)]</text>\n</g>\n<!-- 134056064367056 -->\n<g id=\"node4\" class=\"node\">\n<title>134056064367056</title>\n<polygon fill=\"none\" stroke=\"black\" points=\"894,-996.5 894,-1042.5 1170,-1042.5 1170,-996.5 894,-996.5\"/>\n<text text-anchor=\"middle\" x=\"959.5\" y=\"-1027.3\" font-family=\"Times,serif\" font-size=\"14.00\">user-embedding-mlp</text>\n<polyline fill=\"none\" stroke=\"black\" points=\"894,-1019.5 1025,-1019.5 \"/>\n<text text-anchor=\"middle\" x=\"959.5\" y=\"-1004.3\" font-family=\"Times,serif\" font-size=\"14.00\">Embedding</text>\n<polyline fill=\"none\" stroke=\"black\" points=\"1025,-996.5 1025,-1042.5 \"/>\n<text text-anchor=\"middle\" x=\"1052.5\" y=\"-1027.3\" font-family=\"Times,serif\" font-size=\"14.00\">input:</text>\n<polyline fill=\"none\" stroke=\"black\" points=\"1025,-1019.5 1080,-1019.5 \"/>\n<text text-anchor=\"middle\" x=\"1052.5\" y=\"-1004.3\" font-family=\"Times,serif\" font-size=\"14.00\">output:</text>\n<polyline fill=\"none\" stroke=\"black\" points=\"1080,-996.5 1080,-1042.5 \"/>\n<text text-anchor=\"middle\" x=\"1125\" y=\"-1027.3\" font-family=\"Times,serif\" font-size=\"14.00\">(None, 1)</text>\n<polyline fill=\"none\" stroke=\"black\" points=\"1080,-1019.5 1170,-1019.5 \"/>\n<text text-anchor=\"middle\" x=\"1125\" y=\"-1004.3\" font-family=\"Times,serif\" font-size=\"14.00\">(None, 1, 10)</text>\n</g>\n<!-- 134056064812416&#45;&gt;134056064367056 -->\n<g id=\"edge2\" class=\"edge\">\n<title>134056064812416-&gt;134056064367056</title>\n<path fill=\"none\" stroke=\"black\" d=\"M925.9,-1079.37C943.6,-1069.54 964.6,-1057.89 983.22,-1047.56\"/>\n<polygon fill=\"black\" stroke=\"black\" points=\"985.11,-1050.52 992.15,-1042.61 981.71,-1044.4 985.11,-1050.52\"/>\n</g>\n<!-- 134056064358608 -->\n<g id=\"node14\" class=\"node\">\n<title>134056064358608</title>\n<polygon fill=\"none\" stroke=\"black\" points=\"606,-996.5 606,-1042.5 876,-1042.5 876,-996.5 606,-996.5\"/>\n<text text-anchor=\"middle\" x=\"668.5\" y=\"-1027.3\" font-family=\"Times,serif\" font-size=\"14.00\">user-embedding-mf</text>\n<polyline fill=\"none\" stroke=\"black\" points=\"606,-1019.5 731,-1019.5 \"/>\n<text text-anchor=\"middle\" x=\"668.5\" y=\"-1004.3\" font-family=\"Times,serif\" font-size=\"14.00\">Embedding</text>\n<polyline fill=\"none\" stroke=\"black\" points=\"731,-996.5 731,-1042.5 \"/>\n<text text-anchor=\"middle\" x=\"758.5\" y=\"-1027.3\" font-family=\"Times,serif\" font-size=\"14.00\">input:</text>\n<polyline fill=\"none\" stroke=\"black\" points=\"731,-1019.5 786,-1019.5 \"/>\n<text text-anchor=\"middle\" x=\"758.5\" y=\"-1004.3\" font-family=\"Times,serif\" font-size=\"14.00\">output:</text>\n<polyline fill=\"none\" stroke=\"black\" points=\"786,-996.5 786,-1042.5 \"/>\n<text text-anchor=\"middle\" x=\"831\" y=\"-1027.3\" font-family=\"Times,serif\" font-size=\"14.00\">(None, 1)</text>\n<polyline fill=\"none\" stroke=\"black\" points=\"786,-1019.5 876,-1019.5 \"/>\n<text text-anchor=\"middle\" x=\"831\" y=\"-1004.3\" font-family=\"Times,serif\" font-size=\"14.00\">(None, 1, 10)</text>\n</g>\n<!-- 134056064812416&#45;&gt;134056064358608 -->\n<g id=\"edge13\" class=\"edge\">\n<title>134056064812416-&gt;134056064358608</title>\n<path fill=\"none\" stroke=\"black\" d=\"M846.38,-1079.37C828.8,-1069.54 807.94,-1057.89 789.44,-1047.56\"/>\n<polygon fill=\"black\" stroke=\"black\" points=\"791.01,-1044.43 780.57,-1042.61 787.6,-1050.54 791.01,-1044.43\"/>\n</g>\n<!-- 134056064811456 -->\n<g id=\"node5\" class=\"node\">\n<title>134056064811456</title>\n<polygon fill=\"none\" stroke=\"black\" points=\"320.5,-913.5 320.5,-959.5 581.5,-959.5 581.5,-913.5 320.5,-913.5\"/>\n<text text-anchor=\"middle\" x=\"378.5\" y=\"-944.3\" font-family=\"Times,serif\" font-size=\"14.00\">flatten-movie-mlp</text>\n<polyline fill=\"none\" stroke=\"black\" points=\"320.5,-936.5 436.5,-936.5 \"/>\n<text text-anchor=\"middle\" x=\"378.5\" y=\"-921.3\" font-family=\"Times,serif\" font-size=\"14.00\">Flatten</text>\n<polyline fill=\"none\" stroke=\"black\" points=\"436.5,-913.5 436.5,-959.5 \"/>\n<text text-anchor=\"middle\" x=\"464\" y=\"-944.3\" font-family=\"Times,serif\" font-size=\"14.00\">input:</text>\n<polyline fill=\"none\" stroke=\"black\" points=\"436.5,-936.5 491.5,-936.5 \"/>\n<text text-anchor=\"middle\" x=\"464\" y=\"-921.3\" font-family=\"Times,serif\" font-size=\"14.00\">output:</text>\n<polyline fill=\"none\" stroke=\"black\" points=\"491.5,-913.5 491.5,-959.5 \"/>\n<text text-anchor=\"middle\" x=\"536.5\" y=\"-944.3\" font-family=\"Times,serif\" font-size=\"14.00\">(None, 1, 10)</text>\n<polyline fill=\"none\" stroke=\"black\" points=\"491.5,-936.5 581.5,-936.5 \"/>\n<text text-anchor=\"middle\" x=\"536.5\" y=\"-921.3\" font-family=\"Times,serif\" font-size=\"14.00\">(None, 10)</text>\n</g>\n<!-- 134056064813904&#45;&gt;134056064811456 -->\n<g id=\"edge3\" class=\"edge\">\n<title>134056064813904-&gt;134056064811456</title>\n<path fill=\"none\" stroke=\"black\" d=\"M445.91,-996.37C446.62,-988.15 447.44,-978.66 448.22,-969.73\"/>\n<polygon fill=\"black\" stroke=\"black\" points=\"451.72,-969.87 449.09,-959.61 444.74,-969.27 451.72,-969.87\"/>\n</g>\n<!-- 134057983413456 -->\n<g id=\"node6\" class=\"node\">\n<title>134057983413456</title>\n<polygon fill=\"none\" stroke=\"black\" points=\"893.5,-913.5 893.5,-959.5 1142.5,-959.5 1142.5,-913.5 893.5,-913.5\"/>\n<text text-anchor=\"middle\" x=\"945.5\" y=\"-944.3\" font-family=\"Times,serif\" font-size=\"14.00\">flatten-user-mlp</text>\n<polyline fill=\"none\" stroke=\"black\" points=\"893.5,-936.5 997.5,-936.5 \"/>\n<text text-anchor=\"middle\" x=\"945.5\" y=\"-921.3\" font-family=\"Times,serif\" font-size=\"14.00\">Flatten</text>\n<polyline fill=\"none\" stroke=\"black\" points=\"997.5,-913.5 997.5,-959.5 \"/>\n<text text-anchor=\"middle\" x=\"1025\" y=\"-944.3\" font-family=\"Times,serif\" font-size=\"14.00\">input:</text>\n<polyline fill=\"none\" stroke=\"black\" points=\"997.5,-936.5 1052.5,-936.5 \"/>\n<text text-anchor=\"middle\" x=\"1025\" y=\"-921.3\" font-family=\"Times,serif\" font-size=\"14.00\">output:</text>\n<polyline fill=\"none\" stroke=\"black\" points=\"1052.5,-913.5 1052.5,-959.5 \"/>\n<text text-anchor=\"middle\" x=\"1097.5\" y=\"-944.3\" font-family=\"Times,serif\" font-size=\"14.00\">(None, 1, 10)</text>\n<polyline fill=\"none\" stroke=\"black\" points=\"1052.5,-936.5 1142.5,-936.5 \"/>\n<text text-anchor=\"middle\" x=\"1097.5\" y=\"-921.3\" font-family=\"Times,serif\" font-size=\"14.00\">(None, 10)</text>\n</g>\n<!-- 134056064367056&#45;&gt;134057983413456 -->\n<g id=\"edge4\" class=\"edge\">\n<title>134056064367056-&gt;134057983413456</title>\n<path fill=\"none\" stroke=\"black\" d=\"M1028.17,-996.37C1026.75,-988.15 1025.11,-978.66 1023.57,-969.73\"/>\n<polygon fill=\"black\" stroke=\"black\" points=\"1026.97,-968.86 1021.82,-959.61 1020.08,-970.06 1026.97,-968.86\"/>\n</g>\n<!-- 134057982971616 -->\n<g id=\"node7\" class=\"node\">\n<title>134057982971616</title>\n<polygon fill=\"none\" stroke=\"black\" points=\"570,-830.5 570,-876.5 860,-876.5 860,-830.5 570,-830.5\"/>\n<text text-anchor=\"middle\" x=\"611.5\" y=\"-861.3\" font-family=\"Times,serif\" font-size=\"14.00\">concat</text>\n<polyline fill=\"none\" stroke=\"black\" points=\"570,-853.5 653,-853.5 \"/>\n<text text-anchor=\"middle\" x=\"611.5\" y=\"-838.3\" font-family=\"Times,serif\" font-size=\"14.00\">Concatenate</text>\n<polyline fill=\"none\" stroke=\"black\" points=\"653,-830.5 653,-876.5 \"/>\n<text text-anchor=\"middle\" x=\"680.5\" y=\"-861.3\" font-family=\"Times,serif\" font-size=\"14.00\">input:</text>\n<polyline fill=\"none\" stroke=\"black\" points=\"653,-853.5 708,-853.5 \"/>\n<text text-anchor=\"middle\" x=\"680.5\" y=\"-838.3\" font-family=\"Times,serif\" font-size=\"14.00\">output:</text>\n<polyline fill=\"none\" stroke=\"black\" points=\"708,-830.5 708,-876.5 \"/>\n<text text-anchor=\"middle\" x=\"784\" y=\"-861.3\" font-family=\"Times,serif\" font-size=\"14.00\">[(None, 10), (None, 10)]</text>\n<polyline fill=\"none\" stroke=\"black\" points=\"708,-853.5 860,-853.5 \"/>\n<text text-anchor=\"middle\" x=\"784\" y=\"-838.3\" font-family=\"Times,serif\" font-size=\"14.00\">(None, 20)</text>\n</g>\n<!-- 134056064811456&#45;&gt;134057982971616 -->\n<g id=\"edge5\" class=\"edge\">\n<title>134056064811456-&gt;134057982971616</title>\n<path fill=\"none\" stroke=\"black\" d=\"M522.79,-913.47C556.98,-902.98 598.04,-890.39 633.41,-879.53\"/>\n<polygon fill=\"black\" stroke=\"black\" points=\"634.69,-882.8 643.22,-876.52 632.64,-876.11 634.69,-882.8\"/>\n</g>\n<!-- 134057983413456&#45;&gt;134057982971616 -->\n<g id=\"edge6\" class=\"edge\">\n<title>134057983413456-&gt;134057982971616</title>\n<path fill=\"none\" stroke=\"black\" d=\"M935.6,-913.47C895.86,-902.85 848.03,-890.06 807.09,-879.12\"/>\n<polygon fill=\"black\" stroke=\"black\" points=\"807.94,-875.72 797.38,-876.52 806.14,-882.49 807.94,-875.72\"/>\n</g>\n<!-- 134056064367344 -->\n<g id=\"node8\" class=\"node\">\n<title>134056064367344</title>\n<polygon fill=\"none\" stroke=\"black\" points=\"604.5,-747.5 604.5,-793.5 807.5,-793.5 807.5,-747.5 604.5,-747.5\"/>\n<text text-anchor=\"middle\" x=\"640.5\" y=\"-778.3\" font-family=\"Times,serif\" font-size=\"14.00\">dropout_1</text>\n<polyline fill=\"none\" stroke=\"black\" points=\"604.5,-770.5 676.5,-770.5 \"/>\n<text text-anchor=\"middle\" x=\"640.5\" y=\"-755.3\" font-family=\"Times,serif\" font-size=\"14.00\">Dropout</text>\n<polyline fill=\"none\" stroke=\"black\" points=\"676.5,-747.5 676.5,-793.5 \"/>\n<text text-anchor=\"middle\" x=\"704\" y=\"-778.3\" font-family=\"Times,serif\" font-size=\"14.00\">input:</text>\n<polyline fill=\"none\" stroke=\"black\" points=\"676.5,-770.5 731.5,-770.5 \"/>\n<text text-anchor=\"middle\" x=\"704\" y=\"-755.3\" font-family=\"Times,serif\" font-size=\"14.00\">output:</text>\n<polyline fill=\"none\" stroke=\"black\" points=\"731.5,-747.5 731.5,-793.5 \"/>\n<text text-anchor=\"middle\" x=\"769.5\" y=\"-778.3\" font-family=\"Times,serif\" font-size=\"14.00\">(None, 20)</text>\n<polyline fill=\"none\" stroke=\"black\" points=\"731.5,-770.5 807.5,-770.5 \"/>\n<text text-anchor=\"middle\" x=\"769.5\" y=\"-755.3\" font-family=\"Times,serif\" font-size=\"14.00\">(None, 20)</text>\n</g>\n<!-- 134057982971616&#45;&gt;134056064367344 -->\n<g id=\"edge7\" class=\"edge\">\n<title>134057982971616-&gt;134056064367344</title>\n<path fill=\"none\" stroke=\"black\" d=\"M712.54,-830.37C711.63,-822.15 710.57,-812.66 709.58,-803.73\"/>\n<polygon fill=\"black\" stroke=\"black\" points=\"713.04,-803.16 708.46,-793.61 706.08,-803.93 713.04,-803.16\"/>\n</g>\n<!-- 134056064359952 -->\n<g id=\"node9\" class=\"node\">\n<title>134056064359952</title>\n<polygon fill=\"none\" stroke=\"black\" points=\"595,-664.5 595,-710.5 783,-710.5 783,-664.5 595,-664.5\"/>\n<text text-anchor=\"middle\" x=\"620\" y=\"-695.3\" font-family=\"Times,serif\" font-size=\"14.00\">fc-1</text>\n<polyline fill=\"none\" stroke=\"black\" points=\"595,-687.5 645,-687.5 \"/>\n<text text-anchor=\"middle\" x=\"620\" y=\"-672.3\" font-family=\"Times,serif\" font-size=\"14.00\">Dense</text>\n<polyline fill=\"none\" stroke=\"black\" points=\"645,-664.5 645,-710.5 \"/>\n<text text-anchor=\"middle\" x=\"672.5\" y=\"-695.3\" font-family=\"Times,serif\" font-size=\"14.00\">input:</text>\n<polyline fill=\"none\" stroke=\"black\" points=\"645,-687.5 700,-687.5 \"/>\n<text text-anchor=\"middle\" x=\"672.5\" y=\"-672.3\" font-family=\"Times,serif\" font-size=\"14.00\">output:</text>\n<polyline fill=\"none\" stroke=\"black\" points=\"700,-664.5 700,-710.5 \"/>\n<text text-anchor=\"middle\" x=\"741.5\" y=\"-695.3\" font-family=\"Times,serif\" font-size=\"14.00\">(None, 20)</text>\n<polyline fill=\"none\" stroke=\"black\" points=\"700,-687.5 783,-687.5 \"/>\n<text text-anchor=\"middle\" x=\"741.5\" y=\"-672.3\" font-family=\"Times,serif\" font-size=\"14.00\">(None, 100)</text>\n</g>\n<!-- 134056064367344&#45;&gt;134056064359952 -->\n<g id=\"edge8\" class=\"edge\">\n<title>134056064367344-&gt;134056064359952</title>\n<path fill=\"none\" stroke=\"black\" d=\"M701.35,-747.37C699.61,-739.06 697.59,-729.45 695.7,-720.43\"/>\n<polygon fill=\"black\" stroke=\"black\" points=\"699.12,-719.67 693.64,-710.61 692.27,-721.11 699.12,-719.67\"/>\n</g>\n<!-- 134058042217984 -->\n<g id=\"node10\" class=\"node\">\n<title>134058042217984</title>\n<polygon fill=\"none\" stroke=\"black\" points=\"548.5,-581.5 548.5,-627.5 813.5,-627.5 813.5,-581.5 548.5,-581.5\"/>\n<text text-anchor=\"middle\" x=\"612\" y=\"-612.3\" font-family=\"Times,serif\" font-size=\"14.00\">batch-norm-1</text>\n<polyline fill=\"none\" stroke=\"black\" points=\"548.5,-604.5 675.5,-604.5 \"/>\n<text text-anchor=\"middle\" x=\"612\" y=\"-589.3\" font-family=\"Times,serif\" font-size=\"14.00\">BatchNormalization</text>\n<polyline fill=\"none\" stroke=\"black\" points=\"675.5,-581.5 675.5,-627.5 \"/>\n<text text-anchor=\"middle\" x=\"703\" y=\"-612.3\" font-family=\"Times,serif\" font-size=\"14.00\">input:</text>\n<polyline fill=\"none\" stroke=\"black\" points=\"675.5,-604.5 730.5,-604.5 \"/>\n<text text-anchor=\"middle\" x=\"703\" y=\"-589.3\" font-family=\"Times,serif\" font-size=\"14.00\">output:</text>\n<polyline fill=\"none\" stroke=\"black\" points=\"730.5,-581.5 730.5,-627.5 \"/>\n<text text-anchor=\"middle\" x=\"772\" y=\"-612.3\" font-family=\"Times,serif\" font-size=\"14.00\">(None, 100)</text>\n<polyline fill=\"none\" stroke=\"black\" points=\"730.5,-604.5 813.5,-604.5 \"/>\n<text text-anchor=\"middle\" x=\"772\" y=\"-589.3\" font-family=\"Times,serif\" font-size=\"14.00\">(None, 100)</text>\n</g>\n<!-- 134056064359952&#45;&gt;134058042217984 -->\n<g id=\"edge9\" class=\"edge\">\n<title>134056064359952-&gt;134058042217984</title>\n<path fill=\"none\" stroke=\"black\" d=\"M686.81,-664.37C686,-656.15 685.06,-646.66 684.18,-637.73\"/>\n<polygon fill=\"black\" stroke=\"black\" points=\"687.65,-637.21 683.18,-627.61 680.68,-637.9 687.65,-637.21\"/>\n</g>\n<!-- 134057406036960 -->\n<g id=\"node11\" class=\"node\">\n<title>134057406036960</title>\n<polygon fill=\"none\" stroke=\"black\" points=\"558,-498.5 558,-544.5 768,-544.5 768,-498.5 558,-498.5\"/>\n<text text-anchor=\"middle\" x=\"594\" y=\"-529.3\" font-family=\"Times,serif\" font-size=\"14.00\">dropout_2</text>\n<polyline fill=\"none\" stroke=\"black\" points=\"558,-521.5 630,-521.5 \"/>\n<text text-anchor=\"middle\" x=\"594\" y=\"-506.3\" font-family=\"Times,serif\" font-size=\"14.00\">Dropout</text>\n<polyline fill=\"none\" stroke=\"black\" points=\"630,-498.5 630,-544.5 \"/>\n<text text-anchor=\"middle\" x=\"657.5\" y=\"-529.3\" font-family=\"Times,serif\" font-size=\"14.00\">input:</text>\n<polyline fill=\"none\" stroke=\"black\" points=\"630,-521.5 685,-521.5 \"/>\n<text text-anchor=\"middle\" x=\"657.5\" y=\"-506.3\" font-family=\"Times,serif\" font-size=\"14.00\">output:</text>\n<polyline fill=\"none\" stroke=\"black\" points=\"685,-498.5 685,-544.5 \"/>\n<text text-anchor=\"middle\" x=\"726.5\" y=\"-529.3\" font-family=\"Times,serif\" font-size=\"14.00\">(None, 100)</text>\n<polyline fill=\"none\" stroke=\"black\" points=\"685,-521.5 768,-521.5 \"/>\n<text text-anchor=\"middle\" x=\"726.5\" y=\"-506.3\" font-family=\"Times,serif\" font-size=\"14.00\">(None, 100)</text>\n</g>\n<!-- 134058042217984&#45;&gt;134057406036960 -->\n<g id=\"edge10\" class=\"edge\">\n<title>134058042217984-&gt;134057406036960</title>\n<path fill=\"none\" stroke=\"black\" d=\"M676.08,-581.37C674.24,-573.06 672.1,-563.45 670.1,-554.43\"/>\n<polygon fill=\"black\" stroke=\"black\" points=\"673.5,-553.61 667.91,-544.61 666.67,-555.13 673.5,-553.61\"/>\n</g>\n<!-- 134056064551088 -->\n<g id=\"node12\" class=\"node\">\n<title>134056064551088</title>\n<polygon fill=\"none\" stroke=\"black\" points=\"568,-415.5 568,-461.5 756,-461.5 756,-415.5 568,-415.5\"/>\n<text text-anchor=\"middle\" x=\"593\" y=\"-446.3\" font-family=\"Times,serif\" font-size=\"14.00\">fc-2</text>\n<polyline fill=\"none\" stroke=\"black\" points=\"568,-438.5 618,-438.5 \"/>\n<text text-anchor=\"middle\" x=\"593\" y=\"-423.3\" font-family=\"Times,serif\" font-size=\"14.00\">Dense</text>\n<polyline fill=\"none\" stroke=\"black\" points=\"618,-415.5 618,-461.5 \"/>\n<text text-anchor=\"middle\" x=\"645.5\" y=\"-446.3\" font-family=\"Times,serif\" font-size=\"14.00\">input:</text>\n<polyline fill=\"none\" stroke=\"black\" points=\"618,-438.5 673,-438.5 \"/>\n<text text-anchor=\"middle\" x=\"645.5\" y=\"-423.3\" font-family=\"Times,serif\" font-size=\"14.00\">output:</text>\n<polyline fill=\"none\" stroke=\"black\" points=\"673,-415.5 673,-461.5 \"/>\n<text text-anchor=\"middle\" x=\"714.5\" y=\"-446.3\" font-family=\"Times,serif\" font-size=\"14.00\">(None, 100)</text>\n<polyline fill=\"none\" stroke=\"black\" points=\"673,-438.5 756,-438.5 \"/>\n<text text-anchor=\"middle\" x=\"714.5\" y=\"-423.3\" font-family=\"Times,serif\" font-size=\"14.00\">(None, 50)</text>\n</g>\n<!-- 134057406036960&#45;&gt;134056064551088 -->\n<g id=\"edge11\" class=\"edge\">\n<title>134057406036960-&gt;134056064551088</title>\n<path fill=\"none\" stroke=\"black\" d=\"M662.73,-498.37C662.63,-490.15 662.51,-480.66 662.4,-471.73\"/>\n<polygon fill=\"black\" stroke=\"black\" points=\"665.9,-471.56 662.27,-461.61 658.9,-471.65 665.9,-471.56\"/>\n</g>\n<!-- 134056064554928 -->\n<g id=\"node15\" class=\"node\">\n<title>134056064554928</title>\n<polygon fill=\"none\" stroke=\"black\" points=\"516,-332.5 516,-378.5 774,-378.5 774,-332.5 516,-332.5\"/>\n<text text-anchor=\"middle\" x=\"579.5\" y=\"-363.3\" font-family=\"Times,serif\" font-size=\"14.00\">batch-norm-2</text>\n<polyline fill=\"none\" stroke=\"black\" points=\"516,-355.5 643,-355.5 \"/>\n<text text-anchor=\"middle\" x=\"579.5\" y=\"-340.3\" font-family=\"Times,serif\" font-size=\"14.00\">BatchNormalization</text>\n<polyline fill=\"none\" stroke=\"black\" points=\"643,-332.5 643,-378.5 \"/>\n<text text-anchor=\"middle\" x=\"670.5\" y=\"-363.3\" font-family=\"Times,serif\" font-size=\"14.00\">input:</text>\n<polyline fill=\"none\" stroke=\"black\" points=\"643,-355.5 698,-355.5 \"/>\n<text text-anchor=\"middle\" x=\"670.5\" y=\"-340.3\" font-family=\"Times,serif\" font-size=\"14.00\">output:</text>\n<polyline fill=\"none\" stroke=\"black\" points=\"698,-332.5 698,-378.5 \"/>\n<text text-anchor=\"middle\" x=\"736\" y=\"-363.3\" font-family=\"Times,serif\" font-size=\"14.00\">(None, 50)</text>\n<polyline fill=\"none\" stroke=\"black\" points=\"698,-355.5 774,-355.5 \"/>\n<text text-anchor=\"middle\" x=\"736\" y=\"-340.3\" font-family=\"Times,serif\" font-size=\"14.00\">(None, 50)</text>\n</g>\n<!-- 134056064551088&#45;&gt;134056064554928 -->\n<g id=\"edge14\" class=\"edge\">\n<title>134056064551088-&gt;134056064554928</title>\n<path fill=\"none\" stroke=\"black\" d=\"M657.35,-415.37C655.61,-407.06 653.59,-397.45 651.7,-388.43\"/>\n<polygon fill=\"black\" stroke=\"black\" points=\"655.12,-387.67 649.64,-378.61 648.27,-389.11 655.12,-387.67\"/>\n</g>\n<!-- 134056458151504 -->\n<g id=\"node16\" class=\"node\">\n<title>134056458151504</title>\n<polygon fill=\"none\" stroke=\"black\" points=\"34.5,-913.5 34.5,-959.5 289.5,-959.5 289.5,-913.5 34.5,-913.5\"/>\n<text text-anchor=\"middle\" x=\"89.5\" y=\"-944.3\" font-family=\"Times,serif\" font-size=\"14.00\">flatten-movie-mf</text>\n<polyline fill=\"none\" stroke=\"black\" points=\"34.5,-936.5 144.5,-936.5 \"/>\n<text text-anchor=\"middle\" x=\"89.5\" y=\"-921.3\" font-family=\"Times,serif\" font-size=\"14.00\">Flatten</text>\n<polyline fill=\"none\" stroke=\"black\" points=\"144.5,-913.5 144.5,-959.5 \"/>\n<text text-anchor=\"middle\" x=\"172\" y=\"-944.3\" font-family=\"Times,serif\" font-size=\"14.00\">input:</text>\n<polyline fill=\"none\" stroke=\"black\" points=\"144.5,-936.5 199.5,-936.5 \"/>\n<text text-anchor=\"middle\" x=\"172\" y=\"-921.3\" font-family=\"Times,serif\" font-size=\"14.00\">output:</text>\n<polyline fill=\"none\" stroke=\"black\" points=\"199.5,-913.5 199.5,-959.5 \"/>\n<text text-anchor=\"middle\" x=\"244.5\" y=\"-944.3\" font-family=\"Times,serif\" font-size=\"14.00\">(None, 1, 10)</text>\n<polyline fill=\"none\" stroke=\"black\" points=\"199.5,-936.5 289.5,-936.5 \"/>\n<text text-anchor=\"middle\" x=\"244.5\" y=\"-921.3\" font-family=\"Times,serif\" font-size=\"14.00\">(None, 10)</text>\n</g>\n<!-- 134056064122544&#45;&gt;134056458151504 -->\n<g id=\"edge15\" class=\"edge\">\n<title>134056064122544-&gt;134056458151504</title>\n<path fill=\"none\" stroke=\"black\" d=\"M146.74,-996.37C148.89,-988.06 151.38,-978.45 153.72,-969.43\"/>\n<polygon fill=\"black\" stroke=\"black\" points=\"157.15,-970.17 156.27,-959.61 150.37,-968.41 157.15,-970.17\"/>\n</g>\n<!-- 134057983255952 -->\n<g id=\"node17\" class=\"node\">\n<title>134057983255952</title>\n<polygon fill=\"none\" stroke=\"black\" points=\"612.5,-913.5 612.5,-959.5 855.5,-959.5 855.5,-913.5 612.5,-913.5\"/>\n<text text-anchor=\"middle\" x=\"661.5\" y=\"-944.3\" font-family=\"Times,serif\" font-size=\"14.00\">flatten-user-mf</text>\n<polyline fill=\"none\" stroke=\"black\" points=\"612.5,-936.5 710.5,-936.5 \"/>\n<text text-anchor=\"middle\" x=\"661.5\" y=\"-921.3\" font-family=\"Times,serif\" font-size=\"14.00\">Flatten</text>\n<polyline fill=\"none\" stroke=\"black\" points=\"710.5,-913.5 710.5,-959.5 \"/>\n<text text-anchor=\"middle\" x=\"738\" y=\"-944.3\" font-family=\"Times,serif\" font-size=\"14.00\">input:</text>\n<polyline fill=\"none\" stroke=\"black\" points=\"710.5,-936.5 765.5,-936.5 \"/>\n<text text-anchor=\"middle\" x=\"738\" y=\"-921.3\" font-family=\"Times,serif\" font-size=\"14.00\">output:</text>\n<polyline fill=\"none\" stroke=\"black\" points=\"765.5,-913.5 765.5,-959.5 \"/>\n<text text-anchor=\"middle\" x=\"810.5\" y=\"-944.3\" font-family=\"Times,serif\" font-size=\"14.00\">(None, 1, 10)</text>\n<polyline fill=\"none\" stroke=\"black\" points=\"765.5,-936.5 855.5,-936.5 \"/>\n<text text-anchor=\"middle\" x=\"810.5\" y=\"-921.3\" font-family=\"Times,serif\" font-size=\"14.00\">(None, 10)</text>\n</g>\n<!-- 134056064358608&#45;&gt;134057983255952 -->\n<g id=\"edge16\" class=\"edge\">\n<title>134056064358608-&gt;134057983255952</title>\n<path fill=\"none\" stroke=\"black\" d=\"M739.09,-996.37C738.38,-988.15 737.56,-978.66 736.78,-969.73\"/>\n<polygon fill=\"black\" stroke=\"black\" points=\"740.26,-969.27 735.91,-959.61 733.28,-969.87 740.26,-969.27\"/>\n</g>\n<!-- 134056064356832 -->\n<g id=\"node18\" class=\"node\">\n<title>134056064356832</title>\n<polygon fill=\"none\" stroke=\"black\" points=\"527.5,-249.5 527.5,-295.5 730.5,-295.5 730.5,-249.5 527.5,-249.5\"/>\n<text text-anchor=\"middle\" x=\"563.5\" y=\"-280.3\" font-family=\"Times,serif\" font-size=\"14.00\">dropout_3</text>\n<polyline fill=\"none\" stroke=\"black\" points=\"527.5,-272.5 599.5,-272.5 \"/>\n<text text-anchor=\"middle\" x=\"563.5\" y=\"-257.3\" font-family=\"Times,serif\" font-size=\"14.00\">Dropout</text>\n<polyline fill=\"none\" stroke=\"black\" points=\"599.5,-249.5 599.5,-295.5 \"/>\n<text text-anchor=\"middle\" x=\"627\" y=\"-280.3\" font-family=\"Times,serif\" font-size=\"14.00\">input:</text>\n<polyline fill=\"none\" stroke=\"black\" points=\"599.5,-272.5 654.5,-272.5 \"/>\n<text text-anchor=\"middle\" x=\"627\" y=\"-257.3\" font-family=\"Times,serif\" font-size=\"14.00\">output:</text>\n<polyline fill=\"none\" stroke=\"black\" points=\"654.5,-249.5 654.5,-295.5 \"/>\n<text text-anchor=\"middle\" x=\"692.5\" y=\"-280.3\" font-family=\"Times,serif\" font-size=\"14.00\">(None, 50)</text>\n<polyline fill=\"none\" stroke=\"black\" points=\"654.5,-272.5 730.5,-272.5 \"/>\n<text text-anchor=\"middle\" x=\"692.5\" y=\"-257.3\" font-family=\"Times,serif\" font-size=\"14.00\">(None, 50)</text>\n</g>\n<!-- 134056064554928&#45;&gt;134056064356832 -->\n<g id=\"edge17\" class=\"edge\">\n<title>134056064554928-&gt;134056064356832</title>\n<path fill=\"none\" stroke=\"black\" d=\"M640.63,-332.37C638.99,-324.06 637.09,-314.45 635.31,-305.43\"/>\n<polygon fill=\"black\" stroke=\"black\" points=\"638.74,-304.74 633.37,-295.61 631.87,-306.1 638.74,-304.74\"/>\n</g>\n<!-- 134056064560256 -->\n<g id=\"node19\" class=\"node\">\n<title>134056064560256</title>\n<polygon fill=\"none\" stroke=\"black\" points=\"284,-830.5 284,-876.5 552,-876.5 552,-830.5 284,-830.5\"/>\n<text text-anchor=\"middle\" x=\"314.5\" y=\"-861.3\" font-family=\"Times,serif\" font-size=\"14.00\">pred-mf</text>\n<polyline fill=\"none\" stroke=\"black\" points=\"284,-853.5 345,-853.5 \"/>\n<text text-anchor=\"middle\" x=\"314.5\" y=\"-838.3\" font-family=\"Times,serif\" font-size=\"14.00\">Dot</text>\n<polyline fill=\"none\" stroke=\"black\" points=\"345,-830.5 345,-876.5 \"/>\n<text text-anchor=\"middle\" x=\"372.5\" y=\"-861.3\" font-family=\"Times,serif\" font-size=\"14.00\">input:</text>\n<polyline fill=\"none\" stroke=\"black\" points=\"345,-853.5 400,-853.5 \"/>\n<text text-anchor=\"middle\" x=\"372.5\" y=\"-838.3\" font-family=\"Times,serif\" font-size=\"14.00\">output:</text>\n<polyline fill=\"none\" stroke=\"black\" points=\"400,-830.5 400,-876.5 \"/>\n<text text-anchor=\"middle\" x=\"476\" y=\"-861.3\" font-family=\"Times,serif\" font-size=\"14.00\">[(None, 10), (None, 10)]</text>\n<polyline fill=\"none\" stroke=\"black\" points=\"400,-853.5 552,-853.5 \"/>\n<text text-anchor=\"middle\" x=\"476\" y=\"-838.3\" font-family=\"Times,serif\" font-size=\"14.00\">(None, 1)</text>\n</g>\n<!-- 134056458151504&#45;&gt;134056064560256 -->\n<g id=\"edge18\" class=\"edge\">\n<title>134056458151504-&gt;134056064560256</title>\n<path fill=\"none\" stroke=\"black\" d=\"M231.61,-913.47C264.63,-903.03 304.24,-890.49 338.44,-879.67\"/>\n<polygon fill=\"black\" stroke=\"black\" points=\"339.92,-882.88 348.4,-876.52 337.81,-876.2 339.92,-882.88\"/>\n</g>\n<!-- 134057983255952&#45;&gt;134056064560256 -->\n<g id=\"edge19\" class=\"edge\">\n<title>134057983255952-&gt;134056064560256</title>\n<path fill=\"none\" stroke=\"black\" d=\"M648.07,-913.47C606.53,-902.83 556.53,-890.01 513.77,-879.05\"/>\n<polygon fill=\"black\" stroke=\"black\" points=\"514.47,-875.61 503.91,-876.52 512.73,-882.4 514.47,-875.61\"/>\n</g>\n<!-- 134056064248528 -->\n<g id=\"node20\" class=\"node\">\n<title>134056064248528</title>\n<polygon fill=\"none\" stroke=\"black\" points=\"515,-166.5 515,-212.5 713,-212.5 713,-166.5 515,-166.5\"/>\n<text text-anchor=\"middle\" x=\"548.5\" y=\"-197.3\" font-family=\"Times,serif\" font-size=\"14.00\">pred-mlp</text>\n<polyline fill=\"none\" stroke=\"black\" points=\"515,-189.5 582,-189.5 \"/>\n<text text-anchor=\"middle\" x=\"548.5\" y=\"-174.3\" font-family=\"Times,serif\" font-size=\"14.00\">Dense</text>\n<polyline fill=\"none\" stroke=\"black\" points=\"582,-166.5 582,-212.5 \"/>\n<text text-anchor=\"middle\" x=\"609.5\" y=\"-197.3\" font-family=\"Times,serif\" font-size=\"14.00\">input:</text>\n<polyline fill=\"none\" stroke=\"black\" points=\"582,-189.5 637,-189.5 \"/>\n<text text-anchor=\"middle\" x=\"609.5\" y=\"-174.3\" font-family=\"Times,serif\" font-size=\"14.00\">output:</text>\n<polyline fill=\"none\" stroke=\"black\" points=\"637,-166.5 637,-212.5 \"/>\n<text text-anchor=\"middle\" x=\"675\" y=\"-197.3\" font-family=\"Times,serif\" font-size=\"14.00\">(None, 50)</text>\n<polyline fill=\"none\" stroke=\"black\" points=\"637,-189.5 713,-189.5 \"/>\n<text text-anchor=\"middle\" x=\"675\" y=\"-174.3\" font-family=\"Times,serif\" font-size=\"14.00\">(None, 10)</text>\n</g>\n<!-- 134056064356832&#45;&gt;134056064248528 -->\n<g id=\"edge20\" class=\"edge\">\n<title>134056064356832-&gt;134056064248528</title>\n<path fill=\"none\" stroke=\"black\" d=\"M624.9,-249.37C623.38,-241.15 621.62,-231.66 619.97,-222.73\"/>\n<polygon fill=\"black\" stroke=\"black\" points=\"623.36,-221.8 618.09,-212.61 616.47,-223.08 623.36,-221.8\"/>\n</g>\n<!-- 134056064551712 -->\n<g id=\"node21\" class=\"node\">\n<title>134056064551712</title>\n<polygon fill=\"none\" stroke=\"black\" points=\"394,-83.5 394,-129.5 704,-129.5 704,-83.5 394,-83.5\"/>\n<text text-anchor=\"middle\" x=\"449\" y=\"-114.3\" font-family=\"Times,serif\" font-size=\"14.00\">combine-mlp-mf</text>\n<polyline fill=\"none\" stroke=\"black\" points=\"394,-106.5 504,-106.5 \"/>\n<text text-anchor=\"middle\" x=\"449\" y=\"-91.3\" font-family=\"Times,serif\" font-size=\"14.00\">Concatenate</text>\n<polyline fill=\"none\" stroke=\"black\" points=\"504,-83.5 504,-129.5 \"/>\n<text text-anchor=\"middle\" x=\"531.5\" y=\"-114.3\" font-family=\"Times,serif\" font-size=\"14.00\">input:</text>\n<polyline fill=\"none\" stroke=\"black\" points=\"504,-106.5 559,-106.5 \"/>\n<text text-anchor=\"middle\" x=\"531.5\" y=\"-91.3\" font-family=\"Times,serif\" font-size=\"14.00\">output:</text>\n<polyline fill=\"none\" stroke=\"black\" points=\"559,-83.5 559,-129.5 \"/>\n<text text-anchor=\"middle\" x=\"631.5\" y=\"-114.3\" font-family=\"Times,serif\" font-size=\"14.00\">[(None, 1), (None, 10)]</text>\n<polyline fill=\"none\" stroke=\"black\" points=\"559,-106.5 704,-106.5 \"/>\n<text text-anchor=\"middle\" x=\"631.5\" y=\"-91.3\" font-family=\"Times,serif\" font-size=\"14.00\">(None, 11)</text>\n</g>\n<!-- 134056064560256&#45;&gt;134056064551712 -->\n<g id=\"edge21\" class=\"edge\">\n<title>134056064560256-&gt;134056064551712</title>\n<path fill=\"none\" stroke=\"black\" d=\"M433.77,-830.36C453.86,-799.92 486,-742.75 486,-688.5 486,-688.5 486,-688.5 486,-271.5 486,-223.78 486.95,-209.76 506,-166 510.31,-156.1 516.55,-146.28 522.94,-137.59\"/>\n<polygon fill=\"black\" stroke=\"black\" points=\"525.73,-139.7 529.06,-129.64 520.19,-135.43 525.73,-139.7\"/>\n</g>\n<!-- 134056064248528&#45;&gt;134056064551712 -->\n<g id=\"edge22\" class=\"edge\">\n<title>134056064248528-&gt;134056064551712</title>\n<path fill=\"none\" stroke=\"black\" d=\"M596.24,-166.37C589.07,-157.44 580.7,-147 573,-137.41\"/>\n<polygon fill=\"black\" stroke=\"black\" points=\"575.73,-135.22 566.74,-129.61 570.27,-139.6 575.73,-135.22\"/>\n</g>\n<!-- 134056064242432 -->\n<g id=\"node22\" class=\"node\">\n<title>134056064242432</title>\n<polygon fill=\"none\" stroke=\"black\" points=\"458.5,-0.5 458.5,-46.5 639.5,-46.5 639.5,-0.5 458.5,-0.5\"/>\n<text text-anchor=\"middle\" x=\"483.5\" y=\"-31.3\" font-family=\"Times,serif\" font-size=\"14.00\">result</text>\n<polyline fill=\"none\" stroke=\"black\" points=\"458.5,-23.5 508.5,-23.5 \"/>\n<text text-anchor=\"middle\" x=\"483.5\" y=\"-8.3\" font-family=\"Times,serif\" font-size=\"14.00\">Dense</text>\n<polyline fill=\"none\" stroke=\"black\" points=\"508.5,-0.5 508.5,-46.5 \"/>\n<text text-anchor=\"middle\" x=\"536\" y=\"-31.3\" font-family=\"Times,serif\" font-size=\"14.00\">input:</text>\n<polyline fill=\"none\" stroke=\"black\" points=\"508.5,-23.5 563.5,-23.5 \"/>\n<text text-anchor=\"middle\" x=\"536\" y=\"-8.3\" font-family=\"Times,serif\" font-size=\"14.00\">output:</text>\n<polyline fill=\"none\" stroke=\"black\" points=\"563.5,-0.5 563.5,-46.5 \"/>\n<text text-anchor=\"middle\" x=\"601.5\" y=\"-31.3\" font-family=\"Times,serif\" font-size=\"14.00\">(None, 11)</text>\n<polyline fill=\"none\" stroke=\"black\" points=\"563.5,-23.5 639.5,-23.5 \"/>\n<text text-anchor=\"middle\" x=\"601.5\" y=\"-8.3\" font-family=\"Times,serif\" font-size=\"14.00\">(None, 1)</text>\n</g>\n<!-- 134056064551712&#45;&gt;134056064242432 -->\n<g id=\"edge23\" class=\"edge\">\n<title>134056064551712-&gt;134056064242432</title>\n<path fill=\"none\" stroke=\"black\" d=\"M549,-83.37C549,-75.15 549,-65.66 549,-56.73\"/>\n<polygon fill=\"black\" stroke=\"black\" points=\"552.5,-56.61 549,-46.61 545.5,-56.61 552.5,-56.61\"/>\n</g>\n</g>\n</svg>"
          },
          "metadata": {},
          "execution_count": 15
        }
      ]
    },
    {
      "cell_type": "code",
      "source": [
        "model.summary()"
      ],
      "metadata": {
        "colab": {
          "base_uri": "https://localhost:8080/"
        },
        "id": "Ug2UrQXFwyCo",
        "outputId": "0077fc5a-98a2-4716-e19e-19e95a90b9db"
      },
      "execution_count": 16,
      "outputs": [
        {
          "output_type": "stream",
          "name": "stdout",
          "text": [
            "Model: \"model_3\"\n",
            "__________________________________________________________________________________________________\n",
            " Layer (type)                Output Shape                 Param #   Connected to                  \n",
            "==================================================================================================\n",
            " movie-input (InputLayer)    [(None, 1)]                  0         []                            \n",
            "                                                                                                  \n",
            " user-input (InputLayer)     [(None, 1)]                  0         []                            \n",
            "                                                                                                  \n",
            " movie-embedding-mlp (Embed  (None, 1, 10)                97250     ['movie-input[0][0]']         \n",
            " ding)                                                                                            \n",
            "                                                                                                  \n",
            " user-embedding-mlp (Embedd  (None, 1, 10)                6110      ['user-input[0][0]']          \n",
            " ing)                                                                                             \n",
            "                                                                                                  \n",
            " flatten-movie-mlp (Flatten  (None, 10)                   0         ['movie-embedding-mlp[0][0]'] \n",
            " )                                                                                                \n",
            "                                                                                                  \n",
            " flatten-user-mlp (Flatten)  (None, 10)                   0         ['user-embedding-mlp[0][0]']  \n",
            "                                                                                                  \n",
            " concat (Concatenate)        (None, 20)                   0         ['flatten-movie-mlp[0][0]',   \n",
            "                                                                     'flatten-user-mlp[0][0]']    \n",
            "                                                                                                  \n",
            " dropout_1 (Dropout)         (None, 20)                   0         ['concat[0][0]']              \n",
            "                                                                                                  \n",
            " fc-1 (Dense)                (None, 100)                  2100      ['dropout_1[0][0]']           \n",
            "                                                                                                  \n",
            " batch-norm-1 (BatchNormali  (None, 100)                  400       ['fc-1[0][0]']                \n",
            " zation)                                                                                          \n",
            "                                                                                                  \n",
            " dropout_2 (Dropout)         (None, 100)                  0         ['batch-norm-1[0][0]']        \n",
            "                                                                                                  \n",
            " fc-2 (Dense)                (None, 50)                   5050      ['dropout_2[0][0]']           \n",
            "                                                                                                  \n",
            " movie-embedding-mf (Embedd  (None, 1, 10)                97250     ['movie-input[0][0]']         \n",
            " ing)                                                                                             \n",
            "                                                                                                  \n",
            " user-embedding-mf (Embeddi  (None, 1, 10)                6110      ['user-input[0][0]']          \n",
            " ng)                                                                                              \n",
            "                                                                                                  \n",
            " batch-norm-2 (BatchNormali  (None, 50)                   200       ['fc-2[0][0]']                \n",
            " zation)                                                                                          \n",
            "                                                                                                  \n",
            " flatten-movie-mf (Flatten)  (None, 10)                   0         ['movie-embedding-mf[0][0]']  \n",
            "                                                                                                  \n",
            " flatten-user-mf (Flatten)   (None, 10)                   0         ['user-embedding-mf[0][0]']   \n",
            "                                                                                                  \n",
            " dropout_3 (Dropout)         (None, 50)                   0         ['batch-norm-2[0][0]']        \n",
            "                                                                                                  \n",
            " pred-mf (Dot)               (None, 1)                    0         ['flatten-movie-mf[0][0]',    \n",
            "                                                                     'flatten-user-mf[0][0]']     \n",
            "                                                                                                  \n",
            " pred-mlp (Dense)            (None, 10)                   510       ['dropout_3[0][0]']           \n",
            "                                                                                                  \n",
            " combine-mlp-mf (Concatenat  (None, 11)                   0         ['pred-mf[0][0]',             \n",
            " e)                                                                  'pred-mlp[0][0]']            \n",
            "                                                                                                  \n",
            " result (Dense)              (None, 1)                    12        ['combine-mlp-mf[0][0]']      \n",
            "                                                                                                  \n",
            "==================================================================================================\n",
            "Total params: 214992 (839.81 KB)\n",
            "Trainable params: 214692 (838.64 KB)\n",
            "Non-trainable params: 300 (1.17 KB)\n",
            "__________________________________________________________________________________________________\n"
          ]
        }
      ]
    },
    {
      "cell_type": "code",
      "source": [
        "import matplotlib.pyplot as plt\n",
        "from sklearn.metrics import mean_absolute_error\n",
        "history = model.fit([train.user_id, train.movie_id], train.rating, epochs=10)\n",
        "pd.Series(history.history['loss']).plot(logy=True)\n",
        "plt.xlabel(\"Epoch\")\n",
        "plt.ylabel(\"Train Error\")\n",
        "plt.show()\n",
        "\n",
        "y_hat = np.round(model.predict([test.user_id, test.movie_id]), decimals=2)\n",
        "y_true = test.rating\n",
        "mean_absolute_error(y_true, y_hat)"
      ],
      "metadata": {
        "colab": {
          "base_uri": "https://localhost:8080/",
          "height": 834
        },
        "id": "FrOt3t-7wzSl",
        "outputId": "16dcf4c9-bedc-4de0-f126-6fc58d2e44d0"
      },
      "execution_count": 17,
      "outputs": [
        {
          "output_type": "stream",
          "name": "stdout",
          "text": [
            "Epoch 1/10\n",
            "2521/2521 [==============================] - 20s 7ms/step - loss: 0.7833\n",
            "Epoch 2/10\n",
            "2521/2521 [==============================] - 15s 6ms/step - loss: 0.6503\n",
            "Epoch 3/10\n",
            "2521/2521 [==============================] - 15s 6ms/step - loss: 0.5750\n",
            "Epoch 4/10\n",
            "2521/2521 [==============================] - 15s 6ms/step - loss: 0.5275\n",
            "Epoch 5/10\n",
            "2521/2521 [==============================] - 15s 6ms/step - loss: 0.4971\n",
            "Epoch 6/10\n",
            "2521/2521 [==============================] - 15s 6ms/step - loss: 0.4763\n",
            "Epoch 7/10\n",
            "2521/2521 [==============================] - 15s 6ms/step - loss: 0.4609\n",
            "Epoch 8/10\n",
            "2521/2521 [==============================] - 13s 5ms/step - loss: 0.4481\n",
            "Epoch 9/10\n",
            "2521/2521 [==============================] - 13s 5ms/step - loss: 0.4392\n",
            "Epoch 10/10\n",
            "2521/2521 [==============================] - 13s 5ms/step - loss: 0.4301\n"
          ]
        },
        {
          "output_type": "display_data",
          "data": {
            "text/plain": [
              "<Figure size 640x480 with 1 Axes>"
            ],
            "image/png": "[encoded data removed]"
          },
          "metadata": {}
        },
        {
          "output_type": "stream",
          "name": "stdout",
          "text": [
            "631/631 [==============================] - 1s 2ms/step\n"
          ]
        },
        {
          "output_type": "execute_result",
          "data": {
            "text/plain": [
              "0.7344035106683013"
            ]
          },
          "metadata": {},
          "execution_count": 17
        }
      ]
    }
  ]
}