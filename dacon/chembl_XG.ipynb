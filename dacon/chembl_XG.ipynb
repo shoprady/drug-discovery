{
  "nbformat": 4,
  "nbformat_minor": 0,
  "metadata": {
    "colab": {
      "provenance": []
    },
    "kernelspec": {
      "name": "python3",
      "display_name": "Python 3"
    },
    "language_info": {
      "name": "python"
    }
  },
  "cells": [
    {
      "cell_type": "code",
      "execution_count": null,
      "metadata": {
        "colab": {
          "base_uri": "https://localhost:8080/"
        },
        "id": "b6eZKcmCaFiG",
        "outputId": "a93e45bd-742b-4e9e-ef8b-2140cf22dda3"
      },
      "outputs": [
        {
          "output_type": "stream",
          "name": "stdout",
          "text": [
            "Mounted at /content/drive\n"
          ]
        }
      ],
      "source": [
        "from google.colab import drive\n",
        "drive.mount('/content/drive')"
      ]
    },
    {
      "cell_type": "code",
      "source": [
        "!pip install rdkit"
      ],
      "metadata": {
        "colab": {
          "base_uri": "https://localhost:8080/"
        },
        "id": "fBwUT4f1aLHd",
        "outputId": "73bc2abf-1729-409f-a224-ecfa1f4fd3f7"
      },
      "execution_count": null,
      "outputs": [
        {
          "output_type": "stream",
          "name": "stdout",
          "text": [
            "Collecting rdkit\n",
            "  Downloading rdkit-2024.3.5-cp310-cp310-manylinux_2_28_x86_64.whl.metadata (3.9 kB)\n",
            "Requirement already satisfied: numpy in /usr/local/lib/python3.10/dist-packages (from rdkit) (1.26.4)\n",
            "Requirement already satisfied: Pillow in /usr/local/lib/python3.10/dist-packages (from rdkit) (9.4.0)\n",
            "Downloading rdkit-2024.3.5-cp310-cp310-manylinux_2_28_x86_64.whl (33.1 MB)\n",
            "\u001b[2K   \u001b[90m━━━━━━━━━━━━━━━━━━━━━━━━━━━━━━━━━━━━━━━━\u001b[0m \u001b[32m33.1/33.1 MB\u001b[0m \u001b[31m9.7 MB/s\u001b[0m eta \u001b[36m0:00:00\u001b[0m\n",
            "\u001b[?25hInstalling collected packages: rdkit\n",
            "Successfully installed rdkit-2024.3.5\n"
          ]
        }
      ]
    },
    {
      "cell_type": "code",
      "source": [
        "import pandas as pd\n",
        "import numpy as np\n",
        "import seaborn as sns\n",
        "import matplotlib.pyplot as plt\n",
        "import matplotlib as mpl\n",
        "import matplotlib.cm as cm\n",
        "from sklearn.decomposition import PCA\n",
        "from sklearn.cluster import KMeans\n",
        "\n",
        "import os\n",
        "import random\n",
        "\n",
        "from rdkit import Chem\n",
        "from rdkit.Chem import AllChem\n",
        "import rdkit, rdkit.Chem.rdDepictor, rdkit.Chem.Draw\n",
        "from sklearn.model_selection import train_test_split\n",
        "\n",
        "import tensorflow as tf"
      ],
      "metadata": {
        "id": "_0s0oQH5aVEF"
      },
      "execution_count": null,
      "outputs": []
    },
    {
      "cell_type": "code",
      "source": [
        "from sklearn.ensemble import RandomForestRegressor\n",
        "from sklearn.metrics import mean_absolute_error, r2_score\n",
        "from sklearn.metrics import mean_squared_error\n",
        "from math import log10, sqrt\n",
        "\n",
        "from sklearn.model_selection import train_test_split, GridSearchCV\n",
        "from sklearn.ensemble import GradientBoostingRegressor\n",
        "from sklearn.pipeline import Pipeline\n",
        "from sklearn.preprocessing import StandardScaler"
      ],
      "metadata": {
        "id": "Tq9IucfOaX0U"
      },
      "execution_count": null,
      "outputs": []
    },
    {
      "cell_type": "code",
      "source": [
        "CFG = {\n",
        "    'NBITS':2048,\n",
        "    'SEED':42,\n",
        "}"
      ],
      "metadata": {
        "id": "ygN0VlEyajiK"
      },
      "execution_count": null,
      "outputs": []
    },
    {
      "cell_type": "code",
      "source": [
        "def seed_everything(seed):\n",
        "    random.seed(seed)\n",
        "    os.environ['PYTHONHASHSEED'] = str(seed)\n",
        "    np.random.seed(seed)\n",
        "seed_everything(CFG['SEED']) # Seed 고정"
      ],
      "metadata": {
        "id": "kOKyGWKgale5"
      },
      "execution_count": null,
      "outputs": []
    },
    {
      "cell_type": "code",
      "source": [
        "# Function to generate ECFP fingerprint from SMILES\n",
        "def generate_ecfp(smiles, radius=2, nBits=2048):\n",
        "    mol = Chem.MolFromSmiles(smiles)\n",
        "    if mol is None:\n",
        "        raise ValueError(\"Invalid SMILES string\")\n",
        "    ecfp = AllChem.GetMorganFingerprintAsBitVect(mol, radius, nBits=nBits)\n",
        "    return ecfp"
      ],
      "metadata": {
        "id": "O5buENtIan8L"
      },
      "execution_count": null,
      "outputs": []
    },
    {
      "cell_type": "code",
      "source": [
        "chembl_data = pd.read_csv('/content/drive/MyDrive/DACON/제2회 신약개발 AI 경진대회/open/preprocessed_train.csv')\n",
        "chembl_data.head()"
      ],
      "metadata": {
        "colab": {
          "base_uri": "https://localhost:8080/",
          "height": 504
        },
        "id": "K6pcGv9wasgD",
        "outputId": "dfa49139-f15f-4ff6-851e-36c1fab9a1d6"
      },
      "execution_count": null,
      "outputs": [
        {
          "output_type": "execute_result",
          "data": {
            "text/plain": [
              "  Molecule ChEMBL ID Standard Type Standard Relation  Standard Value  \\\n",
              "0      CHEMBL3968119          IC50               '='           675.9   \n",
              "1      CHEMBL3966110          IC50               '='             5.1   \n",
              "2      CHEMBL4109180          IC50               '='            25.0   \n",
              "3      CHEMBL4107475          IC50               '='            14.0   \n",
              "4      CHEMBL4114259          IC50               '='           145.0   \n",
              "\n",
              "  Standard Units  pChEMBL Value Assay ChEMBL ID Target ChEMBL ID  \\\n",
              "0             nM           6.17   CHEMBL3887888       CHEMBL3778   \n",
              "1             nM           8.29   CHEMBL3887118       CHEMBL3778   \n",
              "2             nM           7.60   CHEMBL3887893       CHEMBL3778   \n",
              "3             nM           7.85   CHEMBL3887118       CHEMBL3778   \n",
              "4             nM           6.84   CHEMBL3887893       CHEMBL3778   \n",
              "\n",
              "                                  Target Name Target Organism     Target Type  \\\n",
              "0  Interleukin-1 receptor-associated kinase 4    Homo sapiens  SINGLE PROTEIN   \n",
              "1  Interleukin-1 receptor-associated kinase 4    Homo sapiens  SINGLE PROTEIN   \n",
              "2  Interleukin-1 receptor-associated kinase 4    Homo sapiens  SINGLE PROTEIN   \n",
              "3  Interleukin-1 receptor-associated kinase 4    Homo sapiens  SINGLE PROTEIN   \n",
              "4  Interleukin-1 receptor-associated kinase 4    Homo sapiens  SINGLE PROTEIN   \n",
              "\n",
              "  Document ChEMBL ID  IC50_nM  pIC50  \\\n",
              "0      CHEMBL3886488    675.9   6.17   \n",
              "1      CHEMBL3886172      5.1   8.29   \n",
              "2      CHEMBL3886492     25.0   7.60   \n",
              "3      CHEMBL3886172     14.0   7.85   \n",
              "4      CHEMBL3886492    145.0   6.84   \n",
              "\n",
              "                                              Smiles  \n",
              "0  CC(C)Nc1cc(Nc2ccc3ncsc3c2)ncc1-c1nnc(-c2ccc(F)...  \n",
              "1  CC(C)Nc1cc(-n2ncc3cc(C#N)cnc32)ncc1C(=O)NC1CCN...  \n",
              "2  O=c1[nH]c(N2CCN(c3cccc(Cl)n3)CC2)nc(N[C@@H]2CC...  \n",
              "3  CC(C)Nc1cc(-n2ccc3cc(CNC(=O)CC4CCOCC4)cnc32)nc...  \n",
              "4  CC1(C)CN(c2nc(N[C@@H]3CCCNC3)c(-c3nc4ccccc4s3)...  "
            ],
            "text/html": [
              "\n",
              "  <div id=\"df-2e64c1bb-650b-4a47-abbd-c6358577a0ba\" class=\"colab-df-container\">\n",
              "    <div>\n",
              "<style scoped>\n",
              "    .dataframe tbody tr th:only-of-type {\n",
              "        vertical-align: middle;\n",
              "    }\n",
              "\n",
              "    .dataframe tbody tr th {\n",
              "        vertical-align: top;\n",
              "    }\n",
              "\n",
              "    .dataframe thead th {\n",
              "        text-align: right;\n",
              "    }\n",
              "</style>\n",
              "<table border=\"1\" class=\"dataframe\">\n",
              "  <thead>\n",
              "    <tr style=\"text-align: right;\">\n",
              "      <th></th>\n",
              "      <th>Molecule ChEMBL ID</th>\n",
              "      <th>Standard Type</th>\n",
              "      <th>Standard Relation</th>\n",
              "      <th>Standard Value</th>\n",
              "      <th>Standard Units</th>\n",
              "      <th>pChEMBL Value</th>\n",
              "      <th>Assay ChEMBL ID</th>\n",
              "      <th>Target ChEMBL ID</th>\n",
              "      <th>Target Name</th>\n",
              "      <th>Target Organism</th>\n",
              "      <th>Target Type</th>\n",
              "      <th>Document ChEMBL ID</th>\n",
              "      <th>IC50_nM</th>\n",
              "      <th>pIC50</th>\n",
              "      <th>Smiles</th>\n",
              "    </tr>\n",
              "  </thead>\n",
              "  <tbody>\n",
              "    <tr>\n",
              "      <th>0</th>\n",
              "      <td>CHEMBL3968119</td>\n",
              "      <td>IC50</td>\n",
              "      <td>'='</td>\n",
              "      <td>675.9</td>\n",
              "      <td>nM</td>\n",
              "      <td>6.17</td>\n",
              "      <td>CHEMBL3887888</td>\n",
              "      <td>CHEMBL3778</td>\n",
              "      <td>Interleukin-1 receptor-associated kinase 4</td>\n",
              "      <td>Homo sapiens</td>\n",
              "      <td>SINGLE PROTEIN</td>\n",
              "      <td>CHEMBL3886488</td>\n",
              "      <td>675.9</td>\n",
              "      <td>6.17</td>\n",
              "      <td>CC(C)Nc1cc(Nc2ccc3ncsc3c2)ncc1-c1nnc(-c2ccc(F)...</td>\n",
              "    </tr>\n",
              "    <tr>\n",
              "      <th>1</th>\n",
              "      <td>CHEMBL3966110</td>\n",
              "      <td>IC50</td>\n",
              "      <td>'='</td>\n",
              "      <td>5.1</td>\n",
              "      <td>nM</td>\n",
              "      <td>8.29</td>\n",
              "      <td>CHEMBL3887118</td>\n",
              "      <td>CHEMBL3778</td>\n",
              "      <td>Interleukin-1 receptor-associated kinase 4</td>\n",
              "      <td>Homo sapiens</td>\n",
              "      <td>SINGLE PROTEIN</td>\n",
              "      <td>CHEMBL3886172</td>\n",
              "      <td>5.1</td>\n",
              "      <td>8.29</td>\n",
              "      <td>CC(C)Nc1cc(-n2ncc3cc(C#N)cnc32)ncc1C(=O)NC1CCN...</td>\n",
              "    </tr>\n",
              "    <tr>\n",
              "      <th>2</th>\n",
              "      <td>CHEMBL4109180</td>\n",
              "      <td>IC50</td>\n",
              "      <td>'='</td>\n",
              "      <td>25.0</td>\n",
              "      <td>nM</td>\n",
              "      <td>7.60</td>\n",
              "      <td>CHEMBL3887893</td>\n",
              "      <td>CHEMBL3778</td>\n",
              "      <td>Interleukin-1 receptor-associated kinase 4</td>\n",
              "      <td>Homo sapiens</td>\n",
              "      <td>SINGLE PROTEIN</td>\n",
              "      <td>CHEMBL3886492</td>\n",
              "      <td>25.0</td>\n",
              "      <td>7.60</td>\n",
              "      <td>O=c1[nH]c(N2CCN(c3cccc(Cl)n3)CC2)nc(N[C@@H]2CC...</td>\n",
              "    </tr>\n",
              "    <tr>\n",
              "      <th>3</th>\n",
              "      <td>CHEMBL4107475</td>\n",
              "      <td>IC50</td>\n",
              "      <td>'='</td>\n",
              "      <td>14.0</td>\n",
              "      <td>nM</td>\n",
              "      <td>7.85</td>\n",
              "      <td>CHEMBL3887118</td>\n",
              "      <td>CHEMBL3778</td>\n",
              "      <td>Interleukin-1 receptor-associated kinase 4</td>\n",
              "      <td>Homo sapiens</td>\n",
              "      <td>SINGLE PROTEIN</td>\n",
              "      <td>CHEMBL3886172</td>\n",
              "      <td>14.0</td>\n",
              "      <td>7.85</td>\n",
              "      <td>CC(C)Nc1cc(-n2ccc3cc(CNC(=O)CC4CCOCC4)cnc32)nc...</td>\n",
              "    </tr>\n",
              "    <tr>\n",
              "      <th>4</th>\n",
              "      <td>CHEMBL4114259</td>\n",
              "      <td>IC50</td>\n",
              "      <td>'='</td>\n",
              "      <td>145.0</td>\n",
              "      <td>nM</td>\n",
              "      <td>6.84</td>\n",
              "      <td>CHEMBL3887893</td>\n",
              "      <td>CHEMBL3778</td>\n",
              "      <td>Interleukin-1 receptor-associated kinase 4</td>\n",
              "      <td>Homo sapiens</td>\n",
              "      <td>SINGLE PROTEIN</td>\n",
              "      <td>CHEMBL3886492</td>\n",
              "      <td>145.0</td>\n",
              "      <td>6.84</td>\n",
              "      <td>CC1(C)CN(c2nc(N[C@@H]3CCCNC3)c(-c3nc4ccccc4s3)...</td>\n",
              "    </tr>\n",
              "  </tbody>\n",
              "</table>\n",
              "</div>\n",
              "    <div class=\"colab-df-buttons\">\n",
              "\n",
              "  <div class=\"colab-df-container\">\n",
              "    <button class=\"colab-df-convert\" onclick=\"convertToInteractive('df-2e64c1bb-650b-4a47-abbd-c6358577a0ba')\"\n",
              "            title=\"Convert this dataframe to an interactive table.\"\n",
              "            style=\"display:none;\">\n",
              "\n",
              "  <svg xmlns=\"http://www.w3.org/2000/svg\" height=\"24px\" viewBox=\"0 -960 960 960\">\n",
              "    <path d=\"M120-120v-720h720v720H120Zm60-500h600v-160H180v160Zm220 220h160v-160H400v160Zm0 220h160v-160H400v160ZM180-400h160v-160H180v160Zm440 0h160v-160H620v160ZM180-180h160v-160H180v160Zm440 0h160v-160H620v160Z\"/>\n",
              "  </svg>\n",
              "    </button>\n",
              "\n",
              "  <style>\n",
              "    .colab-df-container {\n",
              "      display:flex;\n",
              "      gap: 12px;\n",
              "    }\n",
              "\n",
              "    .colab-df-convert {\n",
              "      background-color: #E8F0FE;\n",
              "      border: none;\n",
              "      border-radius: 50%;\n",
              "      cursor: pointer;\n",
              "      display: none;\n",
              "      fill: #1967D2;\n",
              "      height: 32px;\n",
              "      padding: 0 0 0 0;\n",
              "      width: 32px;\n",
              "    }\n",
              "\n",
              "    .colab-df-convert:hover {\n",
              "      background-color: #E2EBFA;\n",
              "      box-shadow: 0px 1px 2px rgba(60, 64, 67, 0.3), 0px 1px 3px 1px rgba(60, 64, 67, 0.15);\n",
              "      fill: #174EA6;\n",
              "    }\n",
              "\n",
              "    .colab-df-buttons div {\n",
              "      margin-bottom: 4px;\n",
              "    }\n",
              "\n",
              "    [theme=dark] .colab-df-convert {\n",
              "      background-color: #3B4455;\n",
              "      fill: #D2E3FC;\n",
              "    }\n",
              "\n",
              "    [theme=dark] .colab-df-convert:hover {\n",
              "      background-color: #434B5C;\n",
              "      box-shadow: 0px 1px 3px 1px rgba(0, 0, 0, 0.15);\n",
              "      filter: drop-shadow(0px 1px 2px rgba(0, 0, 0, 0.3));\n",
              "      fill: #FFFFFF;\n",
              "    }\n",
              "  </style>\n",
              "\n",
              "    <script>\n",
              "      const buttonEl =\n",
              "        document.querySelector('#df-2e64c1bb-650b-4a47-abbd-c6358577a0ba button.colab-df-convert');\n",
              "      buttonEl.style.display =\n",
              "        google.colab.kernel.accessAllowed ? 'block' : 'none';\n",
              "\n",
              "      async function convertToInteractive(key) {\n",
              "        const element = document.querySelector('#df-2e64c1bb-650b-4a47-abbd-c6358577a0ba');\n",
              "        const dataTable =\n",
              "          await google.colab.kernel.invokeFunction('convertToInteractive',\n",
              "                                                    [key], {});\n",
              "        if (!dataTable) return;\n",
              "\n",
              "        const docLinkHtml = 'Like what you see? Visit the ' +\n",
              "          '<a target=\"_blank\" href=https://colab.research.google.com/notebooks/data_table.ipynb>data table notebook</a>'\n",
              "          + ' to learn more about interactive tables.';\n",
              "        element.innerHTML = '';\n",
              "        dataTable['output_type'] = 'display_data';\n",
              "        await google.colab.output.renderOutput(dataTable, element);\n",
              "        const docLink = document.createElement('div');\n",
              "        docLink.innerHTML = docLinkHtml;\n",
              "        element.appendChild(docLink);\n",
              "      }\n",
              "    </script>\n",
              "  </div>\n",
              "\n",
              "\n",
              "<div id=\"df-51ac0531-a2d5-47ca-8bb2-e985d040f893\">\n",
              "  <button class=\"colab-df-quickchart\" onclick=\"quickchart('df-51ac0531-a2d5-47ca-8bb2-e985d040f893')\"\n",
              "            title=\"Suggest charts\"\n",
              "            style=\"display:none;\">\n",
              "\n",
              "<svg xmlns=\"http://www.w3.org/2000/svg\" height=\"24px\"viewBox=\"0 0 24 24\"\n",
              "     width=\"24px\">\n",
              "    <g>\n",
              "        <path d=\"M19 3H5c-1.1 0-2 .9-2 2v14c0 1.1.9 2 2 2h14c1.1 0 2-.9 2-2V5c0-1.1-.9-2-2-2zM9 17H7v-7h2v7zm4 0h-2V7h2v10zm4 0h-2v-4h2v4z\"/>\n",
              "    </g>\n",
              "</svg>\n",
              "  </button>\n",
              "\n",
              "<style>\n",
              "  .colab-df-quickchart {\n",
              "      --bg-color: #E8F0FE;\n",
              "      --fill-color: #1967D2;\n",
              "      --hover-bg-color: #E2EBFA;\n",
              "      --hover-fill-color: #174EA6;\n",
              "      --disabled-fill-color: #AAA;\n",
              "      --disabled-bg-color: #DDD;\n",
              "  }\n",
              "\n",
              "  [theme=dark] .colab-df-quickchart {\n",
              "      --bg-color: #3B4455;\n",
              "      --fill-color: #D2E3FC;\n",
              "      --hover-bg-color: #434B5C;\n",
              "      --hover-fill-color: #FFFFFF;\n",
              "      --disabled-bg-color: #3B4455;\n",
              "      --disabled-fill-color: #666;\n",
              "  }\n",
              "\n",
              "  .colab-df-quickchart {\n",
              "    background-color: var(--bg-color);\n",
              "    border: none;\n",
              "    border-radius: 50%;\n",
              "    cursor: pointer;\n",
              "    display: none;\n",
              "    fill: var(--fill-color);\n",
              "    height: 32px;\n",
              "    padding: 0;\n",
              "    width: 32px;\n",
              "  }\n",
              "\n",
              "  .colab-df-quickchart:hover {\n",
              "    background-color: var(--hover-bg-color);\n",
              "    box-shadow: 0 1px 2px rgba(60, 64, 67, 0.3), 0 1px 3px 1px rgba(60, 64, 67, 0.15);\n",
              "    fill: var(--button-hover-fill-color);\n",
              "  }\n",
              "\n",
              "  .colab-df-quickchart-complete:disabled,\n",
              "  .colab-df-quickchart-complete:disabled:hover {\n",
              "    background-color: var(--disabled-bg-color);\n",
              "    fill: var(--disabled-fill-color);\n",
              "    box-shadow: none;\n",
              "  }\n",
              "\n",
              "  .colab-df-spinner {\n",
              "    border: 2px solid var(--fill-color);\n",
              "    border-color: transparent;\n",
              "    border-bottom-color: var(--fill-color);\n",
              "    animation:\n",
              "      spin 1s steps(1) infinite;\n",
              "  }\n",
              "\n",
              "  @keyframes spin {\n",
              "    0% {\n",
              "      border-color: transparent;\n",
              "      border-bottom-color: var(--fill-color);\n",
              "      border-left-color: var(--fill-color);\n",
              "    }\n",
              "    20% {\n",
              "      border-color: transparent;\n",
              "      border-left-color: var(--fill-color);\n",
              "      border-top-color: var(--fill-color);\n",
              "    }\n",
              "    30% {\n",
              "      border-color: transparent;\n",
              "      border-left-color: var(--fill-color);\n",
              "      border-top-color: var(--fill-color);\n",
              "      border-right-color: var(--fill-color);\n",
              "    }\n",
              "    40% {\n",
              "      border-color: transparent;\n",
              "      border-right-color: var(--fill-color);\n",
              "      border-top-color: var(--fill-color);\n",
              "    }\n",
              "    60% {\n",
              "      border-color: transparent;\n",
              "      border-right-color: var(--fill-color);\n",
              "    }\n",
              "    80% {\n",
              "      border-color: transparent;\n",
              "      border-right-color: var(--fill-color);\n",
              "      border-bottom-color: var(--fill-color);\n",
              "    }\n",
              "    90% {\n",
              "      border-color: transparent;\n",
              "      border-bottom-color: var(--fill-color);\n",
              "    }\n",
              "  }\n",
              "</style>\n",
              "\n",
              "  <script>\n",
              "    async function quickchart(key) {\n",
              "      const quickchartButtonEl =\n",
              "        document.querySelector('#' + key + ' button');\n",
              "      quickchartButtonEl.disabled = true;  // To prevent multiple clicks.\n",
              "      quickchartButtonEl.classList.add('colab-df-spinner');\n",
              "      try {\n",
              "        const charts = await google.colab.kernel.invokeFunction(\n",
              "            'suggestCharts', [key], {});\n",
              "      } catch (error) {\n",
              "        console.error('Error during call to suggestCharts:', error);\n",
              "      }\n",
              "      quickchartButtonEl.classList.remove('colab-df-spinner');\n",
              "      quickchartButtonEl.classList.add('colab-df-quickchart-complete');\n",
              "    }\n",
              "    (() => {\n",
              "      let quickchartButtonEl =\n",
              "        document.querySelector('#df-51ac0531-a2d5-47ca-8bb2-e985d040f893 button');\n",
              "      quickchartButtonEl.style.display =\n",
              "        google.colab.kernel.accessAllowed ? 'block' : 'none';\n",
              "    })();\n",
              "  </script>\n",
              "</div>\n",
              "\n",
              "    </div>\n",
              "  </div>\n"
            ],
            "application/vnd.google.colaboratory.intrinsic+json": {
              "type": "dataframe",
              "variable_name": "chembl_data",
              "summary": "{\n  \"name\": \"chembl_data\",\n  \"rows\": 1839,\n  \"fields\": [\n    {\n      \"column\": \"Molecule ChEMBL ID\",\n      \"properties\": {\n        \"dtype\": \"string\",\n        \"num_unique_values\": 1839,\n        \"samples\": [\n          \"CHEMBL4107733\",\n          \"CHEMBL3590475\",\n          \"CHEMBL3403439\"\n        ],\n        \"semantic_type\": \"\",\n        \"description\": \"\"\n      }\n    },\n    {\n      \"column\": \"Standard Type\",\n      \"properties\": {\n        \"dtype\": \"category\",\n        \"num_unique_values\": 1,\n        \"samples\": [\n          \"IC50\"\n        ],\n        \"semantic_type\": \"\",\n        \"description\": \"\"\n      }\n    },\n    {\n      \"column\": \"Standard Relation\",\n      \"properties\": {\n        \"dtype\": \"category\",\n        \"num_unique_values\": 1,\n        \"samples\": [\n          \"'='\"\n        ],\n        \"semantic_type\": \"\",\n        \"description\": \"\"\n      }\n    },\n    {\n      \"column\": \"Standard Value\",\n      \"properties\": {\n        \"dtype\": \"number\",\n        \"std\": 2689.9889150735567,\n        \"min\": 0.022,\n        \"max\": 55000.0,\n        \"num_unique_values\": 682,\n        \"samples\": [\n          2311.0\n        ],\n        \"semantic_type\": \"\",\n        \"description\": \"\"\n      }\n    },\n    {\n      \"column\": \"Standard Units\",\n      \"properties\": {\n        \"dtype\": \"category\",\n        \"num_unique_values\": 1,\n        \"samples\": [\n          \"nM\"\n        ],\n        \"semantic_type\": \"\",\n        \"description\": \"\"\n      }\n    },\n    {\n      \"column\": \"pChEMBL Value\",\n      \"properties\": {\n        \"dtype\": \"number\",\n        \"std\": 1.110006859586363,\n        \"min\": 4.26,\n        \"max\": 10.66,\n        \"num_unique_values\": 374,\n        \"samples\": [\n          6.05\n        ],\n        \"semantic_type\": \"\",\n        \"description\": \"\"\n      }\n    },\n    {\n      \"column\": \"Assay ChEMBL ID\",\n      \"properties\": {\n        \"dtype\": \"category\",\n        \"num_unique_values\": 69,\n        \"samples\": [\n          \"CHEMBL3380186\"\n        ],\n        \"semantic_type\": \"\",\n        \"description\": \"\"\n      }\n    },\n    {\n      \"column\": \"Target ChEMBL ID\",\n      \"properties\": {\n        \"dtype\": \"category\",\n        \"num_unique_values\": 1,\n        \"samples\": [\n          \"CHEMBL3778\"\n        ],\n        \"semantic_type\": \"\",\n        \"description\": \"\"\n      }\n    },\n    {\n      \"column\": \"Target Name\",\n      \"properties\": {\n        \"dtype\": \"category\",\n        \"num_unique_values\": 1,\n        \"samples\": [\n          \"Interleukin-1 receptor-associated kinase 4\"\n        ],\n        \"semantic_type\": \"\",\n        \"description\": \"\"\n      }\n    },\n    {\n      \"column\": \"Target Organism\",\n      \"properties\": {\n        \"dtype\": \"category\",\n        \"num_unique_values\": 1,\n        \"samples\": [\n          \"Homo sapiens\"\n        ],\n        \"semantic_type\": \"\",\n        \"description\": \"\"\n      }\n    },\n    {\n      \"column\": \"Target Type\",\n      \"properties\": {\n        \"dtype\": \"category\",\n        \"num_unique_values\": 1,\n        \"samples\": [\n          \"SINGLE PROTEIN\"\n        ],\n        \"semantic_type\": \"\",\n        \"description\": \"\"\n      }\n    },\n    {\n      \"column\": \"Document ChEMBL ID\",\n      \"properties\": {\n        \"dtype\": \"category\",\n        \"num_unique_values\": 63,\n        \"samples\": [\n          \"CHEMBL1240341\"\n        ],\n        \"semantic_type\": \"\",\n        \"description\": \"\"\n      }\n    },\n    {\n      \"column\": \"IC50_nM\",\n      \"properties\": {\n        \"dtype\": \"number\",\n        \"std\": 2689.9889150735567,\n        \"min\": 0.022,\n        \"max\": 55000.0,\n        \"num_unique_values\": 682,\n        \"samples\": [\n          2311.0\n        ],\n        \"semantic_type\": \"\",\n        \"description\": \"\"\n      }\n    },\n    {\n      \"column\": \"pIC50\",\n      \"properties\": {\n        \"dtype\": \"number\",\n        \"std\": 1.110006859586363,\n        \"min\": 4.26,\n        \"max\": 10.66,\n        \"num_unique_values\": 374,\n        \"samples\": [\n          6.05\n        ],\n        \"semantic_type\": \"\",\n        \"description\": \"\"\n      }\n    },\n    {\n      \"column\": \"Smiles\",\n      \"properties\": {\n        \"dtype\": \"string\",\n        \"num_unique_values\": 1839,\n        \"samples\": [\n          \"CCCn1cc(Nc2cc(-n3cnc4cc(Cl)cnc43)ncc2C(=O)NC[C@@H](F)C(C)(C)O)cn1\"\n        ],\n        \"semantic_type\": \"\",\n        \"description\": \"\"\n      }\n    }\n  ]\n}"
            }
          },
          "metadata": {},
          "execution_count": 8
        }
      ]
    },
    {
      "cell_type": "code",
      "source": [
        "num_chembl = len(chembl_data['Assay ChEMBL ID'].unique())\n",
        "num_smiles = len(chembl_data['Smiles'].unique())\n",
        "\n",
        "print('Number of Assay ChEMBL IDs', num_chembl)\n",
        "print('Number of Smiles', num_smiles)"
      ],
      "metadata": {
        "colab": {
          "base_uri": "https://localhost:8080/"
        },
        "id": "OUOqEw64ayGk",
        "outputId": "858a8a0a-08d1-4de2-a8fe-a799b2373280"
      },
      "execution_count": null,
      "outputs": [
        {
          "output_type": "stream",
          "name": "stdout",
          "text": [
            "Number of Assay ChEMBL IDs 69\n",
            "Number of Smiles 1839\n"
          ]
        }
      ]
    },
    {
      "cell_type": "code",
      "source": [
        "chembl_data.loc[:, 'ECFP'] = chembl_data['Smiles'].apply(generate_ecfp)"
      ],
      "metadata": {
        "id": "gbhlsTV_k2q5"
      },
      "execution_count": null,
      "outputs": []
    },
    {
      "cell_type": "code",
      "source": [
        "val_data = chembl_data.iloc[:390]  # 상위 390개 행을 선택\n",
        "train_data = chembl_data.iloc[390:]  # 나머지 행을 선택"
      ],
      "metadata": {
        "id": "Amfzi0iKbaK1"
      },
      "execution_count": null,
      "outputs": []
    },
    {
      "cell_type": "code",
      "source": [
        "val_x = val_data['ECFP']\n",
        "val_y = val_data['pIC50']\n",
        "\n",
        "train_x = train_data['ECFP']\n",
        "train_y = train_data['pIC50']"
      ],
      "metadata": {
        "id": "wVEQz-1Tlh1I"
      },
      "execution_count": null,
      "outputs": []
    },
    {
      "cell_type": "code",
      "source": [
        "val_x = np.stack(val_x.values)\n",
        "train_x = np.stack(train_x.values)"
      ],
      "metadata": {
        "id": "bTpDYtDymN8H"
      },
      "execution_count": null,
      "outputs": []
    },
    {
      "cell_type": "code",
      "source": [
        "print(\"Validation X Shape:\", val_x.shape)\n",
        "print(\"Training X Shape:\", train_x.shape)"
      ],
      "metadata": {
        "colab": {
          "base_uri": "https://localhost:8080/"
        },
        "id": "z6AB_jIAmQ3P",
        "outputId": "eb205b53-941d-42e0-b6b1-f9383806b2ca"
      },
      "execution_count": null,
      "outputs": [
        {
          "output_type": "stream",
          "name": "stdout",
          "text": [
            "Validation X Shape: (390, 2048)\n",
            "Training X Shape: (1449, 2048)\n"
          ]
        }
      ]
    },
    {
      "cell_type": "code",
      "source": [
        "from xgboost import XGBRegressor\n",
        "from sklearn.model_selection import RandomizedSearchCV\n",
        "from scipy.stats import randint, uniform"
      ],
      "metadata": {
        "id": "O0ctZ8-1fohS"
      },
      "execution_count": null,
      "outputs": []
    },
    {
      "cell_type": "code",
      "source": [
        "# 하이퍼파라미터 범위 설정\n",
        "param_dist = {\n",
        "    'n_estimators': randint(100, 300),\n",
        "    'max_depth': randint(3, 10),\n",
        "    'learning_rate': uniform(0.01, 0.3),\n",
        "    'subsample': uniform(0.7, 0.3),\n",
        "    'colsample_bytree': uniform(0.7, 0.3),\n",
        "    'gamma': uniform(0, 0.5)\n",
        "}\n",
        "\n",
        "# XGBoost 모델 설정\n",
        "xgb_model = XGBRegressor(random_state=CFG['SEED'], n_jobs=-1)\n",
        "\n",
        "# RandomizedSearchCV를 사용한 파라미터 최적화\n",
        "random_search = RandomizedSearchCV(\n",
        "    estimator=xgb_model,\n",
        "    param_distributions=param_dist,\n",
        "    n_iter=5,\n",
        "    cv=5,\n",
        "    verbose=2,\n",
        "    n_jobs=1,\n",
        "    random_state=CFG['SEED']\n",
        ")\n",
        "\n",
        "# 훈련 데이터\n",
        "train_x = np.stack(chembl_data['ECFP'].values)\n",
        "train_y = chembl_data['pIC50'].values\n",
        "\n",
        "# 최적의 파라미터로 학습\n",
        "random_search.fit(train_x, train_y)\n",
        "best_xgb_model = random_search.best_estimator_"
      ],
      "metadata": {
        "colab": {
          "base_uri": "https://localhost:8080/"
        },
        "id": "Wx8N8PdT7C6L",
        "outputId": "ee4e1139-b2ff-497c-f8e2-75d898508249"
      },
      "execution_count": null,
      "outputs": [
        {
          "output_type": "stream",
          "name": "stdout",
          "text": [
            "Fitting 5 folds for each of 5 candidates, totalling 25 fits\n",
            "[CV] END colsample_bytree=0.8123620356542087, gamma=0.4753571532049581, learning_rate=0.22959818254342154, max_depth=7, n_estimators=120, subsample=0.7468055921327309; total time=   0.9s\n",
            "[CV] END colsample_bytree=0.8123620356542087, gamma=0.4753571532049581, learning_rate=0.22959818254342154, max_depth=7, n_estimators=120, subsample=0.7468055921327309; total time=   3.9s\n",
            "[CV] END colsample_bytree=0.8123620356542087, gamma=0.4753571532049581, learning_rate=0.22959818254342154, max_depth=7, n_estimators=120, subsample=0.7468055921327309; total time=   3.0s\n",
            "[CV] END colsample_bytree=0.8123620356542087, gamma=0.4753571532049581, learning_rate=0.22959818254342154, max_depth=7, n_estimators=120, subsample=0.7468055921327309; total time=   0.9s\n",
            "[CV] END colsample_bytree=0.8123620356542087, gamma=0.4753571532049581, learning_rate=0.22959818254342154, max_depth=7, n_estimators=120, subsample=0.7468055921327309; total time=   1.0s\n",
            "[CV] END colsample_bytree=0.7467983561008608, gamma=0.02904180608409973, learning_rate=0.26985284373248053, max_depth=6, n_estimators=203, subsample=0.9124217733388136; total time=   1.5s\n",
            "[CV] END colsample_bytree=0.7467983561008608, gamma=0.02904180608409973, learning_rate=0.26985284373248053, max_depth=6, n_estimators=203, subsample=0.9124217733388136; total time=   1.5s\n",
            "[CV] END colsample_bytree=0.7467983561008608, gamma=0.02904180608409973, learning_rate=0.26985284373248053, max_depth=6, n_estimators=203, subsample=0.9124217733388136; total time=   1.5s\n",
            "[CV] END colsample_bytree=0.7467983561008608, gamma=0.02904180608409973, learning_rate=0.26985284373248053, max_depth=6, n_estimators=203, subsample=0.9124217733388136; total time=   1.4s\n",
            "[CV] END colsample_bytree=0.7467983561008608, gamma=0.02904180608409973, learning_rate=0.26985284373248053, max_depth=6, n_estimators=203, subsample=0.9124217733388136; total time=   1.5s\n",
            "[CV] END colsample_bytree=0.7061753482887407, gamma=0.48495492608099716, learning_rate=0.2597327922401265, max_depth=8, n_estimators=229, subsample=0.7545474901621302; total time=   3.9s\n",
            "[CV] END colsample_bytree=0.7061753482887407, gamma=0.48495492608099716, learning_rate=0.2597327922401265, max_depth=8, n_estimators=229, subsample=0.7545474901621302; total time=   4.8s\n",
            "[CV] END colsample_bytree=0.7061753482887407, gamma=0.48495492608099716, learning_rate=0.2597327922401265, max_depth=8, n_estimators=229, subsample=0.7545474901621302; total time=   4.8s\n",
            "[CV] END colsample_bytree=0.7061753482887407, gamma=0.48495492608099716, learning_rate=0.2597327922401265, max_depth=8, n_estimators=229, subsample=0.7545474901621302; total time=   1.3s\n",
            "[CV] END colsample_bytree=0.7061753482887407, gamma=0.48495492608099716, learning_rate=0.2597327922401265, max_depth=8, n_estimators=229, subsample=0.7545474901621302; total time=   1.4s\n",
            "[CV] END colsample_bytree=0.7550213529560301, gamma=0.15212112147976886, learning_rate=0.16742692948967136, max_depth=6, n_estimators=188, subsample=0.7873687420594125; total time=   5.4s\n",
            "[CV] END colsample_bytree=0.7550213529560301, gamma=0.15212112147976886, learning_rate=0.16742692948967136, max_depth=6, n_estimators=188, subsample=0.7873687420594125; total time=   1.4s\n",
            "[CV] END colsample_bytree=0.7550213529560301, gamma=0.15212112147976886, learning_rate=0.16742692948967136, max_depth=6, n_estimators=188, subsample=0.7873687420594125; total time=   1.4s\n",
            "[CV] END colsample_bytree=0.7550213529560301, gamma=0.15212112147976886, learning_rate=0.16742692948967136, max_depth=6, n_estimators=188, subsample=0.7873687420594125; total time=   1.4s\n",
            "[CV] END colsample_bytree=0.7550213529560301, gamma=0.15212112147976886, learning_rate=0.16742692948967136, max_depth=6, n_estimators=188, subsample=0.7873687420594125; total time=   1.4s\n",
            "[CV] END colsample_bytree=0.8835558684167137, gamma=0.06974693032602092, learning_rate=0.09764339456056544, max_depth=9, n_estimators=289, subsample=0.7271819303598462; total time=   2.8s\n",
            "[CV] END colsample_bytree=0.8835558684167137, gamma=0.06974693032602092, learning_rate=0.09764339456056544, max_depth=9, n_estimators=289, subsample=0.7271819303598462; total time=   5.5s\n",
            "[CV] END colsample_bytree=0.8835558684167137, gamma=0.06974693032602092, learning_rate=0.09764339456056544, max_depth=9, n_estimators=289, subsample=0.7271819303598462; total time=   4.3s\n",
            "[CV] END colsample_bytree=0.8835558684167137, gamma=0.06974693032602092, learning_rate=0.09764339456056544, max_depth=9, n_estimators=289, subsample=0.7271819303598462; total time=   3.4s\n",
            "[CV] END colsample_bytree=0.8835558684167137, gamma=0.06974693032602092, learning_rate=0.09764339456056544, max_depth=9, n_estimators=289, subsample=0.7271819303598462; total time=   4.2s\n"
          ]
        }
      ]
    },
    {
      "cell_type": "code",
      "source": [
        "# 예측값 계산\n",
        "train_y_pred = best_xgb_model.predict(train_x)\n",
        "val_y_pred = best_xgb_model.predict(val_x)\n",
        "\n",
        "# RMSE 계산\n",
        "train_rmse = np.sqrt(mean_squared_error(train_y, train_y_pred))\n",
        "val_rmse = np.sqrt(mean_squared_error(val_y, val_y_pred))\n",
        "\n",
        "# 결과 출력\n",
        "print(f\"Training RMSE: {train_rmse:.4f}\")\n",
        "print(f\"Validation RMSE: {val_rmse:.4f}\")"
      ],
      "metadata": {
        "colab": {
          "base_uri": "https://localhost:8080/"
        },
        "id": "UspAq09dpOl1",
        "outputId": "e1d50c25-e850-428c-a344-ce499c720339"
      },
      "execution_count": null,
      "outputs": [
        {
          "output_type": "stream",
          "name": "stdout",
          "text": [
            "Training RMSE: 0.1960\n",
            "Validation RMSE: 0.1935\n"
          ]
        }
      ]
    },
    {
      "cell_type": "code",
      "source": [
        "def pIC50_to_IC50(pic50_values):\n",
        "    return 10 ** (9 - pic50_values)"
      ],
      "metadata": {
        "id": "xWKGKVdypBgD"
      },
      "execution_count": null,
      "outputs": []
    },
    {
      "cell_type": "code",
      "source": [
        "test = pd.read_csv('/content/drive/MyDrive/DACON/제2회 신약개발 AI 경진대회/open/preprocessed_test.csv')"
      ],
      "metadata": {
        "id": "FgpWIxMLpzLV"
      },
      "execution_count": null,
      "outputs": []
    },
    {
      "cell_type": "code",
      "source": [
        "test.loc[:, 'ECFP'] = test['Smiles'].apply(generate_ecfp)"
      ],
      "metadata": {
        "id": "6Ibw_9Kcp3vR"
      },
      "execution_count": null,
      "outputs": []
    },
    {
      "cell_type": "code",
      "source": [
        "test_x = test['ECFP']\n",
        "test_x = np.stack(test_x.values)\n",
        "test_y = test['pIC50']"
      ],
      "metadata": {
        "id": "9a9xhvUHqL3j"
      },
      "execution_count": null,
      "outputs": []
    },
    {
      "cell_type": "code",
      "source": [
        "test_y_pred = best_xgb_model.predict(test_x)"
      ],
      "metadata": {
        "id": "PjRP7_Ifp9tT"
      },
      "execution_count": null,
      "outputs": []
    },
    {
      "cell_type": "code",
      "source": [
        "test_y_pred, test_y = pIC50_to_IC50(test_y_pred), pIC50_to_IC50(test_y)"
      ],
      "metadata": {
        "id": "F6BuijSoq8K0"
      },
      "execution_count": null,
      "outputs": []
    },
    {
      "cell_type": "code",
      "source": [
        "# RMSE 계산\n",
        "rmse = sqrt(mean_squared_error(test_y, test_y_pred))\n",
        "\n",
        "# Normalized RMSE 계산\n",
        "normalized_rmse = rmse / (np.max(test_y) - np.min(test_y_pred))\n",
        "\n",
        "# Absolute Error for IC50_nm\n",
        "absolute_error = np.abs(test_y - test_y_pred)\n",
        "\n",
        "# Correct Ratio 계산 (절대 오차가 0.5 이하인 비율)\n",
        "correct_ratio = np.mean(absolute_error <= 0.5)\n",
        "\n",
        "# 종합 점수 계산\n",
        "score = 0.5 * (1 - min(normalized_rmse, 1)) + 0.5 * correct_ratio\n",
        "\n",
        "print(f\"Normalized RMSE (A): {normalized_rmse}\")\n",
        "print(f\"Correct Ratio (B): {correct_ratio}\")\n",
        "print(f\"Score: {score}\")"
      ],
      "metadata": {
        "colab": {
          "base_uri": "https://localhost:8080/"
        },
        "id": "5UDqfJZnqmCB",
        "outputId": "41fc3e03-6a80-4bee-d393-18ef84ed7259"
      },
      "execution_count": null,
      "outputs": [
        {
          "output_type": "stream",
          "name": "stdout",
          "text": [
            "Normalized RMSE (A): 0.09926023167810934\n",
            "Correct Ratio (B): 0.061946902654867256\n",
            "Score: 0.48134333548837893\n"
          ]
        }
      ]
    },
    {
      "cell_type": "code",
      "source": [
        "submit_test = pd.read_csv('/content/drive/MyDrive/DACON/제2회 신약개발 AI 경진대회/open/test.csv')\n"
      ],
      "metadata": {
        "id": "CuHdowq0xS6_"
      },
      "execution_count": null,
      "outputs": []
    },
    {
      "cell_type": "code",
      "source": [
        "submit_test.loc[:, 'ECFP'] = submit_test['Smiles'].apply(generate_ecfp)\n",
        "stest_x = submit_test['ECFP']\n",
        "stest_x = np.stack(stest_x.values)"
      ],
      "metadata": {
        "id": "05a4TevixhQG"
      },
      "execution_count": null,
      "outputs": []
    },
    {
      "cell_type": "code",
      "source": [
        "stest_y_pred = best_xgb_model.predict(stest_x)"
      ],
      "metadata": {
        "id": "Ju64tLPWx2bu"
      },
      "execution_count": null,
      "outputs": []
    },
    {
      "cell_type": "code",
      "source": [
        "submit = pd.read_csv('/content/drive/MyDrive/DACON/제2회 신약개발 AI 경진대회/open/sample_submission.csv')\n",
        "submit['IC50_nM'] =pIC50_to_IC50(stest_y_pred)\n",
        "submit.head()"
      ],
      "metadata": {
        "colab": {
          "base_uri": "https://localhost:8080/",
          "height": 206
        },
        "id": "3IbzkbzwrMot",
        "outputId": "7eb42b08-a487-446f-bfb8-d8e591dc6fb1"
      },
      "execution_count": null,
      "outputs": [
        {
          "output_type": "execute_result",
          "data": {
            "text/plain": [
              "         ID     IC50_nM\n",
              "0  TEST_000  529.472717\n",
              "1  TEST_001   63.975063\n",
              "2  TEST_002   31.728260\n",
              "3  TEST_003   41.160080\n",
              "4  TEST_004   29.837370"
            ],
            "text/html": [
              "\n",
              "  <div id=\"df-435521d2-7524-40e4-bbe8-fa2305e64a36\" class=\"colab-df-container\">\n",
              "    <div>\n",
              "<style scoped>\n",
              "    .dataframe tbody tr th:only-of-type {\n",
              "        vertical-align: middle;\n",
              "    }\n",
              "\n",
              "    .dataframe tbody tr th {\n",
              "        vertical-align: top;\n",
              "    }\n",
              "\n",
              "    .dataframe thead th {\n",
              "        text-align: right;\n",
              "    }\n",
              "</style>\n",
              "<table border=\"1\" class=\"dataframe\">\n",
              "  <thead>\n",
              "    <tr style=\"text-align: right;\">\n",
              "      <th></th>\n",
              "      <th>ID</th>\n",
              "      <th>IC50_nM</th>\n",
              "    </tr>\n",
              "  </thead>\n",
              "  <tbody>\n",
              "    <tr>\n",
              "      <th>0</th>\n",
              "      <td>TEST_000</td>\n",
              "      <td>529.472717</td>\n",
              "    </tr>\n",
              "    <tr>\n",
              "      <th>1</th>\n",
              "      <td>TEST_001</td>\n",
              "      <td>63.975063</td>\n",
              "    </tr>\n",
              "    <tr>\n",
              "      <th>2</th>\n",
              "      <td>TEST_002</td>\n",
              "      <td>31.728260</td>\n",
              "    </tr>\n",
              "    <tr>\n",
              "      <th>3</th>\n",
              "      <td>TEST_003</td>\n",
              "      <td>41.160080</td>\n",
              "    </tr>\n",
              "    <tr>\n",
              "      <th>4</th>\n",
              "      <td>TEST_004</td>\n",
              "      <td>29.837370</td>\n",
              "    </tr>\n",
              "  </tbody>\n",
              "</table>\n",
              "</div>\n",
              "    <div class=\"colab-df-buttons\">\n",
              "\n",
              "  <div class=\"colab-df-container\">\n",
              "    <button class=\"colab-df-convert\" onclick=\"convertToInteractive('df-435521d2-7524-40e4-bbe8-fa2305e64a36')\"\n",
              "            title=\"Convert this dataframe to an interactive table.\"\n",
              "            style=\"display:none;\">\n",
              "\n",
              "  <svg xmlns=\"http://www.w3.org/2000/svg\" height=\"24px\" viewBox=\"0 -960 960 960\">\n",
              "    <path d=\"M120-120v-720h720v720H120Zm60-500h600v-160H180v160Zm220 220h160v-160H400v160Zm0 220h160v-160H400v160ZM180-400h160v-160H180v160Zm440 0h160v-160H620v160ZM180-180h160v-160H180v160Zm440 0h160v-160H620v160Z\"/>\n",
              "  </svg>\n",
              "    </button>\n",
              "\n",
              "  <style>\n",
              "    .colab-df-container {\n",
              "      display:flex;\n",
              "      gap: 12px;\n",
              "    }\n",
              "\n",
              "    .colab-df-convert {\n",
              "      background-color: #E8F0FE;\n",
              "      border: none;\n",
              "      border-radius: 50%;\n",
              "      cursor: pointer;\n",
              "      display: none;\n",
              "      fill: #1967D2;\n",
              "      height: 32px;\n",
              "      padding: 0 0 0 0;\n",
              "      width: 32px;\n",
              "    }\n",
              "\n",
              "    .colab-df-convert:hover {\n",
              "      background-color: #E2EBFA;\n",
              "      box-shadow: 0px 1px 2px rgba(60, 64, 67, 0.3), 0px 1px 3px 1px rgba(60, 64, 67, 0.15);\n",
              "      fill: #174EA6;\n",
              "    }\n",
              "\n",
              "    .colab-df-buttons div {\n",
              "      margin-bottom: 4px;\n",
              "    }\n",
              "\n",
              "    [theme=dark] .colab-df-convert {\n",
              "      background-color: #3B4455;\n",
              "      fill: #D2E3FC;\n",
              "    }\n",
              "\n",
              "    [theme=dark] .colab-df-convert:hover {\n",
              "      background-color: #434B5C;\n",
              "      box-shadow: 0px 1px 3px 1px rgba(0, 0, 0, 0.15);\n",
              "      filter: drop-shadow(0px 1px 2px rgba(0, 0, 0, 0.3));\n",
              "      fill: #FFFFFF;\n",
              "    }\n",
              "  </style>\n",
              "\n",
              "    <script>\n",
              "      const buttonEl =\n",
              "        document.querySelector('#df-435521d2-7524-40e4-bbe8-fa2305e64a36 button.colab-df-convert');\n",
              "      buttonEl.style.display =\n",
              "        google.colab.kernel.accessAllowed ? 'block' : 'none';\n",
              "\n",
              "      async function convertToInteractive(key) {\n",
              "        const element = document.querySelector('#df-435521d2-7524-40e4-bbe8-fa2305e64a36');\n",
              "        const dataTable =\n",
              "          await google.colab.kernel.invokeFunction('convertToInteractive',\n",
              "                                                    [key], {});\n",
              "        if (!dataTable) return;\n",
              "\n",
              "        const docLinkHtml = 'Like what you see? Visit the ' +\n",
              "          '<a target=\"_blank\" href=https://colab.research.google.com/notebooks/data_table.ipynb>data table notebook</a>'\n",
              "          + ' to learn more about interactive tables.';\n",
              "        element.innerHTML = '';\n",
              "        dataTable['output_type'] = 'display_data';\n",
              "        await google.colab.output.renderOutput(dataTable, element);\n",
              "        const docLink = document.createElement('div');\n",
              "        docLink.innerHTML = docLinkHtml;\n",
              "        element.appendChild(docLink);\n",
              "      }\n",
              "    </script>\n",
              "  </div>\n",
              "\n",
              "\n",
              "<div id=\"df-dd7248b0-da5e-47dc-9449-9d885b689b2e\">\n",
              "  <button class=\"colab-df-quickchart\" onclick=\"quickchart('df-dd7248b0-da5e-47dc-9449-9d885b689b2e')\"\n",
              "            title=\"Suggest charts\"\n",
              "            style=\"display:none;\">\n",
              "\n",
              "<svg xmlns=\"http://www.w3.org/2000/svg\" height=\"24px\"viewBox=\"0 0 24 24\"\n",
              "     width=\"24px\">\n",
              "    <g>\n",
              "        <path d=\"M19 3H5c-1.1 0-2 .9-2 2v14c0 1.1.9 2 2 2h14c1.1 0 2-.9 2-2V5c0-1.1-.9-2-2-2zM9 17H7v-7h2v7zm4 0h-2V7h2v10zm4 0h-2v-4h2v4z\"/>\n",
              "    </g>\n",
              "</svg>\n",
              "  </button>\n",
              "\n",
              "<style>\n",
              "  .colab-df-quickchart {\n",
              "      --bg-color: #E8F0FE;\n",
              "      --fill-color: #1967D2;\n",
              "      --hover-bg-color: #E2EBFA;\n",
              "      --hover-fill-color: #174EA6;\n",
              "      --disabled-fill-color: #AAA;\n",
              "      --disabled-bg-color: #DDD;\n",
              "  }\n",
              "\n",
              "  [theme=dark] .colab-df-quickchart {\n",
              "      --bg-color: #3B4455;\n",
              "      --fill-color: #D2E3FC;\n",
              "      --hover-bg-color: #434B5C;\n",
              "      --hover-fill-color: #FFFFFF;\n",
              "      --disabled-bg-color: #3B4455;\n",
              "      --disabled-fill-color: #666;\n",
              "  }\n",
              "\n",
              "  .colab-df-quickchart {\n",
              "    background-color: var(--bg-color);\n",
              "    border: none;\n",
              "    border-radius: 50%;\n",
              "    cursor: pointer;\n",
              "    display: none;\n",
              "    fill: var(--fill-color);\n",
              "    height: 32px;\n",
              "    padding: 0;\n",
              "    width: 32px;\n",
              "  }\n",
              "\n",
              "  .colab-df-quickchart:hover {\n",
              "    background-color: var(--hover-bg-color);\n",
              "    box-shadow: 0 1px 2px rgba(60, 64, 67, 0.3), 0 1px 3px 1px rgba(60, 64, 67, 0.15);\n",
              "    fill: var(--button-hover-fill-color);\n",
              "  }\n",
              "\n",
              "  .colab-df-quickchart-complete:disabled,\n",
              "  .colab-df-quickchart-complete:disabled:hover {\n",
              "    background-color: var(--disabled-bg-color);\n",
              "    fill: var(--disabled-fill-color);\n",
              "    box-shadow: none;\n",
              "  }\n",
              "\n",
              "  .colab-df-spinner {\n",
              "    border: 2px solid var(--fill-color);\n",
              "    border-color: transparent;\n",
              "    border-bottom-color: var(--fill-color);\n",
              "    animation:\n",
              "      spin 1s steps(1) infinite;\n",
              "  }\n",
              "\n",
              "  @keyframes spin {\n",
              "    0% {\n",
              "      border-color: transparent;\n",
              "      border-bottom-color: var(--fill-color);\n",
              "      border-left-color: var(--fill-color);\n",
              "    }\n",
              "    20% {\n",
              "      border-color: transparent;\n",
              "      border-left-color: var(--fill-color);\n",
              "      border-top-color: var(--fill-color);\n",
              "    }\n",
              "    30% {\n",
              "      border-color: transparent;\n",
              "      border-left-color: var(--fill-color);\n",
              "      border-top-color: var(--fill-color);\n",
              "      border-right-color: var(--fill-color);\n",
              "    }\n",
              "    40% {\n",
              "      border-color: transparent;\n",
              "      border-right-color: var(--fill-color);\n",
              "      border-top-color: var(--fill-color);\n",
              "    }\n",
              "    60% {\n",
              "      border-color: transparent;\n",
              "      border-right-color: var(--fill-color);\n",
              "    }\n",
              "    80% {\n",
              "      border-color: transparent;\n",
              "      border-right-color: var(--fill-color);\n",
              "      border-bottom-color: var(--fill-color);\n",
              "    }\n",
              "    90% {\n",
              "      border-color: transparent;\n",
              "      border-bottom-color: var(--fill-color);\n",
              "    }\n",
              "  }\n",
              "</style>\n",
              "\n",
              "  <script>\n",
              "    async function quickchart(key) {\n",
              "      const quickchartButtonEl =\n",
              "        document.querySelector('#' + key + ' button');\n",
              "      quickchartButtonEl.disabled = true;  // To prevent multiple clicks.\n",
              "      quickchartButtonEl.classList.add('colab-df-spinner');\n",
              "      try {\n",
              "        const charts = await google.colab.kernel.invokeFunction(\n",
              "            'suggestCharts', [key], {});\n",
              "      } catch (error) {\n",
              "        console.error('Error during call to suggestCharts:', error);\n",
              "      }\n",
              "      quickchartButtonEl.classList.remove('colab-df-spinner');\n",
              "      quickchartButtonEl.classList.add('colab-df-quickchart-complete');\n",
              "    }\n",
              "    (() => {\n",
              "      let quickchartButtonEl =\n",
              "        document.querySelector('#df-dd7248b0-da5e-47dc-9449-9d885b689b2e button');\n",
              "      quickchartButtonEl.style.display =\n",
              "        google.colab.kernel.accessAllowed ? 'block' : 'none';\n",
              "    })();\n",
              "  </script>\n",
              "</div>\n",
              "\n",
              "    </div>\n",
              "  </div>\n"
            ],
            "application/vnd.google.colaboratory.intrinsic+json": {
              "type": "dataframe",
              "variable_name": "submit",
              "summary": "{\n  \"name\": \"submit\",\n  \"rows\": 113,\n  \"fields\": [\n    {\n      \"column\": \"ID\",\n      \"properties\": {\n        \"dtype\": \"string\",\n        \"num_unique_values\": 113,\n        \"samples\": [\n          \"TEST_080\",\n          \"TEST_004\",\n          \"TEST_040\"\n        ],\n        \"semantic_type\": \"\",\n        \"description\": \"\"\n      }\n    },\n    {\n      \"column\": \"IC50_nM\",\n      \"properties\": {\n        \"dtype\": \"float32\",\n        \"num_unique_values\": 110,\n        \"samples\": [\n          21.46466827392578,\n          291.08624267578125,\n          29.837369918823242\n        ],\n        \"semantic_type\": \"\",\n        \"description\": \"\"\n      }\n    }\n  ]\n}"
            }
          },
          "metadata": {},
          "execution_count": 29
        }
      ]
    },
    {
      "cell_type": "code",
      "source": [
        "submit.to_csv('/content/drive/MyDrive/DACON/제2회 신약개발 AI 경진대회/submit_v4.csv', index=False)"
      ],
      "metadata": {
        "id": "JsMPx-VkrtYn"
      },
      "execution_count": null,
      "outputs": []
    },
    {
      "cell_type": "code",
      "source": [],
      "metadata": {
        "id": "hJpSBRf_uddp"
      },
      "execution_count": null,
      "outputs": []
    }
  ]
}