{
  "nbformat": 4,
  "nbformat_minor": 0,
  "metadata": {
    "colab": {
      "provenance": []
    },
    "kernelspec": {
      "name": "python3",
      "display_name": "Python 3"
    },
    "language_info": {
      "name": "python"
    }
  },
  "cells": [
    {
      "cell_type": "code",
      "execution_count": null,
      "metadata": {
        "colab": {
          "base_uri": "https://localhost:8080/"
        },
        "id": "b6eZKcmCaFiG",
        "outputId": "88cd96c8-af43-4bdb-980f-eae9ac864d55"
      },
      "outputs": [
        {
          "output_type": "stream",
          "name": "stdout",
          "text": [
            "Mounted at /content/drive\n"
          ]
        }
      ],
      "source": [
        "from google.colab import drive\n",
        "drive.mount('/content/drive')"
      ]
    },
    {
      "cell_type": "code",
      "source": [
        "!pip install rdkit"
      ],
      "metadata": {
        "colab": {
          "base_uri": "https://localhost:8080/"
        },
        "id": "fBwUT4f1aLHd",
        "outputId": "0391553f-7d1b-4f5b-a47d-fdd7ff1dc643"
      },
      "execution_count": null,
      "outputs": [
        {
          "output_type": "stream",
          "name": "stdout",
          "text": [
            "Collecting rdkit\n",
            "  Downloading rdkit-2024.3.5-cp310-cp310-manylinux_2_28_x86_64.whl.metadata (3.9 kB)\n",
            "Requirement already satisfied: numpy in /usr/local/lib/python3.10/dist-packages (from rdkit) (1.26.4)\n",
            "Requirement already satisfied: Pillow in /usr/local/lib/python3.10/dist-packages (from rdkit) (9.4.0)\n",
            "Downloading rdkit-2024.3.5-cp310-cp310-manylinux_2_28_x86_64.whl (33.1 MB)\n",
            "\u001b[2K   \u001b[90m━━━━━━━━━━━━━━━━━━━━━━━━━━━━━━━━━━━━━━━━\u001b[0m \u001b[32m33.1/33.1 MB\u001b[0m \u001b[31m51.3 MB/s\u001b[0m eta \u001b[36m0:00:00\u001b[0m\n",
            "\u001b[?25hInstalling collected packages: rdkit\n",
            "Successfully installed rdkit-2024.3.5\n"
          ]
        }
      ]
    },
    {
      "cell_type": "code",
      "source": [
        "import pandas as pd\n",
        "import numpy as np\n",
        "import seaborn as sns\n",
        "import matplotlib.pyplot as plt\n",
        "import matplotlib as mpl\n",
        "import matplotlib.cm as cm\n",
        "from sklearn.decomposition import PCA\n",
        "from sklearn.cluster import KMeans\n",
        "\n",
        "import os\n",
        "import random\n",
        "\n",
        "from rdkit import Chem\n",
        "from rdkit.Chem import AllChem\n",
        "import rdkit, rdkit.Chem.rdDepictor, rdkit.Chem.Draw\n",
        "from sklearn.model_selection import train_test_split\n",
        "\n",
        "import tensorflow as tf"
      ],
      "metadata": {
        "id": "_0s0oQH5aVEF"
      },
      "execution_count": null,
      "outputs": []
    },
    {
      "cell_type": "code",
      "source": [
        "from sklearn.ensemble import RandomForestRegressor\n",
        "from sklearn.metrics import mean_absolute_error, r2_score\n",
        "from sklearn.metrics import mean_squared_error\n",
        "from math import log10, sqrt\n",
        "\n",
        "from sklearn.model_selection import train_test_split, GridSearchCV\n",
        "from sklearn.ensemble import GradientBoostingRegressor\n",
        "from sklearn.pipeline import Pipeline\n",
        "from sklearn.preprocessing import StandardScaler"
      ],
      "metadata": {
        "id": "Tq9IucfOaX0U"
      },
      "execution_count": null,
      "outputs": []
    },
    {
      "cell_type": "code",
      "source": [
        "CFG = {\n",
        "    'NBITS':2048,\n",
        "    'SEED':42,\n",
        "}"
      ],
      "metadata": {
        "id": "ygN0VlEyajiK"
      },
      "execution_count": null,
      "outputs": []
    },
    {
      "cell_type": "code",
      "source": [
        "def seed_everything(seed):\n",
        "    random.seed(seed)\n",
        "    os.environ['PYTHONHASHSEED'] = str(seed)\n",
        "    np.random.seed(seed)\n",
        "seed_everything(CFG['SEED']) # Seed 고정"
      ],
      "metadata": {
        "id": "kOKyGWKgale5"
      },
      "execution_count": null,
      "outputs": []
    },
    {
      "cell_type": "code",
      "source": [
        "# Function to generate ECFP fingerprint from SMILES\n",
        "def generate_ecfp(smiles, radius=2, nBits=2048):\n",
        "    mol = Chem.MolFromSmiles(smiles)\n",
        "    if mol is None:\n",
        "        raise ValueError(\"Invalid SMILES string\")\n",
        "    ecfp = AllChem.GetMorganFingerprintAsBitVect(mol, radius, nBits=nBits)\n",
        "    return ecfp"
      ],
      "metadata": {
        "id": "O5buENtIan8L"
      },
      "execution_count": null,
      "outputs": []
    },
    {
      "cell_type": "code",
      "source": [
        "chembl_data = pd.read_csv('/content/drive/MyDrive/DACON/제2회 신약개발 AI 경진대회/open/preprocessed_train.csv')\n",
        "chembl_data.head()"
      ],
      "metadata": {
        "colab": {
          "base_uri": "https://localhost:8080/",
          "height": 504
        },
        "id": "K6pcGv9wasgD",
        "outputId": "3d514850-7d21-4e90-e8b3-0032e958ac6f"
      },
      "execution_count": null,
      "outputs": [
        {
          "output_type": "execute_result",
          "data": {
            "text/plain": [
              "  Molecule ChEMBL ID Standard Type Standard Relation  Standard Value  \\\n",
              "0      CHEMBL3968119          IC50               '='           675.9   \n",
              "1      CHEMBL3966110          IC50               '='             5.1   \n",
              "2      CHEMBL4109180          IC50               '='            25.0   \n",
              "3      CHEMBL4107475          IC50               '='            14.0   \n",
              "4      CHEMBL4114259          IC50               '='           145.0   \n",
              "\n",
              "  Standard Units  pChEMBL Value Assay ChEMBL ID Target ChEMBL ID  \\\n",
              "0             nM           6.17   CHEMBL3887888       CHEMBL3778   \n",
              "1             nM           8.29   CHEMBL3887118       CHEMBL3778   \n",
              "2             nM           7.60   CHEMBL3887893       CHEMBL3778   \n",
              "3             nM           7.85   CHEMBL3887118       CHEMBL3778   \n",
              "4             nM           6.84   CHEMBL3887893       CHEMBL3778   \n",
              "\n",
              "                                  Target Name Target Organism     Target Type  \\\n",
              "0  Interleukin-1 receptor-associated kinase 4    Homo sapiens  SINGLE PROTEIN   \n",
              "1  Interleukin-1 receptor-associated kinase 4    Homo sapiens  SINGLE PROTEIN   \n",
              "2  Interleukin-1 receptor-associated kinase 4    Homo sapiens  SINGLE PROTEIN   \n",
              "3  Interleukin-1 receptor-associated kinase 4    Homo sapiens  SINGLE PROTEIN   \n",
              "4  Interleukin-1 receptor-associated kinase 4    Homo sapiens  SINGLE PROTEIN   \n",
              "\n",
              "  Document ChEMBL ID  IC50_nM  pIC50  \\\n",
              "0      CHEMBL3886488    675.9   6.17   \n",
              "1      CHEMBL3886172      5.1   8.29   \n",
              "2      CHEMBL3886492     25.0   7.60   \n",
              "3      CHEMBL3886172     14.0   7.85   \n",
              "4      CHEMBL3886492    145.0   6.84   \n",
              "\n",
              "                                              Smiles  \n",
              "0  CC(C)Nc1cc(Nc2ccc3ncsc3c2)ncc1-c1nnc(-c2ccc(F)...  \n",
              "1  CC(C)Nc1cc(-n2ncc3cc(C#N)cnc32)ncc1C(=O)NC1CCN...  \n",
              "2  O=c1[nH]c(N2CCN(c3cccc(Cl)n3)CC2)nc(N[C@@H]2CC...  \n",
              "3  CC(C)Nc1cc(-n2ccc3cc(CNC(=O)CC4CCOCC4)cnc32)nc...  \n",
              "4  CC1(C)CN(c2nc(N[C@@H]3CCCNC3)c(-c3nc4ccccc4s3)...  "
            ],
            "text/html": [
              "\n",
              "  <div id=\"df-9f7645a3-8029-4b1b-86f8-329aac6ec4f0\" class=\"colab-df-container\">\n",
              "    <div>\n",
              "<style scoped>\n",
              "    .dataframe tbody tr th:only-of-type {\n",
              "        vertical-align: middle;\n",
              "    }\n",
              "\n",
              "    .dataframe tbody tr th {\n",
              "        vertical-align: top;\n",
              "    }\n",
              "\n",
              "    .dataframe thead th {\n",
              "        text-align: right;\n",
              "    }\n",
              "</style>\n",
              "<table border=\"1\" class=\"dataframe\">\n",
              "  <thead>\n",
              "    <tr style=\"text-align: right;\">\n",
              "      <th></th>\n",
              "      <th>Molecule ChEMBL ID</th>\n",
              "      <th>Standard Type</th>\n",
              "      <th>Standard Relation</th>\n",
              "      <th>Standard Value</th>\n",
              "      <th>Standard Units</th>\n",
              "      <th>pChEMBL Value</th>\n",
              "      <th>Assay ChEMBL ID</th>\n",
              "      <th>Target ChEMBL ID</th>\n",
              "      <th>Target Name</th>\n",
              "      <th>Target Organism</th>\n",
              "      <th>Target Type</th>\n",
              "      <th>Document ChEMBL ID</th>\n",
              "      <th>IC50_nM</th>\n",
              "      <th>pIC50</th>\n",
              "      <th>Smiles</th>\n",
              "    </tr>\n",
              "  </thead>\n",
              "  <tbody>\n",
              "    <tr>\n",
              "      <th>0</th>\n",
              "      <td>CHEMBL3968119</td>\n",
              "      <td>IC50</td>\n",
              "      <td>'='</td>\n",
              "      <td>675.9</td>\n",
              "      <td>nM</td>\n",
              "      <td>6.17</td>\n",
              "      <td>CHEMBL3887888</td>\n",
              "      <td>CHEMBL3778</td>\n",
              "      <td>Interleukin-1 receptor-associated kinase 4</td>\n",
              "      <td>Homo sapiens</td>\n",
              "      <td>SINGLE PROTEIN</td>\n",
              "      <td>CHEMBL3886488</td>\n",
              "      <td>675.9</td>\n",
              "      <td>6.17</td>\n",
              "      <td>CC(C)Nc1cc(Nc2ccc3ncsc3c2)ncc1-c1nnc(-c2ccc(F)...</td>\n",
              "    </tr>\n",
              "    <tr>\n",
              "      <th>1</th>\n",
              "      <td>CHEMBL3966110</td>\n",
              "      <td>IC50</td>\n",
              "      <td>'='</td>\n",
              "      <td>5.1</td>\n",
              "      <td>nM</td>\n",
              "      <td>8.29</td>\n",
              "      <td>CHEMBL3887118</td>\n",
              "      <td>CHEMBL3778</td>\n",
              "      <td>Interleukin-1 receptor-associated kinase 4</td>\n",
              "      <td>Homo sapiens</td>\n",
              "      <td>SINGLE PROTEIN</td>\n",
              "      <td>CHEMBL3886172</td>\n",
              "      <td>5.1</td>\n",
              "      <td>8.29</td>\n",
              "      <td>CC(C)Nc1cc(-n2ncc3cc(C#N)cnc32)ncc1C(=O)NC1CCN...</td>\n",
              "    </tr>\n",
              "    <tr>\n",
              "      <th>2</th>\n",
              "      <td>CHEMBL4109180</td>\n",
              "      <td>IC50</td>\n",
              "      <td>'='</td>\n",
              "      <td>25.0</td>\n",
              "      <td>nM</td>\n",
              "      <td>7.60</td>\n",
              "      <td>CHEMBL3887893</td>\n",
              "      <td>CHEMBL3778</td>\n",
              "      <td>Interleukin-1 receptor-associated kinase 4</td>\n",
              "      <td>Homo sapiens</td>\n",
              "      <td>SINGLE PROTEIN</td>\n",
              "      <td>CHEMBL3886492</td>\n",
              "      <td>25.0</td>\n",
              "      <td>7.60</td>\n",
              "      <td>O=c1[nH]c(N2CCN(c3cccc(Cl)n3)CC2)nc(N[C@@H]2CC...</td>\n",
              "    </tr>\n",
              "    <tr>\n",
              "      <th>3</th>\n",
              "      <td>CHEMBL4107475</td>\n",
              "      <td>IC50</td>\n",
              "      <td>'='</td>\n",
              "      <td>14.0</td>\n",
              "      <td>nM</td>\n",
              "      <td>7.85</td>\n",
              "      <td>CHEMBL3887118</td>\n",
              "      <td>CHEMBL3778</td>\n",
              "      <td>Interleukin-1 receptor-associated kinase 4</td>\n",
              "      <td>Homo sapiens</td>\n",
              "      <td>SINGLE PROTEIN</td>\n",
              "      <td>CHEMBL3886172</td>\n",
              "      <td>14.0</td>\n",
              "      <td>7.85</td>\n",
              "      <td>CC(C)Nc1cc(-n2ccc3cc(CNC(=O)CC4CCOCC4)cnc32)nc...</td>\n",
              "    </tr>\n",
              "    <tr>\n",
              "      <th>4</th>\n",
              "      <td>CHEMBL4114259</td>\n",
              "      <td>IC50</td>\n",
              "      <td>'='</td>\n",
              "      <td>145.0</td>\n",
              "      <td>nM</td>\n",
              "      <td>6.84</td>\n",
              "      <td>CHEMBL3887893</td>\n",
              "      <td>CHEMBL3778</td>\n",
              "      <td>Interleukin-1 receptor-associated kinase 4</td>\n",
              "      <td>Homo sapiens</td>\n",
              "      <td>SINGLE PROTEIN</td>\n",
              "      <td>CHEMBL3886492</td>\n",
              "      <td>145.0</td>\n",
              "      <td>6.84</td>\n",
              "      <td>CC1(C)CN(c2nc(N[C@@H]3CCCNC3)c(-c3nc4ccccc4s3)...</td>\n",
              "    </tr>\n",
              "  </tbody>\n",
              "</table>\n",
              "</div>\n",
              "    <div class=\"colab-df-buttons\">\n",
              "\n",
              "  <div class=\"colab-df-container\">\n",
              "    <button class=\"colab-df-convert\" onclick=\"convertToInteractive('df-9f7645a3-8029-4b1b-86f8-329aac6ec4f0')\"\n",
              "            title=\"Convert this dataframe to an interactive table.\"\n",
              "            style=\"display:none;\">\n",
              "\n",
              "  <svg xmlns=\"http://www.w3.org/2000/svg\" height=\"24px\" viewBox=\"0 -960 960 960\">\n",
              "    <path d=\"M120-120v-720h720v720H120Zm60-500h600v-160H180v160Zm220 220h160v-160H400v160Zm0 220h160v-160H400v160ZM180-400h160v-160H180v160Zm440 0h160v-160H620v160ZM180-180h160v-160H180v160Zm440 0h160v-160H620v160Z\"/>\n",
              "  </svg>\n",
              "    </button>\n",
              "\n",
              "  <style>\n",
              "    .colab-df-container {\n",
              "      display:flex;\n",
              "      gap: 12px;\n",
              "    }\n",
              "\n",
              "    .colab-df-convert {\n",
              "      background-color: #E8F0FE;\n",
              "      border: none;\n",
              "      border-radius: 50%;\n",
              "      cursor: pointer;\n",
              "      display: none;\n",
              "      fill: #1967D2;\n",
              "      height: 32px;\n",
              "      padding: 0 0 0 0;\n",
              "      width: 32px;\n",
              "    }\n",
              "\n",
              "    .colab-df-convert:hover {\n",
              "      background-color: #E2EBFA;\n",
              "      box-shadow: 0px 1px 2px rgba(60, 64, 67, 0.3), 0px 1px 3px 1px rgba(60, 64, 67, 0.15);\n",
              "      fill: #174EA6;\n",
              "    }\n",
              "\n",
              "    .colab-df-buttons div {\n",
              "      margin-bottom: 4px;\n",
              "    }\n",
              "\n",
              "    [theme=dark] .colab-df-convert {\n",
              "      background-color: #3B4455;\n",
              "      fill: #D2E3FC;\n",
              "    }\n",
              "\n",
              "    [theme=dark] .colab-df-convert:hover {\n",
              "      background-color: #434B5C;\n",
              "      box-shadow: 0px 1px 3px 1px rgba(0, 0, 0, 0.15);\n",
              "      filter: drop-shadow(0px 1px 2px rgba(0, 0, 0, 0.3));\n",
              "      fill: #FFFFFF;\n",
              "    }\n",
              "  </style>\n",
              "\n",
              "    <script>\n",
              "      const buttonEl =\n",
              "        document.querySelector('#df-9f7645a3-8029-4b1b-86f8-329aac6ec4f0 button.colab-df-convert');\n",
              "      buttonEl.style.display =\n",
              "        google.colab.kernel.accessAllowed ? 'block' : 'none';\n",
              "\n",
              "      async function convertToInteractive(key) {\n",
              "        const element = document.querySelector('#df-9f7645a3-8029-4b1b-86f8-329aac6ec4f0');\n",
              "        const dataTable =\n",
              "          await google.colab.kernel.invokeFunction('convertToInteractive',\n",
              "                                                    [key], {});\n",
              "        if (!dataTable) return;\n",
              "\n",
              "        const docLinkHtml = 'Like what you see? Visit the ' +\n",
              "          '<a target=\"_blank\" href=https://colab.research.google.com/notebooks/data_table.ipynb>data table notebook</a>'\n",
              "          + ' to learn more about interactive tables.';\n",
              "        element.innerHTML = '';\n",
              "        dataTable['output_type'] = 'display_data';\n",
              "        await google.colab.output.renderOutput(dataTable, element);\n",
              "        const docLink = document.createElement('div');\n",
              "        docLink.innerHTML = docLinkHtml;\n",
              "        element.appendChild(docLink);\n",
              "      }\n",
              "    </script>\n",
              "  </div>\n",
              "\n",
              "\n",
              "<div id=\"df-b6146601-0cc8-48fd-9125-28580e4a0688\">\n",
              "  <button class=\"colab-df-quickchart\" onclick=\"quickchart('df-b6146601-0cc8-48fd-9125-28580e4a0688')\"\n",
              "            title=\"Suggest charts\"\n",
              "            style=\"display:none;\">\n",
              "\n",
              "<svg xmlns=\"http://www.w3.org/2000/svg\" height=\"24px\"viewBox=\"0 0 24 24\"\n",
              "     width=\"24px\">\n",
              "    <g>\n",
              "        <path d=\"M19 3H5c-1.1 0-2 .9-2 2v14c0 1.1.9 2 2 2h14c1.1 0 2-.9 2-2V5c0-1.1-.9-2-2-2zM9 17H7v-7h2v7zm4 0h-2V7h2v10zm4 0h-2v-4h2v4z\"/>\n",
              "    </g>\n",
              "</svg>\n",
              "  </button>\n",
              "\n",
              "<style>\n",
              "  .colab-df-quickchart {\n",
              "      --bg-color: #E8F0FE;\n",
              "      --fill-color: #1967D2;\n",
              "      --hover-bg-color: #E2EBFA;\n",
              "      --hover-fill-color: #174EA6;\n",
              "      --disabled-fill-color: #AAA;\n",
              "      --disabled-bg-color: #DDD;\n",
              "  }\n",
              "\n",
              "  [theme=dark] .colab-df-quickchart {\n",
              "      --bg-color: #3B4455;\n",
              "      --fill-color: #D2E3FC;\n",
              "      --hover-bg-color: #434B5C;\n",
              "      --hover-fill-color: #FFFFFF;\n",
              "      --disabled-bg-color: #3B4455;\n",
              "      --disabled-fill-color: #666;\n",
              "  }\n",
              "\n",
              "  .colab-df-quickchart {\n",
              "    background-color: var(--bg-color);\n",
              "    border: none;\n",
              "    border-radius: 50%;\n",
              "    cursor: pointer;\n",
              "    display: none;\n",
              "    fill: var(--fill-color);\n",
              "    height: 32px;\n",
              "    padding: 0;\n",
              "    width: 32px;\n",
              "  }\n",
              "\n",
              "  .colab-df-quickchart:hover {\n",
              "    background-color: var(--hover-bg-color);\n",
              "    box-shadow: 0 1px 2px rgba(60, 64, 67, 0.3), 0 1px 3px 1px rgba(60, 64, 67, 0.15);\n",
              "    fill: var(--button-hover-fill-color);\n",
              "  }\n",
              "\n",
              "  .colab-df-quickchart-complete:disabled,\n",
              "  .colab-df-quickchart-complete:disabled:hover {\n",
              "    background-color: var(--disabled-bg-color);\n",
              "    fill: var(--disabled-fill-color);\n",
              "    box-shadow: none;\n",
              "  }\n",
              "\n",
              "  .colab-df-spinner {\n",
              "    border: 2px solid var(--fill-color);\n",
              "    border-color: transparent;\n",
              "    border-bottom-color: var(--fill-color);\n",
              "    animation:\n",
              "      spin 1s steps(1) infinite;\n",
              "  }\n",
              "\n",
              "  @keyframes spin {\n",
              "    0% {\n",
              "      border-color: transparent;\n",
              "      border-bottom-color: var(--fill-color);\n",
              "      border-left-color: var(--fill-color);\n",
              "    }\n",
              "    20% {\n",
              "      border-color: transparent;\n",
              "      border-left-color: var(--fill-color);\n",
              "      border-top-color: var(--fill-color);\n",
              "    }\n",
              "    30% {\n",
              "      border-color: transparent;\n",
              "      border-left-color: var(--fill-color);\n",
              "      border-top-color: var(--fill-color);\n",
              "      border-right-color: var(--fill-color);\n",
              "    }\n",
              "    40% {\n",
              "      border-color: transparent;\n",
              "      border-right-color: var(--fill-color);\n",
              "      border-top-color: var(--fill-color);\n",
              "    }\n",
              "    60% {\n",
              "      border-color: transparent;\n",
              "      border-right-color: var(--fill-color);\n",
              "    }\n",
              "    80% {\n",
              "      border-color: transparent;\n",
              "      border-right-color: var(--fill-color);\n",
              "      border-bottom-color: var(--fill-color);\n",
              "    }\n",
              "    90% {\n",
              "      border-color: transparent;\n",
              "      border-bottom-color: var(--fill-color);\n",
              "    }\n",
              "  }\n",
              "</style>\n",
              "\n",
              "  <script>\n",
              "    async function quickchart(key) {\n",
              "      const quickchartButtonEl =\n",
              "        document.querySelector('#' + key + ' button');\n",
              "      quickchartButtonEl.disabled = true;  // To prevent multiple clicks.\n",
              "      quickchartButtonEl.classList.add('colab-df-spinner');\n",
              "      try {\n",
              "        const charts = await google.colab.kernel.invokeFunction(\n",
              "            'suggestCharts', [key], {});\n",
              "      } catch (error) {\n",
              "        console.error('Error during call to suggestCharts:', error);\n",
              "      }\n",
              "      quickchartButtonEl.classList.remove('colab-df-spinner');\n",
              "      quickchartButtonEl.classList.add('colab-df-quickchart-complete');\n",
              "    }\n",
              "    (() => {\n",
              "      let quickchartButtonEl =\n",
              "        document.querySelector('#df-b6146601-0cc8-48fd-9125-28580e4a0688 button');\n",
              "      quickchartButtonEl.style.display =\n",
              "        google.colab.kernel.accessAllowed ? 'block' : 'none';\n",
              "    })();\n",
              "  </script>\n",
              "</div>\n",
              "\n",
              "    </div>\n",
              "  </div>\n"
            ],
            "application/vnd.google.colaboratory.intrinsic+json": {
              "type": "dataframe",
              "variable_name": "chembl_data",
              "summary": "{\n  \"name\": \"chembl_data\",\n  \"rows\": 1839,\n  \"fields\": [\n    {\n      \"column\": \"Molecule ChEMBL ID\",\n      \"properties\": {\n        \"dtype\": \"string\",\n        \"num_unique_values\": 1839,\n        \"samples\": [\n          \"CHEMBL4107733\",\n          \"CHEMBL3590475\",\n          \"CHEMBL3403439\"\n        ],\n        \"semantic_type\": \"\",\n        \"description\": \"\"\n      }\n    },\n    {\n      \"column\": \"Standard Type\",\n      \"properties\": {\n        \"dtype\": \"category\",\n        \"num_unique_values\": 1,\n        \"samples\": [\n          \"IC50\"\n        ],\n        \"semantic_type\": \"\",\n        \"description\": \"\"\n      }\n    },\n    {\n      \"column\": \"Standard Relation\",\n      \"properties\": {\n        \"dtype\": \"category\",\n        \"num_unique_values\": 1,\n        \"samples\": [\n          \"'='\"\n        ],\n        \"semantic_type\": \"\",\n        \"description\": \"\"\n      }\n    },\n    {\n      \"column\": \"Standard Value\",\n      \"properties\": {\n        \"dtype\": \"number\",\n        \"std\": 2689.9889150735567,\n        \"min\": 0.022,\n        \"max\": 55000.0,\n        \"num_unique_values\": 682,\n        \"samples\": [\n          2311.0\n        ],\n        \"semantic_type\": \"\",\n        \"description\": \"\"\n      }\n    },\n    {\n      \"column\": \"Standard Units\",\n      \"properties\": {\n        \"dtype\": \"category\",\n        \"num_unique_values\": 1,\n        \"samples\": [\n          \"nM\"\n        ],\n        \"semantic_type\": \"\",\n        \"description\": \"\"\n      }\n    },\n    {\n      \"column\": \"pChEMBL Value\",\n      \"properties\": {\n        \"dtype\": \"number\",\n        \"std\": 1.110006859586363,\n        \"min\": 4.26,\n        \"max\": 10.66,\n        \"num_unique_values\": 374,\n        \"samples\": [\n          6.05\n        ],\n        \"semantic_type\": \"\",\n        \"description\": \"\"\n      }\n    },\n    {\n      \"column\": \"Assay ChEMBL ID\",\n      \"properties\": {\n        \"dtype\": \"category\",\n        \"num_unique_values\": 69,\n        \"samples\": [\n          \"CHEMBL3380186\"\n        ],\n        \"semantic_type\": \"\",\n        \"description\": \"\"\n      }\n    },\n    {\n      \"column\": \"Target ChEMBL ID\",\n      \"properties\": {\n        \"dtype\": \"category\",\n        \"num_unique_values\": 1,\n        \"samples\": [\n          \"CHEMBL3778\"\n        ],\n        \"semantic_type\": \"\",\n        \"description\": \"\"\n      }\n    },\n    {\n      \"column\": \"Target Name\",\n      \"properties\": {\n        \"dtype\": \"category\",\n        \"num_unique_values\": 1,\n        \"samples\": [\n          \"Interleukin-1 receptor-associated kinase 4\"\n        ],\n        \"semantic_type\": \"\",\n        \"description\": \"\"\n      }\n    },\n    {\n      \"column\": \"Target Organism\",\n      \"properties\": {\n        \"dtype\": \"category\",\n        \"num_unique_values\": 1,\n        \"samples\": [\n          \"Homo sapiens\"\n        ],\n        \"semantic_type\": \"\",\n        \"description\": \"\"\n      }\n    },\n    {\n      \"column\": \"Target Type\",\n      \"properties\": {\n        \"dtype\": \"category\",\n        \"num_unique_values\": 1,\n        \"samples\": [\n          \"SINGLE PROTEIN\"\n        ],\n        \"semantic_type\": \"\",\n        \"description\": \"\"\n      }\n    },\n    {\n      \"column\": \"Document ChEMBL ID\",\n      \"properties\": {\n        \"dtype\": \"category\",\n        \"num_unique_values\": 63,\n        \"samples\": [\n          \"CHEMBL1240341\"\n        ],\n        \"semantic_type\": \"\",\n        \"description\": \"\"\n      }\n    },\n    {\n      \"column\": \"IC50_nM\",\n      \"properties\": {\n        \"dtype\": \"number\",\n        \"std\": 2689.9889150735567,\n        \"min\": 0.022,\n        \"max\": 55000.0,\n        \"num_unique_values\": 682,\n        \"samples\": [\n          2311.0\n        ],\n        \"semantic_type\": \"\",\n        \"description\": \"\"\n      }\n    },\n    {\n      \"column\": \"pIC50\",\n      \"properties\": {\n        \"dtype\": \"number\",\n        \"std\": 1.110006859586363,\n        \"min\": 4.26,\n        \"max\": 10.66,\n        \"num_unique_values\": 374,\n        \"samples\": [\n          6.05\n        ],\n        \"semantic_type\": \"\",\n        \"description\": \"\"\n      }\n    },\n    {\n      \"column\": \"Smiles\",\n      \"properties\": {\n        \"dtype\": \"string\",\n        \"num_unique_values\": 1839,\n        \"samples\": [\n          \"CCCn1cc(Nc2cc(-n3cnc4cc(Cl)cnc43)ncc2C(=O)NC[C@@H](F)C(C)(C)O)cn1\"\n        ],\n        \"semantic_type\": \"\",\n        \"description\": \"\"\n      }\n    }\n  ]\n}"
            }
          },
          "metadata": {},
          "execution_count": 9
        }
      ]
    },
    {
      "cell_type": "code",
      "source": [
        "num_chembl = len(chembl_data['Assay ChEMBL ID'].unique())\n",
        "num_smiles = len(chembl_data['Smiles'].unique())\n",
        "\n",
        "print('Number of Assay ChEMBL IDs', num_chembl)\n",
        "print('Number of Smiles', num_smiles)"
      ],
      "metadata": {
        "colab": {
          "base_uri": "https://localhost:8080/"
        },
        "id": "OUOqEw64ayGk",
        "outputId": "39e826c2-a34c-4b5e-880b-7afce9b04052"
      },
      "execution_count": null,
      "outputs": [
        {
          "output_type": "stream",
          "name": "stdout",
          "text": [
            "Number of Assay ChEMBL IDs 69\n",
            "Number of Smiles 1839\n"
          ]
        }
      ]
    },
    {
      "cell_type": "code",
      "source": [
        "chembl_data.loc[:, 'ECFP'] = chembl_data['Smiles'].apply(generate_ecfp)"
      ],
      "metadata": {
        "id": "gbhlsTV_k2q5"
      },
      "execution_count": null,
      "outputs": []
    },
    {
      "cell_type": "code",
      "source": [
        "val_data = chembl_data.iloc[:390]  # 상위 390개 행을 선택\n",
        "train_data = chembl_data.iloc[390:]  # 나머지 행을 선택"
      ],
      "metadata": {
        "id": "Amfzi0iKbaK1"
      },
      "execution_count": null,
      "outputs": []
    },
    {
      "cell_type": "code",
      "source": [
        "val_x = val_data['ECFP']\n",
        "val_y = val_data['pIC50']\n",
        "\n",
        "train_x = train_data['ECFP']\n",
        "train_y = train_data['pIC50']"
      ],
      "metadata": {
        "id": "wVEQz-1Tlh1I"
      },
      "execution_count": null,
      "outputs": []
    },
    {
      "cell_type": "code",
      "source": [
        "val_x = np.stack(val_x.values)\n",
        "train_x = np.stack(train_x.values)"
      ],
      "metadata": {
        "id": "bTpDYtDymN8H"
      },
      "execution_count": null,
      "outputs": []
    },
    {
      "cell_type": "code",
      "source": [
        "print(\"Validation X Shape:\", val_x.shape)\n",
        "print(\"Training X Shape:\", train_x.shape)"
      ],
      "metadata": {
        "colab": {
          "base_uri": "https://localhost:8080/"
        },
        "id": "z6AB_jIAmQ3P",
        "outputId": "22bc01fe-7d3d-4f1d-8e38-5ea78d9de3e6"
      },
      "execution_count": null,
      "outputs": [
        {
          "output_type": "stream",
          "name": "stdout",
          "text": [
            "Validation X Shape: (390, 2048)\n",
            "Training X Shape: (1449, 2048)\n"
          ]
        }
      ]
    },
    {
      "cell_type": "code",
      "source": [
        "from sklearn.model_selection import RandomizedSearchCV\n",
        "from scipy.stats import randint"
      ],
      "metadata": {
        "id": "O0ctZ8-1fohS"
      },
      "execution_count": null,
      "outputs": []
    },
    {
      "cell_type": "code",
      "source": [
        "# 최적화된 하이퍼파라미터 범위 설정\n",
        "param_dist = {\n",
        "    'n_estimators': randint(100, 300),\n",
        "    'max_depth': randint(5, 15),\n",
        "    'min_samples_split': randint(2, 10),\n",
        "    'min_samples_leaf': randint(1, 10),\n",
        "    'bootstrap': [True, False]\n",
        "}\n",
        "\n",
        "# RandomizedSearchCV 설정\n",
        "random_search = RandomizedSearchCV(\n",
        "    RandomForestRegressor(random_state=CFG['SEED']),\n",
        "    param_distributions=param_dist,\n",
        "    n_iter=5,\n",
        "    cv=5,\n",
        "    verbose=2,\n",
        "    n_jobs=1,\n",
        "    random_state=CFG['SEED']\n",
        ")\n",
        "\n",
        "# 모델 학습 및 최적 하이퍼파라미터 탐색\n",
        "random_search.fit(train_x, train_y)\n",
        "best_model = random_search.best_estimator_"
      ],
      "metadata": {
        "colab": {
          "base_uri": "https://localhost:8080/"
        },
        "id": "wpPEr_42fPh5",
        "outputId": "8b825a33-0bc4-4472-d277-46b5fb6e1c7b"
      },
      "execution_count": null,
      "outputs": [
        {
          "output_type": "stream",
          "name": "stdout",
          "text": [
            "Fitting 5 folds for each of 5 candidates, totalling 25 fits\n",
            "[CV] END bootstrap=True, max_depth=8, min_samples_leaf=8, min_samples_split=6, n_estimators=120; total time=   5.4s\n",
            "[CV] END bootstrap=True, max_depth=8, min_samples_leaf=8, min_samples_split=6, n_estimators=120; total time=   6.6s\n",
            "[CV] END bootstrap=True, max_depth=8, min_samples_leaf=8, min_samples_split=6, n_estimators=120; total time=   5.6s\n",
            "[CV] END bootstrap=True, max_depth=8, min_samples_leaf=8, min_samples_split=6, n_estimators=120; total time=   5.4s\n",
            "[CV] END bootstrap=True, max_depth=8, min_samples_leaf=8, min_samples_split=6, n_estimators=120; total time=   7.1s\n",
            "[CV] END bootstrap=True, max_depth=14, min_samples_leaf=3, min_samples_split=8, n_estimators=174; total time=  11.7s\n",
            "[CV] END bootstrap=True, max_depth=14, min_samples_leaf=3, min_samples_split=8, n_estimators=174; total time=  11.4s\n",
            "[CV] END bootstrap=True, max_depth=14, min_samples_leaf=3, min_samples_split=8, n_estimators=174; total time=  12.5s\n",
            "[CV] END bootstrap=True, max_depth=14, min_samples_leaf=3, min_samples_split=8, n_estimators=174; total time=  12.3s\n",
            "[CV] END bootstrap=True, max_depth=14, min_samples_leaf=3, min_samples_split=8, n_estimators=174; total time=  11.5s\n",
            "[CV] END bootstrap=True, max_depth=12, min_samples_leaf=5, min_samples_split=5, n_estimators=203; total time=  12.0s\n",
            "[CV] END bootstrap=True, max_depth=12, min_samples_leaf=5, min_samples_split=5, n_estimators=203; total time=  12.9s\n",
            "[CV] END bootstrap=True, max_depth=12, min_samples_leaf=5, min_samples_split=5, n_estimators=203; total time=  13.1s\n",
            "[CV] END bootstrap=True, max_depth=12, min_samples_leaf=5, min_samples_split=5, n_estimators=203; total time=  12.7s\n",
            "[CV] END bootstrap=True, max_depth=12, min_samples_leaf=5, min_samples_split=5, n_estimators=203; total time=  12.0s\n",
            "[CV] END bootstrap=False, max_depth=7, min_samples_leaf=6, min_samples_split=6, n_estimators=101; total time=   8.4s\n",
            "[CV] END bootstrap=False, max_depth=7, min_samples_leaf=6, min_samples_split=6, n_estimators=101; total time=   9.1s\n",
            "[CV] END bootstrap=False, max_depth=7, min_samples_leaf=6, min_samples_split=6, n_estimators=101; total time=   7.7s\n",
            "[CV] END bootstrap=False, max_depth=7, min_samples_leaf=6, min_samples_split=6, n_estimators=101; total time=   9.3s\n",
            "[CV] END bootstrap=False, max_depth=7, min_samples_leaf=6, min_samples_split=6, n_estimators=101; total time=   7.6s\n",
            "[CV] END bootstrap=False, max_depth=10, min_samples_leaf=2, min_samples_split=9, n_estimators=287; total time=  30.8s\n",
            "[CV] END bootstrap=False, max_depth=10, min_samples_leaf=2, min_samples_split=9, n_estimators=287; total time=  30.4s\n",
            "[CV] END bootstrap=False, max_depth=10, min_samples_leaf=2, min_samples_split=9, n_estimators=287; total time=  30.5s\n",
            "[CV] END bootstrap=False, max_depth=10, min_samples_leaf=2, min_samples_split=9, n_estimators=287; total time=  29.9s\n",
            "[CV] END bootstrap=False, max_depth=10, min_samples_leaf=2, min_samples_split=9, n_estimators=287; total time=  30.4s\n"
          ]
        }
      ]
    },
    {
      "cell_type": "code",
      "source": [
        "# 예측값 계산\n",
        "train_y_pred = best_model.predict(train_x)\n",
        "val_y_pred = best_model.predict(val_x)\n",
        "\n",
        "# RMSE 계산\n",
        "train_rmse = np.sqrt(mean_squared_error(train_y, train_y_pred))\n",
        "val_rmse = np.sqrt(mean_squared_error(val_y, val_y_pred))\n",
        "\n",
        "# 결과 출력\n",
        "print(f\"Training RMSE: {train_rmse:.4f}\")\n",
        "print(f\"Validation RMSE: {val_rmse:.4f}\")"
      ],
      "metadata": {
        "colab": {
          "base_uri": "https://localhost:8080/"
        },
        "id": "UspAq09dpOl1",
        "outputId": "58c58b06-5d3d-4748-ab19-925bde6677d3"
      },
      "execution_count": null,
      "outputs": [
        {
          "output_type": "stream",
          "name": "stdout",
          "text": [
            "Training RMSE: 0.4405\n",
            "Validation RMSE: 0.6019\n"
          ]
        }
      ]
    },
    {
      "cell_type": "code",
      "source": [
        "def pIC50_to_IC50(pic50_values):\n",
        "    return 10 ** (9 - pic50_values)"
      ],
      "metadata": {
        "id": "xWKGKVdypBgD"
      },
      "execution_count": null,
      "outputs": []
    },
    {
      "cell_type": "code",
      "source": [
        "test = pd.read_csv('/content/drive/MyDrive/DACON/제2회 신약개발 AI 경진대회/open/preprocessed_test.csv')"
      ],
      "metadata": {
        "id": "FgpWIxMLpzLV"
      },
      "execution_count": null,
      "outputs": []
    },
    {
      "cell_type": "code",
      "source": [
        "test.loc[:, 'ECFP'] = test['Smiles'].apply(generate_ecfp)"
      ],
      "metadata": {
        "id": "6Ibw_9Kcp3vR"
      },
      "execution_count": null,
      "outputs": []
    },
    {
      "cell_type": "code",
      "source": [
        "test_x = test['ECFP']\n",
        "test_x = np.stack(test_x.values)\n",
        "test_y = test['pIC50']"
      ],
      "metadata": {
        "id": "9a9xhvUHqL3j"
      },
      "execution_count": null,
      "outputs": []
    },
    {
      "cell_type": "code",
      "source": [
        "test_y_pred = best_model.predict(test_x)"
      ],
      "metadata": {
        "id": "PjRP7_Ifp9tT"
      },
      "execution_count": null,
      "outputs": []
    },
    {
      "cell_type": "code",
      "source": [
        "test_y_pred, test_y = pIC50_to_IC50(test_y_pred), pIC50_to_IC50(test_y)"
      ],
      "metadata": {
        "id": "F6BuijSoq8K0"
      },
      "execution_count": null,
      "outputs": []
    },
    {
      "cell_type": "code",
      "source": [
        "# RMSE 계산\n",
        "rmse = sqrt(mean_squared_error(test_y, test_y_pred))\n",
        "\n",
        "# Normalized RMSE 계산\n",
        "normalized_rmse = rmse / (np.max(test_y) - np.min(test_y_pred))\n",
        "\n",
        "# Absolute Error for IC50_nm\n",
        "absolute_error = np.abs(test_y - test_y_pred)\n",
        "\n",
        "# Correct Ratio 계산 (절대 오차가 0.5 이하인 비율)\n",
        "correct_ratio = np.mean(absolute_error <= 0.5)\n",
        "\n",
        "# 종합 점수 계산\n",
        "score = 0.5 * (1 - min(normalized_rmse, 1)) + 0.5 * correct_ratio\n",
        "\n",
        "print(f\"Normalized RMSE (A): {normalized_rmse}\")\n",
        "print(f\"Correct Ratio (B): {correct_ratio}\")\n",
        "print(f\"Score: {score}\")"
      ],
      "metadata": {
        "colab": {
          "base_uri": "https://localhost:8080/"
        },
        "id": "5UDqfJZnqmCB",
        "outputId": "cb6da27d-57db-42af-fdca-05b3dfbb6d43"
      },
      "execution_count": null,
      "outputs": [
        {
          "output_type": "stream",
          "name": "stdout",
          "text": [
            "Normalized RMSE (A): 0.10053082946738079\n",
            "Correct Ratio (B): 0.02654867256637168\n",
            "Score: 0.46300892154949547\n"
          ]
        }
      ]
    },
    {
      "cell_type": "code",
      "source": [
        "submit_test = pd.read_csv('/content/drive/MyDrive/DACON/제2회 신약개발 AI 경진대회/open/test.csv')\n"
      ],
      "metadata": {
        "id": "CuHdowq0xS6_"
      },
      "execution_count": null,
      "outputs": []
    },
    {
      "cell_type": "code",
      "source": [
        "submit_test.loc[:, 'ECFP'] = submit_test['Smiles'].apply(generate_ecfp)\n",
        "stest_x = submit_test['ECFP']\n",
        "stest_x = np.stack(stest_x.values)"
      ],
      "metadata": {
        "id": "05a4TevixhQG"
      },
      "execution_count": null,
      "outputs": []
    },
    {
      "cell_type": "code",
      "source": [
        "stest_y_pred = best_model.predict(stest_x)"
      ],
      "metadata": {
        "id": "Ju64tLPWx2bu"
      },
      "execution_count": null,
      "outputs": []
    },
    {
      "cell_type": "code",
      "source": [
        "submit = pd.read_csv('/content/drive/MyDrive/DACON/제2회 신약개발 AI 경진대회/open/sample_submission.csv')\n",
        "submit['IC50_nM'] =pIC50_to_IC50(stest_y_pred)\n",
        "submit.head()"
      ],
      "metadata": {
        "colab": {
          "base_uri": "https://localhost:8080/",
          "height": 206
        },
        "id": "3IbzkbzwrMot",
        "outputId": "75ca1903-5447-43fb-db66-9e8aff44ce0a"
      },
      "execution_count": null,
      "outputs": [
        {
          "output_type": "execute_result",
          "data": {
            "text/plain": [
              "         ID     IC50_nM\n",
              "0  TEST_000  158.818668\n",
              "1  TEST_001   48.410335\n",
              "2  TEST_002   28.476136\n",
              "3  TEST_003   31.935151\n",
              "4  TEST_004   36.305165"
            ],
            "text/html": [
              "\n",
              "  <div id=\"df-09f0d03c-1598-45d6-8106-6cb52b1b1f7f\" class=\"colab-df-container\">\n",
              "    <div>\n",
              "<style scoped>\n",
              "    .dataframe tbody tr th:only-of-type {\n",
              "        vertical-align: middle;\n",
              "    }\n",
              "\n",
              "    .dataframe tbody tr th {\n",
              "        vertical-align: top;\n",
              "    }\n",
              "\n",
              "    .dataframe thead th {\n",
              "        text-align: right;\n",
              "    }\n",
              "</style>\n",
              "<table border=\"1\" class=\"dataframe\">\n",
              "  <thead>\n",
              "    <tr style=\"text-align: right;\">\n",
              "      <th></th>\n",
              "      <th>ID</th>\n",
              "      <th>IC50_nM</th>\n",
              "    </tr>\n",
              "  </thead>\n",
              "  <tbody>\n",
              "    <tr>\n",
              "      <th>0</th>\n",
              "      <td>TEST_000</td>\n",
              "      <td>158.818668</td>\n",
              "    </tr>\n",
              "    <tr>\n",
              "      <th>1</th>\n",
              "      <td>TEST_001</td>\n",
              "      <td>48.410335</td>\n",
              "    </tr>\n",
              "    <tr>\n",
              "      <th>2</th>\n",
              "      <td>TEST_002</td>\n",
              "      <td>28.476136</td>\n",
              "    </tr>\n",
              "    <tr>\n",
              "      <th>3</th>\n",
              "      <td>TEST_003</td>\n",
              "      <td>31.935151</td>\n",
              "    </tr>\n",
              "    <tr>\n",
              "      <th>4</th>\n",
              "      <td>TEST_004</td>\n",
              "      <td>36.305165</td>\n",
              "    </tr>\n",
              "  </tbody>\n",
              "</table>\n",
              "</div>\n",
              "    <div class=\"colab-df-buttons\">\n",
              "\n",
              "  <div class=\"colab-df-container\">\n",
              "    <button class=\"colab-df-convert\" onclick=\"convertToInteractive('df-09f0d03c-1598-45d6-8106-6cb52b1b1f7f')\"\n",
              "            title=\"Convert this dataframe to an interactive table.\"\n",
              "            style=\"display:none;\">\n",
              "\n",
              "  <svg xmlns=\"http://www.w3.org/2000/svg\" height=\"24px\" viewBox=\"0 -960 960 960\">\n",
              "    <path d=\"M120-120v-720h720v720H120Zm60-500h600v-160H180v160Zm220 220h160v-160H400v160Zm0 220h160v-160H400v160ZM180-400h160v-160H180v160Zm440 0h160v-160H620v160ZM180-180h160v-160H180v160Zm440 0h160v-160H620v160Z\"/>\n",
              "  </svg>\n",
              "    </button>\n",
              "\n",
              "  <style>\n",
              "    .colab-df-container {\n",
              "      display:flex;\n",
              "      gap: 12px;\n",
              "    }\n",
              "\n",
              "    .colab-df-convert {\n",
              "      background-color: #E8F0FE;\n",
              "      border: none;\n",
              "      border-radius: 50%;\n",
              "      cursor: pointer;\n",
              "      display: none;\n",
              "      fill: #1967D2;\n",
              "      height: 32px;\n",
              "      padding: 0 0 0 0;\n",
              "      width: 32px;\n",
              "    }\n",
              "\n",
              "    .colab-df-convert:hover {\n",
              "      background-color: #E2EBFA;\n",
              "      box-shadow: 0px 1px 2px rgba(60, 64, 67, 0.3), 0px 1px 3px 1px rgba(60, 64, 67, 0.15);\n",
              "      fill: #174EA6;\n",
              "    }\n",
              "\n",
              "    .colab-df-buttons div {\n",
              "      margin-bottom: 4px;\n",
              "    }\n",
              "\n",
              "    [theme=dark] .colab-df-convert {\n",
              "      background-color: #3B4455;\n",
              "      fill: #D2E3FC;\n",
              "    }\n",
              "\n",
              "    [theme=dark] .colab-df-convert:hover {\n",
              "      background-color: #434B5C;\n",
              "      box-shadow: 0px 1px 3px 1px rgba(0, 0, 0, 0.15);\n",
              "      filter: drop-shadow(0px 1px 2px rgba(0, 0, 0, 0.3));\n",
              "      fill: #FFFFFF;\n",
              "    }\n",
              "  </style>\n",
              "\n",
              "    <script>\n",
              "      const buttonEl =\n",
              "        document.querySelector('#df-09f0d03c-1598-45d6-8106-6cb52b1b1f7f button.colab-df-convert');\n",
              "      buttonEl.style.display =\n",
              "        google.colab.kernel.accessAllowed ? 'block' : 'none';\n",
              "\n",
              "      async function convertToInteractive(key) {\n",
              "        const element = document.querySelector('#df-09f0d03c-1598-45d6-8106-6cb52b1b1f7f');\n",
              "        const dataTable =\n",
              "          await google.colab.kernel.invokeFunction('convertToInteractive',\n",
              "                                                    [key], {});\n",
              "        if (!dataTable) return;\n",
              "\n",
              "        const docLinkHtml = 'Like what you see? Visit the ' +\n",
              "          '<a target=\"_blank\" href=https://colab.research.google.com/notebooks/data_table.ipynb>data table notebook</a>'\n",
              "          + ' to learn more about interactive tables.';\n",
              "        element.innerHTML = '';\n",
              "        dataTable['output_type'] = 'display_data';\n",
              "        await google.colab.output.renderOutput(dataTable, element);\n",
              "        const docLink = document.createElement('div');\n",
              "        docLink.innerHTML = docLinkHtml;\n",
              "        element.appendChild(docLink);\n",
              "      }\n",
              "    </script>\n",
              "  </div>\n",
              "\n",
              "\n",
              "<div id=\"df-91ede37a-d9b0-4458-b92b-86977be5c144\">\n",
              "  <button class=\"colab-df-quickchart\" onclick=\"quickchart('df-91ede37a-d9b0-4458-b92b-86977be5c144')\"\n",
              "            title=\"Suggest charts\"\n",
              "            style=\"display:none;\">\n",
              "\n",
              "<svg xmlns=\"http://www.w3.org/2000/svg\" height=\"24px\"viewBox=\"0 0 24 24\"\n",
              "     width=\"24px\">\n",
              "    <g>\n",
              "        <path d=\"M19 3H5c-1.1 0-2 .9-2 2v14c0 1.1.9 2 2 2h14c1.1 0 2-.9 2-2V5c0-1.1-.9-2-2-2zM9 17H7v-7h2v7zm4 0h-2V7h2v10zm4 0h-2v-4h2v4z\"/>\n",
              "    </g>\n",
              "</svg>\n",
              "  </button>\n",
              "\n",
              "<style>\n",
              "  .colab-df-quickchart {\n",
              "      --bg-color: #E8F0FE;\n",
              "      --fill-color: #1967D2;\n",
              "      --hover-bg-color: #E2EBFA;\n",
              "      --hover-fill-color: #174EA6;\n",
              "      --disabled-fill-color: #AAA;\n",
              "      --disabled-bg-color: #DDD;\n",
              "  }\n",
              "\n",
              "  [theme=dark] .colab-df-quickchart {\n",
              "      --bg-color: #3B4455;\n",
              "      --fill-color: #D2E3FC;\n",
              "      --hover-bg-color: #434B5C;\n",
              "      --hover-fill-color: #FFFFFF;\n",
              "      --disabled-bg-color: #3B4455;\n",
              "      --disabled-fill-color: #666;\n",
              "  }\n",
              "\n",
              "  .colab-df-quickchart {\n",
              "    background-color: var(--bg-color);\n",
              "    border: none;\n",
              "    border-radius: 50%;\n",
              "    cursor: pointer;\n",
              "    display: none;\n",
              "    fill: var(--fill-color);\n",
              "    height: 32px;\n",
              "    padding: 0;\n",
              "    width: 32px;\n",
              "  }\n",
              "\n",
              "  .colab-df-quickchart:hover {\n",
              "    background-color: var(--hover-bg-color);\n",
              "    box-shadow: 0 1px 2px rgba(60, 64, 67, 0.3), 0 1px 3px 1px rgba(60, 64, 67, 0.15);\n",
              "    fill: var(--button-hover-fill-color);\n",
              "  }\n",
              "\n",
              "  .colab-df-quickchart-complete:disabled,\n",
              "  .colab-df-quickchart-complete:disabled:hover {\n",
              "    background-color: var(--disabled-bg-color);\n",
              "    fill: var(--disabled-fill-color);\n",
              "    box-shadow: none;\n",
              "  }\n",
              "\n",
              "  .colab-df-spinner {\n",
              "    border: 2px solid var(--fill-color);\n",
              "    border-color: transparent;\n",
              "    border-bottom-color: var(--fill-color);\n",
              "    animation:\n",
              "      spin 1s steps(1) infinite;\n",
              "  }\n",
              "\n",
              "  @keyframes spin {\n",
              "    0% {\n",
              "      border-color: transparent;\n",
              "      border-bottom-color: var(--fill-color);\n",
              "      border-left-color: var(--fill-color);\n",
              "    }\n",
              "    20% {\n",
              "      border-color: transparent;\n",
              "      border-left-color: var(--fill-color);\n",
              "      border-top-color: var(--fill-color);\n",
              "    }\n",
              "    30% {\n",
              "      border-color: transparent;\n",
              "      border-left-color: var(--fill-color);\n",
              "      border-top-color: var(--fill-color);\n",
              "      border-right-color: var(--fill-color);\n",
              "    }\n",
              "    40% {\n",
              "      border-color: transparent;\n",
              "      border-right-color: var(--fill-color);\n",
              "      border-top-color: var(--fill-color);\n",
              "    }\n",
              "    60% {\n",
              "      border-color: transparent;\n",
              "      border-right-color: var(--fill-color);\n",
              "    }\n",
              "    80% {\n",
              "      border-color: transparent;\n",
              "      border-right-color: var(--fill-color);\n",
              "      border-bottom-color: var(--fill-color);\n",
              "    }\n",
              "    90% {\n",
              "      border-color: transparent;\n",
              "      border-bottom-color: var(--fill-color);\n",
              "    }\n",
              "  }\n",
              "</style>\n",
              "\n",
              "  <script>\n",
              "    async function quickchart(key) {\n",
              "      const quickchartButtonEl =\n",
              "        document.querySelector('#' + key + ' button');\n",
              "      quickchartButtonEl.disabled = true;  // To prevent multiple clicks.\n",
              "      quickchartButtonEl.classList.add('colab-df-spinner');\n",
              "      try {\n",
              "        const charts = await google.colab.kernel.invokeFunction(\n",
              "            'suggestCharts', [key], {});\n",
              "      } catch (error) {\n",
              "        console.error('Error during call to suggestCharts:', error);\n",
              "      }\n",
              "      quickchartButtonEl.classList.remove('colab-df-spinner');\n",
              "      quickchartButtonEl.classList.add('colab-df-quickchart-complete');\n",
              "    }\n",
              "    (() => {\n",
              "      let quickchartButtonEl =\n",
              "        document.querySelector('#df-91ede37a-d9b0-4458-b92b-86977be5c144 button');\n",
              "      quickchartButtonEl.style.display =\n",
              "        google.colab.kernel.accessAllowed ? 'block' : 'none';\n",
              "    })();\n",
              "  </script>\n",
              "</div>\n",
              "\n",
              "    </div>\n",
              "  </div>\n"
            ],
            "application/vnd.google.colaboratory.intrinsic+json": {
              "type": "dataframe",
              "variable_name": "submit",
              "summary": "{\n  \"name\": \"submit\",\n  \"rows\": 113,\n  \"fields\": [\n    {\n      \"column\": \"ID\",\n      \"properties\": {\n        \"dtype\": \"string\",\n        \"num_unique_values\": 113,\n        \"samples\": [\n          \"TEST_080\",\n          \"TEST_004\",\n          \"TEST_040\"\n        ],\n        \"semantic_type\": \"\",\n        \"description\": \"\"\n      }\n    },\n    {\n      \"column\": \"IC50_nM\",\n      \"properties\": {\n        \"dtype\": \"number\",\n        \"std\": 37.04106612562767,\n        \"min\": 12.280875453833184,\n        \"max\": 266.5970814062868,\n        \"num_unique_values\": 109,\n        \"samples\": [\n          52.31740953746552,\n          161.74127411706658,\n          36.30516451276103\n        ],\n        \"semantic_type\": \"\",\n        \"description\": \"\"\n      }\n    }\n  ]\n}"
            }
          },
          "metadata": {},
          "execution_count": 83
        }
      ]
    },
    {
      "cell_type": "code",
      "source": [
        "submit.to_csv('/content/drive/MyDrive/DACON/제2회 신약개발 AI 경진대회/submit_v3.csv', index=False)"
      ],
      "metadata": {
        "id": "JsMPx-VkrtYn"
      },
      "execution_count": null,
      "outputs": []
    },
    {
      "cell_type": "markdown",
      "source": [
        "![image.png](data:image/png;base64,iVBORw0KGgoAAAANSUhEUgAAA6IAAACZCAYAAAA1rYd0AAAAAXNSR0IArs4c6QAAAARnQU1BAACxjwv8YQUAAAAJcEhZcwAADsMAAA7DAcdvqGQAADL/SURBVHhe7d0HeFTXmf/xlyoJFUCIIkD0jum4AcY0Y9OMsbGzbrHj5Emc3Y03fZNNNuts4k1dJ5s4cZJ/nMS9gxu2wQaDwWAwvTfRESCQACEkJIT4399hrhiJGY0ki2vLfD/Pc5+ZuXPuIKRz75z3nPecW++sxwAAAAAACEj90CMAAAAAAIEgEAUAAAAABIpAFAAAAAAQKAJRAAAAAECgCEQBAAAAAIEiEAUAAAAABIpAFAAAAAAQqEDuIzpz1jybPXexbdi83Y7n5VvTlCTr26ubXT92mE2bNCZUCkFYv+uIbdmbY4eOFtip4hKLb9zQWjdvYj0zWthlndJCpT4bth1423Zmv285J7ZYUckJi2uYbC2Se1rnViOte/oNoVKfDXm73rITe9+zU0c3W2nxCavfONnim/ey5IzRltJpQqgUAAAA8OlwUQPRLdt22Y9/9Sdbv3F7aM+FLuvTzf7rO/dbz+6dQntwMRw+VmDvrNxlB3NPhvZcqE1qol03uJO1bNYktKduys3PtMVbf2tH8raE9lwoLaWnDevxdUtN6hraUzcVHdtu2Sv/107lbg7tuVB8ai9rNfhbFtesW2gPAAAAgpSff9K2bs+0Ht26WlJSYmhv1RQXF9v6TVusU4cMS23eLLS36opPn7bCgkJLTk6yAu+xpj/HvqwDdvz4cevVo7s1aNAgtLfmGjzoCT2vVQpCv/RvD9refQdDeyLLPpxrc95bbMOvGGhpLar/i0VsCkJffH+zHcsvCu2JLL/wtG3dl2udWje1xPhGob11i4LQ2au/aycKs0J7IisoyrFd2e9bu9ShltA4NbS3blEQuu/9b9rp/Mr/ryWFR+zEvvmW2PpyaxhfN/+vAAAAn0YK8vJO5NupU0URN2nUsKHt3Z9lf3/qWevdq8cFwWTmzl32P7/+rXXt0qnsvaPHjtuPfvoL73VzL2BMskf/+ndr1zbd2qa3ce9XpCBx46attm//gbIt+0iOtUhtbms3bPKO/4ddMWSwHcnJueDnUJC8Zt0GL27LKne8NqtXz1KSk125+QsX28LFS+2KoYPc/+njumhzRDUSqjTcqlA5la/Moewcu/Xeb9vbcz8I7Tln09YddsP0r9qa9VtDe85ROZXXcfLwH5+07z74m7IKoddTbn/Aduza516HW7Zyvd3x5e95FSDPvdYxOvZLDzxoObnH3L5wM16fW+6zdXz/EdMjbn65zJ173c8d/t6ICffYgz9/1LIOZLvPqS0aCT1VfCb0qnIqp/JVdab0rC3bfMCeeGe9C3jDHT5eYI/PWW8Pv/SR/fmN1bZt/9HQOxePRkKVhlsVKqfy1bV02x/sH/Ovt3V7ng/tMduf+5G9sOQOt3/G0i/YkRPl6+PFoJFQpeFWhcqpfFWVFGTbwaU/tf0LvxPac97Z0hLLXvVby3xlom17abRlvjrJDq95xO33nTy41HbOutV7f4ztevtuO3U0+ug0AABAXbV5yzZ76Fe/cduPf/5r+/YPHrT/euiXZfsWeYFbEDZt3movvfp62fbMizPsWW87WVAYKhFdQWGhbfT+H+s3bS7b1qzfYM+9PNNWrl4bKlX7LkogqjmhlaXjRqLyOi4azSvt3Kmdbc3cHdpzzqYtOy3r4GEv0i/f8Fe5jhnpluIdF83uvVn25AtvuJ6MqlCAOfONeVaVbOY2rdLs8Ud/agve+Fu57T+//WWLi2scKmX2fz/797L3fv+L71v2kVz7wUOP2GHvsTZoTmhl6biRqLyOq8zpklJbvGG/CzAXrd/nRlMrWrrpgJuD+tUpg+yyzi1t0bp9lldQ7P3+zN5atsM+3Fj5SF51aU5oZem4kai8jquqg8fWWOahud6z83Wg5EyRrd71lLVp2s/uvOYVS0vu4YJV7T99ptDmrPme7cyeHypdOzQntLJ03EhUXsdV5nT+Psta/AMveLzTTuyda2e9/0NFuZuesLydsyy5wzjLGP2IJWeMteOZr7r9omNyNz5hCWkDrOtNsyy+eU87vOp3bn9pSaHtf//b3mdHP9cBAADqiv6X9bFfP/Sg2772lS9afFycff6O28r2XTfm2lDJ8oqKiuyRPz/mAtffe4/Hjue5R73W/lOnToVKVo3+Hf/f1KafoapatUyze7zyX7rnzrJt+k1TrFGjRpbepnWoVPWUlJTYsWMXDuCFuyiBqBYmqonKjouPj7NunTNsz94DVhgaeVQAqQC0bXorW7dpW9mIpN5XuR7dOlqCd1w0eu/NOQttybI1oT2VU/kXXpljm7buDO2Jrn79epaSlGjNm6WU25K9ffXq1QuVMktMTCh7b1D/Xva9r99nR3KO2Yo1m0IlPh4tTFQTsY5bnXnIlm89aO3Skqxr28gp1SdPFVuX9KaWENfQ0lISrKS01IqKS2zb/lzLysm3jm2ahkrWDi1MVBNVPU5B5aqdj1uTuBbWuOH5Do7iknw7U3raMtKGWaMG3t8zqYu374Tbv3n/q1ZQnGOtvSC1NmlhopqIddyh5b+0UzkbrWnXqdYoMT209zyNrJ7M+sDiU/tYq0HfsPgWfc89eq+1X++fKc63s97vI7HtcKvfMMHimnW10tPn9h/fPtNKTuW4IBUAAOCzpLj4tJ05c8Zt514X28o16+zDZStsw6Yt3v5St18aNmxoo0cOt+lTp9iYkSMsISHePeq19isIrA6l5urf8bdt23eE3jlH6bcaJX3tzdnu5/TpZ127fqN776+PP122KZVXg28dM9qHSladjvvggw/sz3/+s2VmZob2XuiiBKJaHbcmYh3Xs1sn2+0FmHmhlN+jR/Ns647ddtetE+3QoZyyVGC9r3IqX5mrLx9gUyaMsseemunmqsYy4boRNuCyHvb3p1+xgsLq9VJUlQLV5OQmF4z81pRWx62JWMf16tDCvjxpgE0d1t3iGkXOEU+Mb2w7Dhy3wqISO5JXaA3r13cBugLYnhmplp5avQnSsWh13Jqo6nHbD862YwW7rWfbSVav3vlTR0Fpg/qNbO+RxS5YPZq/w9uXbEUled4x71if9je74LU2aXXcmoh1XKsh37Yuk2dY8x63W736F/5dTxcccnNO3cJHfoeK96jX2q/3GzRO8o5tdC4wLSm0omOZVr9RsheIHre83bOtWffp1jChdn8fAAAAn7QNmzbbmdJSW7p8pZWUnLFCL154c/a7LlV23vuL7HRYFqYW++nbu5dddcUQ77GnxTVu7B7Pve5V7cWAlEKrVFql1Cq19mRBgQ0e2N8axwho63vt8+zDR9yAXpdOHe0y799W8HkkN9fNKW2ZVv02mwbdBg8ebG3atLGXXnopajB6UQLRqs4NrSjWcR3ap9upomLbH5pDuXvfAWvo/ZGGXznIpbvqtRzMznHDwSpfmcZxjezO6RPdL/6l194p672IJiU5yb5w501uPuqceUtCe2uXeihOF5dYxxg/e1XpFi01Eeu45ITGLu22Mlf2TreSM6X26OurbN2OwzaiX3vbvv+o93s+awO71myYvzJVnRtaUVWOyyvcbxv2vmwZLa66YHSzYYM4G9T5HsvO22hPL5xqh73A9sru/+KVf8kS41pal1a1f4uiqs4NrSjWcY2TO5wPMCMoLSmws2dLvUCy/K1+wl/X834fLfp+wU7lbnDzSE8d3WQtBz1gx7a+4JVraSkdxoVKAgAAfDZsy9xpHyz9yKZPnWy79+yzt+a8aykpyfbD737Dpcq6tN0omZpamEgjlooDFBQ+/swLboRS+6qjVcuWLiXXT6+9ffo0S0w8dzcMrZB7x603240Tr7fGjc8Hpwoax40eaffdfbuNuXaEde/W2ZatWGVtWrW0STeMc+/XRHJyst18882VBqMXJRDVfM6aiHVci9Rm3i+lhWWGFhjSyry9unf2As421qdnF1u97txoj0YT01o0d+VjSW+dZvfdNc2enznb1m+KPnTs692js91203h7/NlXbU8lKwJr3uq0u79RbjEiLU6kRYqiyc8vcHNWFUQP6t87tPfjiRUsRlPT48K1bNrE7hzbx745/XK7f8pAS2uaYJv25NjAbq0sKaH2V+XVfUJrItZxSi9Ys+tp97x/xzvcY0Vtmw+26Vc9afeOmmO3XPkPLwAvtEPH13vlb3eBam3TfUJroqbH+UoKc1zabSxNWg+1ThOete7T37NONzxtZ70AtvDIWkvtfacLVAEAAD4L1E5Uausf/vKY9e3V08aOGmm3Tptis+bM9QLK591CQLFk7tjpphxqRLVJQoIX13S3nt27WsMoWYfRnMjPt49WrC5Lz31x5uv23EuvuPmosWhg7q135tqD//NrF7z+65e/aIlNPt4tHWMFoxclEO3bq2b3K4x1XHJSE3e/0W1eoJl/stDNCx08oLcbutb8ynUbt7tRVb2vcipfFaOGD7Urh/azp7wgMFbKrXoFbpo8xpo2TbYZr78bdRQ10mJFzz32S+vUoW2oxDlaidcPVIfd8Hlbt2Gb/eq/v+mC69rQunnNKlBNj6uMFi9KSmhsvTtcnLTMFsk9Q8+qJ9Zx+3KXedtSl5KbktAutDe6ssWLmvX3toszFzK+ea/Qs+qp6XEfhxYpytn4pCW0HOhtg0J7AQAA6rbS0lI3cqlFhq4cOsTuvfOfrGHDBnbV5UPcCOimLdvsnXkLXLAazfHjebZ+42YbcfWV7hYqii0uHzLIhgwc4BY+qqqE+HiX+vvam297Mcqb9tHK1S4wzWjfttJRTf0fnn1ppj3w3R/Ywg8+tM/ffqs9cP+Xqn2P0WgUjE6cONESvAD7jTfesOzs83cHuSiB6PVjh4WeVU+s4/RL7N6lg+3cvd+teKt5nXotSsPNP1lg+7IOufe1v6pDyRomv/f2qVVOuU1LbWZfuGOqW+U32qJCkRYrauYFrxXzvf1Vc+fM+JONH321denc3jpk1E5arvTMqFnQV9Pjotlx4JjtO5zn0nXXZGbbI6+utN+8/JG9uGCznTxVtVWLY+ncamToWfVUdpzmfK7Z/ZQ1a9LRerWbGtpbuW0H37KCoiN2Wcbn3Oq5T74/2Z5YMNHe3/Rz93m1ITljdOhZ9dT0OJ/mdmr+Z3Uc3znLSgoPW/Oet9vh1b+z7TOvt+0zrrODy37q5pACAADURZpfOeWG8fbQj75vt986zQWhPs33/PmPf2hTJoyPGpMoQJ2/aLFbmGjqpOtdsPbiK6+7+aXVFb5q7i9/8p/2tfu/6NJth191hQ0dPNB++J1vWNOUZEtOSrIhgwa4R9H/Ydyokfbg979tD/3Xf7gguKi42KUaly185D0vPHXKzTnVzxlr3mm4EydO2JtvvmmFhYU2efJka9WqVeidixSITps0xi7rU71RUZXXcbFoJdzcY8dt4ZKVbmGf1q3OzU1rmZZqSYlN3Aq4x/NOuHLVEZ5yu2tP7NuKXH3FABsz8gr76xMz3M9TU/6quRpBveXGce7/pVvS1JbLOqVZm2ouCqTyOq62aJ7oiq2HrEOrFKvvnYgrth2yUQM62Beu7+9u+6L7kNaG7uk3WFpK9UZFVV7HRbMvZ5kdzd/l0mw1//Mf88fba8u/akWn82zFjsfs2Q+mW27++TSDgqIc25I1y/vM6+1I3ibbc2Sxjev3E7uu/0N24Ohq235wTqjkx5PSaYLFp1ZvdFPlddzHUb9hE+9iWt8tTBSuOH+feRHquS2MUnmP73jdmnr/7qncTZaf9YG1Hf4zazviF1aYvdrydlX91jkAAACfNpoHqtufaG6nRhb16FMAqkAvEgWhS5Yttzlz59uE8WOtRWqq3TrtRpfm+5z3OVpxt6b27s+y//39o3b/179r9/3z1+3+f/uOfeP7P7Jv/ceDNmfefJs0fpz7mX1akKhtehsvhsqz3/3pr/Zv3/2BWzV3/qIP3Kbn2jfjtVnWrm16lRdSUhA6Y8YMO3jwoE2fPt26du0aeuecixKIyn995/4qzxVVOZWvitYtW1hikwR7852F1s8LXpO8QE70qNfvzP/Q5TWrXHWookybPMbNK/3NH58M7Y1OPQF33zbZDhw6Yo89OTO09+MZMrCPW8n36Zdmld2KpjZcN7iTxTeuWoVROZWvTet2HvYCzmK7vFe6CzzVKdS6WRNrlhRn6S2SvKCu+r0+0Qzr8fUqzxVVOZWvTPsWV9jkIb+zG4c+WraN7vsjt1LuZR1usxsG/tqNlvrW7XnOGjaId6OnBcW5bn5o0yYdLL35IEtJaOsF5bW32nKrwd+q8pxPlVP5j6tRk9ZuYSLdk9S/x6gei4/vsobxqdYooaXb5zu65WkveI23pt2m2ZlTOVbf+300Tu5oTVoNtkZJbb1jL87q0wAAAEFSGuyKVWvcYyStW7Z0iwXpUXbv3WcvzHzNBaFDB52bytW9a2f7yn2fdyveas2YmlA68C9/84gLLH/24H/YY3/4jf3tj7+1vz7ysH3jX75sBw9l288f/p3l5B4NHXGOUoKfev5lL3jM9477gT38sx/b9775gNv0XPv0nsrEWuBVYgWhctECUc3R/Ov/PRhzZFTvq5zKV0VSUhPr0rG9Wzl3YL/yI0J6vX3nHrfirMpVl4LQe++oWvqldO7Yzu65fYpXWS5MLywtPWt5+Sft6LG8ctsJb1+0PHEFtzdPHmsfrdxgq0ILL9WGll7Qd+vIXjFHRvW+yql8bdFo6J7sPBvUrbU1T4p3ixTpv3/oWIEdyy+yAzn5FteoestTVyY1qatdP/CXMUdG9b7KqXxl3H1BEzu7cv6WnJDuRgUVyDZP7GT1Q7c5KfQCz6Mnd9qAjne545o0TnXzRY8X7LEDR1dZXmGWC1Jri26Z0n7kwzFHRvW+yrlbrnxMCmiTM8Za0fFMO7TyYTuVs8EOr/mD93q7JbUfVS4wPnMq19u/w1J7f97dT7RBfAsrVdB6YrcVZK+00/lZVq8Wfx8AAACfVppzqdRWf+5lpw4Z9suf/Mgm33CdGxDzKaVXwWiTGi4UtC1zh6W3aW03TZ5gzZs1K/tsjcx2yGhvt9081fK9QFeBcDgtqnTIC1L79e3tRmcr0r7hV11ue/buj7mar2KdlStXVhqEykULREXB5TN/+bn9+Pv/bMOuGFg2QqpHvdZ+vV/VIFQUrHXtnOGC0Yq3ONFr7df71cldDnf15f1t6sSqzaPTH/aGMcNt1IjLQ3vOO5h9xO756g/t2sn3ldt+8uu/WFFR9KH2vr27ep831J59+W23im5tUXB5x5g+Nn5oZ+vYOqVsVVw96rX26/3aDEKlYYP67l6jWilX2qUl25DurW3+mj3299lrXWB6Ra/amxMrChYnD/69De/5TWvbfGjZCKke9Vr79X6sILS6ErzAUyOkGS2udK+7tB5nHdKG2bvr/tPeWfsDS28+0Lq1Ge/eqy0KLjPGPGqth37XmrS+vCwQ1KNea7/er40g1Ke5ns263mgnsxbZ3vf+1U7sneu9nmqpve4KlTinQXyqtb/2t5aYfrV7ndLhOktqO9yyPvi+ZS36d0toNdBSOkVPiwYAAKhLNNiiQSfdjiXadvLk+fZ9TeOVyijA3Z91wD74cNkFc02Vcak5n/p327ct3/5OSky07t262KIly2zn7j3lBs70XPvenDPPi9u6xlzISDHS8OHD7Stf+UrUIFTqeR8cfRknAAAAAEClMnfusod//ye3qE9ltBjQV794T+hVdApYX3trtluBt1nTpvY/v/6tfe6Wm8rSeKNRaLd0+Uqb+fqbdiQn15KTk6xhgwbuHqUa9ezcsYN94a5/cqm7FWle6mtvzbF5Cxa6INZf0EjpxlqI6ZphV9m0yROj3g+1ughEAQAAAOBTSrdY0fzMhCYJ1RpF1b1J/RFYLRiamJhYbmXfaBQeamTXnwuqxYm0SGx4CnFtIBAFAAAAAATqos4RBQAAAACgIgJRAAAAAECgCEQBAAAAAIEiEAUAAAAABIpAFAAAAAAQKAJRAAAAAECgCEQBAAAAAIEiEAUAAAAABIpAFAAAAAAQKAJRAAAAAECg6h09evRs6DkAAAAAABddvbOe0HMAAAAAAC46UnMBAAAAAIEiEAUAAAAABIpAFAAAAAAQKAJRAAAAAECgCEQBAAAAAIEiEAUAAAAABIpAFAAAAAAQKAJRAAAAAECgCEQBAAAAAIEiEAUAAAAABIpAFAAAAAAQKAJRAAAAAECgCEQBAAAAAIEiEAUAAAAABIpAFAAAAAAQqHpnPaHnAFCrTp48aatWrbIzZ85Ynz59rGXLlqF3AFS0ZcsW279/vyUmJtqgQYOscePGoXfKKykpsfz8fPc8KSnJGjZs6J7js2PXrl3u+pmenm67d++2o0ePWvfu3S0jIyNUorzi4mJ3rdUxlZWLhPqEIKiOqn7GUr9+fUtOTnaPPv/YgoICO3bsWGjvhVR3O3XqZHFxcaE95+n406dPR6zjOnd0jrVr18569uwZ2osgEIgCqJEVK1a4BlIkaWlpNnLkSHdhnz9/vmvoXHnlldahQ4dQCeDSsW3bNlu3bl3o1YXU6LrmmmtszZo1tnPnTvd6zJgxlpCQECpR3p49e2zp0qXuOefVZ9PcuXPt8OHDNmDAAMvKyip73rt3b/e+AkfVA78Jp2us6s6pU6dcYzo1NdXtFzXKO3fubA0aNAjtKY/6hCBs2rTJXeNiUX0dNWqUNW/ePLTn4x2bmZlp69evt8LCQvdaAW7r1q1dXY+Pj3f7/PNN54n2Izik5kawYcMGmzFjhquUK1eudM9zc3ND7wIQNXzUSxlpU68jgAuVlpa6c0TnT00dP37cZRnos/zGFeoWNayfe+65iJsfFFZGbRK1VdTBoU2fpyBUNKru79emkXbVuWioTwhSo0aNXHZUq1atIm56r2I2iALHfv36Rd0UQIaPoPq2bt3qOs11bqiDT5+tDpkDBw7Y4sWLP9Z1GLWDEdEIFi1a5C7Mo0ePto8++sgN56t32u85AWCusaQeeF3Yx44dG9pbHiOiQHnq3FTjSOm3+o5Rmpi+YxQobNy40fbu3VvpiKjK6pw6ceKEe52SkmLXXnut+zzUHfo7a6RcTTClGqrzTn9LtTM0orlv375KR0R1TdWoqN+E2759u+3YscO9Vr0ZPHiwq1uiNEQ9r1evnnsdjvqEoPijmrEyPiKJlVWieq9zKHxEVPvmzZvnzh2l66oNonMgOzvbtfPV+XL11Vdb+/btGRH9BDEiWoEqpnLQVZlVYXWR1hcDQSgQWU5Ojssa0PbCCy+4Hn194QAoT98vOl9EI09Hjhxxzz/88EObPXu2C04qc+jQIdewUtCgQEFbXl6eLViwoOxzUTdoDqca48OGDStrX6gRrH2x5qhp5FJtE3WYK/hcuHChSz/USI8CTtWtJUuW2PLly11AqzaNP1oajvqET4ICRnXGaUQ/0qYR/KKiolDpc/wMrGgjmGqvaxRVmz8yqs/wP6dp06ZlHTE6R9TGF51L+GQ1eNATen5J04V7zpw5bsKynuvC7Z8MuuCrYa1eHFVmAOfSv9STr4u7f+HXoxpDWmCjRYsWrvGjRTd0sVevI+cPLmXKIPBHrbSp0d+2bVv3fePP3/N79RWUKIVN72mk1B9JVWNMAcPw4cPdOaUUM31H6bMVdOj7S+9HW+gIny76e+saqb9rmzZt3N9S11Z1Uvj7FCiqHui5MlB0PdWIjuqDUnTVwaH9V111lfXv399dkxWk6jiN8mguv+qErsnUJ3xSVKfV+aFgUs81Mhlp8xcNCh8x9Y9VXdQoZteuXd01suKmrCsFmmqLKBNA9V/nguq96r/qsYJdfZbe1+foM1XfVUYjqToPEBxSc0N0IVdFVC+gLtpqHKgRoEn8OiGaNWtWVsEBRE7NVaNGjRidT2oEKc3r/fffJzUXlzyllq1du9YFHkoT03eNf45cfvnl7jzyz6nw1DV19miESgGBglWdQwMHDizr0VdnjzpQFTTovFOjSqlp+gx8+imQVGqsrp1dunQpCx59kVJzVRfUkFbd0KJE0dJu9ZlqhCuFV/VGZf0RT+oTgua3D2JREKn65ndwi5/WG4vqdHhbQ/+e6rvqfTh9dt++fd0mpOZ+cghEK1BvtS7CahioAqvnRD2FGuEBcJ7faI5GXyRDhw4tWxCAQBSXIgWeagj5abhajEMrSqvRo5RcZd0oNVOr5mqeX8VAVDRCpkBDx1a87YBP55hGE/SVrs5T1A3qoNDopP5uChQ1qqkAUOtTKEiNFIjGuvZGokDTnztHfUKQ1BmiEfyK6bax+Kvvi84Fjdb79Fr1WNdOBY9+PVa9VjsjfNBIdVnnmY5XMKzMrB49ergRUh+B6CeHQLQC9VhrroUu2Kq4quhaUEIjogDO8+95WJF6JNXY0ReBzhs1wglEcSnTd8rq1atdylf46JNSwbSiowIQ9cxXHBFVGpleV7cB56f2+um++HRS80vXR41uqgGtURqlHSrwq+z2LWpQqyEeTtdY1RWNaOr48Nu3iBrquv7qmk19QpD8RQurW+/8dHMNDimADKd6rlFOZS6qnVExI0BtEN2L2RfpnIlE5w0DT8EiEA2J1cMYnn4IoGr0xaP5T+rhr9hLCVwq9DWrTcFCVVLTFDToXFFjy19Mpjoqjqji00nXRo186u+k0R+99let1Wh5tEBUIo0yqX5p/qjqT3haY8eOHW3IkCEuHZf6hLrk4wSx4W32qmYRMCIaPALREPWWKHVKFVW9fuq51nP1SOsirnkSmtcD4LyqNmwqztsALkVVnecUa0RUc/60loGCDc0r9EdYfYxgffppDqaCUP1tu3fv7lIF1eBWR4VGZdR5p2CzOoFoRX5g6jeu9ZnUJ3ySNDdet2HRo6Yt+DSiqTRbLR7Up0+fso4U1V+1L/RYHbp2qt3uU1tFHXvR+KnwBKLBIxANozSp9957ryxNSs+1Sh2VEogsPBD174EXTl8eurjrS4ZAFJc6PxCtOK/J5897ijUCpUX01MOv4/15f6g71OxatmyZCwo1Eqr5wQr2dPse3XJFiyXqmqrO8WiBqIJJjaAq2IxG7+tzYjWuqU8IggZ8dFshpdkqUAy/pYqCRHWIqM3QunVrNzc0vOOjqiOaOo8i1WFNgVBnSzi/oyYcgWjwzuduwJ0IurirF0W9kuqtUeMaQGy6gKvxHL4pHUxzOACcp3NCI2D+qo3+pqAEn31qfOvaqFutjBgxomwEUvcWnTJlilssseKct4r827BodCnaFitTBQiSOloUhCpIVD1X6qzfVpg4caINHjzYjYRqNeiKdVedJApeo22x2hkKOvVv67zSnFJtut5qwa7wjfVggsd9RMNohTj1PCoVVwGpFhBQ45p7HwKR6eKuXkpd4PVFoR5N9dz7m3r0/QUClO7OuYRLmX8vPDW21BOv9LTw88W/pYufChmtcaW0TI2c6nM0ZYS5e3WP/naax1ZxVFz71VjWdVXBZqT7iIo6zjXiKVqURUFtt27dIm4aYVJjPVpwS31CEDTAo+uf2guqv6r7GvDRc6Wqa1E3ZVlpfrw66sLPDWUJKBsg2qZj1H6PVodVvxXgNmnSxLVFVD7Spmuu2in6HASD1FwANcYcUaDqqjtHlNTcS5fuv6yOi379+rm/tzoqwlNzq7OIC/UJnwYKN9avX+9W3I+WUq66esUVV5R1uFRVrDpc1dTeWOcKah+BKIAa0+VDo6CVzVMS9cSrtzG8hxO41GgkoDqr5kYbwdI5p4aXOnjU+++nduKzSSOfqje6rYR/W5aqzBH1+SPs0RYboj4hSMoGUSeLNj8E0Uik6rcCwZqIVYdjLVbki3XtRe0jEAUAAAAABIokaAAAAABAoAhEAQAAAACBIhAFAAAAAASKQBQAAAAAECgCUQAAAABAoAhEAQAAAACBIhAFAAAAAASKQBQAAAAAECgCUQAAAABAoAhEAQAAAACBIhAFAAAAAASKQBQAAAAAEKh6paWlZ0PPAQAAAAC46BgRBQAAAAAEqt6ZM2cYEQUAAAAABKbe6dOnCUQBAAAAAIGpt2PHjnKB6NmzxKUAAAAAgNpTr1690LNz6nmBJ5EnAAAAACAwLFYEAAAAAAgUgSgAAAAAIFAEogAAAACAQBGIAgAAAAACRSAKAAAAAAgUgSgAAAAAIFAEogAAAACAQBGIAgAAAAACRSAKAAAAAAgUgSgAAAAAIFAEogAAAACAQBGIAgAAAAACRSAKAAAAAAgUgSgAAAAAIFAEogAAAACAQBGIAgAAAAACRSAKAAAAAAgUgSgAAAAAIFAEogAAAACAQBGIAgAAAAACRSAKAAAAAAgUgSgAAAAAIFAEogAAAACAQBGIAgAAAAACRSAKAAAAAAgUgSgAAACAQOXn59vqNWvdY3Xl5Z2wwsJToVe16+P8XKieemc9oecAAAAAUGPZ2Yft/UUf2JmSM6E957Vtm27XjBjmnu/YsctmvvqaTZt6o3Xp0sntqwoFoE889Yx16tjBrh8/LrQ3tuLiYjt5siD06kLx8fGWkBBf458L1XfJBKKnTp2y2XPm2uYtW62oqMji4uJs8KABNnrUSGvYsGGolNny5Stt0eIP7cSJE1a/fn3LyGhvUyZNsObNm4VKnFNaWmqrV6+1VWvW2s033XjB+wDKO3r0mHcOvms7du6ykpISa9KkiY28ZphdcfnQUAmg7lGD65VX37BD2dnudbt2bW3yxBusVauW7nUsahg99czz7vy47967y75LdI68N/99W75ilXvetGmKTZpwg3Xt2tm9L1UpIzrvli5bHnp1nr7bBnnfg6jbtmzdZu/Ofc9yc4+6dkvb9DY2qRp1EKhtCuRefHmmtfbqYEJCQmiv2f6sA953f4INGTzIvc7NzbW169bbLdNuqjTgO3nypHetPB16Za4dP/OV1619+3Y2YvjVob1eUFPPLCkpqVy7Ptz6DRvd9VDUjj91qsgLPuPceSP6uUZdew2BaIAuiUBUX9Avz3jV9u3fb9eOvMY6d+poHy1fYStWrrbhw65ylU4UhL7jXcz79evrNY6H2MGDh+ydd+d5DYPmdtcdn7PGjRu7z9Jxiz5Y4k6MxMTEco0HABdSD+Qzz75gRcVFNm7saEtNbW4LFiyyrdu229Qpk+yyy/qESgJ1h+r1408+7TV+6tmE669z+96a/Y7pa/Weu+/0vh+auH2VWbxkqc2dN991zIR/l6jjdNXqNW7koHPnTi7Q0HfS7Z+b7jpIq1pGdO7lnThR1vjzqYHVIjU19Ap10c6du+yFl2ZaF+/vf+21I6zAq5PVrYNAbYsWyOlatGv3HouLa+xeKxg8c6bUbpt+c6UBn47bnrkj9Cq6Ro0a2eduvaVKwaP/M95045QLOu8IRINzScwR3bdvv6v4w4ddbUOHDLIWLVLtunFjXE/Ktm2ZrmdF26rVa90+NShatWxp/ftdZsOuvtL1eGdlHXCftW7dBpv33gJXaRWwAoht+/ZMO5KTY+OvG2u9evZw59eEG8Zbs6ZNXQ8lUBft3LXLTpzIt+uvG2edOnV0m55rn96LRd8t6hTVceFycnNtw8aNrkNUnaUa4Zo2dbILKvyRzaqUkTNnztjpkhJLSU62y4cOLrcRhNZ96hhPSkx011NdV1WXlOmlOrh3375QKeDTQ+m03/rGA27TSGijRpFHL8Pdcftt9qMffq9s+/oD/2zNmjV117Hw/d//929VOXAsPl3sRkSPHjt27nVxsa1Zs867Jq+0bdu3uyAZF98lEYjWq1/funXr4noMfQ0aNLCUlGQrPVvqVbazrkemTZvW1v+yvu49X1OvodygQX1XRnr16uGdPF+zm26cbE3C0g2AzypN1n/+hZftoZ/9yn7y0C/sd488ahs3bQ69e446av70l8fc+yr3xFPPulRDn86pPr17Wbu26aE9mosR5xrNXOxRV+3fn+XmE6WlnQ/o9Fz79F4sCxcttmQvQOzZo1tozznHj+W5AFJzqXwq17pVKxeAan5UVcqI0tk0NUUdsPjsmXDDdXb3XbdbUlJiaM85uq4qgwv4tDl4KNu1KbS9v3CRV08vnEcaiwaXtFiRpvpoKl1NaIRVmQMbN25y50phYaEt+XCZ+5mULqy4ABffJRGIduyQYbdMm1puvoR6PnJycl2PsBoNylmfMnmCDRjQL1TiHKU5aT6p39BQrrtSdIFLgRq6M199w7IOHLDbbr3ZvnjfPdasWTN7Y9bbtnfvud52PWqOW5x3Xnzh3rvt9s/d6n1B5NlLL79StiiAUm+n3jjJCzzPN5YU4B73ymlOHVAXFRUVu++HRo3OfyfoufbFovUKNGo6auQ11qhho9DeyiUnJ1lBQYH370ZfKbJimdOni13GjzqPfvaL/y3rTMrM3OneR92ma6o61X3Hjx936d5paS2sa5cuob1A8NQZopFFjTD6m6YIqL3dpUtnt6Wnt7H69euFjqgatcuVmdi9W1cXQL47d361O10UhG7atMVlkyhbSwGoBp7u/8oXqzVSi4/vkr19ixZ3OHr0qF15RfSFUlTZNf9GKbopKSmhvcClQz2OSh/UaKYu+kr/0wInyjAo8YJUURqgRjan33KTtfeCSqXF3DhlkuV659fyFStdmUgWLlri5tYNrND5A9QVNV3aXx008xcstJ49ekRMI2vaLMVlEfhTQkQNLXWeKjtHKztUpYyox79B/QYuDf6G8eNs4g3j3cIcmv+k7zh8NmgBlv/+6c/t/37/qBUWFNqt3vVYnezAJ6FhwwYWFxfvpt5ohNHftLaKUsj96QHdu3UrWygoFg0gKYvk8Sef8doi6TbtpimurbFj50778//7m+3eszdUsnLr12+0GTNfsw4Z7d38+pEjhrvPVed5gXfuIFgNHvSEnl8y1BPy9ux3bdDAAVFXDFRDQQscxcXHeV/c10fsGcn0Pif78BH3OVzw8VnUuHEjl/qSuWOna9BqNFTzMnr36mnNveculWXJMvfFovPAp/NB54fejzSXWguDfbj0IxszeqR17sRCAKib1q3f4BpHA/r3K/uOUDC4Zu06d5506xp5RGrxkg9dlsGkCde70QEFhDt37S77LtG0j6ysgy49TI00rQD59ux33LnYNCXFrXWgztFYZbRwh25HoHmk+myNPiiVN6N9e3ecRPsZUbe0a9vWhgweaJ06dXAN8y1btrv5+LqGA0HT6KIGerTOSvjW32sPKNOqcVxjd53TFJ7NW7aca1NEWfTz+PE8e+HFl90iXIeyD9u1I0e4RQ91zVM7ZOCA/nbgwEG3gvjSZR+5kVhlQlak/VrhXEGnptndOGWiu0bqmqipCytXrfEC0ZPWrVvXKv1cqB2XXCCaffiwCzAz2reziV4jIFJPjBoSr772hhvRuXX6NNeTHAmBKD7rdH5o/tqxY8dddsAHi5e4i7W+QDSnOj//pC37aIU7n8IbtBqp2bR5i3teMRBVR9Cst2a788a/lxhQFyl41KhodQJRBZ1z3p3rGmXKMvD3hQeiojUNdDsOZe/oVmGaWqLGkj5fDS+dY1UpE4kacEoNVoOQRfc+G1T/VHeUkpvWIs1lozRrluI6H4BPi337suzV12dZy7Q0VzcV5OlaWFmw59aTSEq0YVddadeNG+2m82iRob/94wnLyclxwWKfPr3sqisvd/W/c+eOEddwUQaW1qnQ9VoddeHXx5Yt0+zqq65w6cIqRyAanEvmPqKiIFRLQKe3aWO33DzVfRlXpC9wBaoHDh50q3RppCcapcKs37CJ27fgknHs2DF7b8FC27hxs0uL0a2QHn/iGdejqN5Fn+akPfHksy5lV+eRT0Gozi81kq8fPza0F6ib9B2gezje+/k7y6Zv6Bz5++NP2WV9+7pGU0U6JtI9PX0KXsPPGZ9GXrUImL6Tws+1cJHKaNGi4uIit5CR3/Hq3ww+OSkp4r+FukPTJ7SgYvj8ezWi//aPJ7062LtaN/sHalus651Po6fVqav+NUwr8NakjmvKkeaFKviMdL9dbt8SnEtmjqhSbV99dZYlNkm0yZMmRAxCZe68BW41LpWpLAgFLgW6GD/yxz+7AFKUmqvFVZTup0WKtHiXeiB1m4DwleuUPqOMgvCFiNQR9Mast9wXx9gx14b2AnWX6rfmFGkVSJ+yZLSIUXp669Ce8kZeM8K+9i/3l9vGjhnl7iP6+btud4t6RbJ27Xo3+nlZ3+j33I1UZtPmzfaXv/7DDoX9jHkn8txILivp1n2vvTHLnn3+JdcJ4VMgevr0aWvTOnIdBIKiIDH89ipa9FAjkcpIDN8fdIeJsrm2Z2a6x0hatUpz12U94uK6JFJz/VRbNRA0ChMfF+eWs/c39SbqxNC8tUUfLHHD+0p5Ci9TWnrmgtVySc3FZ50WHNBcMt0HVOlep0tOu/kVatQOG3aVa8hqlU6l6+7evcdatmxpR47k2BtvvuXOCZ1vWkFUHUEvvfSK2Vlz9xJVIoZ/bml1T3UMRUqTBz7NNMqoxszWrdvc+aEVS+e8O8/N+xx97UiXLrlvf5bNmPmqpaY2d/Om/BTK8C3HO2fUAare+fCF8bSwx569+9wKkUs/Wm6DBw10C3yEi1VGP4sWDNEquWne+ZrvnYuzZ79jBYWFNn7cWEtKSgqVRF2k9s3qNevsmFf3dD0+7LVJ3p7zrktn1Fy6qqzgDARBHSSz3nzbTQnQ/f0zMtqXW/E5EmVXPfvci/bu3PdsyYdLyzbdf1nZAOr01rzQ8Pe0qWOm4v2Zw8VKvVV7X9OPuEvGxXdJpOb6aSr6wo5Eq4Bq0SKl7fojPxVFSpciNReXAp0/r896y42AarK/Gt+jr72m3K2OtHLna2+86RpBCij1BaPzyj8vNLL6/Isvu176irRYwOduvYX0F9RJWqVWc578+4ZqlHTqlEllo426bcqrr81y54NuYxTJqlVrbN789y/4LtF3kuaOKogd5Z1zajRVVJUyuj3Bm2/NKTuHNR/qxskTy92DFHXXho2bbO68+W5Rl0jXX+CTpGypxUuW2eo1a910HmUczl/wvq1Zu9569uhuI68Z7jKrIlHQqukP/q3gqkrzT7WKfzR+6q0649q3bxfaeyEt9hWe9o7ad0nNEQUAAABwcWke51NPP2cHDx1yt34bOXJE2QJtsj/rgC1YsLCsI01TE4IK+irrHA8Xbc4+ag+BKAAAAIBapZHMuLjGUddlEWVpKAVXa07g0kMgCgAAAAAIFKuDAAAAAAACRSAKAAAAAAgUgSgAAAAAIFAEogAAAACAQBGIAgAAAAACRSAKAAAAAAgUgSgAAAAAIFAEogAAAACAQBGIAgAAAAACRSAKAAAAAAgUgSgAAAAAIFAEogAAAACAQBGIAgAAAAACRSAKAAAAAAgUgSgAAAAAIFAEogAAAACAQBGIAgAAAAACRSAKAAAAAAgUgSgAAAAAIFAEogAAAACAQBGIAgAAAAACRSAKAAAAAAgUgSgAAAAAIEBm/x+bgfYkWLnCawAAAABJRU5ErkJggg==)"
      ],
      "metadata": {
        "id": "eJ9lohcHynyM"
      }
    },
    {
      "cell_type": "code",
      "source": [],
      "metadata": {
        "id": "hJpSBRf_uddp"
      },
      "execution_count": null,
      "outputs": []
    }
  ]
}