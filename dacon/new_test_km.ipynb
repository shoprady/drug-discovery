{
  "nbformat": 4,
  "nbformat_minor": 0,
  "metadata": {
    "colab": {
      "provenance": []
    },
    "kernelspec": {
      "name": "python3",
      "display_name": "Python 3"
    },
    "language_info": {
      "name": "python"
    }
  },
  "cells": [
    {
      "cell_type": "code",
      "execution_count": 1,
      "metadata": {
        "id": "zIaa0_Vt6XGe"
      },
      "outputs": [],
      "source": [
        "import pandas as pd\n",
        "import numpy as np"
      ]
    },
    {
      "cell_type": "code",
      "source": [
        "!pip install rdkit"
      ],
      "metadata": {
        "colab": {
          "base_uri": "https://localhost:8080/"
        },
        "id": "WHaG3-Y37TC3",
        "outputId": "64e70f0f-8b7e-40ef-c629-44cae44cbeaa"
      },
      "execution_count": 2,
      "outputs": [
        {
          "output_type": "stream",
          "name": "stdout",
          "text": [
            "Collecting rdkit\n",
            "  Downloading rdkit-2024.3.5-cp310-cp310-manylinux_2_28_x86_64.whl.metadata (3.9 kB)\n",
            "Requirement already satisfied: numpy in /usr/local/lib/python3.10/dist-packages (from rdkit) (1.26.4)\n",
            "Requirement already satisfied: Pillow in /usr/local/lib/python3.10/dist-packages (from rdkit) (9.4.0)\n",
            "Downloading rdkit-2024.3.5-cp310-cp310-manylinux_2_28_x86_64.whl (33.1 MB)\n",
            "\u001b[2K   \u001b[90m━━━━━━━━━━━━━━━━━━━━━━━━━━━━━━━━━━━━━━━━\u001b[0m \u001b[32m33.1/33.1 MB\u001b[0m \u001b[31m33.9 MB/s\u001b[0m eta \u001b[36m0:00:00\u001b[0m\n",
            "\u001b[?25hInstalling collected packages: rdkit\n",
            "Successfully installed rdkit-2024.3.5\n"
          ]
        }
      ]
    },
    {
      "cell_type": "code",
      "source": [
        "from rdkit import Chem\n",
        "from rdkit.Chem import AllChem\n",
        "from sklearn.model_selection import train_test_split"
      ],
      "metadata": {
        "id": "YiN8NWw57VUJ"
      },
      "execution_count": 3,
      "outputs": []
    },
    {
      "cell_type": "code",
      "source": [
        "train = pd.read_csv('/content/drive/MyDrive/DACON/제2회 신약개발 AI 경진대회/open/train.csv')\n",
        "test = pd.read_csv('/content/drive/MyDrive/DACON/제2회 신약개발 AI 경진대회/open/test.csv')"
      ],
      "metadata": {
        "id": "jVjujnmO6k0X"
      },
      "execution_count": 9,
      "outputs": []
    },
    {
      "cell_type": "code",
      "source": [
        "num_chembl = len(train['Assay ChEMBL ID'].unique())\n",
        "num_smiles = len(train['Smiles'].unique())\n",
        "\n",
        "print('Number of Assay ChEMBL IDs', num_chembl)\n",
        "print('Number of Smiles', num_smiles)"
      ],
      "metadata": {
        "colab": {
          "base_uri": "https://localhost:8080/"
        },
        "id": "X37AHBB76roK",
        "outputId": "036e5b8b-18a9-4514-ae3f-de6666c3ce33"
      },
      "execution_count": 10,
      "outputs": [
        {
          "output_type": "stream",
          "name": "stdout",
          "text": [
            "Number of Assay ChEMBL IDs 72\n",
            "Number of Smiles 1952\n"
          ]
        }
      ]
    },
    {
      "cell_type": "code",
      "source": [
        "# Function to generate ECFP fingerprint from SMILES\n",
        "def generate_ecfp(smiles, radius=2, nBits=2048):\n",
        "    mol = Chem.MolFromSmiles(smiles)\n",
        "    if mol is None:\n",
        "        raise ValueError(\"Invalid SMILES string\")\n",
        "    ecfp = AllChem.GetMorganFingerprintAsBitVect(mol, radius, nBits=nBits)\n",
        "    return ecfp"
      ],
      "metadata": {
        "id": "TQ9JD6oi7NuZ"
      },
      "execution_count": 11,
      "outputs": []
    },
    {
      "cell_type": "code",
      "source": [
        "# smiles to ECFP fingerprint\n",
        "train_data = train[['Assay ChEMBL ID', 'IC50_nM', 'Smiles']].copy()\n",
        "train_data.loc[:, 'ECFP'] = train_data['Smiles'].apply(generate_ecfp)\n",
        "ecfp_array = np.array(train_data['ECFP'].tolist())\n",
        "\n",
        "# assay chembl id 정수 변환\n",
        "train_data['Assay ChEMBL ID'] = train_data['Assay ChEMBL ID'].str.extract('(\\d+)', expand=False).astype(int)"
      ],
      "metadata": {
        "id": "RlUDeaAy7QB7"
      },
      "execution_count": null,
      "outputs": []
    },
    {
      "cell_type": "code",
      "source": [
        "# smiles to ECFP fingerprint\n",
        "test_data = test[['Smiles']].copy()\n",
        "test_data.loc[:, 'ECFP'] = test['Smiles'].apply(generate_ecfp)"
      ],
      "metadata": {
        "id": "kHaL2W7Y7d2a"
      },
      "execution_count": null,
      "outputs": []
    },
    {
      "cell_type": "code",
      "source": [
        "train_ecfp_array = np.array(train_data['ECFP'].tolist())\n",
        "test_ecfp_array = np.array(test_data['ECFP'].tolist())"
      ],
      "metadata": {
        "id": "rdsDOndc91lI"
      },
      "execution_count": 14,
      "outputs": []
    },
    {
      "cell_type": "markdown",
      "source": [
        "# K-Means"
      ],
      "metadata": {
        "id": "YywRynDo6dfx"
      }
    },
    {
      "cell_type": "code",
      "source": [
        "from sklearn.cluster import KMeans"
      ],
      "metadata": {
        "id": "5KqhhqayAD54"
      },
      "execution_count": 16,
      "outputs": []
    },
    {
      "cell_type": "code",
      "source": [
        "test_centers = test_ecfp_array\n",
        "\n",
        "kmeans = KMeans(n_clusters=len(test_centers), init=test_centers, n_init=1, random_state=42)\n",
        "kmeans.fit(train_ecfp_array)\n",
        "labels = kmeans.labels_\n",
        "cluster_centers = kmeans.cluster_centers_"
      ],
      "metadata": {
        "id": "FmxbePDf_UPf"
      },
      "execution_count": 17,
      "outputs": []
    },
    {
      "cell_type": "code",
      "source": [
        "def find_top_n_closest(data, centers, labels, n=5):\n",
        "    top_n_indices = []\n",
        "    for i, center in enumerate(centers):\n",
        "        cluster_data = data[labels == i]\n",
        "        cluster_indices = np.where(labels == i)[0]\n",
        "        distances = np.linalg.norm(cluster_data - center, axis=1)\n",
        "        top_n_idx = distances.argsort()[:n]\n",
        "        top_n_indices.extend(cluster_indices[top_n_idx])\n",
        "        top_n_indices = list(set(top_n_indices))\n",
        "    return top_n_indices\n",
        "\n",
        "top_n = 1\n",
        "top_n_indices = find_top_n_closest(train_ecfp_array, cluster_centers, labels, n=top_n)\n",
        "\n",
        "selected_test_km = train_data.iloc[top_n_indices]\n",
        "print(f\"Original training data size: {train_data.shape}\")\n",
        "print(f\"Selected training data size: {selected_test_km.shape}\")"
      ],
      "metadata": {
        "colab": {
          "base_uri": "https://localhost:8080/"
        },
        "id": "EdBAQkhu_o8L",
        "outputId": "7c6393fe-d747-4d30-bb03-dd5c7893a90e"
      },
      "execution_count": 22,
      "outputs": [
        {
          "output_type": "stream",
          "name": "stdout",
          "text": [
            "Original training data size: (1952, 4)\n",
            "Selected training data size: (113, 4)\n"
          ]
        }
      ]
    },
    {
      "cell_type": "code",
      "source": [
        "selected_train_km = train_data[~train_data['Smiles'].isin(selected_test_km['Smiles'])]"
      ],
      "metadata": {
        "id": "esq89bIPBCcU"
      },
      "execution_count": 23,
      "outputs": []
    },
    {
      "cell_type": "code",
      "source": [
        "selected_test_km.to_csv('/content/drive/MyDrive/DACON/제2회 신약개발 AI 경진대회/open/selected_test_km.csv', index=False)"
      ],
      "metadata": {
        "id": "Q7W7IgRRAKme"
      },
      "execution_count": 25,
      "outputs": []
    },
    {
      "cell_type": "code",
      "source": [
        "selected_train_km.to_csv('/content/drive/MyDrive/DACON/제2회 신약개발 AI 경진대회/open/selected_train_km.csv', index=False)"
      ],
      "metadata": {
        "id": "I8R6htlzAbBV"
      },
      "execution_count": 26,
      "outputs": []
    }
  ]
}